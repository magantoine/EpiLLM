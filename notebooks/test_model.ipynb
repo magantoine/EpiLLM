{
 "cells": [
  {
   "cell_type": "code",
   "execution_count": 1,
   "metadata": {},
   "outputs": [
    {
     "name": "stdout",
     "output_type": "stream",
     "text": [
      "/home/antoinemagron/smb_share/TeamMembers/Magron_Antoine/EpiLLM\n",
      "Device :  cuda\n"
     ]
    }
   ],
   "source": [
    "import os\n",
    "import torch\n",
    "if(not os.getcwd().endswith(\"EpiLLM\")):\n",
    "    os.chdir(\"..\")\n",
    "print(os.getcwd())\n",
    "env = ! cat .env\n",
    "try : \n",
    "    DEVICE = [_2.replace(\"\\\"\", \"\") for (_1, _2) in [e.split(\"=\") for e in env] if _1 == \"DEVICE\"][0]\n",
    "    DEVICE = torch.device(DEVICE)\n",
    "except:\n",
    "    print(\"Set the device in .env file\")\n",
    "print(\"Device : \", DEVICE)\n",
    "os.environ['PYTORCH_MPS_HIGH_WATERMARK_RATIO'] = '0.0'"
   ]
  },
  {
   "cell_type": "code",
   "execution_count": 2,
   "metadata": {},
   "outputs": [
    {
     "name": "stderr",
     "output_type": "stream",
     "text": [
      "/home/antoinemagron/.conda/envs/nlp2/lib/python3.11/site-packages/transformers/utils/generic.py:441: UserWarning: torch.utils._pytree._register_pytree_node is deprecated. Please use torch.utils._pytree.register_pytree_node instead.\n",
      "  _torch_pytree._register_pytree_node(\n",
      "/home/antoinemagron/.conda/envs/nlp2/lib/python3.11/site-packages/transformers/utils/generic.py:309: UserWarning: torch.utils._pytree._register_pytree_node is deprecated. Please use torch.utils._pytree.register_pytree_node instead.\n",
      "  _torch_pytree._register_pytree_node(\n",
      "/home/antoinemagron/.conda/envs/nlp2/lib/python3.11/site-packages/transformers/utils/generic.py:309: UserWarning: torch.utils._pytree._register_pytree_node is deprecated. Please use torch.utils._pytree.register_pytree_node instead.\n",
      "  _torch_pytree._register_pytree_node(\n"
     ]
    }
   ],
   "source": [
    "from transformers import (AutoModel, AutoTokenizer, AutoModelForCausalLM, LlamaForCausalLM)"
   ]
  },
  {
   "cell_type": "code",
   "execution_count": 4,
   "metadata": {},
   "outputs": [
    {
     "name": "stderr",
     "output_type": "stream",
     "text": [
      "Special tokens have been added in the vocabulary, make sure the associated word embeddings are fine-tuned or trained.\n"
     ]
    },
    {
     "data": {
      "application/vnd.jupyter.widget-view+json": {
       "model_id": "112472d6ce1b4ddbabb78237590f6b4c",
       "version_major": 2,
       "version_minor": 0
      },
      "text/plain": [
       "Loading checkpoint shards:   0%|          | 0/8 [00:00<?, ?it/s]"
      ]
     },
     "metadata": {},
     "output_type": "display_data"
    }
   ],
   "source": [
    "MODEL = \"epfl-llm/meditron-7b\" ## meditron-7B plain\n",
    "# MODEL = \"meta-llama/Llama-2-7b-hf\" ## LLAMA-7B rough\n",
    "# MODEL = \"meta-llama/Llama-2-7b-chat-hf\" ## LLAMA-7B chat\n",
    "# MODEL = \"malhajar/meditron-7b-chat\" ## Meditron-chat\n",
    "tok = AutoTokenizer.from_pretrained(MODEL)\n",
    "meditron = AutoModelForCausalLM.from_pretrained(MODEL)"
   ]
  },
  {
   "cell_type": "code",
   "execution_count": 5,
   "metadata": {},
   "outputs": [
    {
     "name": "stdout",
     "output_type": "stream",
     "text": [
      "tensor([1.], device='cuda:0')\n"
     ]
    }
   ],
   "source": [
    "import torch\n",
    "pt_device = torch.device(DEVICE)\n",
    "x = torch.ones(1, device=pt_device)\n",
    "print (x)"
   ]
  },
  {
   "cell_type": "code",
   "execution_count": 6,
   "metadata": {},
   "outputs": [],
   "source": [
    "import json\n",
    "import numpy as np\n",
    "with open(\"docs/benchmarks/mcq40/processed.json\", \"r\") as f:\n",
    "    mcq = json.load(f)"
   ]
  },
  {
   "cell_type": "code",
   "execution_count": 7,
   "metadata": {},
   "outputs": [
    {
     "name": "stdout",
     "output_type": "stream",
     "text": [
      "\n",
      "    Question : Which of the following is the major role of the neurologist after a diagnosis of psychogenic nonepileptic events?\n",
      "        A. appropriately weaning antiepileptic drugs\n",
      "        B. describing events in ambiguous terms\n",
      "        C. ensuring that patients continue to refrain from driving a motor vehicle\n",
      "        D. ordering follow-up EEG in 6 to 12 months\n",
      "        E. prescribing a selective serotonin reuptake inhibitor or other antidepressant\n",
      "    Answer : A\n",
      "\n",
      "    Question : Deep brain stimulation for drug-resistant epilepsy targets which of the following structures?\n",
      "        A. anterior nucleus of the thalamus\n",
      "        B. centromedian nucleus of the thalamus\n",
      "        C. cingulate gyrus\n",
      "        D. hippocampus\n",
      "        E. internal segment of the globus pallidus\n",
      "    Answer : A\n",
      "    \n",
      "    Question : According to the International League Against Epilepsy’s 2010 revision of its seizure classification system, which of the following factors is most helpful in initially focusing the scope of diagnostic possibilities for specific electroclinical syndromes?\n",
      "        A. age at onset\n",
      "        B. family seizure history\n",
      "        C. frequency of spells\n",
      "        D. history of toxic exposure\n",
      "        E. severity of the disorder\n",
      "    Answer : A\n",
      "    \n",
      "    Question : Which of the following conditions would likely preclude the consideration of epilepsy surgery in a patient?\n",
      "        A. dominant hemisphere focus\n",
      "        B. low-grade tumor\n",
      "        C. mental retardation\n",
      "        D. primary generalized epilepsy\n",
      "        E. prior vagus nerve stimulator use\n",
      "    Answer :\n"
     ]
    }
   ],
   "source": [
    "prompt = \"\"\"\n",
    "    Question : {mcq[0][question]}\n",
    "    Answer : {mcq[0][answer]}\n",
    "\n",
    "    Question : {mcq[1][question]}\n",
    "    Answer : {mcq[1][answer]}\n",
    "    \n",
    "    Question : {mcq[2][question]}\n",
    "    Answer : {mcq[2][answer]}\n",
    "    \n",
    "    Question : {mcq[3][question]}\n",
    "    Answer :\"\"\".format(**{\"mcq\":mcq})\n",
    "print(prompt)"
   ]
  },
  {
   "cell_type": "code",
   "execution_count": 24,
   "metadata": {},
   "outputs": [
    {
     "name": "stdout",
     "output_type": "stream",
     "text": [
      "-system\n",
      "You are a student passing a neurology exam. \n",
      "    You will be given a question with 5 options and you will need to give the letter of the corresponding correct option.\n",
      "-user\n",
      "Question : Which of the following is the major role of the neurologist after a diagnosis of psychogenic nonepileptic events?,\n",
      "        A. appropriately weaning antiepileptic drugs\n",
      "        B. describing events in ambiguous terms\n",
      "        C. ensuring that patients continue to refrain from driving a motor vehicle\n",
      "        D. ordering follow-up EEG in 6 to 12 months\n",
      "        E. prescribing a selective serotonin reuptake inhibitor or other antidepressant\n",
      "-assistant:\n",
      "Answer : A\n",
      "-system\n",
      "You are a student passing a neurology exam. \n",
      "    You will be given a question with 5 options and you will need to give the letter of the corresponding correct option.\n",
      "-user\n",
      "Question : Deep brain stimulation for drug-resistant epilepsy targets which of the following structures?\n",
      "        A. anterior nucleus of the thalamus\n",
      "        B. centromedian nucleus of the thalamus\n",
      "        C. cingulate gyrus\n",
      "        D. hippocampus\n",
      "        E. internal segment of the globus pallidus\n",
      "-assistant:\n",
      "Answer : A\n",
      "-system\n",
      "You are a student passing a neurology exam. \n",
      "    You will be given a question with 5 options and you will need to give the letter of the corresponding correct option.\n",
      "-user\n",
      "Question : According to the International League Against Epilepsy’s 2010 revision of its seizure classification system, which of the following factors is most helpful in initially focusing the scope of diagnostic possibilities for specific electroclinical syndromes?\n",
      "        A. age at onset\n",
      "        B. family seizure history\n",
      "        C. frequency of spells\n",
      "        D. history of toxic exposure\n",
      "        E. severity of the disorder\n",
      "-assistant:\n",
      "Answer : A\n",
      "-system\n",
      "You are a student passing a neurology exam. \n",
      "    You will be given a question with 5 options and you will need to give the letter of the corresponding correct option.\n",
      "-user\n",
      "Question : Which of the following conditions would likely preclude the consideration of epilepsy surgery in a patient?\n",
      "        A. dominant hemisphere focus\n",
      "        B. low-grade tumor\n",
      "        C. mental retardation\n",
      "        D. primary generalized epilepsy\n",
      "        E. prior vagus nerve stimulator use\n",
      "-assistant:\n",
      "Answer :\n"
     ]
    }
   ],
   "source": [
    "def format_question(q, a):\n",
    "    sysmsg = \"\"\"You are a student passing a neurology exam. \n",
    "    You will be given a question with 5 options and you will need to give the letter of the corresponding correct option.\"\"\"\n",
    "    # return f\"<|im_start|> system\\n{sysmsg}<|im_end|>\\n <|im_start|> user\\n{q}<|im_end|>\\n <|im_start|> assistant\\n{a}\"\"\"\n",
    "    return f\"-system\\n{sysmsg}\\n-user\\n{q}\\n-assistant:\\n{a}\"\"\"\n",
    "\n",
    "\n",
    "\n",
    "\n",
    "questions = [\n",
    "    [\"\"\"Question : Which of the following is the major role of the neurologist after a diagnosis of psychogenic nonepileptic events?,\n",
    "        A. appropriately weaning antiepileptic drugs\n",
    "        B. describing events in ambiguous terms\n",
    "        C. ensuring that patients continue to refrain from driving a motor vehicle\n",
    "        D. ordering follow-up EEG in 6 to 12 months\n",
    "        E. prescribing a selective serotonin reuptake inhibitor or other antidepressant\"\"\",\n",
    "    \"\"\"Answer : A\"\"\"],\n",
    "\n",
    "    [\"\"\"Question : Deep brain stimulation for drug-resistant epilepsy targets which of the following structures?\n",
    "        A. anterior nucleus of the thalamus\n",
    "        B. centromedian nucleus of the thalamus\n",
    "        C. cingulate gyrus\n",
    "        D. hippocampus\n",
    "        E. internal segment of the globus pallidus\"\"\",\n",
    "    \"\"\"Answer : A\"\"\"],\n",
    "    \n",
    "    [\"\"\"Question : According to the International League Against Epilepsy’s 2010 revision of its seizure classification system, which of the following factors is most helpful in initially focusing the scope of diagnostic possibilities for specific electroclinical syndromes?\n",
    "        A. age at onset\n",
    "        B. family seizure history\n",
    "        C. frequency of spells\n",
    "        D. history of toxic exposure\n",
    "        E. severity of the disorder\"\"\",\n",
    "    \"\"\"Answer : A\"\"\"\n",
    "    ],\n",
    "    \n",
    "    [\"\"\"Question : Which of the following conditions would likely preclude the consideration of epilepsy surgery in a patient?\n",
    "        A. dominant hemisphere focus\n",
    "        B. low-grade tumor\n",
    "        C. mental retardation\n",
    "        D. primary generalized epilepsy\n",
    "        E. prior vagus nerve stimulator use\"\"\",\n",
    "    \"\"\"Answer :\"\"\"\n",
    "    ]\n",
    "]\n",
    "\n",
    "\n",
    "full_prompt = \"\\n\".join([format_question(q, a) for q, a in questions])\n",
    "print(full_prompt)"
   ]
  },
  {
   "cell_type": "markdown",
   "metadata": {},
   "source": [
    "#### Single prediction"
   ]
  },
  {
   "cell_type": "code",
   "execution_count": 9,
   "metadata": {},
   "outputs": [
    {
     "name": "stderr",
     "output_type": "stream",
     "text": [
      "/home/antoinemagron/.conda/envs/nlp2/lib/python3.11/site-packages/transformers/generation/configuration_utils.py:386: UserWarning: `do_sample` is set to `False`. However, `top_p` is set to `0.95` -- this flag is only used in sample-based generation modes. You should set `do_sample=True` or unset `top_p`.\n",
      "  warnings.warn(\n",
      "/home/antoinemagron/.conda/envs/nlp2/lib/python3.11/site-packages/transformers/generation/configuration_utils.py:396: UserWarning: `do_sample` is set to `False`. However, `top_k` is set to `1` -- this flag is only used in sample-based generation modes. You should set `do_sample=True` or unset `top_k`.\n",
      "  warnings.warn(\n",
      "Setting `pad_token_id` to `eos_token_id`:2 for open-end generation.\n"
     ]
    }
   ],
   "source": [
    "t, k, p = 1, 1, .95\n",
    "meditron = meditron.to(pt_device)"
   ]
  },
  {
   "cell_type": "code",
   "execution_count": 14,
   "metadata": {},
   "outputs": [
    {
     "name": "stderr",
     "output_type": "stream",
     "text": [
      "/home/antoinemagron/.conda/envs/nlp2/lib/python3.11/site-packages/transformers/generation/configuration_utils.py:386: UserWarning: `do_sample` is set to `False`. However, `top_p` is set to `0.95` -- this flag is only used in sample-based generation modes. You should set `do_sample=True` or unset `top_p`.\n",
      "  warnings.warn(\n",
      "/home/antoinemagron/.conda/envs/nlp2/lib/python3.11/site-packages/transformers/generation/configuration_utils.py:396: UserWarning: `do_sample` is set to `False`. However, `top_k` is set to `1` -- this flag is only used in sample-based generation modes. You should set `do_sample=True` or unset `top_k`.\n",
      "  warnings.warn(\n"
     ]
    },
    {
     "name": "stdout",
     "output_type": "stream",
     "text": [
      "501 ms ± 1.16 ms per loop (mean ± std. dev. of 7 runs, 1 loop each)\n"
     ]
    }
   ],
   "source": [
    "%timeit meditron.generate(**tok(full_prompt, return_tensors=\"pt\").to(pt_device), temperature=t, max_new_tokens=1,  top_k=k, top_p=p, pad_token_id=tok.eos_token_id) "
   ]
  },
  {
   "cell_type": "markdown",
   "metadata": {},
   "source": [
    "#### Tring different settings"
   ]
  },
  {
   "cell_type": "code",
   "execution_count": 21,
   "metadata": {},
   "outputs": [
    {
     "name": "stdout",
     "output_type": "stream",
     "text": [
      "Computing for k=10 p=0.95 t=1.5\r"
     ]
    }
   ],
   "source": [
    "allans = []\n",
    "allk = [1, 10]\n",
    "allp = [.5, .95]\n",
    "temp = [.5, 1, 1.5]\n",
    "for k in allk:\n",
    "    for p in allp:\n",
    "        for t in temp:\n",
    "            print(f\"Computing for k={k} p={p} t={t}\", end=\"\\r\")\n",
    "            meditron = meditron.to(pt_device)\n",
    "            answer = meditron.generate(\n",
    "                **tok(full_prompt, return_tensors=\"pt\").to(pt_device), \n",
    "                temperature=t, \n",
    "                max_new_tokens=1, \n",
    "                top_k=k,\n",
    "                top_p=p,\n",
    "                pad_token_id=tok.eos_token_id\n",
    "            )\n",
    "            allans.append(\n",
    "                tok.batch_decode(answer)[0]\n",
    "            )"
   ]
  },
  {
   "cell_type": "code",
   "execution_count": 20,
   "metadata": {},
   "outputs": [
    {
     "name": "stdout",
     "output_type": "stream",
     "text": [
      "For k=1 p=0.5 t=0.5\n",
      "Answer : D\n",
      "For k=1 p=0.5 t=0.5\n",
      "Answer : D\n",
      "For k=1 p=0.5 t=0.5\n",
      "Answer : D\n",
      "For k=1 p=0.95 t=0.95\n",
      "Answer : D\n",
      "For k=1 p=0.95 t=0.95\n",
      "Answer : D\n",
      "For k=1 p=0.95 t=0.95\n",
      "Answer : D\n",
      "For k=10 p=0.5 t=0.5\n",
      "Answer : D\n",
      "For k=10 p=0.5 t=0.5\n",
      "Answer : D\n",
      "For k=10 p=0.5 t=0.5\n",
      "Answer : D\n",
      "For k=10 p=0.95 t=0.95\n",
      "Answer : D\n",
      "For k=10 p=0.95 t=0.95\n",
      "Answer : D\n",
      "For k=10 p=0.95 t=0.95\n",
      "Answer : D\n"
     ]
    }
   ],
   "source": [
    "params = []\n",
    "for k in allk:\n",
    "    for p in allp:\n",
    "        for t in temp:\n",
    "            params.append((k, p, t))\n",
    "\n",
    "for (k, p, t), ans in zip(params, allans):\n",
    "    print(f\"For k={k} p={p} t={p}\")\n",
    "    print(ans.split(\"\\n\")[-1])"
   ]
  },
  {
   "cell_type": "code",
   "execution_count": 23,
   "metadata": {},
   "outputs": [
    {
     "name": "stderr",
     "output_type": "stream",
     "text": [
      "/home/antoinemagron/.conda/envs/nlp2/lib/python3.11/site-packages/transformers/generation/configuration_utils.py:381: UserWarning: `do_sample` is set to `False`. However, `temperature` is set to `0.95` -- this flag is only used in sample-based generation modes. You should set `do_sample=True` or unset `temperature`.\n",
      "  warnings.warn(\n",
      "/home/antoinemagron/.conda/envs/nlp2/lib/python3.11/site-packages/transformers/generation/configuration_utils.py:386: UserWarning: `do_sample` is set to `False`. However, `top_p` is set to `0.95` -- this flag is only used in sample-based generation modes. You should set `do_sample=True` or unset `top_p`.\n",
      "  warnings.warn(\n",
      "/home/antoinemagron/.conda/envs/nlp2/lib/python3.11/site-packages/transformers/generation/configuration_utils.py:396: UserWarning: `do_sample` is set to `False`. However, `top_k` is set to `1` -- this flag is only used in sample-based generation modes. You should set `do_sample=True` or unset `top_k`.\n",
      "  warnings.warn(\n",
      "Setting `pad_token_id` to `eos_token_id`:2 for open-end generation.\n"
     ]
    },
    {
     "name": "stdout",
     "output_type": "stream",
     "text": [
      "<s> -system\n",
      "You are a student passing a neurology exam. \n",
      "    You will be given a question with 5 options and you will need to give the letter of the corresponding correct option.\n",
      "-user\n",
      "Question : Which of the following is the major role of the neurologist after a diagnosis of psychogenic nonepileptic events?,\n",
      "        A. appropriately weaning antiepileptic drugs\n",
      "        B. describing events in ambiguous terms\n",
      "        C. ensuring that patients continue to refrain from driving a motor vehicle\n",
      "        D. ordering follow-up EEG in 6 to 12 months\n",
      "        E. prescribing a selective serotonin reuptake inhibitor or other antidepressant\n",
      "-assistant:\n",
      "Answer : A\n",
      "-system\n",
      "You are a student passing a neurology exam. \n",
      "    You will be given a question with 5 options and you will need to give the letter of the corresponding correct option.\n",
      "-user\n",
      "Question : Deep brain stimulation for drug-resistant epilepsy targets which of the following structures?\n",
      "        A. anterior nucleus of the thalamus\n",
      "        B. centromedian nucleus of the thalamus\n",
      "        C. cingulate gyrus\n",
      "        D. hippocampus\n",
      "        E. internal segment of the globus pallidus\n",
      "-assistant:\n",
      "Answer : A\n",
      "-system\n",
      "You are a student passing a neurology exam. \n",
      "    You will be given a question with 5 options and you will need to give the letter of the corresponding correct option.\n",
      "-user\n",
      "Question : According to the International League Against Epilepsy’s 2010 revision of its seizure classification system, which of the following factors is most helpful in initially focusing the scope of diagnostic possibilities for specific electroclinical syndromes?\n",
      "        A. age at onset\n",
      "        B. family seizure history\n",
      "        C. frequency of spells\n",
      "        D. history of toxic exposure\n",
      "        E. severity of the disorder\n",
      "-assistant:\n",
      "Answer : A\n",
      "-system\n",
      "You are a student passing a neurology exam. \n",
      "    You will be given a question with 5 options and you will need to give the letter of the corresponding correct option.\n",
      "-user\n",
      "Question : Which of the following conditions would likely preclude the consideration of epilepsy surgery in a patient?\n",
      "        A. dominant hemisphere focus\n",
      "        B. low-grade tumor\n",
      "        C. mental retardation\n",
      "        D. primary generalized epilepsy\n",
      "        E. prior vagus nerve stimulator use\n",
      "-assistant:\n",
      "Answer : D\n",
      "-system\n",
      "You are a student passing\n"
     ]
    }
   ],
   "source": [
    "t = .95\n",
    "p = .95\n",
    "k = 1\n",
    "answer = meditron.generate(\n",
    "                **tok(full_prompt, return_tensors=\"pt\").to(pt_device), \n",
    "                temperature=t, \n",
    "                max_new_tokens=10, \n",
    "                top_k=k,\n",
    "                top_p=p\n",
    "            )\n",
    "\n",
    "stans = tok.batch_decode(answer)[0]\n",
    "print(stans)"
   ]
  },
  {
   "cell_type": "markdown",
   "metadata": {},
   "source": [
    "### MCQ40 performance of Meditron-7B"
   ]
  },
  {
   "cell_type": "code",
   "execution_count": 33,
   "metadata": {},
   "outputs": [],
   "source": [
    "import json\n",
    "import numpy as np\n",
    "from tqdm import tqdm\n",
    "with open(\"docs/benchmarks/mcq40/processed.json\", \"r\") as f:\n",
    "    mcq = json.load(f)"
   ]
  },
  {
   "cell_type": "code",
   "execution_count": null,
   "metadata": {},
   "outputs": [],
   "source": [
    "MODEL = \"epfl-llm/meditron-7b\" ## meditron-7B plain\n",
    "tok = AutoTokenizer.from_pretrained(MODEL)\n",
    "meditron = AutoModelForCausalLM.from_pretrained(MODEL)"
   ]
  },
  {
   "cell_type": "code",
   "execution_count": 53,
   "metadata": {},
   "outputs": [],
   "source": [
    "def format_question(q, a):\n",
    "    sysmsg = \"\"\"You are a student passing a neurology exam. \n",
    "    You will be given a question with 5 options and you will need to give the letter of the corresponding correct option.\"\"\"\n",
    "    # return f\"<|im_start|> system\\n{sysmsg}<|im_end|>\\n <|im_start|> user\\n{q}<|im_end|>\\n <|im_start|> assistant\\n{a}\"\"\"\n",
    "    return f\"-system\\n{sysmsg}\\n-user\\n{q}\\n-assistant:\\n{a}\"\"\"\n",
    "\n",
    "\n",
    "\n",
    "icl = [\n",
    "    [\"\"\"Question : Which of the following is the major role of the neurologist after a diagnosis of psychogenic nonepileptic events?,\n",
    "        A. appropriately weaning antiepileptic drugs\n",
    "        B. describing events in ambiguous terms\n",
    "        C. ensuring that patients continue to refrain from driving a motor vehicle\n",
    "        D. ordering follow-up EEG in 6 to 12 months\n",
    "        E. prescribing a selective serotonin reuptake inhibitor or other antidepressant\"\"\",\n",
    "    \"\"\"Answer : E\"\"\"],\n",
    "\n",
    "    [\"\"\"Question : Deep brain stimulation for drug-resistant epilepsy targets which of the following structures?\n",
    "        A. anterior nucleus of the thalamus\n",
    "        B. centromedian nucleus of the thalamus\n",
    "        C. cingulate gyrus\n",
    "        D. hippocampus\n",
    "        E. internal segment of the globus pallidus\"\"\",\n",
    "    \"\"\"Answer : B\"\"\"],\n",
    "    \n",
    "    [\"\"\"Question : According to the International League Against Epilepsy’s 2010 revision of its seizure classification system, which of the following factors is most helpful in initially focusing the scope of diagnostic possibilities for specific electroclinical syndromes?\n",
    "        A. age at onset\n",
    "        B. family seizure history\n",
    "        C. frequency of spells\n",
    "        D. history of toxic exposure\n",
    "        E. severity of the disorder\"\"\",\n",
    "    \"\"\"Answer : C\"\"\"\n",
    "    ],\n",
    "    \n",
    "    [\"\"\"Question : Which of the following conditions would likely preclude the consideration of epilepsy surgery in a patient?\n",
    "        A. dominant hemisphere focus\n",
    "        B. low-grade tumor\n",
    "        C. mental retardation\n",
    "        D. primary generalized epilepsy\n",
    "        E. prior vagus nerve stimulator use\"\"\",\n",
    "    \"\"\"Answer :A\"\"\"\n",
    "    ]\n",
    "]"
   ]
  },
  {
   "cell_type": "code",
   "execution_count": 59,
   "metadata": {},
   "outputs": [
    {
     "data": {
      "text/plain": [
       "(3, 37)"
      ]
     },
     "execution_count": 59,
     "metadata": {},
     "output_type": "execute_result"
    }
   ],
   "source": [
    "len(mcq[-3:]), len(mcq[:-3])"
   ]
  },
  {
   "cell_type": "code",
   "execution_count": 73,
   "metadata": {},
   "outputs": [],
   "source": [
    "prompt_q = []\n",
    "icl = mcq[-3:]\n",
    "all_prompts = []\n",
    "for question in mcq[:-3]:\n",
    "    all_prompts.append(\n",
    "        \"\\n\".join(\n",
    "            [format_question(q[\"question\"], q[\"answer\"]) for q in icl] + \n",
    "            [format_question(question[\"question\"], \"\")]\n",
    "        )\n",
    "    )"
   ]
  },
  {
   "cell_type": "code",
   "execution_count": 74,
   "metadata": {},
   "outputs": [
    {
     "name": "stdout",
     "output_type": "stream",
     "text": [
      "-system\n",
      "You are a student passing a neurology exam. \n",
      "    You will be given a question with 5 options and you will need to give the letter of the corresponding correct option.\n",
      "-user\n",
      "A 33-year-old man with known epilepsy is seen in the emergency department after a seizure with an associated fall. IV access is obtained. He is initially at his baseline neurologic status but then develops generalized seizure activity that has lasted 5 minutes. Which of the following is the most appropriate next step in management?\n",
      "        A. buccal midazolam\n",
      "        B. IV diazepam\n",
      "        C. IV fosphenytoin\n",
      "        D. IV lorazepam\n",
      "        E. rectal diazepam\n",
      "-assistant:\n",
      "D\n",
      "-system\n",
      "You are a student passing a neurology exam. \n",
      "    You will be given a question with 5 options and you will need to give the letter of the corresponding correct option.\n",
      "-user\n",
      "The presence of a photoparoxysmal response to photic stimulation during an EEG is most commonly seen in which of the following settings?\n",
      "        A. cognitively normal patients\n",
      "        B. occipital lobe epilepsy\n",
      "        C. primary generalized epilepsy\n",
      "        D. sleep-deprived patients\n",
      "        E. temporal lobe epilepsy\n",
      "-assistant:\n",
      "C\n",
      "-system\n",
      "You are a student passing a neurology exam. \n",
      "    You will be given a question with 5 options and you will need to give the letter of the corresponding correct option.\n",
      "-user\n",
      "In addition to a risk of major congenital malformations, which of the following antiepileptic drugs is also associated with an elevated risk of autism spectrum disorders and lower IQ at age 6?\n",
      "        A. carbamazepine\n",
      "        B. lamotrigine\n",
      "        C. phenobarbital\n",
      "        D. phenytoin\n",
      "        E. valproate\n",
      "-assistant:\n",
      "E\n",
      "-system\n",
      "You are a student passing a neurology exam. \n",
      "    You will be given a question with 5 options and you will need to give the letter of the corresponding correct option.\n",
      "-user\n",
      "Which of the following is the major role of the neurologist after a diagnosis of psychogenic nonepileptic events?\n",
      "        A. appropriately weaning antiepileptic drugs\n",
      "        B. describing events in ambiguous terms\n",
      "        C. ensuring that patients continue to refrain from driving a motor vehicle\n",
      "        D. ordering follow-up EEG in 6 to 12 months\n",
      "        E. prescribing a selective serotonin reuptake inhibitor or other antidepressant\n",
      "-assistant:\n",
      "\n"
     ]
    }
   ],
   "source": [
    "print(all_prompts[0])"
   ]
  },
  {
   "cell_type": "code",
   "execution_count": 79,
   "metadata": {},
   "outputs": [
    {
     "name": "stderr",
     "output_type": "stream",
     "text": [
      "100%|██████████| 37/37 [00:19<00:00,  1.87it/s]\n"
     ]
    }
   ],
   "source": [
    "t = .95\n",
    "p = .95\n",
    "k = 1\n",
    "\n",
    "bench = []\n",
    "for prompt, question in tqdm(list(zip(all_prompts, mcq[:-3]))):\n",
    "    answer = meditron.generate(\n",
    "                    **tok(prompt, return_tensors=\"pt\").to(pt_device), \n",
    "                    temperature=t, \n",
    "                    max_new_tokens=1, \n",
    "                    top_k=k,\n",
    "                    top_p=p,\n",
    "                    pad_token_id=tok.eos_token_id\n",
    "                )\n",
    "\n",
    "    model_answer = tok.batch_decode(answer)[0][-1]\n",
    "    bench.append([question[\"answer\"], model_answer])"
   ]
  },
  {
   "cell_type": "code",
   "execution_count": 80,
   "metadata": {},
   "outputs": [
    {
     "data": {
      "text/plain": [
       "(35.14, '% of right answer of MCQ40')"
      ]
     },
     "execution_count": 80,
     "metadata": {},
     "output_type": "execute_result"
    }
   ],
   "source": [
    "round(sum([gt == pred for gt, pred in bench]) * 100 / len(bench), 2), \"% of right answer of MCQ40\""
   ]
  },
  {
   "cell_type": "code",
   "execution_count": 82,
   "metadata": {},
   "outputs": [
    {
     "data": {
      "text/plain": [
       "[['A', 'E'],\n",
       " ['A', 'A'],\n",
       " ['A', 'E'],\n",
       " ['D', 'E'],\n",
       " ['C', 'E'],\n",
       " ['C', 'E'],\n",
       " ['B', 'E'],\n",
       " ['C', 'E'],\n",
       " ['D', 'D'],\n",
       " ['E', 'D'],\n",
       " ['D', 'E'],\n",
       " ['C', 'D'],\n",
       " ['E', 'E'],\n",
       " ['B', 'E'],\n",
       " ['B', 'C'],\n",
       " ['E', 'E'],\n",
       " ['B', 'E'],\n",
       " ['E', 'E'],\n",
       " ['C', 'A'],\n",
       " ['E', 'E'],\n",
       " ['E', 'E'],\n",
       " ['C', 'E'],\n",
       " ['E', 'A'],\n",
       " ['A', 'A'],\n",
       " ['A', 'E'],\n",
       " ['B', 'D'],\n",
       " ['B', 'C'],\n",
       " ['E', 'A'],\n",
       " ['E', 'E'],\n",
       " ['C', 'C'],\n",
       " ['A', 'C'],\n",
       " ['C', 'A'],\n",
       " ['E', 'E'],\n",
       " ['A', 'D'],\n",
       " ['E', 'E'],\n",
       " ['D', 'D'],\n",
       " ['B', 'E']]"
      ]
     },
     "execution_count": 82,
     "metadata": {},
     "output_type": "execute_result"
    }
   ],
   "source": [
    "bench"
   ]
  },
  {
   "cell_type": "markdown",
   "metadata": {},
   "source": [
    "### With new api"
   ]
  },
  {
   "cell_type": "code",
   "execution_count": 7,
   "metadata": {},
   "outputs": [
    {
     "name": "stderr",
     "output_type": "stream",
     "text": [
      "Special tokens have been added in the vocabulary, make sure the associated word embeddings are fine-tuned or trained.\n"
     ]
    },
    {
     "data": {
      "application/vnd.jupyter.widget-view+json": {
       "model_id": "9f4672487dcf42c7ad0a32680b8735ef",
       "version_major": 2,
       "version_minor": 0
      },
      "text/plain": [
       "Loading checkpoint shards:   0%|          | 0/8 [00:00<?, ?it/s]"
      ]
     },
     "metadata": {},
     "output_type": "display_data"
    }
   ],
   "source": [
    "from models import (HF_LLM, GenerationArg)\n",
    "\n",
    "args = GenerationArg()\n",
    "meditron = HF_LLM(model_name=\"epfl-llm/meditron-7b\", device=DEVICE)\n",
    "meditron.load()"
   ]
  }
 ],
 "metadata": {
  "kernelspec": {
   "display_name": "nlp1",
   "language": "python",
   "name": "python3"
  },
  "language_info": {
   "codemirror_mode": {
    "name": "ipython",
    "version": 3
   },
   "file_extension": ".py",
   "mimetype": "text/x-python",
   "name": "python",
   "nbconvert_exporter": "python",
   "pygments_lexer": "ipython3",
   "version": "3.11.5"
  }
 },
 "nbformat": 4,
 "nbformat_minor": 2
}
