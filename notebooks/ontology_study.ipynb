{
 "cells": [
  {
   "cell_type": "code",
   "execution_count": null,
   "metadata": {},
   "outputs": [],
   "source": [
    "import sys\n",
    "sys.path.append(\"..\")"
   ]
  },
  {
   "cell_type": "markdown",
   "metadata": {},
   "source": [
    "### Studying ontology EPIO\n",
    "\n",
    "ref : \n",
    "- https://bioportal.bioontology.org/ontologies/EPIO\n",
    "- https://www.ncbi.nlm.nih.gov/pmc/articles/PMC10067149/"
   ]
  },
  {
   "cell_type": "code",
   "execution_count": 34,
   "metadata": {},
   "outputs": [],
   "source": [
    "import pandas as pd\n",
    "import numpy as np"
   ]
  },
  {
   "cell_type": "code",
   "execution_count": 29,
   "metadata": {},
   "outputs": [
    {
     "name": "stdout",
     "output_type": "stream",
     "text": [
      ">  Class ID , NaN % :  0.0\n",
      ">  Preferred Label , NaN % :  0.0\n",
      ">  Synonyms , NaN % :  46.66\n",
      ">  Definitions , NaN % :  36.27\n",
      ">  Obsolete , NaN % :  0.0\n",
      ">  CUI , NaN % :  100.0\n",
      ">  Semantic Types , NaN % :  100.0\n",
      ">  Parents , NaN % :  0.05\n",
      ">  ALT_DEFINITION , NaN % :  96.97\n",
      ">  alternative term , NaN % :  98.7\n",
      ">  axiom_lost_from_external_ontology , NaN % :  99.79\n",
      ">  BFO CLIF specification label , NaN % :  98.17\n",
      ">  BFO OWL specification label , NaN % :  98.17\n",
      ">  code , NaN % :  93.84\n",
      ">  comment , NaN % :  89.3\n",
      ">  Concept_Status , NaN % :  100.0\n",
      ">  Contributing_Source , NaN % :  96.03\n",
      ">  contributor , NaN % :  99.74\n",
      ">  created_by , NaN % :  84.08\n",
      ">  creation_date , NaN % :  90.92\n",
      ">  creator , NaN % :  99.37\n",
      ">  curator note , NaN % :  98.8\n",
      ">  database_cross_reference , NaN % :  58.82\n",
      ">  depicted by , NaN % :  97.08\n",
      ">  DesignNote , NaN % :  99.95\n",
      ">  development_notes , NaN % :  99.95\n",
      ">  Display_Name , NaN % :  98.64\n",
      ">  dubious_for_taxon , NaN % :  99.9\n",
      ">  editor note , NaN % :  97.44\n",
      ">  elucidation , NaN % :  98.59\n",
      ">  example of usage , NaN % :  97.44\n",
      ">  excluded subClassOf , NaN % :  99.84\n",
      ">  external_definition , NaN % :  98.28\n",
      ">  external_ontology_notes , NaN % :  99.01\n",
      ">  FDA_Table , NaN % :  99.53\n",
      ">  fma_set_term , NaN % :  99.9\n",
      ">  has associated axiom(fol) , NaN % :  98.38\n",
      ">  has associated axiom(nl) , NaN % :  99.37\n",
      ">  has curation status , NaN % :  98.33\n",
      ">  has exact synonym , NaN % :  51.51\n",
      ">  has_alternative_id , NaN % :  91.54\n",
      ">  has_broad_synonym , NaN % :  95.51\n",
      ">  Has_CDRH_Parent , NaN % :  99.53\n",
      ">  has_MedDRA_id , NaN % :  99.79\n",
      ">  has_narrow_synonym , NaN % :  98.7\n",
      ">  Has_NICHD_Parent , NaN % :  99.43\n",
      ">  has_obo_namespace , NaN % :  51.41\n",
      ">  has_rank , NaN % :  99.06\n",
      ">  has_related_synonym , NaN % :  82.52\n",
      ">  has_relational_adjective , NaN % :  99.37\n",
      ">  homology_notes , NaN % :  99.01\n",
      ">  http://data.bioontology.org/metadata/prefixIRI , NaN % :  52.71\n",
      ">  http://data.bioontology.org/metadata/treeView , NaN % :  99.95\n",
      ">  http://protege.stanford.edu/plugins/owl/protege#readOnly , NaN % :  100.0\n",
      ">  http://purl.obolibrary.org/obo/created_by , NaN % :  98.59\n",
      ">  http://purl.obolibrary.org/obo/creation_date , NaN % :  98.59\n",
      ">  http://purl.obolibrary.org/obo/def , NaN % :  97.96\n",
      ">  http://purl.obolibrary.org/obo/hasDbXref , NaN % :  100.0\n",
      ">  http://purl.obolibrary.org/obo/hasOBONamespace , NaN % :  100.0\n",
      ">  http://purl.obolibrary.org/obo/IAO_0000231 , NaN % :  100.0\n",
      ">  http://purl.obolibrary.org/obo/IAO_0010000 , NaN % :  100.0\n",
      ">  http://purl.obolibrary.org/obo/IAO_0100001 , NaN % :  100.0\n",
      ">  http://purl.obolibrary.org/obo/id , NaN % :  100.0\n",
      ">  http://purl.obolibrary.org/obo/is_metadata_tag , NaN % :  100.0\n",
      ">  http://purl.obolibrary.org/obo/OMIABIS.owl#hasExactSynonym , NaN % :  99.74\n",
      ">  http://purl.obolibrary.org/obo/RO_0002161 , NaN % :  99.95\n",
      ">  http://purl.obolibrary.org/obo/shorthand , NaN % :  100.0\n",
      ">  http://purl.org/dc/elements/1.1/date , NaN % :  93.16\n",
      ">  http://purl.org/dc/elements/1.1/description , NaN % :  99.43\n",
      ">  http://purl.org/dc/elements/1.1/title , NaN % :  100.0\n",
      ">  http://purl.org/dc/terms/license , NaN % :  100.0\n",
      ">  http://www.ebi.ac.uk/cellline/definition , NaN % :  99.58\n",
      ">  http://www.ebi.ac.uk/efo/alternative_term , NaN % :  99.95\n",
      ">  http://www.ebi.ac.uk/efo/gwas_trait , NaN % :  99.9\n",
      ">  http://www.geneontology.org/formats/oboInOwl#hasDbXRef , NaN % :  66.91\n",
      ">  http://www.geneontology.org/formats/oboInOwl#hasDefinition , NaN % :  66.65\n",
      ">  http://www.geneontology.org/formats/oboInOWL#hasExactSynonym , NaN % :  99.84\n",
      ">  http://www.geneontology.org/formats/oboInOWL#hasRelatedSynonym , NaN % :  99.32\n",
      ">  http://www.geneontology.org/formats/oboInOwl#is_class_level , NaN % :  100.0\n",
      ">  http://www.geneontology.org/formats/oboInOwl#is_metadata_tag , NaN % :  100.0\n",
      ">  http://www.geneontology.org/formats/oboInOwl#xref , NaN % :  99.16\n",
      ">  http://www.geneontology.org/formats/oboInOWL#xref , NaN % :  99.95\n",
      ">  http://www.w3.org/1999/02/22-rdf-syntax-ns#type , NaN % :  0.0\n",
      ">  http://www.w3.org/2002/07/owl#deprecated , NaN % :  100.0\n",
      ">  http://www.w3.org/2002/07/owl#minQualifiedCardinality , NaN % :  100.0\n",
      ">  http://www.w3.org/2002/07/owl#versionIRI , NaN % :  100.0\n",
      ">  http://www.w3.org/2004/02/skos/core#closeMatch , NaN % :  98.23\n",
      ">  http://www.w3.org/2004/02/skos/core#exactMatch , NaN % :  95.15\n",
      ">  http://www.w3.org/2004/02/skos/core#notation , NaN % :  50.57\n",
      ">  https://bio.scai.fraunhofer.de/ontology/epilepsy#CommentOnDefinition , NaN % :  95.62\n",
      ">  https://bio.scai.fraunhofer.de/ontology/epilepsy#fromArticle , NaN % :  88.67\n",
      ">  https://bio.scai.fraunhofer.de/ontology/epilepsy#fromEPILONT , NaN % :  98.28\n",
      ">  https://bio.scai.fraunhofer.de/ontology/epilepsy#fromEpSO , NaN % :  100.0\n",
      ">  https://bio.scai.fraunhofer.de/ontology/epilepsy#fromESSO , NaN % :  81.73\n",
      ">  https://bio.scai.fraunhofer.de/ontology/epilepsy#fromILAE , NaN % :  85.13\n",
      ">  https://bio.scai.fraunhofer.de/ontology/epilepsy#fromNCBIBook , NaN % :  97.55\n",
      ">  https://bio.scai.fraunhofer.de/ontology/epilepsy#fromPubMed , NaN % :  69.15\n",
      ">  https://bio.scai.fraunhofer.de/ontology/epilepsy#importedFrom , NaN % :  100.0\n",
      ">  ICD-O-3_Code , NaN % :  99.95\n",
      ">  id , NaN % :  50.57\n",
      ">  IEDB alternative term , NaN % :  99.79\n",
      ">  imported from , NaN % :  26.36\n",
      ">  in subset , NaN % :  74.58\n",
      ">  is opposite of , NaN % :  100.0\n",
      ">  ISA alternative term , NaN % :  99.95\n",
      ">  isAnatomicalEntityFor , NaN % :  100.0\n",
      ">  isBrainConnectivityFor , NaN % :  100.0\n",
      ">  isCellularProcessFor , NaN % :  100.0\n",
      ">  isClassificationFor , NaN % :  100.0\n",
      ">  isDiagnosisFor , NaN % :  100.0\n",
      ">  isEtiologyFor , NaN % :  100.0\n",
      ">  isImitatorFor , NaN % :  100.0\n",
      ">  isRiskFactorFor , NaN % :  100.0\n",
      ">  isSeizureClassificationFor , NaN % :  100.0\n",
      ">  isSignAndSymptomFor , NaN % :  100.0\n",
      ">  isSyndromeFor , NaN % :  100.0\n",
      ">  isTreatmentFor , NaN % :  100.0\n",
      ">  label , NaN % :  0.05\n",
      ">  Legacy_Concept_Name , NaN % :  96.4\n",
      ">  Maps_To , NaN % :  99.16\n",
      ">  NCI_META_CUI , NaN % :  99.58\n",
      ">  Neoplasm_Has_Special_Category , NaN % :  100.0\n",
      ">  Neoplastic_Status , NaN % :  99.9\n",
      ">  NICHD_Hierarchy_Term , NaN % :  98.49\n",
      ">  OBO foundry unique label , NaN % :  100.0\n",
      ">  Preferred_Name , NaN % :  93.84\n",
      ">  present_in_taxon , NaN % :  99.74\n",
      ">  Publish_Value_Set , NaN % :  100.0\n",
      ">  rdfs:isDefinedBy , NaN % :  98.07\n",
      ">  Related_To_Genetic_Biomarker , NaN % :  99.95\n",
      ">  see also , NaN % :  75.78\n",
      ">  Semantic_Type , NaN % :  93.84\n",
      ">  shorthand , NaN % :  100.0\n",
      ">  synonym , NaN % :  99.69\n",
      ">  tag display synonym , NaN % :  99.63\n",
      ">  taxon_notes , NaN % :  99.48\n",
      ">  term editor , NaN % :  96.71\n",
      ">  UMLS_CUI , NaN % :  94.42\n",
      ">  Use_For , NaN % :  99.95\n",
      ">  定义来源 , NaN % :  96.71\n",
      ">  文本定义 , NaN % :  39.09\n",
      ">  编辑首选术语 , NaN % :  99.11\n"
     ]
    }
   ],
   "source": [
    "epio = pd.read_csv(\"docs/EPIO.csv\")\n",
    "\n",
    "for c in epio.columns:\n",
    "    print(\"> \", c , \", NaN % : \", round(epio[c].isna().sum() * 100 / len(epio[c]), 2))"
   ]
  },
  {
   "cell_type": "code",
   "execution_count": 56,
   "metadata": {},
   "outputs": [],
   "source": [
    "feats = [\"label\", \"Synonyms\", \"Definitions\"]\n",
    "epio[feats].dropna().sample(50)\n",
    "epio = epio[feats].dropna()\n",
    "epio[\"Synonyms\"] = epio[\"Synonyms\"].dropna().apply(lambda x : x.replace(\"|\", \", \"))"
   ]
  },
  {
   "cell_type": "code",
   "execution_count": 61,
   "metadata": {},
   "outputs": [
    {
     "data": {
      "text/plain": [
       "array([['WHO Grade III Glioma',\n",
       "        'Anaplastic Glioma, WHO Grade III Glioma',\n",
       "        'A group of malignant gliomas that includes anaplastic astrocytoma, anaplastic oligodendroglioma, anaplastic oligoastrocytoma, and anaplastic ependymoma.'],\n",
       "       ['Wnt signaling pathway',\n",
       "        'Wnt-activated signaling pathway, Wnt receptor signalling pathway, Wnt receptor signaling pathway, Wg signaling pathway, Wingless signaling pathway, Wingless signalling pathway, Wg signalling pathway, frizzled signalling pathway, frizzled signaling pathway',\n",
       "        'The series of molecular signals initiated by binding of a Wnt protein to a frizzled family receptor on the surface of the target cell and ending with a change in cell state.'],\n",
       "       ['perceptual disorders', 'perceptual disturbances',\n",
       "        'Cognitive disorders characterized by an impaired ability to perceive the nature of objects or concepts through use of the sense organs. These include spatial neglect syndromes, where an individual does not attend to visual, auditory, or sensory stimuli presented from one side of the body.'],\n",
       "       ...,\n",
       "       ['Generalized tonic-clonic seizures',\n",
       "        'Seizures, generalized, tonic-clonic, Seizures, tonic-clonic, Generalized tonic clonic seizures, Tonic-clonic convulsions, Grand mal seizures, Generalised tonic-clonic seizures, Tonic-clonic convulsion, Seizures, generalized tonic-clonic, Generalized clonic-tonic seizures',\n",
       "        'Generalized tonic-clonic seizures are generalized seizures with bilateral symmetrical tonic contraction then bilateral clonic contractions of somatic muscles usually associated with autonomic phenomena.|In a generalized tonic-clonic seizure, the patient suddenly loses conciousness, the eyes roll back, and the entire body musculature undergoes tonic contractions. In the clonic phase of the seizure, there are rhythmic contractions of the musculature alternating with relaxation of all muscle groups. Loss of sphincter control during the seizure is common. This form of seizure was formerly commonly called grand mal seizure.'],\n",
       "       ['partial epilepsy',\n",
       "        'focal epilepsy, partial epilepsy, localisation-related epilepsy',\n",
       "        'A seizure caused by a localized disorder.'],\n",
       "       ['hallucination', 'Hallucinations in psychiatric disorders',\n",
       "        '\"Perception in the absence of a stimulus.\" [wikipedia:Hallucination]']],\n",
       "      dtype=object)"
      ]
     },
     "execution_count": 61,
     "metadata": {},
     "output_type": "execute_result"
    }
   ],
   "source": [
    "epio.values"
   ]
  },
  {
   "cell_type": "code",
   "execution_count": 64,
   "metadata": {},
   "outputs": [
    {
     "name": "stdout",
     "output_type": "stream",
     "text": [
      "- clinical measurement (synonyms : Clinical Evaluation, Laboratory test) : A quantitative or qualitative value which is the result of an act of assessing a morphological or physiological state or property in a single individual or sample or a group of individuals or samples, based on direct observation or experimental manipulation.\n",
      "\n",
      "- Brodmann (1909) area 4 (synonyms : area 4 of Brodmann (guenon), BA4, B09-4, giant pyramidal area, area 4 of Brodmann, Brodmann area 4, gigantopyramidal, area gigantopyramidalis, Brodmann area 4, Brodmann (1909) area 4, Brodmann's area 4, area 4 of Brodmann-1909, B09-4) : The term area 4 of Brodmann-1909 refers to a cytoarchitecturally defined portion of the frontal lobe of the guenon. It is located predominantly in the precentral gyrus. Brodmann-1909 regarded it as topographically and cytoarchitecturally homologous to the human gigantopyramidal area 4 and noted that it occupies a much greater fraction of the frontal lobe in the monkey than in the human. Distinctive features (Brodmann-1905): the cortex is unusually thick; the layers are not distinct; the cells are relatively sparsely distributed; giant pyramidal (Betz) cells are present in the internal pyramidal layer (V); lack of an internal granular layer (IV) such that the boundary between the external pyramidal layer (III) and the internal pyramidal layer (V) is indistinct; lack of a distinct external granular layer (II); a gradual transition from the multiform layer (VI) to the subcortical white matter.\n",
      "\n",
      "- neurocutaneous syndrome (synonyms : neurocutaneous disorder, neuroectodermal dysplasia, phakomatosis, Phacomatosis, Phakomatoses, neurocutaneous disorders, neuroectodermal dysplasia syndrome, neuroectodermal dysplasia syndromes, syndrome, neurocutaneous, syndromes, neuroectodermal dysplasia, Phacomatoses, syndromes, neurocutaneous, syndrome, neuroectodermal dysplasia, neurocutaneous syndrome) : A group of disorders characterized by ectodermal-based malformations and neoplastic growths in the skin, nervous system, and other organs.|A number of genetic and acquired diseases come in this category and may affect one or more of these tissues. However, in some conditions, such as von Hippel-Lindau disease, ectodermal presentation is minimal. Editor note: Phakomatoses are inconsistently defined, and there is a lack of consensus about what conditions are included in this category\n",
      "\n",
      "- central nervous system cell part cluster (synonyms : cell part cluster of neuraxis, neuraxis layer) : A multi cell part structure that is part of a central nervous system.\n",
      "\n",
      "- fetal cytomegalovirus syndrome (synonyms : congenital cytomegalovirus, CMV antenatal infection, congenital Cytomegaloviral infection, antenatal cytomegalovirus infection, antenatal CMV infection, mother-to-child transmission of cytomegalovirus syndrome) : An infection with the Cytomegalovirus that is present from birth.\n",
      "\n",
      "- trisomy 12p (synonyms : partial trisomy 12p, 12p trisomy, chromosome 12p duplication, 12p duplication, trisomy type 12p, Duplication 12p) : Trisomy 12p is an extremely rare chromosomal disorder (over 30 cases reported worldwide) characterized by craniofacial malformations (round face, prominent cheeks, high bulging forehead, broad and flat nasal bridge, short nose with anteverted nostrils, long philtrum, prominent and everted lower lip, low-set ears, abnormally folded helix, protuberant antihelix), postnatal growth retardation, mental and psychomotor retardation, generalized hypotonia, abnormally short wide hands and/or other abnormalities.\n",
      "\n",
      "- arrhythmia (synonyms : fluctuation of heart rate, dysrhythmia, abnormal heart beat, heart rhythm symptom, abnormal heart rhythm) : Arrhythmia is a cardiovascular system symptom consisting of an alteration in rhythm of the heartbeat either in time or force.\n",
      "\n",
      "- sphingolipidosis (synonyms : Sphingolipidosis, sphingolipidoses) : A lipid storage disease characterized by functional deficiencies in the enzymes needed for lysosomal degradation of sphingolipid substrates.\n",
      "\n",
      "- hemiplegia (synonyms : Infantile hemiplegia, Postnatal infantile hemiplegia) : A central nervous system disease that is characterized by the complete paralysis of half of the body.\n",
      "\n",
      "- Personal Attribute (synonyms : Personal Attribute, Subject Characteristics, Personal) : The distinguishing qualities or prominent aspects of an individual person.\n",
      "\n",
      "\n"
     ]
    }
   ],
   "source": [
    "feats = [\"label\", \"Synonyms\", \"Definitions\"]\n",
    "np.random.randint(10)\n",
    "t = \"\"\n",
    "for label, synonyms, definitions in epio.sample(10).values:\n",
    "    t += f\"- {label} (synonyms : {synonyms}) : {definitions}\\n\\n\"\n",
    "print(t)"
   ]
  }
 ],
 "metadata": {
  "kernelspec": {
   "display_name": "nlp1",
   "language": "python",
   "name": "python3"
  },
  "language_info": {
   "codemirror_mode": {
    "name": "ipython",
    "version": 3
   },
   "file_extension": ".py",
   "mimetype": "text/x-python",
   "name": "python",
   "nbconvert_exporter": "python",
   "pygments_lexer": "ipython3",
   "version": "3.11.5"
  }
 },
 "nbformat": 4,
 "nbformat_minor": 2
}
