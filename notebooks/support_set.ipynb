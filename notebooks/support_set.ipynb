{
 "cells": [
  {
   "cell_type": "code",
   "execution_count": 1,
   "metadata": {},
   "outputs": [],
   "source": [
    "import os\n",
    "from helper import init_ipynb\n",
    "envfound = init_ipynb()\n",
    "\n",
    "DIR = os.environ[\"DIR_PATH\"] if envfound else None\n",
    "DEVICE = os.environ[\"DEVICE\"] if envfound else None"
   ]
  },
  {
   "cell_type": "code",
   "execution_count": 2,
   "metadata": {},
   "outputs": [
    {
     "name": "stdout",
     "output_type": "stream",
     "text": [
      "We've set API key :  f0555591d0410671711554a53411c6d7\n"
     ]
    }
   ],
   "source": [
    "from evaluation import (MCQBenchmark, embed_dataset)\n",
    "from models.qa_prompts import QA_PROMPTS"
   ]
  },
  {
   "cell_type": "code",
   "execution_count": null,
   "metadata": {},
   "outputs": [
    {
     "name": "stdout",
     "output_type": "stream",
     "text": [
      "40\n"
     ]
    }
   ],
   "source": [
    "def as_shot(q: str, stop_token:str=\"###\") -> str:\n",
    "    answer_full = \".\".join(q[\"answer_full\"].split(\".\")[1:]).split(\"For more information, refer to\")[0]\n",
    "    return f\"-user:\\nQuestion : {q['question']}\\n-assistant:\\nAnswer : {answer_full}\\nTherefore, the correct answer is {q['answer']}.{stop_token}\"\n",
    "\n",
    "support_set = MCQBenchmark(\n",
    "    \"docs/benchmarks/mcq40/processed.json\",\n",
    "    lambda:()\n",
    ")\n",
    "print(len(support_set.mcq))"
   ]
  },
  {
   "cell_type": "code",
   "execution_count": null,
   "metadata": {},
   "outputs": [
    {
     "name": "stderr",
     "output_type": "stream",
     "text": [
      "/home/antoinemagron/.conda/envs/nlp2/lib/python3.11/site-packages/torch/_utils.py:831: UserWarning: TypedStorage is deprecated. It will be removed in the future and UntypedStorage will be the only storage class. This should only matter to you if you are using storages directly.  To access UntypedStorage directly, use tensor.untyped_storage() instead of tensor.storage()\n",
      "  return self.fget.__get__(instance, owner)()\n"
     ]
    }
   ],
   "source": [
    "processed_support_set = []\n",
    "embeddings = embed_dataset([_[\"question\"] for _ in support_set.mcq])\n",
    "for q, embedding in zip(support_set.mcq, embeddings):\n",
    "    processed_support_set.append(\n",
    "        {\n",
    "            \"shot\": as_shot(q),\n",
    "            \"embedding\": embedding\n",
    "        }\n",
    "    )"
   ]
  },
  {
   "cell_type": "code",
   "execution_count": 5,
   "metadata": {},
   "outputs": [],
   "source": [
    "import pickle\n",
    "\n",
    "\n",
    "with open(\"docs/support_set.json\", \"wb\") as f:\n",
    "    pickle.dump(processed_support_set, f)"
   ]
  }
 ],
 "metadata": {
  "kernelspec": {
   "display_name": "nlp2",
   "language": "python",
   "name": "python3"
  },
  "language_info": {
   "codemirror_mode": {
    "name": "ipython",
    "version": 3
   },
   "file_extension": ".py",
   "mimetype": "text/x-python",
   "name": "python",
   "nbconvert_exporter": "python",
   "pygments_lexer": "ipython3",
   "version": "3.11.5"
  }
 },
 "nbformat": 4,
 "nbformat_minor": 2
}
