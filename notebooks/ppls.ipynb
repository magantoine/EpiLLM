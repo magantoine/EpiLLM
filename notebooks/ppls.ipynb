{
 "cells": [
  {
   "cell_type": "markdown",
   "metadata": {},
   "source": [
    "# Computing the perplexities over the test set"
   ]
  },
  {
   "cell_type": "code",
   "execution_count": 1,
   "metadata": {},
   "outputs": [],
   "source": [
    "import os\n",
    "from helper import init_ipynb\n",
    "envfound = init_ipynb()\n",
    "\n",
    "DIR = os.environ[\"DIR_PATH\"] if envfound else None\n",
    "DEVICE = os.environ[\"DEVICE\"] if envfound else None\n",
    "API_KEY = os.environ[\"API_KEY\"] if envfound else None\n",
    "PLATFORM = os.environ[\"OS_TYPE\"] if envfound else None\n",
    "\n",
    "if(PLATFORM == \"Darwin\"):\n",
    "    os.environ['PYTORCH_MPS_HIGH_WATERMARK_RATIO'] = '0.0'\n",
    "%load_ext autoreload\n",
    "%autoreload 2"
   ]
  },
  {
   "cell_type": "code",
   "execution_count": 2,
   "metadata": {},
   "outputs": [
    {
     "name": "stdout",
     "output_type": "stream",
     "text": [
      "[Dataset({\n",
      "    features: ['text'],\n",
      "    num_rows: 826\n",
      "}), Dataset({\n",
      "    features: ['text', 'title'],\n",
      "    num_rows: 1241\n",
      "})]\n"
     ]
    }
   ],
   "source": [
    "from transformers import LlamaForCausalLM, AutoTokenizer\n",
    "import torch\n",
    "from torch.nn import CrossEntropyLoss\n",
    "import datasets as hf_ds\n",
    "from torch.nn.functional import one_hot\n",
    "from typing import Dict\n",
    "from tqdm.notebook import tqdm\n",
    "\n",
    "\n",
    "testds = [\n",
    "    hf_ds.load_from_disk(\"docs/pmc_patiens_fil_test.hf\"),\n",
    "    hf_ds.Dataset.from_list(hf_ds.load_dataset(\"cryptoni/epi_pubmed\")[\"test\"].train_test_split(.08, seed=42)[\"test\"][\"train\"]).rename_column(\"abstract\", \"text\"),\n",
    "]\n",
    "\n",
    "print(testds)\n",
    "\n",
    "\n",
    "\n",
    "MODEL_MAX_LENGTH = 1024\n",
    "\n",
    "def compute_loss(model: LlamaForCausalLM,\n",
    "                 input_texts: Dict[str, str],\n",
    "                 tokenizer: AutoTokenizer) -> torch.Tensor:\n",
    "    \"\"\"\n",
    "        Override of loss computation.\n",
    "\n",
    "        args : \n",
    "            - model (AutoModelForCausalLM) :\n",
    "            - inputs :\n",
    "\n",
    "        returns :\n",
    "            loss value, torch tensor with grad_fn\n",
    "    \"\"\"\n",
    "    VOCAB_SIZE = len(tokenizer)\n",
    "    inputs = tokenizer(input_texts, max_length=MODEL_MAX_LENGTH, truncation=True, padding=\"max_length\", return_tensors=\"pt\").to(DEVICE) \n",
    "    predictions = model(**inputs).logits ## model run and extract logits\n",
    "    loss = CrossEntropyLoss()(predictions.float(),\n",
    "                              one_hot(\n",
    "                                  inputs[\"input_ids\"],\n",
    "                                  num_classes=VOCAB_SIZE\n",
    "                            ).float()\n",
    "                    ).cpu() ## Loss computation, comparing the logits and the one hot distrib\n",
    "    del input_texts\n",
    "    del predictions\n",
    "    return loss"
   ]
  },
  {
   "cell_type": "code",
   "execution_count": 3,
   "metadata": {},
   "outputs": [],
   "source": [
    "def ppl(mod: LlamaForCausalLM, test: hf_ds.Dataset, loss: bool=False):\n",
    "    model = LlamaForCausalLM.from_pretrained(mod).to(DEVICE)\n",
    "    tokenizer = AutoTokenizer.from_pretrained(mod)\n",
    "    tokenizer.pad_token = tokenizer.eos_token\n",
    "\n",
    "    losses = []\n",
    "    for sample in tqdm(test[\"text\"]):\n",
    "        losses.append(\n",
    "            compute_loss(model, [sample], tokenizer).detach()\n",
    "        )\n",
    "\n",
    "    del model\n",
    "    del tokenizer\n",
    "    return 2**(sum(losses) / len(losses)).cpu().item() if not loss else sum(losses) / len(losses)"
   ]
  },
  {
   "cell_type": "markdown",
   "metadata": {},
   "source": [
    "## Meditron 7B"
   ]
  },
  {
   "cell_type": "code",
   "execution_count": 4,
   "metadata": {},
   "outputs": [
    {
     "data": {
      "application/vnd.jupyter.widget-view+json": {
       "model_id": "4dbdaa43e3694f38a1f1fa59eccae5a9",
       "version_major": 2,
       "version_minor": 0
      },
      "text/plain": [
       "Loading checkpoint shards:   0%|          | 0/8 [00:00<?, ?it/s]"
      ]
     },
     "metadata": {},
     "output_type": "display_data"
    },
    {
     "name": "stderr",
     "output_type": "stream",
     "text": [
      "Special tokens have been added in the vocabulary, make sure the associated word embeddings are fine-tuned or trained.\n"
     ]
    },
    {
     "data": {
      "application/vnd.jupyter.widget-view+json": {
       "model_id": "51360bfdcf38407281da49db631178c4",
       "version_major": 2,
       "version_minor": 0
      },
      "text/plain": [
       "  0%|          | 0/826 [00:00<?, ?it/s]"
      ]
     },
     "metadata": {},
     "output_type": "display_data"
    }
   ],
   "source": [
    "ppl_meditron_7b = ppl(\"epfl-llm/meditron-7b\")"
   ]
  },
  {
   "cell_type": "code",
   "execution_count": 13,
   "metadata": {},
   "outputs": [
    {
     "ename": "NameError",
     "evalue": "name 'ppl_meditron_7b' is not defined",
     "output_type": "error",
     "traceback": [
      "\u001b[0;31m---------------------------------------------------------------------------\u001b[0m",
      "\u001b[0;31mNameError\u001b[0m                                 Traceback (most recent call last)",
      "Cell \u001b[0;32mIn[13], line 1\u001b[0m\n\u001b[0;32m----> 1\u001b[0m \u001b[38;5;28mprint\u001b[39m(\u001b[38;5;124m\"\u001b[39m\u001b[38;5;124mLoss for meditron 7b :\u001b[39m\u001b[38;5;124m\"\u001b[39m, \u001b[43mppl_meditron_7b\u001b[49m)\n",
      "\u001b[0;31mNameError\u001b[0m: name 'ppl_meditron_7b' is not defined"
     ]
    }
   ],
   "source": [
    "print(\"Loss for meditron 7b :\", ppl_meditron_7b)"
   ]
  },
  {
   "cell_type": "markdown",
   "metadata": {},
   "source": [
    "## LLaMA 3"
   ]
  },
  {
   "cell_type": "code",
   "execution_count": 4,
   "metadata": {},
   "outputs": [
    {
     "data": {
      "application/vnd.jupyter.widget-view+json": {
       "model_id": "b23d47e7d8584ec2863eaab830129b86",
       "version_major": 2,
       "version_minor": 0
      },
      "text/plain": [
       "Loading checkpoint shards:   0%|          | 0/4 [00:00<?, ?it/s]"
      ]
     },
     "metadata": {},
     "output_type": "display_data"
    },
    {
     "name": "stderr",
     "output_type": "stream",
     "text": [
      "Special tokens have been added in the vocabulary, make sure the associated word embeddings are fine-tuned or trained.\n"
     ]
    },
    {
     "data": {
      "application/vnd.jupyter.widget-view+json": {
       "model_id": "ec991c2772834f55b25c9ba2e5e8f426",
       "version_major": 2,
       "version_minor": 0
      },
      "text/plain": [
       "  0%|          | 0/1241 [00:00<?, ?it/s]"
      ]
     },
     "metadata": {},
     "output_type": "display_data"
    }
   ],
   "source": [
    "ppl_ll3 = ppl(\"meta-llama/Meta-Llama-3-8B\", testds[1])"
   ]
  },
  {
   "cell_type": "code",
   "execution_count": 5,
   "metadata": {},
   "outputs": [
    {
     "name": "stdout",
     "output_type": "stream",
     "text": [
      "PPL for LLaMA 3 on PubMed :  1.0574300304045785\n"
     ]
    }
   ],
   "source": [
    "print(\"PPL for LLaMA 3 on PubMed : \", ppl_ll3)"
   ]
  },
  {
   "cell_type": "code",
   "execution_count": 15,
   "metadata": {},
   "outputs": [
    {
     "name": "stdout",
     "output_type": "stream",
     "text": [
      "Loss for LLaMA 3 : 1.0753576460522802\n"
     ]
    }
   ],
   "source": [
    "print(\"Loss for LLaMA 3 :\", ppl_ll3)"
   ]
  },
  {
   "cell_type": "markdown",
   "metadata": {},
   "source": [
    "## Epitron LL3.PMCo.N3.E1"
   ]
  },
  {
   "cell_type": "code",
   "execution_count": 4,
   "metadata": {},
   "outputs": [
    {
     "data": {
      "application/vnd.jupyter.widget-view+json": {
       "model_id": "dbfc8bbe131747ac8dfe75971fca0602",
       "version_major": 2,
       "version_minor": 0
      },
      "text/plain": [
       "model.safetensors.index.json:   0%|          | 0.00/23.9k [00:00<?, ?B/s]"
      ]
     },
     "metadata": {},
     "output_type": "display_data"
    },
    {
     "data": {
      "application/vnd.jupyter.widget-view+json": {
       "model_id": "04df040c4e264763863eb0e26dcf4bd7",
       "version_major": 2,
       "version_minor": 0
      },
      "text/plain": [
       "Loading checkpoint shards:   0%|          | 0/7 [00:00<?, ?it/s]"
      ]
     },
     "metadata": {},
     "output_type": "display_data"
    },
    {
     "name": "stderr",
     "output_type": "stream",
     "text": [
      "Special tokens have been added in the vocabulary, make sure the associated word embeddings are fine-tuned or trained.\n"
     ]
    },
    {
     "data": {
      "application/vnd.jupyter.widget-view+json": {
       "model_id": "1b221398ebd14859bfa02f4c010b1698",
       "version_major": 2,
       "version_minor": 0
      },
      "text/plain": [
       "  0%|          | 0/826 [00:00<?, ?it/s]"
      ]
     },
     "metadata": {},
     "output_type": "display_data"
    }
   ],
   "source": [
    "ppl_epitron_LL3_PMCo_N3_e1 = ppl(\"cryptoni/epitron_LL3_PMCo_N3_e1\")"
   ]
  },
  {
   "cell_type": "code",
   "execution_count": 5,
   "metadata": {},
   "outputs": [
    {
     "data": {
      "text/plain": [
       "1.0731268197411905"
      ]
     },
     "execution_count": 5,
     "metadata": {},
     "output_type": "execute_result"
    }
   ],
   "source": [
    "ppl_epitron_LL3_PMCo_N3_e1"
   ]
  },
  {
   "cell_type": "markdown",
   "metadata": {},
   "source": [
    "## Epitron LL3.PMCo.N3.E1"
   ]
  },
  {
   "cell_type": "code",
   "execution_count": null,
   "metadata": {},
   "outputs": [
    {
     "data": {
      "application/vnd.jupyter.widget-view+json": {
       "model_id": "dbfc8bbe131747ac8dfe75971fca0602",
       "version_major": 2,
       "version_minor": 0
      },
      "text/plain": [
       "model.safetensors.index.json:   0%|          | 0.00/23.9k [00:00<?, ?B/s]"
      ]
     },
     "metadata": {},
     "output_type": "display_data"
    },
    {
     "data": {
      "application/vnd.jupyter.widget-view+json": {
       "model_id": "04df040c4e264763863eb0e26dcf4bd7",
       "version_major": 2,
       "version_minor": 0
      },
      "text/plain": [
       "Loading checkpoint shards:   0%|          | 0/7 [00:00<?, ?it/s]"
      ]
     },
     "metadata": {},
     "output_type": "display_data"
    },
    {
     "name": "stderr",
     "output_type": "stream",
     "text": [
      "Special tokens have been added in the vocabulary, make sure the associated word embeddings are fine-tuned or trained.\n"
     ]
    },
    {
     "data": {
      "application/vnd.jupyter.widget-view+json": {
       "model_id": "1b221398ebd14859bfa02f4c010b1698",
       "version_major": 2,
       "version_minor": 0
      },
      "text/plain": [
       "  0%|          | 0/826 [00:00<?, ?it/s]"
      ]
     },
     "metadata": {},
     "output_type": "display_data"
    }
   ],
   "source": [
    "ppl_epitron_LL3_PMCo_N3_e1 = ppl(\"cryptoni/epitron_LL3_PMCo_N3_e1\")"
   ]
  },
  {
   "cell_type": "code",
   "execution_count": null,
   "metadata": {},
   "outputs": [
    {
     "data": {
      "text/plain": [
       "1.0731268197411905"
      ]
     },
     "metadata": {},
     "output_type": "display_data"
    }
   ],
   "source": [
    "ppl_epitron_LL3_PMCo_N3_e1"
   ]
  },
  {
   "cell_type": "markdown",
   "metadata": {},
   "source": [
    "## Epitron BASELINE.M7B.PMCo.E1"
   ]
  },
  {
   "cell_type": "markdown",
   "metadata": {},
   "source": [
    "## Epitron LL3.PMCo.E1.N3"
   ]
  },
  {
   "cell_type": "code",
   "execution_count": null,
   "metadata": {},
   "outputs": [
    {
     "data": {
      "application/vnd.jupyter.widget-view+json": {
       "model_id": "dbfc8bbe131747ac8dfe75971fca0602",
       "version_major": 2,
       "version_minor": 0
      },
      "text/plain": [
       "model.safetensors.index.json:   0%|          | 0.00/23.9k [00:00<?, ?B/s]"
      ]
     },
     "metadata": {},
     "output_type": "display_data"
    },
    {
     "data": {
      "application/vnd.jupyter.widget-view+json": {
       "model_id": "04df040c4e264763863eb0e26dcf4bd7",
       "version_major": 2,
       "version_minor": 0
      },
      "text/plain": [
       "Loading checkpoint shards:   0%|          | 0/7 [00:00<?, ?it/s]"
      ]
     },
     "metadata": {},
     "output_type": "display_data"
    },
    {
     "name": "stderr",
     "output_type": "stream",
     "text": [
      "Special tokens have been added in the vocabulary, make sure the associated word embeddings are fine-tuned or trained.\n"
     ]
    },
    {
     "data": {
      "application/vnd.jupyter.widget-view+json": {
       "model_id": "1b221398ebd14859bfa02f4c010b1698",
       "version_major": 2,
       "version_minor": 0
      },
      "text/plain": [
       "  0%|          | 0/826 [00:00<?, ?it/s]"
      ]
     },
     "metadata": {},
     "output_type": "display_data"
    }
   ],
   "source": [
    "ppl_epitron_LL3_PMCo_N2_e1 = ppl(\"cryptoni/epitron_LL3_PMCo_N2\")"
   ]
  },
  {
   "cell_type": "code",
   "execution_count": null,
   "metadata": {},
   "outputs": [
    {
     "data": {
      "text/plain": [
       "1.0731268197411905"
      ]
     },
     "metadata": {},
     "output_type": "display_data"
    }
   ],
   "source": [
    "ppl_epitron_LL3_PMCo_N2_e1"
   ]
  },
  {
   "cell_type": "markdown",
   "metadata": {},
   "source": [
    "## Epitron BASELINE.M7B.PMCo.E1"
   ]
  },
  {
   "cell_type": "code",
   "execution_count": null,
   "metadata": {},
   "outputs": [],
   "source": [
    "ppl_epitron_M7B_PMCo_e1 = ppl(\"cryptoni/epitron_baseline_M7B_PMCo_e1\")"
   ]
  },
  {
   "cell_type": "code",
   "execution_count": 11,
   "metadata": {},
   "outputs": [
    {
     "name": "stdout",
     "output_type": "stream",
     "text": [
      "Loss for EPITRON.M7B.PMCo.E1 : 1.0552800471506047\n"
     ]
    }
   ],
   "source": [
    "print(\"Loss for EPITRON.M7B.PMCo.E1 :\", ppl_epitron_M7B_PMCo_e1)"
   ]
  },
  {
   "cell_type": "markdown",
   "metadata": {},
   "source": [
    "## Epitron BASELINE.M7B.PMCo.E5"
   ]
  },
  {
   "cell_type": "code",
   "execution_count": 11,
   "metadata": {},
   "outputs": [
    {
     "data": {
      "application/vnd.jupyter.widget-view+json": {
       "model_id": "9a324b027ff04c55a889727861766f62",
       "version_major": 2,
       "version_minor": 0
      },
      "text/plain": [
       "Loading checkpoint shards:   0%|          | 0/3 [00:00<?, ?it/s]"
      ]
     },
     "metadata": {},
     "output_type": "display_data"
    },
    {
     "name": "stderr",
     "output_type": "stream",
     "text": [
      "Special tokens have been added in the vocabulary, make sure the associated word embeddings are fine-tuned or trained.\n"
     ]
    },
    {
     "data": {
      "application/vnd.jupyter.widget-view+json": {
       "model_id": "c6d3355644724154aa7591e66155c30c",
       "version_major": 2,
       "version_minor": 0
      },
      "text/plain": [
       "  0%|          | 0/826 [00:00<?, ?it/s]"
      ]
     },
     "metadata": {},
     "output_type": "display_data"
    }
   ],
   "source": [
    "ppl_epitron_M7B_PMCo_e5 = ppl(\"cryptoni/epitron_baseline_PMCo_M7B\")"
   ]
  },
  {
   "cell_type": "code",
   "execution_count": 12,
   "metadata": {},
   "outputs": [
    {
     "name": "stdout",
     "output_type": "stream",
     "text": [
      "Loss for EPITRON.M7B.PMCo.E5 : 1.0552412232446187\n"
     ]
    }
   ],
   "source": [
    "print(\"Loss for EPITRON.M7B.PMCo.E5 :\", ppl_epitron_M7B_PMCo_e5)"
   ]
  },
  {
   "cell_type": "code",
   "execution_count": null,
   "metadata": {},
   "outputs": [],
   "source": []
  },
  {
   "cell_type": "markdown",
   "metadata": {},
   "source": [
    "## Epitron BASELINE.M7B.PMCo.E3"
   ]
  },
  {
   "cell_type": "code",
   "execution_count": 13,
   "metadata": {},
   "outputs": [
    {
     "data": {
      "application/vnd.jupyter.widget-view+json": {
       "model_id": "3203619ef84d45a89580935a644cb376",
       "version_major": 2,
       "version_minor": 0
      },
      "text/plain": [
       "Loading checkpoint shards:   0%|          | 0/3 [00:00<?, ?it/s]"
      ]
     },
     "metadata": {},
     "output_type": "display_data"
    },
    {
     "name": "stderr",
     "output_type": "stream",
     "text": [
      "Special tokens have been added in the vocabulary, make sure the associated word embeddings are fine-tuned or trained.\n"
     ]
    },
    {
     "data": {
      "application/vnd.jupyter.widget-view+json": {
       "model_id": "a784cc24c4cd4894ba8299d104024f2f",
       "version_major": 2,
       "version_minor": 0
      },
      "text/plain": [
       "  0%|          | 0/826 [00:00<?, ?it/s]"
      ]
     },
     "metadata": {},
     "output_type": "display_data"
    }
   ],
   "source": [
    "ppl_epitron_M7B_PMCo_e3 = ppl(\"cryptoni/epitron_baseline_PMCo_M7B_e3\")"
   ]
  },
  {
   "cell_type": "code",
   "execution_count": 14,
   "metadata": {},
   "outputs": [
    {
     "name": "stdout",
     "output_type": "stream",
     "text": [
      "Loss for EPITRON.M7B.PMCo.E3 : 1.0552418390534275\n"
     ]
    }
   ],
   "source": [
    "print(\"Loss for EPITRON.M7B.PMCo.E3 :\", ppl_epitron_M7B_PMCo_e3)"
   ]
  },
  {
   "cell_type": "code",
   "execution_count": 7,
   "metadata": {},
   "outputs": [
    {
     "data": {
      "application/vnd.jupyter.widget-view+json": {
       "model_id": "47659ac747464590872fa0d31b3c3510",
       "version_major": 2,
       "version_minor": 0
      },
      "text/plain": [
       "model.safetensors.index.json:   0%|          | 0.00/23.9k [00:00<?, ?B/s]"
      ]
     },
     "metadata": {},
     "output_type": "display_data"
    },
    {
     "data": {
      "application/vnd.jupyter.widget-view+json": {
       "model_id": "54b15b6cfc6a4f278c749d2ed28b3b57",
       "version_major": 2,
       "version_minor": 0
      },
      "text/plain": [
       "Loading checkpoint shards:   0%|          | 0/7 [00:00<?, ?it/s]"
      ]
     },
     "metadata": {},
     "output_type": "display_data"
    },
    {
     "name": "stderr",
     "output_type": "stream",
     "text": [
      "Special tokens have been added in the vocabulary, make sure the associated word embeddings are fine-tuned or trained.\n"
     ]
    },
    {
     "data": {
      "application/vnd.jupyter.widget-view+json": {
       "model_id": "f7c34363a31940988c465106fc50fb33",
       "version_major": 2,
       "version_minor": 0
      },
      "text/plain": [
       "  0%|          | 0/1241 [00:00<?, ?it/s]"
      ]
     },
     "metadata": {},
     "output_type": "display_data"
    }
   ],
   "source": [
    "ppl_pubmed_pmc = ppl(\"cryptoni/epitron_pubmed_pmc\", testds[1])"
   ]
  },
  {
   "cell_type": "code",
   "execution_count": 8,
   "metadata": {},
   "outputs": [
    {
     "name": "stdout",
     "output_type": "stream",
     "text": [
      "PPL for LL3 trained on Pubmed and PMC on pubmed :  1.0482843168645704\n"
     ]
    }
   ],
   "source": [
    "print(\"PPL for LL3 trained on Pubmed and PMC on pubmed : \", ppl_pubmed_pmc)"
   ]
  },
  {
   "cell_type": "code",
   "execution_count": 9,
   "metadata": {},
   "outputs": [
    {
     "data": {
      "application/vnd.jupyter.widget-view+json": {
       "model_id": "5a713d3e64274eada92a1897d509c71a",
       "version_major": 2,
       "version_minor": 0
      },
      "text/plain": [
       "Loading checkpoint shards:   0%|          | 0/7 [00:00<?, ?it/s]"
      ]
     },
     "metadata": {},
     "output_type": "display_data"
    },
    {
     "name": "stderr",
     "output_type": "stream",
     "text": [
      "Special tokens have been added in the vocabulary, make sure the associated word embeddings are fine-tuned or trained.\n"
     ]
    },
    {
     "data": {
      "application/vnd.jupyter.widget-view+json": {
       "model_id": "2b403648b41048a29c2388b2dc56be6a",
       "version_major": 2,
       "version_minor": 0
      },
      "text/plain": [
       "  0%|          | 0/1241 [00:00<?, ?it/s]"
      ]
     },
     "metadata": {},
     "output_type": "display_data"
    }
   ],
   "source": [
    "### PPL OF THE BEST OF THE PMC ONLY\n",
    "ppl_pmc_tr_pubmed_te = ppl(\"cryptoni/epitron_LL3_PMC_N6\", testds[1])"
   ]
  },
  {
   "cell_type": "code",
   "execution_count": 11,
   "metadata": {},
   "outputs": [
    {
     "data": {
      "application/vnd.jupyter.widget-view+json": {
       "model_id": "b1ac322dd50440a590cdf9f8dba733fc",
       "version_major": 2,
       "version_minor": 0
      },
      "text/plain": [
       "Loading checkpoint shards:   0%|          | 0/7 [00:00<?, ?it/s]"
      ]
     },
     "metadata": {},
     "output_type": "display_data"
    },
    {
     "name": "stderr",
     "output_type": "stream",
     "text": [
      "Special tokens have been added in the vocabulary, make sure the associated word embeddings are fine-tuned or trained.\n"
     ]
    },
    {
     "data": {
      "application/vnd.jupyter.widget-view+json": {
       "model_id": "4803afbbdf10472f86d154e596acc222",
       "version_major": 2,
       "version_minor": 0
      },
      "text/plain": [
       "  0%|          | 0/826 [00:00<?, ?it/s]"
      ]
     },
     "metadata": {},
     "output_type": "display_data"
    }
   ],
   "source": [
    "### PPL OF THE BEST OF THE PMC ONLY\n",
    "ppl_pmc_tr_pmc_te = ppl(\"cryptoni/epitron_LL3_PMC_N6\", testds[0])"
   ]
  },
  {
   "cell_type": "code",
   "execution_count": 12,
   "metadata": {},
   "outputs": [
    {
     "name": "stdout",
     "output_type": "stream",
     "text": [
      "PPL of LL3 trained on PMC on PMC :  1.0721796112094717\n"
     ]
    }
   ],
   "source": [
    "print(\"PPL of LL3 trained on PMC on PMC : \", ppl_pmc_tr_pmc_te)"
   ]
  },
  {
   "cell_type": "code",
   "execution_count": 10,
   "metadata": {},
   "outputs": [
    {
     "name": "stdout",
     "output_type": "stream",
     "text": [
      "PPL of LL3 trained on PMC on pubmed :  1.0522408901251359\n"
     ]
    }
   ],
   "source": [
    "print(\"PPL of LL3 trained on PMC on pubmed : \", ppl_pmc_tr_pubmed_te)"
   ]
  },
  {
   "cell_type": "markdown",
   "metadata": {},
   "source": [
    "|model|ppl|dataset|\n",
    "|:------:|:---------:|:-------:|\n",
    "|Meditron-7B|1.35|pmc test|\n",
    "|LLaMA-3-8B|1.075|pmc test|\n",
    "|epitron.LL3.8B.PMCo.e1|1.073|pmc test|\n",
    "|epitron.M7B.PMCo.e1|1.06|pmc test|\n",
    "|epitron.M7B.PMCo.e3|1.055|pmc test|\n",
    "|epitron.M7B.PMCo.e5|1.055|pmc test|\n"
   ]
  },
  {
   "cell_type": "code",
   "execution_count": 14,
   "metadata": {},
   "outputs": [
    {
     "data": {
      "application/vnd.jupyter.widget-view+json": {
       "model_id": "0bbf1849925748a99cecde61722ae306",
       "version_major": 2,
       "version_minor": 0
      },
      "text/plain": [
       "Loading checkpoint shards:   0%|          | 0/7 [00:00<?, ?it/s]"
      ]
     },
     "metadata": {},
     "output_type": "display_data"
    },
    {
     "name": "stderr",
     "output_type": "stream",
     "text": [
      "Special tokens have been added in the vocabulary, make sure the associated word embeddings are fine-tuned or trained.\n"
     ]
    },
    {
     "data": {
      "application/vnd.jupyter.widget-view+json": {
       "model_id": "03933530be4d4ca2ae05fc95333ae31c",
       "version_major": 2,
       "version_minor": 0
      },
      "text/plain": [
       "  0%|          | 0/826 [00:00<?, ?it/s]"
      ]
     },
     "metadata": {},
     "output_type": "display_data"
    },
    {
     "name": "stdout",
     "output_type": "stream",
     "text": [
      "PPM on PMC trained on PMC and Pubmed 1.0704639387388293\n"
     ]
    }
   ],
   "source": [
    "print(\"PPM on PMC trained on PMC and Pubmed\", ppl(\"cryptoni/epitron_pubmed_pmc\", testds[0]))"
   ]
  },
  {
   "cell_type": "markdown",
   "metadata": {},
   "source": [
    "### FULL PPLS ON PMCo"
   ]
  },
  {
   "cell_type": "code",
   "execution_count": 7,
   "metadata": {},
   "outputs": [],
   "source": [
    "import json"
   ]
  },
  {
   "cell_type": "code",
   "execution_count": 8,
   "metadata": {},
   "outputs": [],
   "source": [
    "MODELS = [\n",
    "    \"meta-llama/Meta-Llama-3-8B\", ## BASE\n",
    "    \"cryptoni/epitron_LL3_final_N5_e1\", ## N5-E1\n",
    "    \"cryptoni/epitron_LL3_final_N5_e2\",\n",
    "    \"cryptoni/epitron_LL3_PMC_N5_e1\",\n",
    "    \"cryptoni/epitron_LL3_PMCo_N2\", ## N2-E1\n",
    "    \"cryptoni/epitron_LL3_N3_e1\",\n",
    "    \"cryptoni/epitron_LL3_PMCo_N2\",\n",
    "]\n",
    "\n",
    "\n",
    "all_ppls = {}\n",
    "\n",
    "try :\n",
    "    with open(\"docs/all_ppls.json\", \"r\") as f:\n",
    "        all_ppls = json.load(f)\n",
    "except :\n",
    "    print(\"No trial to resume.\")"
   ]
  },
  {
   "cell_type": "code",
   "execution_count": 9,
   "metadata": {},
   "outputs": [
    {
     "name": "stdout",
     "output_type": "stream",
     "text": [
      "Already computed for meta-llama/Meta-Llama-3-8B : 1.0753576460522802\n",
      "Processing model : cryptoni/epitron_LL3_final_N5_e1\n"
     ]
    },
    {
     "data": {
      "application/vnd.jupyter.widget-view+json": {
       "model_id": "26eebc14806a430fb3824c5ff6be80df",
       "version_major": 2,
       "version_minor": 0
      },
      "text/plain": [
       "model.safetensors.index.json:   0%|          | 0.00/23.9k [00:00<?, ?B/s]"
      ]
     },
     "metadata": {},
     "output_type": "display_data"
    },
    {
     "data": {
      "application/vnd.jupyter.widget-view+json": {
       "model_id": "1cb92e0ddcc345beb5f3c1141e298942",
       "version_major": 2,
       "version_minor": 0
      },
      "text/plain": [
       "Loading checkpoint shards:   0%|          | 0/7 [00:00<?, ?it/s]"
      ]
     },
     "metadata": {},
     "output_type": "display_data"
    },
    {
     "name": "stderr",
     "output_type": "stream",
     "text": [
      "Special tokens have been added in the vocabulary, make sure the associated word embeddings are fine-tuned or trained.\n"
     ]
    },
    {
     "data": {
      "application/vnd.jupyter.widget-view+json": {
       "model_id": "667c485bfd5e4c3d917722f1bee98866",
       "version_major": 2,
       "version_minor": 0
      },
      "text/plain": [
       "  0%|          | 0/826 [00:00<?, ?it/s]"
      ]
     },
     "metadata": {},
     "output_type": "display_data"
    },
    {
     "name": "stdout",
     "output_type": "stream",
     "text": [
      "Processing model : cryptoni/epitron_LL3_final_N5_e2\n"
     ]
    },
    {
     "data": {
      "application/vnd.jupyter.widget-view+json": {
       "model_id": "8501a0e6529e4c5fbaea629c79787d10",
       "version_major": 2,
       "version_minor": 0
      },
      "text/plain": [
       "model.safetensors.index.json:   0%|          | 0.00/23.9k [00:00<?, ?B/s]"
      ]
     },
     "metadata": {},
     "output_type": "display_data"
    },
    {
     "data": {
      "application/vnd.jupyter.widget-view+json": {
       "model_id": "097b0d19c9f54eb99b1b22eb9ae3c0e5",
       "version_major": 2,
       "version_minor": 0
      },
      "text/plain": [
       "Loading checkpoint shards:   0%|          | 0/7 [00:00<?, ?it/s]"
      ]
     },
     "metadata": {},
     "output_type": "display_data"
    },
    {
     "name": "stderr",
     "output_type": "stream",
     "text": [
      "Special tokens have been added in the vocabulary, make sure the associated word embeddings are fine-tuned or trained.\n"
     ]
    },
    {
     "data": {
      "application/vnd.jupyter.widget-view+json": {
       "model_id": "bfe19a0c643445fbae0e231f73d4c8aa",
       "version_major": 2,
       "version_minor": 0
      },
      "text/plain": [
       "  0%|          | 0/826 [00:00<?, ?it/s]"
      ]
     },
     "metadata": {},
     "output_type": "display_data"
    },
    {
     "name": "stdout",
     "output_type": "stream",
     "text": [
      "Already computed for cryptoni/epitron_LL3_PMC_N5_e1 : 1.056741346558772\n",
      "Already computed for cryptoni/epitron_LL3_PMCo_N2 : 1.0731268197411905\n",
      "Processing model : cryptoni/epitron_LL3_N3_e1\n"
     ]
    },
    {
     "data": {
      "application/vnd.jupyter.widget-view+json": {
       "model_id": "30c0ed6881284693858a1006a281467b",
       "version_major": 2,
       "version_minor": 0
      },
      "text/plain": [
       "model.safetensors.index.json:   0%|          | 0.00/23.9k [00:00<?, ?B/s]"
      ]
     },
     "metadata": {},
     "output_type": "display_data"
    },
    {
     "data": {
      "application/vnd.jupyter.widget-view+json": {
       "model_id": "d0e2dcdbd8c74e42a04328be73deb0b3",
       "version_major": 2,
       "version_minor": 0
      },
      "text/plain": [
       "Loading checkpoint shards:   0%|          | 0/7 [00:00<?, ?it/s]"
      ]
     },
     "metadata": {},
     "output_type": "display_data"
    },
    {
     "name": "stderr",
     "output_type": "stream",
     "text": [
      "Special tokens have been added in the vocabulary, make sure the associated word embeddings are fine-tuned or trained.\n"
     ]
    },
    {
     "data": {
      "application/vnd.jupyter.widget-view+json": {
       "model_id": "91dd5a3b6a384155939babbefd01de14",
       "version_major": 2,
       "version_minor": 0
      },
      "text/plain": [
       "  0%|          | 0/826 [00:00<?, ?it/s]"
      ]
     },
     "metadata": {},
     "output_type": "display_data"
    },
    {
     "name": "stdout",
     "output_type": "stream",
     "text": [
      "Already computed for cryptoni/epitron_LL3_PMCo_N2 : 1.0731268197411905\n"
     ]
    }
   ],
   "source": [
    "for model in MODELS:\n",
    "    if(model not in all_ppls):\n",
    "        print(f\"Processing model : {model}\")\n",
    "        ppli = ppl(model)\n",
    "        all_ppls[model] = ppli\n",
    "    else :\n",
    "        print(f\"Already computed for {model} : {all_ppls[model]}\")"
   ]
  },
  {
   "cell_type": "code",
   "execution_count": 11,
   "metadata": {},
   "outputs": [],
   "source": [
    "import json\n",
    "\n",
    "\n",
    "with open(\"docs/all_ppls.json\", \"w\") as f:\n",
    "    json.dump(all_ppls, f)"
   ]
  },
  {
   "cell_type": "code",
   "execution_count": 10,
   "metadata": {},
   "outputs": [
    {
     "data": {
      "text/plain": [
       "{'meta-llama/Meta-Llama-3-8B': 1.0753576460522802,\n",
       " 'cryptoni/epitron_LL3_PMC_N5_e1': 1.056741346558772,\n",
       " 'cryptoni/epitron_LL3_PMCo_N2': 1.0731268197411905,\n",
       " 'cryptoni/epitron_LL3_final_N5_e1': 1.0658709393412393,\n",
       " 'cryptoni/epitron_LL3_final_N5_e2': 1.0412375565890175,\n",
       " 'cryptoni/epitron_LL3_N3_e1': 1.0339525704571053}"
      ]
     },
     "execution_count": 10,
     "metadata": {},
     "output_type": "execute_result"
    }
   ],
   "source": [
    "all_ppls"
   ]
  },
  {
   "cell_type": "markdown",
   "metadata": {},
   "source": [
    "### Validation with MCQ :"
   ]
  },
  {
   "cell_type": "code",
   "execution_count": 1,
   "metadata": {},
   "outputs": [
    {
     "name": "stdout",
     "output_type": "stream",
     "text": [
      "We've set API key :  f0555591d0410671711554a53411c6d7\n"
     ]
    },
    {
     "name": "stderr",
     "output_type": "stream",
     "text": [
      "/home/antoinemagron/.conda/envs/nlp2/lib/python3.11/site-packages/torchvision/io/image.py:13: UserWarning: Failed to load image Python extension: '/home/antoinemagron/.conda/envs/nlp2/lib/python3.11/site-packages/torchvision/image.so: undefined symbol: _ZN3c1017RegisterOperatorsD1Ev'If you don't plan on using image functionality from `torchvision.io`, you can ignore this warning. Otherwise, there might be something wrong with your environment. Did you have `libjpeg` or `libpng` installed before building `torchvision` from source?\n",
      "  warn(\n",
      "[nltk_data] Downloading package punkt to\n",
      "[nltk_data]     /home/antoinemagron/nltk_data...\n",
      "[nltk_data]   Package punkt is already up-to-date!\n",
      "/home/antoinemagron/.conda/envs/nlp2/lib/python3.11/site-packages/huggingface_hub/file_download.py:1132: FutureWarning: `resume_download` is deprecated and will be removed in version 1.0.0. Downloads always resume when possible. If you want to force a new download, use `force_download=True`.\n",
      "  warnings.warn(\n"
     ]
    },
    {
     "data": {
      "application/vnd.jupyter.widget-view+json": {
       "model_id": "ba62bf2253c14021a0f7c7314bbfebaa",
       "version_major": 2,
       "version_minor": 0
      },
      "text/plain": [
       "config.json:   0%|          | 0.00/709 [00:00<?, ?B/s]"
      ]
     },
     "metadata": {},
     "output_type": "display_data"
    },
    {
     "name": "stdout",
     "output_type": "stream",
     "text": [
      "INFO 06-26 14:00:46 llm_engine.py:100] Initializing an LLM engine (v0.4.2) with config: model='cryptoni/epitron_pmc_pubmed_N5', speculative_config=None, tokenizer='cryptoni/epitron_pmc_pubmed_N5', skip_tokenizer_init=False, tokenizer_mode=auto, revision=None, tokenizer_revision=None, trust_remote_code=False, dtype=torch.float16, max_seq_len=8192, download_dir=None, load_format=LoadFormat.AUTO, tensor_parallel_size=1, disable_custom_all_reduce=False, quantization=None, enforce_eager=False, kv_cache_dtype=auto, quantization_param_path=None, device_config=cuda, decoding_config=DecodingConfig(guided_decoding_backend='outlines'), seed=0, served_model_name=cryptoni/epitron_pmc_pubmed_N5)\n"
     ]
    },
    {
     "data": {
      "application/vnd.jupyter.widget-view+json": {
       "model_id": "a3be8d756dea4d8c9ad2a221a07b3649",
       "version_major": 2,
       "version_minor": 0
      },
      "text/plain": [
       "tokenizer_config.json:   0%|          | 0.00/50.8k [00:00<?, ?B/s]"
      ]
     },
     "metadata": {},
     "output_type": "display_data"
    },
    {
     "data": {
      "application/vnd.jupyter.widget-view+json": {
       "model_id": "ec01bde2dbdf48e996ed513b598c0c1e",
       "version_major": 2,
       "version_minor": 0
      },
      "text/plain": [
       "tokenizer.json:   0%|          | 0.00/9.09M [00:00<?, ?B/s]"
      ]
     },
     "metadata": {},
     "output_type": "display_data"
    },
    {
     "data": {
      "application/vnd.jupyter.widget-view+json": {
       "model_id": "87b0cebc15e844409c42e1591b7fba99",
       "version_major": 2,
       "version_minor": 0
      },
      "text/plain": [
       "special_tokens_map.json:   0%|          | 0.00/449 [00:00<?, ?B/s]"
      ]
     },
     "metadata": {},
     "output_type": "display_data"
    },
    {
     "name": "stderr",
     "output_type": "stream",
     "text": [
      "Special tokens have been added in the vocabulary, make sure the associated word embeddings are fine-tuned or trained.\n"
     ]
    },
    {
     "data": {
      "application/vnd.jupyter.widget-view+json": {
       "model_id": "775e5dcce47541ca83f2fbb66b795114",
       "version_major": 2,
       "version_minor": 0
      },
      "text/plain": [
       "generation_config.json:   0%|          | 0.00/194 [00:00<?, ?B/s]"
      ]
     },
     "metadata": {},
     "output_type": "display_data"
    },
    {
     "name": "stdout",
     "output_type": "stream",
     "text": [
      "INFO 06-26 14:00:47 utils.py:660] Found nccl from library /home/antoinemagron/.config/vllm/nccl/cu12/libnccl.so.2.18.1\n",
      "INFO 06-26 14:00:47 selector.py:27] Using FlashAttention-2 backend.\n",
      "INFO 06-26 14:00:48 weight_utils.py:199] Using model weights format ['*.safetensors']\n"
     ]
    },
    {
     "data": {
      "application/vnd.jupyter.widget-view+json": {
       "model_id": "cab3705877894e83a6a96f8365b2aebc",
       "version_major": 2,
       "version_minor": 0
      },
      "text/plain": [
       "model-00007-of-00007.safetensors:   0%|          | 0.00/2.57G [00:00<?, ?B/s]"
      ]
     },
     "metadata": {},
     "output_type": "display_data"
    },
    {
     "data": {
      "application/vnd.jupyter.widget-view+json": {
       "model_id": "7002023a25a745a98df46f5955062039",
       "version_major": 2,
       "version_minor": 0
      },
      "text/plain": [
       "model-00001-of-00007.safetensors:   0%|          | 0.00/4.89G [00:00<?, ?B/s]"
      ]
     },
     "metadata": {},
     "output_type": "display_data"
    },
    {
     "data": {
      "application/vnd.jupyter.widget-view+json": {
       "model_id": "6de3bb1aa339452d89aa1a181f67e0a5",
       "version_major": 2,
       "version_minor": 0
      },
      "text/plain": [
       "model-00005-of-00007.safetensors:   0%|          | 0.00/4.83G [00:00<?, ?B/s]"
      ]
     },
     "metadata": {},
     "output_type": "display_data"
    },
    {
     "data": {
      "application/vnd.jupyter.widget-view+json": {
       "model_id": "ca8ffacb09ac4aeb8387ca74749c9131",
       "version_major": 2,
       "version_minor": 0
      },
      "text/plain": [
       "model-00002-of-00007.safetensors:   0%|          | 0.00/4.83G [00:00<?, ?B/s]"
      ]
     },
     "metadata": {},
     "output_type": "display_data"
    },
    {
     "data": {
      "application/vnd.jupyter.widget-view+json": {
       "model_id": "752178a3563345579b94e3614b0d9dae",
       "version_major": 2,
       "version_minor": 0
      },
      "text/plain": [
       "model-00006-of-00007.safetensors:   0%|          | 0.00/5.00G [00:00<?, ?B/s]"
      ]
     },
     "metadata": {},
     "output_type": "display_data"
    },
    {
     "data": {
      "application/vnd.jupyter.widget-view+json": {
       "model_id": "4608f33a419a485f9a6b398674aa2e7f",
       "version_major": 2,
       "version_minor": 0
      },
      "text/plain": [
       "model-00004-of-00007.safetensors:   0%|          | 0.00/5.00G [00:00<?, ?B/s]"
      ]
     },
     "metadata": {},
     "output_type": "display_data"
    },
    {
     "data": {
      "application/vnd.jupyter.widget-view+json": {
       "model_id": "11d17e4d8b1a446a9209ebbee7daa277",
       "version_major": 2,
       "version_minor": 0
      },
      "text/plain": [
       "model-00003-of-00007.safetensors:   0%|          | 0.00/5.00G [00:00<?, ?B/s]"
      ]
     },
     "metadata": {},
     "output_type": "display_data"
    },
    {
     "name": "stdout",
     "output_type": "stream",
     "text": [
      "INFO 06-26 14:10:31 model_runner.py:175] Loading model weights took 14.9595 GB\n",
      "INFO 06-26 14:10:33 gpu_executor.py:114] # GPU blocks: 13243, # CPU blocks: 2048\n",
      "INFO 06-26 14:10:35 model_runner.py:937] Capturing the model for CUDA graphs. This may lead to unexpected consequences if the model is not static. To run the model in eager mode, set 'enforce_eager=True' or use '--enforce-eager' in the CLI.\n",
      "INFO 06-26 14:10:35 model_runner.py:941] CUDA graphs can take additional 1~3 GiB memory per GPU. If you are running out of memory, consider decreasing `gpu_memory_utilization` or enforcing eager mode. You can also reduce the `max_num_seqs` as needed to decrease memory usage.\n",
      "INFO 06-26 14:10:41 model_runner.py:1017] Graph capturing finished in 6 secs.\n",
      "[['-user:\\nQuestion : Deep brain stimulation for drug-resistant epilepsy targets which of the following structures?\\n        A. anterior nucleus of the thalamus\\n        B. centromedian nucleus of the thalamus\\n        C. cingulate gyrus\\n        D. hippocampus\\n        E. internal segment of the globus pallidus\\n-assistant:\\nAnswer :  The anterior nucleus of the thalamus is part of the Papez circuit and is therefore believed to be a relay station for information passing from the amygdala and hippocampus to the cerebral cortex. Data have shown that inhibition of the anterior nucleus may result in prevention or cessation of seizures. \\nTherefore, the correct answer is A.###', '-user:\\nQuestion : Which of the following conditions would likely preclude the consideration of epilepsy surgery in a patient?\\n        A. dominant hemisphere focus\\n        B. low-grade tumor\\n        C. mental retardation\\n        D. primary generalized epilepsy\\n        E. prior vagus nerve stimulator use\\n-assistant:\\nAnswer :  Patients who are typically not surgical candidates include those with clear evidence of bilateral onset of habitual seizures, those with severe psychiatric or medical comorbidities increasing surgical risk or compromising recovery, those with rapidly progressive CNS disease, and those with primary generalized epilepsy. \\nTherefore, the correct answer is D.###', '-user:\\nQuestion : Fetal exposure to which of the following medications is most likely to be associated with decreased IQ during childhood?\\n        A. carbamazepine\\n        B. lamotrigine\\n        C. phenytoin\\n        D. topiramate\\n        E. valproate\\n-assistant:\\nAnswer :  Of the options listed above, in utero exposure to valproate is most likely to be associated with a lower childhood IQ. Longitudinal studies have shown no changes with phenytoin, carbamazepine, and lamotrigine, but a lower mean IQ at age 3 was seen with exposure to valproate. This was also shown to have a dose-effect response, with lower IQs observed in children exposed to higher doses of valproate. There is no data on cognitive outcomes in children with in utero exposure to topiramate. Unlike valproate, topiramate does not cause apoptosis in immature brains of animals. \\nTherefore, the correct answer is E.###'], ['-user:\\nQuestion : Which of the following is the major role of the neurologist after a diagnosis of psychogenic nonepileptic events?\\n        A. appropriately weaning antiepileptic drugs\\n        B. describing events in ambiguous terms\\n        C. ensuring that patients continue to refrain from driving a motor vehicle\\n        D. ordering follow-up EEG in 6 to 12 months\\n        E. prescribing a selective serotonin reuptake inhibitor or other antidepressant\\n-assistant:\\nAnswer :  After a diagnosis of psychogenic nonepileptic attacks, one of the major roles of the neurologist is the rational weaning of antiepileptic medications. This should be done with the caveat that coexistent epilepsy may also be present, so the physician needs to keep an open mind regarding new events (although routine surveillance EEGs are not necessarily indicated). Driving restrictions should be handled on an individual case basis, although most patients can return to driving with little chance of injury. Neurologists should use unambiguous terms when describing the diagnosis to the patient and other providers so that the misdiagnosis of epilepsy is not perpetuated. While mental health care is often needed, the routine prescription of antidepressants is not always indicated. \\nTherefore, the correct answer is A.###', '-user:\\nQuestion : A 76-year-old man is admitted with a right frontal intracerebral hemorrhage. After some initial improvement in his neurologic status, he has become a bit less responsive. EEG shows fluctuating right greater than left periodic discharges at 1 to 2 Hz without definite evolution. Which of the following is the best next step in management?\\n        A. 0.1 mg/kg IV lorazepam\\n        B. continuous propofol infusion\\n        C. observation with repeat 30-minute EEG in 24 hours\\n        D. oral levetiracetam\\n        E. sequential small doses of midazolam or other IV antiepileptic drug until the EEG pattern resolves\\n-assistant:\\nAnswer :  Nonconvulsive status epilepticus is increasingly being identified as a cause of altered mental status in critically ill patients, including patients with structural brain lesions such as intracerebral hemorrhage. The persistent mental status change is suggestive of nonconvulsive status epilepticus. Initial management consists of sequential administration of low-dose benzodiazepines (preferably short-acting agents, such as midazolam) or IV administration of a relatively nonsedating antiepileptic medication (such as levetiracetam or lacosamide). After initiation of these medications, improvement in the clinical state and EEG is supportive of a diagnosis of nonconvulsive status epilepticus. Initiation of additional antiepileptics should be held until the diagnosis is clearer. \\nTherefore, the correct answer is E.###', '-user:\\nQuestion : A 6-year-old child with Lennox-Gastaut syndrome and medically resistant epilepsy is currently on two anticonvulsants and still has several seizures daily despite trials of more than five antiepileptic drugs. Dietary treatment with a ketogenic diet is proposed. What is the approximate percent chance that this patient will respond with a greater than 50% seizure reduction?\\n        A. 5%\\n        B. 10%\\n        C. 25%\\n        D. 50%\\n        E. 90%\\n-assistant:\\nAnswer :  Randomized controlled studies and meta-analyses have shown that approximately 50% of children with pharmacoresistant epilepsy have greater than 50% reduction in seizures on the ketogenic diet. \\nTherefore, the correct answer is D.###'], ['-user:\\nQuestion : According to the International League Against Epilepsy’s 2010 revision of its seizure classification system, which of the following factors is most helpful in initially focusing the scope of diagnostic possibilities for specific electroclinical syndromes?\\n        A. age at onset\\n        B. family seizure history\\n        C. frequency of spells\\n        D. history of toxic exposure\\n        E. severity of the disorder\\n-assistant:\\nAnswer :  While all the other factors mentioned should be part of an initial seizure history, they are not as important in establishing the ultimate diagnosis. \\nTherefore, the correct answer is A.###', '-user:\\nQuestion : A 40-year-old woman is admitted to an epilepsy monitoring unit for evaluation of paroxysmal episodes of neurologic dysfunction. Her episodes involve some nonrhythmic shaking of both arms and pelvic thrusting without any correlate on the EEG; psychogenic nonepileptic events are diagnosed. Which of the following characteristics is most associated with a good outcome (ie, resolution of episodes)?\\n        A. episodes with prominent motor features\\n        B. female gender\\n        C. lower educational achievement\\n        D. older age at diagnosis\\n        E. shorter duration of illness\\n-assistant:\\nAnswer :  The description of the events provided above and the lack of EEG findings during her episodes are both suggestive of nonepileptic events. Prognosis after a diagnosis of psychogenic nonepileptic events is variable but may be dependent on certain characteristics. Of the options listed above, a shorter duration of illness (ie, shorter time between the onset of spells and the diagnosis of nonepileptic events) is most predictive of a positive outcome. Some of the other options listed above (older age, prominent/dramatic motor features, lower educational achievement) are associated with a poorer outcome after a diagnosis of nonepileptic events. \\nTherefore, the correct answer is E.###', '-user:\\nQuestion : A 27-year-old woman with longstanding complex partial seizures, well controlled on monotherapy with carbamazepine, is seen in the first trimester of pregnancy. She is concerned about seizures becoming more frequent during pregnancy. Which of the following is the most appropriate counseling of this patient regarding her pregnancy and seizure recurrence?\\n        A. most women experience a decrease in seizure frequency\\n        B. most women experience an increase in seizure frequency\\n        C. most women experience no change in seizure frequency\\n        D. seizures are least likely to occur in the third trimester\\n        E. seizures are more likely to be generalized in nature\\n-assistant:\\nAnswer :  Although the effect of pregnancy on seizure frequency is variable, most women with epilepsy do not experience a significant change in the number or severity of their seizures. Expected physiologic hormonal changes, alterations in sleep and other routines, and other factors can alter the seizure frequency in some cases. Noncompliance can also play a role, since some women will discontinue their medications with the assumption that the teratogenic effects of antiepileptic medications outweigh their potential benefits. \\nTherefore, the correct answer is C.###'], ['-user:\\nQuestion : A 40-year-old woman is admitted to an epilepsy monitoring unit for evaluation of paroxysmal episodes of neurologic dysfunction. Her episodes involve some nonrhythmic shaking of both arms and pelvic thrusting without any correlate on the EEG; psychogenic nonepileptic events are diagnosed. Which of the following characteristics is most associated with a good outcome (ie, resolution of episodes)?\\n        A. episodes with prominent motor features\\n        B. female gender\\n        C. lower educational achievement\\n        D. older age at diagnosis\\n        E. shorter duration of illness\\n-assistant:\\nAnswer :  The description of the events provided above and the lack of EEG findings during her episodes are both suggestive of nonepileptic events. Prognosis after a diagnosis of psychogenic nonepileptic events is variable but may be dependent on certain characteristics. Of the options listed above, a shorter duration of illness (ie, shorter time between the onset of spells and the diagnosis of nonepileptic events) is most predictive of a positive outcome. Some of the other options listed above (older age, prominent/dramatic motor features, lower educational achievement) are associated with a poorer outcome after a diagnosis of nonepileptic events. \\nTherefore, the correct answer is E.###', '-user:\\nQuestion : A 23-year-old man is admitted to the hospital for long-term video-EEG monitoring. He has multiple events while in the hospital, but no clear abnormality is apparent on the EEG. Which of the following characteristics may still support a diagnosis of epileptic seizures as opposed to psychogenic nonepileptic events?\\n        A. ability for events to be induced or suggested\\n        B. high-amplitude, thrashing motor activity\\n        C. lack of events occurring in sleep\\n        D. prolonged alterations in level of alertness\\n        E. stereotyped nature of events\\n-assistant:\\nAnswer :  There are some limitations on the ability of video-EEG monitoring to definitively make a diagnosis of epileptic seizures. Events with subtle, subjective symptoms (eg, simple partial seizures or auras) may involve only a small area of cortex and may not be detected by a surface EEG. Events of this type that are highly stereotyped in nature may still represent epileptic events despite the lack of EEG findings during monitoring. Thrashing motor activity can sometimes obscure the EEG because of motion artifact, but the semiology of these events usually allows for them to be characterized as nonepileptic. Similarly, in the setting of a reassuring EEG, the other options listed above (suggestibility, prolonged alterations in consciousness, lack of sleep-related events) would all be more suggestive of psychogenic nonepileptic events. \\nTherefore, the correct answer is E.###', '-user:\\nQuestion : A 76-year-old man is admitted with a right frontal intracerebral hemorrhage. After some initial improvement in his neurologic status, he has become a bit less responsive. EEG shows fluctuating right greater than left periodic discharges at 1 to 2 Hz without definite evolution. Which of the following is the best next step in management?\\n        A. 0.1 mg/kg IV lorazepam\\n        B. continuous propofol infusion\\n        C. observation with repeat 30-minute EEG in 24 hours\\n        D. oral levetiracetam\\n        E. sequential small doses of midazolam or other IV antiepileptic drug until the EEG pattern resolves\\n-assistant:\\nAnswer :  Nonconvulsive status epilepticus is increasingly being identified as a cause of altered mental status in critically ill patients, including patients with structural brain lesions such as intracerebral hemorrhage. The persistent mental status change is suggestive of nonconvulsive status epilepticus. Initial management consists of sequential administration of low-dose benzodiazepines (preferably short-acting agents, such as midazolam) or IV administration of a relatively nonsedating antiepileptic medication (such as levetiracetam or lacosamide). After initiation of these medications, improvement in the clinical state and EEG is supportive of a diagnosis of nonconvulsive status epilepticus. Initiation of additional antiepileptics should be held until the diagnosis is clearer. \\nTherefore, the correct answer is E.###'], ['-user:\\nQuestion : Approximately what percentage of patients with epilepsy will become seizure free on the initial antiepileptic drug regimen?\\n        A. 10%\\n        B. 40%\\n        C. 60%\\n        D. 80%\\n        E. 95%\\n-assistant:\\nAnswer :  Data suggest that 35% to 40% of patients will be well controlled on the initial antiepileptic drug regimen chosen for them. Once a patient is well controlled, both the patient and physician may be reluctant to make changes in the regimen, even if there is good rationale for making an adjustment. This underscores the importance of making a wise initial choice in an antiepileptic medication because there may be limited ability to make changes in the future. This choice must weigh data on effectiveness, adverse effects, teratogenicity, and patient compliance, among other considerations. \\nTherefore, the correct answer is B.###', '-user:\\nQuestion : Fetal exposure to which of the following medications is most likely to be associated with decreased IQ during childhood?\\n        A. carbamazepine\\n        B. lamotrigine\\n        C. phenytoin\\n        D. topiramate\\n        E. valproate\\n-assistant:\\nAnswer :  Of the options listed above, in utero exposure to valproate is most likely to be associated with a lower childhood IQ. Longitudinal studies have shown no changes with phenytoin, carbamazepine, and lamotrigine, but a lower mean IQ at age 3 was seen with exposure to valproate. This was also shown to have a dose-effect response, with lower IQs observed in children exposed to higher doses of valproate. There is no data on cognitive outcomes in children with in utero exposure to topiramate. Unlike valproate, topiramate does not cause apoptosis in immature brains of animals. \\nTherefore, the correct answer is E.###', '-user:\\nQuestion : In addition to a risk of major congenital malformations, which of the following antiepileptic drugs is also associated with an elevated risk of autism spectrum disorders and lower IQ at age 6?\\n        A. carbamazepine\\n        B. lamotrigine\\n        C. phenobarbital\\n        D. phenytoin\\n        E. valproate\\n-assistant:\\nAnswer :  Women treated with valproate (either monotherapy or in combination with other antiepileptics) are at elevated risk of giving birth to children with major congenital malformations. In addition, of the medications listed above, valproate is also associated with a higher risk of neurodevelopmental effects in children exposed during pregnancy, as measured by lower IQ at age 6 and a higher risk of autism spectrum disorders. \\nTherefore, the correct answer is E.###'], ['-user:\\nQuestion : A 40-year-old woman is admitted to an epilepsy monitoring unit for evaluation of paroxysmal episodes of neurologic dysfunction. Her episodes involve some nonrhythmic shaking of both arms and pelvic thrusting without any correlate on the EEG; psychogenic nonepileptic events are diagnosed. Which of the following characteristics is most associated with a good outcome (ie, resolution of episodes)?\\n        A. episodes with prominent motor features\\n        B. female gender\\n        C. lower educational achievement\\n        D. older age at diagnosis\\n        E. shorter duration of illness\\n-assistant:\\nAnswer :  The description of the events provided above and the lack of EEG findings during her episodes are both suggestive of nonepileptic events. Prognosis after a diagnosis of psychogenic nonepileptic events is variable but may be dependent on certain characteristics. Of the options listed above, a shorter duration of illness (ie, shorter time between the onset of spells and the diagnosis of nonepileptic events) is most predictive of a positive outcome. Some of the other options listed above (older age, prominent/dramatic motor features, lower educational achievement) are associated with a poorer outcome after a diagnosis of nonepileptic events. \\nTherefore, the correct answer is E.###', '-user:\\nQuestion : A 23-year-old man is admitted to the hospital for long-term video-EEG monitoring. He has multiple events while in the hospital, but no clear abnormality is apparent on the EEG. Which of the following characteristics may still support a diagnosis of epileptic seizures as opposed to psychogenic nonepileptic events?\\n        A. ability for events to be induced or suggested\\n        B. high-amplitude, thrashing motor activity\\n        C. lack of events occurring in sleep\\n        D. prolonged alterations in level of alertness\\n        E. stereotyped nature of events\\n-assistant:\\nAnswer :  There are some limitations on the ability of video-EEG monitoring to definitively make a diagnosis of epileptic seizures. Events with subtle, subjective symptoms (eg, simple partial seizures or auras) may involve only a small area of cortex and may not be detected by a surface EEG. Events of this type that are highly stereotyped in nature may still represent epileptic events despite the lack of EEG findings during monitoring. Thrashing motor activity can sometimes obscure the EEG because of motion artifact, but the semiology of these events usually allows for them to be characterized as nonepileptic. Similarly, in the setting of a reassuring EEG, the other options listed above (suggestibility, prolonged alterations in consciousness, lack of sleep-related events) would all be more suggestive of psychogenic nonepileptic events. \\nTherefore, the correct answer is E.###', '-user:\\nQuestion : A 76-year-old man is admitted with a right frontal intracerebral hemorrhage. After some initial improvement in his neurologic status, he has become a bit less responsive. EEG shows fluctuating right greater than left periodic discharges at 1 to 2 Hz without definite evolution. Which of the following is the best next step in management?\\n        A. 0.1 mg/kg IV lorazepam\\n        B. continuous propofol infusion\\n        C. observation with repeat 30-minute EEG in 24 hours\\n        D. oral levetiracetam\\n        E. sequential small doses of midazolam or other IV antiepileptic drug until the EEG pattern resolves\\n-assistant:\\nAnswer :  Nonconvulsive status epilepticus is increasingly being identified as a cause of altered mental status in critically ill patients, including patients with structural brain lesions such as intracerebral hemorrhage. The persistent mental status change is suggestive of nonconvulsive status epilepticus. Initial management consists of sequential administration of low-dose benzodiazepines (preferably short-acting agents, such as midazolam) or IV administration of a relatively nonsedating antiepileptic medication (such as levetiracetam or lacosamide). After initiation of these medications, improvement in the clinical state and EEG is supportive of a diagnosis of nonconvulsive status epilepticus. Initiation of additional antiepileptics should be held until the diagnosis is clearer. \\nTherefore, the correct answer is E.###'], ['-user:\\nQuestion : Deep brain stimulation for drug-resistant epilepsy targets which of the following structures?\\n        A. anterior nucleus of the thalamus\\n        B. centromedian nucleus of the thalamus\\n        C. cingulate gyrus\\n        D. hippocampus\\n        E. internal segment of the globus pallidus\\n-assistant:\\nAnswer :  The anterior nucleus of the thalamus is part of the Papez circuit and is therefore believed to be a relay station for information passing from the amygdala and hippocampus to the cerebral cortex. Data have shown that inhibition of the anterior nucleus may result in prevention or cessation of seizures. \\nTherefore, the correct answer is A.###', '-user:\\nQuestion : According to the International League Against Epilepsy’s 2010 revision of its seizure classification system, which of the following factors is most helpful in initially focusing the scope of diagnostic possibilities for specific electroclinical syndromes?\\n        A. age at onset\\n        B. family seizure history\\n        C. frequency of spells\\n        D. history of toxic exposure\\n        E. severity of the disorder\\n-assistant:\\nAnswer :  While all the other factors mentioned should be part of an initial seizure history, they are not as important in establishing the ultimate diagnosis. \\nTherefore, the correct answer is A.###', '-user:\\nQuestion : Surgery for which of the following types of epilepsy is least likely to result in seizure freedom?\\n        A. epilepsy due to a hemispheric syndrome\\n        B. epilepsy due to neonatal infarct\\n        C. epilepsy due to tumor\\n        D. mesial temporal lobe epilepsy\\n        E. nonlesional neocortical epilepsy\\n-assistant:\\nAnswer :  The best outcomes from epilepsy surgery are for temporal lobectomy for mesial temporal sclerosis, lesional resections, and hemispherectomy, with lower seizure-free rates in patients with nonlesional neocortical resections. \\nTherefore, the correct answer is E.###'], ['-user:\\nQuestion : A 40-year-old woman is admitted to an epilepsy monitoring unit for evaluation of paroxysmal episodes of neurologic dysfunction. Her episodes involve some nonrhythmic shaking of both arms and pelvic thrusting without any correlate on the EEG; psychogenic nonepileptic events are diagnosed. Which of the following characteristics is most associated with a good outcome (ie, resolution of episodes)?\\n        A. episodes with prominent motor features\\n        B. female gender\\n        C. lower educational achievement\\n        D. older age at diagnosis\\n        E. shorter duration of illness\\n-assistant:\\nAnswer :  The description of the events provided above and the lack of EEG findings during her episodes are both suggestive of nonepileptic events. Prognosis after a diagnosis of psychogenic nonepileptic events is variable but may be dependent on certain characteristics. Of the options listed above, a shorter duration of illness (ie, shorter time between the onset of spells and the diagnosis of nonepileptic events) is most predictive of a positive outcome. Some of the other options listed above (older age, prominent/dramatic motor features, lower educational achievement) are associated with a poorer outcome after a diagnosis of nonepileptic events. \\nTherefore, the correct answer is E.###', '-user:\\nQuestion : A 27-year-old woman with longstanding complex partial seizures, well controlled on monotherapy with carbamazepine, is seen in the first trimester of pregnancy. She is concerned about seizures becoming more frequent during pregnancy. Which of the following is the most appropriate counseling of this patient regarding her pregnancy and seizure recurrence?\\n        A. most women experience a decrease in seizure frequency\\n        B. most women experience an increase in seizure frequency\\n        C. most women experience no change in seizure frequency\\n        D. seizures are least likely to occur in the third trimester\\n        E. seizures are more likely to be generalized in nature\\n-assistant:\\nAnswer :  Although the effect of pregnancy on seizure frequency is variable, most women with epilepsy do not experience a significant change in the number or severity of their seizures. Expected physiologic hormonal changes, alterations in sleep and other routines, and other factors can alter the seizure frequency in some cases. Noncompliance can also play a role, since some women will discontinue their medications with the assumption that the teratogenic effects of antiepileptic medications outweigh their potential benefits. \\nTherefore, the correct answer is C.###', '-user:\\nQuestion : A 76-year-old man is admitted with a right frontal intracerebral hemorrhage. After some initial improvement in his neurologic status, he has become a bit less responsive. EEG shows fluctuating right greater than left periodic discharges at 1 to 2 Hz without definite evolution. Which of the following is the best next step in management?\\n        A. 0.1 mg/kg IV lorazepam\\n        B. continuous propofol infusion\\n        C. observation with repeat 30-minute EEG in 24 hours\\n        D. oral levetiracetam\\n        E. sequential small doses of midazolam or other IV antiepileptic drug until the EEG pattern resolves\\n-assistant:\\nAnswer :  Nonconvulsive status epilepticus is increasingly being identified as a cause of altered mental status in critically ill patients, including patients with structural brain lesions such as intracerebral hemorrhage. The persistent mental status change is suggestive of nonconvulsive status epilepticus. Initial management consists of sequential administration of low-dose benzodiazepines (preferably short-acting agents, such as midazolam) or IV administration of a relatively nonsedating antiepileptic medication (such as levetiracetam or lacosamide). After initiation of these medications, improvement in the clinical state and EEG is supportive of a diagnosis of nonconvulsive status epilepticus. Initiation of additional antiepileptics should be held until the diagnosis is clearer. \\nTherefore, the correct answer is E.###'], ['-user:\\nQuestion : According to the International League Against Epilepsy’s 2010 revision of its seizure classification system, which of the following factors is most helpful in initially focusing the scope of diagnostic possibilities for specific electroclinical syndromes?\\n        A. age at onset\\n        B. family seizure history\\n        C. frequency of spells\\n        D. history of toxic exposure\\n        E. severity of the disorder\\n-assistant:\\nAnswer :  While all the other factors mentioned should be part of an initial seizure history, they are not as important in establishing the ultimate diagnosis. \\nTherefore, the correct answer is A.###', '-user:\\nQuestion : A 40-year-old woman is admitted to an epilepsy monitoring unit for evaluation of paroxysmal episodes of neurologic dysfunction. Her episodes involve some nonrhythmic shaking of both arms and pelvic thrusting without any correlate on the EEG; psychogenic nonepileptic events are diagnosed. Which of the following characteristics is most associated with a good outcome (ie, resolution of episodes)?\\n        A. episodes with prominent motor features\\n        B. female gender\\n        C. lower educational achievement\\n        D. older age at diagnosis\\n        E. shorter duration of illness\\n-assistant:\\nAnswer :  The description of the events provided above and the lack of EEG findings during her episodes are both suggestive of nonepileptic events. Prognosis after a diagnosis of psychogenic nonepileptic events is variable but may be dependent on certain characteristics. Of the options listed above, a shorter duration of illness (ie, shorter time between the onset of spells and the diagnosis of nonepileptic events) is most predictive of a positive outcome. Some of the other options listed above (older age, prominent/dramatic motor features, lower educational achievement) are associated with a poorer outcome after a diagnosis of nonepileptic events. \\nTherefore, the correct answer is E.###', '-user:\\nQuestion : In 2010, the International League Against Epilepsy departed from its 1989 classification scheme of epilepsies and revised its seizure classification system. What was the primary goal of this change?\\n        A. advancement of a value system for syndromic severity\\n        B. grouping of patients’ diagnoses in a new classification structure\\n        C. keeping pace with advancing knowledge of epilepsy and seizures\\n        D. linkage of seizure manifestations with a cause\\n        E. modification of billing and coding practices with regard to epilepsy\\n-assistant:\\nAnswer :  While the advancement of a value system for syndromic severity and the modification of billing and coding practices with regard to epilepsy are desired goals, the overarching goal of revising the old classification scheme is to incorporate genetic, neuroimaging, and other new knowledge of epilepsy and seizures into a workable format for correct individual diagnosis. \\nTherefore, the correct answer is C.###'], ['-user:\\nQuestion : According to the International League Against Epilepsy’s 2010 revision of its seizure classification system, which of the following factors is most helpful in initially focusing the scope of diagnostic possibilities for specific electroclinical syndromes?\\n        A. age at onset\\n        B. family seizure history\\n        C. frequency of spells\\n        D. history of toxic exposure\\n        E. severity of the disorder\\n-assistant:\\nAnswer :  While all the other factors mentioned should be part of an initial seizure history, they are not as important in establishing the ultimate diagnosis. \\nTherefore, the correct answer is A.###', '-user:\\nQuestion : Which of the following EEG patterns is rarely seen in normal patients and has a high specificity for temporal lobe epilepsy?\\n        A. 14 and 6 positive spikes\\n        B. diffuse slow activity\\n        C. rhythmic temporal delta\\n        D. triphasic waves\\n        E. wicket spikes\\n-assistant:\\nAnswer :  Of the options listed above, rhythmic temporal delta activity is most suggestive of temporal lobe epilepsy. While sensitivity for this finding is not especially high, it is rarely seen outside of the context of temporal lobe seizures and therefore carries high specificity. Triphasic waves are most commonly seen in patients with metabolic encephalopathy. Diffuse slow activity is seen in patients with traumatic brain injury, subarachnoid hemorrhage, toxic-metabolic encephalopathies, and other processes that affect the brain more diffusely. Wicket spikes and 14 and 6 positive spikes are considered normal EEG variants seen in older adults and adolescents, respectively. \\nTherefore, the correct answer is C.###', '-user:\\nQuestion : Which of the following seizure/epilepsy subtypes appears to respond best to deep brain stimulation techniques?\\n        A. absence seizures\\n        B. frontal lobe epilepsy\\n        C. juvenile myoclonic epilepsy\\n        D. Lennox-Gastaut syndrome\\n        E. temporal lobe epilepsy\\n-assistant:\\nAnswer :  In pivotal studies of deep brain stimulation of the anterior nucleus of the thalamus, patients with temporal lobe epilepsy responded best to this treatment approach. Patients with this form of epilepsy had a 44% reduction in seizures (compared to 22% in controls); patients with seizures originating from other lobes had no significant effect from this procedure. One possible explanation for this finding is the connection between the hippocampus and the anterior nucleus as part of the Papez circuit. \\nTherefore, the correct answer is E.###'], ['-user:\\nQuestion : A 40-year-old woman is admitted to an epilepsy monitoring unit for evaluation of paroxysmal episodes of neurologic dysfunction. Her episodes involve some nonrhythmic shaking of both arms and pelvic thrusting without any correlate on the EEG; psychogenic nonepileptic events are diagnosed. Which of the following characteristics is most associated with a good outcome (ie, resolution of episodes)?\\n        A. episodes with prominent motor features\\n        B. female gender\\n        C. lower educational achievement\\n        D. older age at diagnosis\\n        E. shorter duration of illness\\n-assistant:\\nAnswer :  The description of the events provided above and the lack of EEG findings during her episodes are both suggestive of nonepileptic events. Prognosis after a diagnosis of psychogenic nonepileptic events is variable but may be dependent on certain characteristics. Of the options listed above, a shorter duration of illness (ie, shorter time between the onset of spells and the diagnosis of nonepileptic events) is most predictive of a positive outcome. Some of the other options listed above (older age, prominent/dramatic motor features, lower educational achievement) are associated with a poorer outcome after a diagnosis of nonepileptic events. \\nTherefore, the correct answer is E.###', '-user:\\nQuestion : A 27-year-old woman with longstanding complex partial seizures, well controlled on monotherapy with carbamazepine, is seen in the first trimester of pregnancy. She is concerned about seizures becoming more frequent during pregnancy. Which of the following is the most appropriate counseling of this patient regarding her pregnancy and seizure recurrence?\\n        A. most women experience a decrease in seizure frequency\\n        B. most women experience an increase in seizure frequency\\n        C. most women experience no change in seizure frequency\\n        D. seizures are least likely to occur in the third trimester\\n        E. seizures are more likely to be generalized in nature\\n-assistant:\\nAnswer :  Although the effect of pregnancy on seizure frequency is variable, most women with epilepsy do not experience a significant change in the number or severity of their seizures. Expected physiologic hormonal changes, alterations in sleep and other routines, and other factors can alter the seizure frequency in some cases. Noncompliance can also play a role, since some women will discontinue their medications with the assumption that the teratogenic effects of antiepileptic medications outweigh their potential benefits. \\nTherefore, the correct answer is C.###', '-user:\\nQuestion : A 76-year-old man is admitted with a right frontal intracerebral hemorrhage. After some initial improvement in his neurologic status, he has become a bit less responsive. EEG shows fluctuating right greater than left periodic discharges at 1 to 2 Hz without definite evolution. Which of the following is the best next step in management?\\n        A. 0.1 mg/kg IV lorazepam\\n        B. continuous propofol infusion\\n        C. observation with repeat 30-minute EEG in 24 hours\\n        D. oral levetiracetam\\n        E. sequential small doses of midazolam or other IV antiepileptic drug until the EEG pattern resolves\\n-assistant:\\nAnswer :  Nonconvulsive status epilepticus is increasingly being identified as a cause of altered mental status in critically ill patients, including patients with structural brain lesions such as intracerebral hemorrhage. The persistent mental status change is suggestive of nonconvulsive status epilepticus. Initial management consists of sequential administration of low-dose benzodiazepines (preferably short-acting agents, such as midazolam) or IV administration of a relatively nonsedating antiepileptic medication (such as levetiracetam or lacosamide). After initiation of these medications, improvement in the clinical state and EEG is supportive of a diagnosis of nonconvulsive status epilepticus. Initiation of additional antiepileptics should be held until the diagnosis is clearer. \\nTherefore, the correct answer is E.###'], ['-user:\\nQuestion : According to the International League Against Epilepsy’s 2010 revision of its seizure classification system, which of the following factors is most helpful in initially focusing the scope of diagnostic possibilities for specific electroclinical syndromes?\\n        A. age at onset\\n        B. family seizure history\\n        C. frequency of spells\\n        D. history of toxic exposure\\n        E. severity of the disorder\\n-assistant:\\nAnswer :  While all the other factors mentioned should be part of an initial seizure history, they are not as important in establishing the ultimate diagnosis. \\nTherefore, the correct answer is A.###', '-user:\\nQuestion : Which of the following best describes the relationship between vagus nerve stimulation and risk of bradycardia?\\n        A. can be seen with stimulation of either nerve\\n        B. higher risk with left nerve stimulation\\n        C. lowest risk seen with bilateral stimulation\\n        D. no risk with left nerve stimulation\\n        E. no risk with right nerve stimulation\\n-assistant:\\nAnswer :  Efferent fibers of the vagus nerve originating from the nucleus ambiguous include cardiac branches that help control heart rhythms. Since fibers originating from the right vagus nerve primarily innervate the sinoatrial node, it was thought that right nerve stimulation (or bilateral stimulation) may be most likely to cause bradycardia. However, at certain stimulator settings, even stimulation of the left vagus nerve (which primarily innervates the atrioventricular node) may precipitate bradycardia. Neurologists involved in programming stimulators should be aware that bradycardia can be a risk with stimulation of either nerve. \\nTherefore, the correct answer is A.###', '-user:\\nQuestion : A 76-year-old man is admitted with a right frontal intracerebral hemorrhage. After some initial improvement in his neurologic status, he has become a bit less responsive. EEG shows fluctuating right greater than left periodic discharges at 1 to 2 Hz without definite evolution. Which of the following is the best next step in management?\\n        A. 0.1 mg/kg IV lorazepam\\n        B. continuous propofol infusion\\n        C. observation with repeat 30-minute EEG in 24 hours\\n        D. oral levetiracetam\\n        E. sequential small doses of midazolam or other IV antiepileptic drug until the EEG pattern resolves\\n-assistant:\\nAnswer :  Nonconvulsive status epilepticus is increasingly being identified as a cause of altered mental status in critically ill patients, including patients with structural brain lesions such as intracerebral hemorrhage. The persistent mental status change is suggestive of nonconvulsive status epilepticus. Initial management consists of sequential administration of low-dose benzodiazepines (preferably short-acting agents, such as midazolam) or IV administration of a relatively nonsedating antiepileptic medication (such as levetiracetam or lacosamide). After initiation of these medications, improvement in the clinical state and EEG is supportive of a diagnosis of nonconvulsive status epilepticus. Initiation of additional antiepileptics should be held until the diagnosis is clearer. \\nTherefore, the correct answer is E.###'], ['-user:\\nQuestion : According to the International League Against Epilepsy’s 2010 revision of its seizure classification system, which of the following factors is most helpful in initially focusing the scope of diagnostic possibilities for specific electroclinical syndromes?\\n        A. age at onset\\n        B. family seizure history\\n        C. frequency of spells\\n        D. history of toxic exposure\\n        E. severity of the disorder\\n-assistant:\\nAnswer :  While all the other factors mentioned should be part of an initial seizure history, they are not as important in establishing the ultimate diagnosis. \\nTherefore, the correct answer is A.###', '-user:\\nQuestion : Which of the following antiepileptic drug combinations is most likely to result in symptoms of diplopia and dizziness?\\n        A. phenobarbital and valproate\\n        B. phenytoin and carbamazepine\\n        C. phenytoin and gabapentin\\n        D. topiramate and carbamazepine\\n        E. valproate and lamotrigine\\n-assistant:\\nAnswer :  The combination of phenytoin and carbamazepine frequently results in the adverse effects of dizziness and diplopia. In addition, both medications have enzyme-inducing properties, resulting in complex pharmacologic interactions and difficulty maintaining therapeutic levels. Phenobarbital and valproate have a higher likelihood of resulting in weight gain. Combining valproate and lamotrigine may increase the risk of Stevens-Johnson syndrome, so dosing adjustments need to be made carefully. \\nTherefore, the correct answer is B.###', '-user:\\nQuestion : A 30-year-old man who has had focal epilepsy for 15 years still experiences four to five episodes per month despite medication. He takes two anticonvulsants; his current medications are the ninth and tenth drugs he has tried. Repeated EEGs have shown a right temporal focus. He is on disability and lives with his parents. What is the next best step in management of this patient?\\n        A. addition of a third antiepileptic drug to his current regimen\\n        B. substitution of a new drug for one of his current antiepileptic drugs\\n        C. surgical evaluation\\n        D. transcranial magnetic stimulation\\n        E. vagus nerve stimulator trial\\n-assistant:\\nAnswer :  Failure to respond adequately to proper trials of two anticonvulsants and presence of focal epilepsy should lead to a surgical evaluation. Vagus nerve stimulation is much less effective than surgery in this setting. \\nTherefore, the correct answer is C.###'], ['-user:\\nQuestion : A 40-year-old woman is admitted to an epilepsy monitoring unit for evaluation of paroxysmal episodes of neurologic dysfunction. Her episodes involve some nonrhythmic shaking of both arms and pelvic thrusting without any correlate on the EEG; psychogenic nonepileptic events are diagnosed. Which of the following characteristics is most associated with a good outcome (ie, resolution of episodes)?\\n        A. episodes with prominent motor features\\n        B. female gender\\n        C. lower educational achievement\\n        D. older age at diagnosis\\n        E. shorter duration of illness\\n-assistant:\\nAnswer :  The description of the events provided above and the lack of EEG findings during her episodes are both suggestive of nonepileptic events. Prognosis after a diagnosis of psychogenic nonepileptic events is variable but may be dependent on certain characteristics. Of the options listed above, a shorter duration of illness (ie, shorter time between the onset of spells and the diagnosis of nonepileptic events) is most predictive of a positive outcome. Some of the other options listed above (older age, prominent/dramatic motor features, lower educational achievement) are associated with a poorer outcome after a diagnosis of nonepileptic events. \\nTherefore, the correct answer is E.###', '-user:\\nQuestion : A 27-year-old woman with longstanding complex partial seizures, well controlled on monotherapy with carbamazepine, is seen in the first trimester of pregnancy. She is concerned about seizures becoming more frequent during pregnancy. Which of the following is the most appropriate counseling of this patient regarding her pregnancy and seizure recurrence?\\n        A. most women experience a decrease in seizure frequency\\n        B. most women experience an increase in seizure frequency\\n        C. most women experience no change in seizure frequency\\n        D. seizures are least likely to occur in the third trimester\\n        E. seizures are more likely to be generalized in nature\\n-assistant:\\nAnswer :  Although the effect of pregnancy on seizure frequency is variable, most women with epilepsy do not experience a significant change in the number or severity of their seizures. Expected physiologic hormonal changes, alterations in sleep and other routines, and other factors can alter the seizure frequency in some cases. Noncompliance can also play a role, since some women will discontinue their medications with the assumption that the teratogenic effects of antiepileptic medications outweigh their potential benefits. \\nTherefore, the correct answer is C.###', '-user:\\nQuestion : A 76-year-old man is admitted with a right frontal intracerebral hemorrhage. After some initial improvement in his neurologic status, he has become a bit less responsive. EEG shows fluctuating right greater than left periodic discharges at 1 to 2 Hz without definite evolution. Which of the following is the best next step in management?\\n        A. 0.1 mg/kg IV lorazepam\\n        B. continuous propofol infusion\\n        C. observation with repeat 30-minute EEG in 24 hours\\n        D. oral levetiracetam\\n        E. sequential small doses of midazolam or other IV antiepileptic drug until the EEG pattern resolves\\n-assistant:\\nAnswer :  Nonconvulsive status epilepticus is increasingly being identified as a cause of altered mental status in critically ill patients, including patients with structural brain lesions such as intracerebral hemorrhage. The persistent mental status change is suggestive of nonconvulsive status epilepticus. Initial management consists of sequential administration of low-dose benzodiazepines (preferably short-acting agents, such as midazolam) or IV administration of a relatively nonsedating antiepileptic medication (such as levetiracetam or lacosamide). After initiation of these medications, improvement in the clinical state and EEG is supportive of a diagnosis of nonconvulsive status epilepticus. Initiation of additional antiepileptics should be held until the diagnosis is clearer. \\nTherefore, the correct answer is E.###'], ['-user:\\nQuestion : A 40-year-old woman is admitted to an epilepsy monitoring unit for evaluation of paroxysmal episodes of neurologic dysfunction. Her episodes involve some nonrhythmic shaking of both arms and pelvic thrusting without any correlate on the EEG; psychogenic nonepileptic events are diagnosed. Which of the following characteristics is most associated with a good outcome (ie, resolution of episodes)?\\n        A. episodes with prominent motor features\\n        B. female gender\\n        C. lower educational achievement\\n        D. older age at diagnosis\\n        E. shorter duration of illness\\n-assistant:\\nAnswer :  The description of the events provided above and the lack of EEG findings during her episodes are both suggestive of nonepileptic events. Prognosis after a diagnosis of psychogenic nonepileptic events is variable but may be dependent on certain characteristics. Of the options listed above, a shorter duration of illness (ie, shorter time between the onset of spells and the diagnosis of nonepileptic events) is most predictive of a positive outcome. Some of the other options listed above (older age, prominent/dramatic motor features, lower educational achievement) are associated with a poorer outcome after a diagnosis of nonepileptic events. \\nTherefore, the correct answer is E.###', '-user:\\nQuestion : A 27-year-old woman with longstanding complex partial seizures, well controlled on monotherapy with carbamazepine, is seen in the first trimester of pregnancy. She is concerned about seizures becoming more frequent during pregnancy. Which of the following is the most appropriate counseling of this patient regarding her pregnancy and seizure recurrence?\\n        A. most women experience a decrease in seizure frequency\\n        B. most women experience an increase in seizure frequency\\n        C. most women experience no change in seizure frequency\\n        D. seizures are least likely to occur in the third trimester\\n        E. seizures are more likely to be generalized in nature\\n-assistant:\\nAnswer :  Although the effect of pregnancy on seizure frequency is variable, most women with epilepsy do not experience a significant change in the number or severity of their seizures. Expected physiologic hormonal changes, alterations in sleep and other routines, and other factors can alter the seizure frequency in some cases. Noncompliance can also play a role, since some women will discontinue their medications with the assumption that the teratogenic effects of antiepileptic medications outweigh their potential benefits. \\nTherefore, the correct answer is C.###', '-user:\\nQuestion : A 76-year-old man is admitted with a right frontal intracerebral hemorrhage. After some initial improvement in his neurologic status, he has become a bit less responsive. EEG shows fluctuating right greater than left periodic discharges at 1 to 2 Hz without definite evolution. Which of the following is the best next step in management?\\n        A. 0.1 mg/kg IV lorazepam\\n        B. continuous propofol infusion\\n        C. observation with repeat 30-minute EEG in 24 hours\\n        D. oral levetiracetam\\n        E. sequential small doses of midazolam or other IV antiepileptic drug until the EEG pattern resolves\\n-assistant:\\nAnswer :  Nonconvulsive status epilepticus is increasingly being identified as a cause of altered mental status in critically ill patients, including patients with structural brain lesions such as intracerebral hemorrhage. The persistent mental status change is suggestive of nonconvulsive status epilepticus. Initial management consists of sequential administration of low-dose benzodiazepines (preferably short-acting agents, such as midazolam) or IV administration of a relatively nonsedating antiepileptic medication (such as levetiracetam or lacosamide). After initiation of these medications, improvement in the clinical state and EEG is supportive of a diagnosis of nonconvulsive status epilepticus. Initiation of additional antiepileptics should be held until the diagnosis is clearer. \\nTherefore, the correct answer is E.###'], ['-user:\\nQuestion : A 63-year-old woman is hospitalized with herpes simplex virus encephalitis. Which of the following EEG patterns is most likely to be seen in this patient?\\n        A. burst suppression\\n        B. generalized periodic discharges\\n        C. periodic lateralizing discharges\\n        D. small sharp spikes\\n        E. stimulus-induced, rhythmic, periodic, or ictal discharges\\n-assistant:\\nAnswer :  Periodic lateralizing discharges are EEG abnormalities commonly seen in certain scenarios, including herpes encephalitis. Other conditions in which periodic lateralizing discharges are seen include focal brain lesions, nonketotic hyperglycemia, alcohol withdrawal, and theophylline exposure. Generalized periodic discharges are more commonly seen in anoxic brain injury, Creutzfeldt-Jakob disease, and other diffuse processes. Stimulus-induced, rhythmic, periodic, or ictal discharges (SIRPIDs) are most commonly seen in critically ill patients, even those without neurologic illness. Burst suppression is typically seen in anoxic encephalopathy or in the setting of certain medications (eg, propofol, barbiturates). \\nTherefore, the correct answer is C.###', '-user:\\nQuestion : A 40-year-old woman is admitted to an epilepsy monitoring unit for evaluation of paroxysmal episodes of neurologic dysfunction. Her episodes involve some nonrhythmic shaking of both arms and pelvic thrusting without any correlate on the EEG; psychogenic nonepileptic events are diagnosed. Which of the following characteristics is most associated with a good outcome (ie, resolution of episodes)?\\n        A. episodes with prominent motor features\\n        B. female gender\\n        C. lower educational achievement\\n        D. older age at diagnosis\\n        E. shorter duration of illness\\n-assistant:\\nAnswer :  The description of the events provided above and the lack of EEG findings during her episodes are both suggestive of nonepileptic events. Prognosis after a diagnosis of psychogenic nonepileptic events is variable but may be dependent on certain characteristics. Of the options listed above, a shorter duration of illness (ie, shorter time between the onset of spells and the diagnosis of nonepileptic events) is most predictive of a positive outcome. Some of the other options listed above (older age, prominent/dramatic motor features, lower educational achievement) are associated with a poorer outcome after a diagnosis of nonepileptic events. \\nTherefore, the correct answer is E.###', '-user:\\nQuestion : A 76-year-old man is admitted with a right frontal intracerebral hemorrhage. After some initial improvement in his neurologic status, he has become a bit less responsive. EEG shows fluctuating right greater than left periodic discharges at 1 to 2 Hz without definite evolution. Which of the following is the best next step in management?\\n        A. 0.1 mg/kg IV lorazepam\\n        B. continuous propofol infusion\\n        C. observation with repeat 30-minute EEG in 24 hours\\n        D. oral levetiracetam\\n        E. sequential small doses of midazolam or other IV antiepileptic drug until the EEG pattern resolves\\n-assistant:\\nAnswer :  Nonconvulsive status epilepticus is increasingly being identified as a cause of altered mental status in critically ill patients, including patients with structural brain lesions such as intracerebral hemorrhage. The persistent mental status change is suggestive of nonconvulsive status epilepticus. Initial management consists of sequential administration of low-dose benzodiazepines (preferably short-acting agents, such as midazolam) or IV administration of a relatively nonsedating antiepileptic medication (such as levetiracetam or lacosamide). After initiation of these medications, improvement in the clinical state and EEG is supportive of a diagnosis of nonconvulsive status epilepticus. Initiation of additional antiepileptics should be held until the diagnosis is clearer. \\nTherefore, the correct answer is E.###'], ['-user:\\nQuestion : Deep brain stimulation for drug-resistant epilepsy targets which of the following structures?\\n        A. anterior nucleus of the thalamus\\n        B. centromedian nucleus of the thalamus\\n        C. cingulate gyrus\\n        D. hippocampus\\n        E. internal segment of the globus pallidus\\n-assistant:\\nAnswer :  The anterior nucleus of the thalamus is part of the Papez circuit and is therefore believed to be a relay station for information passing from the amygdala and hippocampus to the cerebral cortex. Data have shown that inhibition of the anterior nucleus may result in prevention or cessation of seizures. \\nTherefore, the correct answer is A.###', '-user:\\nQuestion : Surgery for which of the following types of epilepsy is least likely to result in seizure freedom?\\n        A. epilepsy due to a hemispheric syndrome\\n        B. epilepsy due to neonatal infarct\\n        C. epilepsy due to tumor\\n        D. mesial temporal lobe epilepsy\\n        E. nonlesional neocortical epilepsy\\n-assistant:\\nAnswer :  The best outcomes from epilepsy surgery are for temporal lobectomy for mesial temporal sclerosis, lesional resections, and hemispherectomy, with lower seizure-free rates in patients with nonlesional neocortical resections. \\nTherefore, the correct answer is E.###', '-user:\\nQuestion : Which of the following seizure/epilepsy subtypes appears to respond best to deep brain stimulation techniques?\\n        A. absence seizures\\n        B. frontal lobe epilepsy\\n        C. juvenile myoclonic epilepsy\\n        D. Lennox-Gastaut syndrome\\n        E. temporal lobe epilepsy\\n-assistant:\\nAnswer :  In pivotal studies of deep brain stimulation of the anterior nucleus of the thalamus, patients with temporal lobe epilepsy responded best to this treatment approach. Patients with this form of epilepsy had a 44% reduction in seizures (compared to 22% in controls); patients with seizures originating from other lobes had no significant effect from this procedure. One possible explanation for this finding is the connection between the hippocampus and the anterior nucleus as part of the Papez circuit. \\nTherefore, the correct answer is E.###'], ['-user:\\nQuestion : A 60-year-old woman develops generalized seizure activity lasting 10 minutes; seizure activity appears to arrest after administration of 4 mg of IV lorazepam. She has chronic kidney disease but is otherwise in good health. Which of the following is the best next pharmacological step in management?\\n        A. continuous midazolam infusion\\n        B. continuous propofol infusion\\n        C. IV fosphenytoin\\n        D. IV ketamine\\n        E. IV phenobarbital\\n-assistant:\\nAnswer :  Regardless of whether prolonged seizure activity stops after the administration of an appropriate dose of a benzodiazepine, rapid administration of a longer-acting anticonvulsant is generally recommended. This allows for prevention of additional seizures as the effect of the benzodiazepine wears off over the course of several hours. Of the options listed, fosphenytoin is the preferred option. A continuous infusion of propofol or midazolam is not indicated in this setting unless clinical or EEG evidence of ongoing seizures (ie, refractory status epilepticus) exists. If the patient does not wake up rapidly, an urgent EEG should be obtained. \\nTherefore, the correct answer is C.###', '-user:\\nQuestion : A 27-year-old woman is seen in clinic for ongoing management of her juvenile myoclonic epilepsy. Her seizures have been well controlled on lamotrigine, with no seizures in the past 2 years. She does report some symptoms of depression, as well as anticipatory anxiety regarding the possibility of future seizures. Which of the following options is the best next step in management?\\n        A. bupropion\\n        B. citalopram\\n        C. nortriptyline\\n        D. taper off lamotrigine and begin levetiracetam\\n        E. venlafaxine\\n-assistant:\\nAnswer :  This patient is reporting symptoms of depression and anxiety, both of which are common in patients with epilepsy. In patients requiring pharmacotherapy for these symptoms, selective serotonin reuptake inhibitors (SSRIs) such as citalopram are considered first-line treatments because of lower likelihood of additional side effects and minimal drug-drug interactions. Venlafaxine is another option if an SSRI is not tolerated, and tricyclic antidepressants (such as nortriptyline) could be considered if neither of these first two agents is successful. Lamotrigine is not commonly associated with depression and is often used as a mood stabilizer; it is unlikely to be the cause of these symptoms in this patient and should not be changed to levetiracetam. Bupropion is associated with a higher risk of seizures and should not be used. \\nTherefore, the correct answer is B.###', '-user:\\nQuestion : A 33-year-old man with known epilepsy is seen in the emergency department after a seizure with an associated fall. IV access is obtained. He is initially at his baseline neurologic status but then develops generalized seizure activity that has lasted 5 minutes. Which of the following is the most appropriate next step in management?\\n        A. buccal midazolam\\n        B. IV diazepam\\n        C. IV fosphenytoin\\n        D. IV lorazepam\\n        E. rectal diazepam\\n-assistant:\\nAnswer :  This patient with underlying epilepsy has had continuous seizure activity for at least 5 minutes and meets criteria for status epilepticus. In patients with IV access, IV lorazepam is considered the initial treatment of choice. It has been shown to be more effective than IV diazepam or phenytoin. In patients without IV access, administration of rectal diazepam or buccal midazolam can be considered. \\nTherefore, the correct answer is D.###'], ['-user:\\nQuestion : A 30-year-old man who has had focal epilepsy for 15 years still experiences four to five episodes per month despite medication. He takes two anticonvulsants; his current medications are the ninth and tenth drugs he has tried. Repeated EEGs have shown a right temporal focus. He is on disability and lives with his parents. What is the next best step in management of this patient?\\n        A. addition of a third antiepileptic drug to his current regimen\\n        B. substitution of a new drug for one of his current antiepileptic drugs\\n        C. surgical evaluation\\n        D. transcranial magnetic stimulation\\n        E. vagus nerve stimulator trial\\n-assistant:\\nAnswer :  Failure to respond adequately to proper trials of two anticonvulsants and presence of focal epilepsy should lead to a surgical evaluation. Vagus nerve stimulation is much less effective than surgery in this setting. \\nTherefore, the correct answer is C.###', '-user:\\nQuestion : A 76-year-old man is admitted with a right frontal intracerebral hemorrhage. After some initial improvement in his neurologic status, he has become a bit less responsive. EEG shows fluctuating right greater than left periodic discharges at 1 to 2 Hz without definite evolution. Which of the following is the best next step in management?\\n        A. 0.1 mg/kg IV lorazepam\\n        B. continuous propofol infusion\\n        C. observation with repeat 30-minute EEG in 24 hours\\n        D. oral levetiracetam\\n        E. sequential small doses of midazolam or other IV antiepileptic drug until the EEG pattern resolves\\n-assistant:\\nAnswer :  Nonconvulsive status epilepticus is increasingly being identified as a cause of altered mental status in critically ill patients, including patients with structural brain lesions such as intracerebral hemorrhage. The persistent mental status change is suggestive of nonconvulsive status epilepticus. Initial management consists of sequential administration of low-dose benzodiazepines (preferably short-acting agents, such as midazolam) or IV administration of a relatively nonsedating antiepileptic medication (such as levetiracetam or lacosamide). After initiation of these medications, improvement in the clinical state and EEG is supportive of a diagnosis of nonconvulsive status epilepticus. Initiation of additional antiepileptics should be held until the diagnosis is clearer. \\nTherefore, the correct answer is E.###', '-user:\\nQuestion : A 25-year-old man with a 10-year history of medically intractable focal epilepsy undergoes an evaluation for possible epilepsy surgery. His clinical symptoms and EEG findings suggest a left mesial temporal focus. Which of the following MRI sequences is most sensitive for diagnosing hippocampal sclerosis in this patient?\\n        A. diffusion-weighted images\\n        B. fluid-attenuated inversion recovery (FLAIR)\\n        C. gadolinium-enhanced T1\\n        D. gradient echo\\n        E. T1 without contrast\\n-assistant:\\nAnswer :  Both routine T2-weighted images and FLAIR images are useful, with FLAIR images being the most sensitive, for the demonstration of the abnormalities associated with hippocampal sclerosis defined on histopathologic examination. \\nTherefore, the correct answer is B.###'], ['-user:\\nQuestion : Which of the following conditions would likely preclude the consideration of epilepsy surgery in a patient?\\n        A. dominant hemisphere focus\\n        B. low-grade tumor\\n        C. mental retardation\\n        D. primary generalized epilepsy\\n        E. prior vagus nerve stimulator use\\n-assistant:\\nAnswer :  Patients who are typically not surgical candidates include those with clear evidence of bilateral onset of habitual seizures, those with severe psychiatric or medical comorbidities increasing surgical risk or compromising recovery, those with rapidly progressive CNS disease, and those with primary generalized epilepsy. \\nTherefore, the correct answer is D.###', '-user:\\nQuestion : A patient with which of the following conditions should not be placed on a ketogenic diet?\\n        A. diabetes\\n        B. hyperlipidemia\\n        C. obesity\\n        D. pancreatitis\\n        E. Rett syndrome\\n-assistant:\\nAnswer :  Ketogenic diets are contraindicated in patients with pancreatitis, hepatic failure, primary carnitine deficiency, carnitine palmitoyl transferase I and II deficiency, carnitine translocase deficiency, beta-oxidation defects, pyruvate carboxylase deficiency, and porphyria. In the intensive care setting where diet therapy is being considered for treatment of refractory status epilepticus, the ketogenic diet is also contraindicated in patients who cannot tolerate enteral feeds, including those with ileus, who are receiving a propofol infusion (to avoid fatal propofol infusion syndrome), and in patients who have metabolic, hemodynamic, or cardiorespiratory instability. \\nTherefore, the correct answer is D.###', '-user:\\nQuestion : Which of the following is the most common side effect seen after placement of a vagus nerve stimulator?\\n        A. bradycardia\\n        B. device infection\\n        C. excessive cough\\n        D. vocal cord paralysis\\n        E. voice alteration/hoarseness\\n-assistant:\\nAnswer :  After placement of a vagus nerve stimulator, alteration of voice quality (including hoarseness) and excessive coughing are the most common side effects, seen in one study in about 66% and 45% of patients respectively. The other choices listed above are possible adverse effects of this procedure but are seen much less commonly. \\nTherefore, the correct answer is E.###'], ['-user:\\nQuestion : A 63-year-old woman is hospitalized with herpes simplex virus encephalitis. Which of the following EEG patterns is most likely to be seen in this patient?\\n        A. burst suppression\\n        B. generalized periodic discharges\\n        C. periodic lateralizing discharges\\n        D. small sharp spikes\\n        E. stimulus-induced, rhythmic, periodic, or ictal discharges\\n-assistant:\\nAnswer :  Periodic lateralizing discharges are EEG abnormalities commonly seen in certain scenarios, including herpes encephalitis. Other conditions in which periodic lateralizing discharges are seen include focal brain lesions, nonketotic hyperglycemia, alcohol withdrawal, and theophylline exposure. Generalized periodic discharges are more commonly seen in anoxic brain injury, Creutzfeldt-Jakob disease, and other diffuse processes. Stimulus-induced, rhythmic, periodic, or ictal discharges (SIRPIDs) are most commonly seen in critically ill patients, even those without neurologic illness. Burst suppression is typically seen in anoxic encephalopathy or in the setting of certain medications (eg, propofol, barbiturates). \\nTherefore, the correct answer is C.###', '-user:\\nQuestion : Which of the following EEG patterns is rarely seen in normal patients and has a high specificity for temporal lobe epilepsy?\\n        A. 14 and 6 positive spikes\\n        B. diffuse slow activity\\n        C. rhythmic temporal delta\\n        D. triphasic waves\\n        E. wicket spikes\\n-assistant:\\nAnswer :  Of the options listed above, rhythmic temporal delta activity is most suggestive of temporal lobe epilepsy. While sensitivity for this finding is not especially high, it is rarely seen outside of the context of temporal lobe seizures and therefore carries high specificity. Triphasic waves are most commonly seen in patients with metabolic encephalopathy. Diffuse slow activity is seen in patients with traumatic brain injury, subarachnoid hemorrhage, toxic-metabolic encephalopathies, and other processes that affect the brain more diffusely. Wicket spikes and 14 and 6 positive spikes are considered normal EEG variants seen in older adults and adolescents, respectively. \\nTherefore, the correct answer is C.###', '-user:\\nQuestion : A 40-year-old woman is admitted to an epilepsy monitoring unit for evaluation of paroxysmal episodes of neurologic dysfunction. Her episodes involve some nonrhythmic shaking of both arms and pelvic thrusting without any correlate on the EEG; psychogenic nonepileptic events are diagnosed. Which of the following characteristics is most associated with a good outcome (ie, resolution of episodes)?\\n        A. episodes with prominent motor features\\n        B. female gender\\n        C. lower educational achievement\\n        D. older age at diagnosis\\n        E. shorter duration of illness\\n-assistant:\\nAnswer :  The description of the events provided above and the lack of EEG findings during her episodes are both suggestive of nonepileptic events. Prognosis after a diagnosis of psychogenic nonepileptic events is variable but may be dependent on certain characteristics. Of the options listed above, a shorter duration of illness (ie, shorter time between the onset of spells and the diagnosis of nonepileptic events) is most predictive of a positive outcome. Some of the other options listed above (older age, prominent/dramatic motor features, lower educational achievement) are associated with a poorer outcome after a diagnosis of nonepileptic events. \\nTherefore, the correct answer is E.###'], ['-user:\\nQuestion : Which of the following is the major role of the neurologist after a diagnosis of psychogenic nonepileptic events?\\n        A. appropriately weaning antiepileptic drugs\\n        B. describing events in ambiguous terms\\n        C. ensuring that patients continue to refrain from driving a motor vehicle\\n        D. ordering follow-up EEG in 6 to 12 months\\n        E. prescribing a selective serotonin reuptake inhibitor or other antidepressant\\n-assistant:\\nAnswer :  After a diagnosis of psychogenic nonepileptic attacks, one of the major roles of the neurologist is the rational weaning of antiepileptic medications. This should be done with the caveat that coexistent epilepsy may also be present, so the physician needs to keep an open mind regarding new events (although routine surveillance EEGs are not necessarily indicated). Driving restrictions should be handled on an individual case basis, although most patients can return to driving with little chance of injury. Neurologists should use unambiguous terms when describing the diagnosis to the patient and other providers so that the misdiagnosis of epilepsy is not perpetuated. While mental health care is often needed, the routine prescription of antidepressants is not always indicated. \\nTherefore, the correct answer is A.###', '-user:\\nQuestion : According to the International League Against Epilepsy’s 2010 revision of its seizure classification system, which of the following factors is most helpful in initially focusing the scope of diagnostic possibilities for specific electroclinical syndromes?\\n        A. age at onset\\n        B. family seizure history\\n        C. frequency of spells\\n        D. history of toxic exposure\\n        E. severity of the disorder\\n-assistant:\\nAnswer :  While all the other factors mentioned should be part of an initial seizure history, they are not as important in establishing the ultimate diagnosis. \\nTherefore, the correct answer is A.###', '-user:\\nQuestion : A 30-year-old man who has had focal epilepsy for 15 years still experiences four to five episodes per month despite medication. He takes two anticonvulsants; his current medications are the ninth and tenth drugs he has tried. Repeated EEGs have shown a right temporal focus. He is on disability and lives with his parents. What is the next best step in management of this patient?\\n        A. addition of a third antiepileptic drug to his current regimen\\n        B. substitution of a new drug for one of his current antiepileptic drugs\\n        C. surgical evaluation\\n        D. transcranial magnetic stimulation\\n        E. vagus nerve stimulator trial\\n-assistant:\\nAnswer :  Failure to respond adequately to proper trials of two anticonvulsants and presence of focal epilepsy should lead to a surgical evaluation. Vagus nerve stimulation is much less effective than surgery in this setting. \\nTherefore, the correct answer is C.###'], ['-user:\\nQuestion : According to the International League Against Epilepsy’s 2010 revision of its seizure classification system, which of the following factors is most helpful in initially focusing the scope of diagnostic possibilities for specific electroclinical syndromes?\\n        A. age at onset\\n        B. family seizure history\\n        C. frequency of spells\\n        D. history of toxic exposure\\n        E. severity of the disorder\\n-assistant:\\nAnswer :  While all the other factors mentioned should be part of an initial seizure history, they are not as important in establishing the ultimate diagnosis. \\nTherefore, the correct answer is A.###', '-user:\\nQuestion : Which of the following conditions would likely preclude the consideration of epilepsy surgery in a patient?\\n        A. dominant hemisphere focus\\n        B. low-grade tumor\\n        C. mental retardation\\n        D. primary generalized epilepsy\\n        E. prior vagus nerve stimulator use\\n-assistant:\\nAnswer :  Patients who are typically not surgical candidates include those with clear evidence of bilateral onset of habitual seizures, those with severe psychiatric or medical comorbidities increasing surgical risk or compromising recovery, those with rapidly progressive CNS disease, and those with primary generalized epilepsy. \\nTherefore, the correct answer is D.###', '-user:\\nQuestion : Which of the following clinical characteristics is associated with an increased risk of suicidal ideation in patients with epilepsy?\\n        A. coexistent depression\\n        B. higher frequency of seizures\\n        C. lower reported quality of life\\n        D. male sex\\n        E. partial-onset seizures\\n-assistant:\\nAnswer :  Among many potential predictors, only the presence of a coexisting mood disorder such as major depression is associated with a higher incidence of suicidal ideation in epilepsy patients. Other characteristics, including age, sex, seizure type, seizure control, duration of epilepsy, and lower quality of life, have not been associated with a higher risk of suicide. Because of this, routine screening for depression and suicidality in patients with epilepsy is recommended. \\nTherefore, the correct answer is A.###'], ['-user:\\nQuestion : Which of the following conditions would likely preclude the consideration of epilepsy surgery in a patient?\\n        A. dominant hemisphere focus\\n        B. low-grade tumor\\n        C. mental retardation\\n        D. primary generalized epilepsy\\n        E. prior vagus nerve stimulator use\\n-assistant:\\nAnswer :  Patients who are typically not surgical candidates include those with clear evidence of bilateral onset of habitual seizures, those with severe psychiatric or medical comorbidities increasing surgical risk or compromising recovery, those with rapidly progressive CNS disease, and those with primary generalized epilepsy. \\nTherefore, the correct answer is D.###', '-user:\\nQuestion : Although not all data are available for all drugs (and keeping in mind that an individual patient may have other specific needs), which of the following antiepileptic drugs would be the best initial choice in an adolescent girl with juvenile myoclonic epilepsy?\\n        A. carbamazepine\\n        B. ethosuximide\\n        C. lacosamide\\n        D. valproic acid\\n        E. levetiracetam\\n-assistant:\\nAnswer :  Levetiracetam is considered to be effective in juvenile myoclonic epilepsy. Carbamazepine is probably better in partial or generalized tonic-clonic seizures. Ethosuximide has strong evidence in absence seizures. Valproic acid is effective in juvenile myoclonic epilepsy and related seizure types but is usually not the first choice in adolescent girls because of teratogenicity and risk of polycystic ovary syndrome. Lacosamide has no data for myoclonic epilepsy. \\nTherefore, the correct answer is E.###', '-user:\\nQuestion : Which of the following seizure/epilepsy subtypes appears to respond best to deep brain stimulation techniques?\\n        A. absence seizures\\n        B. frontal lobe epilepsy\\n        C. juvenile myoclonic epilepsy\\n        D. Lennox-Gastaut syndrome\\n        E. temporal lobe epilepsy\\n-assistant:\\nAnswer :  In pivotal studies of deep brain stimulation of the anterior nucleus of the thalamus, patients with temporal lobe epilepsy responded best to this treatment approach. Patients with this form of epilepsy had a 44% reduction in seizures (compared to 22% in controls); patients with seizures originating from other lobes had no significant effect from this procedure. One possible explanation for this finding is the connection between the hippocampus and the anterior nucleus as part of the Papez circuit. \\nTherefore, the correct answer is E.###'], ['-user:\\nQuestion : A 40-year-old woman is admitted to an epilepsy monitoring unit for evaluation of paroxysmal episodes of neurologic dysfunction. Her episodes involve some nonrhythmic shaking of both arms and pelvic thrusting without any correlate on the EEG; psychogenic nonepileptic events are diagnosed. Which of the following characteristics is most associated with a good outcome (ie, resolution of episodes)?\\n        A. episodes with prominent motor features\\n        B. female gender\\n        C. lower educational achievement\\n        D. older age at diagnosis\\n        E. shorter duration of illness\\n-assistant:\\nAnswer :  The description of the events provided above and the lack of EEG findings during her episodes are both suggestive of nonepileptic events. Prognosis after a diagnosis of psychogenic nonepileptic events is variable but may be dependent on certain characteristics. Of the options listed above, a shorter duration of illness (ie, shorter time between the onset of spells and the diagnosis of nonepileptic events) is most predictive of a positive outcome. Some of the other options listed above (older age, prominent/dramatic motor features, lower educational achievement) are associated with a poorer outcome after a diagnosis of nonepileptic events. \\nTherefore, the correct answer is E.###', '-user:\\nQuestion : Which of the following clinical factors is most predictive of cognitive decline after epilepsy surgery?\\n        A. higher preoperative cognitive performance\\n        B. presence of hippocampal sclerosis\\n        C. surgery on nonlanguage dominant hemisphere\\n        D. younger age at seizure onset\\n        E. younger age at time of surgery\\n-assistant:\\nAnswer :  Cognitive performance may improve in some patients after surgery, presumably related to better seizure control and possible decrease in the burden of anticonvulsants needed for seizure control. However, even with functional imaging or Wada testing to guide treatment decisions, some patients will note worsened cognitive functioning postoperatively. Of the options listed, patients with higher preoperative cognitive functioning are at a higher risk of new cognitive difficulties after surgery. Older age at seizure onset and at time of surgery, the lack of hippocampal atrophy or sclerosis, and surgery on the language-dominant hemisphere are other predictors of postoperative cognitive symptoms. \\nTherefore, the correct answer is A.###', '-user:\\nQuestion : A 76-year-old man is admitted with a right frontal intracerebral hemorrhage. After some initial improvement in his neurologic status, he has become a bit less responsive. EEG shows fluctuating right greater than left periodic discharges at 1 to 2 Hz without definite evolution. Which of the following is the best next step in management?\\n        A. 0.1 mg/kg IV lorazepam\\n        B. continuous propofol infusion\\n        C. observation with repeat 30-minute EEG in 24 hours\\n        D. oral levetiracetam\\n        E. sequential small doses of midazolam or other IV antiepileptic drug until the EEG pattern resolves\\n-assistant:\\nAnswer :  Nonconvulsive status epilepticus is increasingly being identified as a cause of altered mental status in critically ill patients, including patients with structural brain lesions such as intracerebral hemorrhage. The persistent mental status change is suggestive of nonconvulsive status epilepticus. Initial management consists of sequential administration of low-dose benzodiazepines (preferably short-acting agents, such as midazolam) or IV administration of a relatively nonsedating antiepileptic medication (such as levetiracetam or lacosamide). After initiation of these medications, improvement in the clinical state and EEG is supportive of a diagnosis of nonconvulsive status epilepticus. Initiation of additional antiepileptics should be held until the diagnosis is clearer. \\nTherefore, the correct answer is E.###'], ['-user:\\nQuestion : According to the International League Against Epilepsy’s 2010 revision of its seizure classification system, which of the following factors is most helpful in initially focusing the scope of diagnostic possibilities for specific electroclinical syndromes?\\n        A. age at onset\\n        B. family seizure history\\n        C. frequency of spells\\n        D. history of toxic exposure\\n        E. severity of the disorder\\n-assistant:\\nAnswer :  While all the other factors mentioned should be part of an initial seizure history, they are not as important in establishing the ultimate diagnosis. \\nTherefore, the correct answer is A.###', '-user:\\nQuestion : A 40-year-old woman is admitted to an epilepsy monitoring unit for evaluation of paroxysmal episodes of neurologic dysfunction. Her episodes involve some nonrhythmic shaking of both arms and pelvic thrusting without any correlate on the EEG; psychogenic nonepileptic events are diagnosed. Which of the following characteristics is most associated with a good outcome (ie, resolution of episodes)?\\n        A. episodes with prominent motor features\\n        B. female gender\\n        C. lower educational achievement\\n        D. older age at diagnosis\\n        E. shorter duration of illness\\n-assistant:\\nAnswer :  The description of the events provided above and the lack of EEG findings during her episodes are both suggestive of nonepileptic events. Prognosis after a diagnosis of psychogenic nonepileptic events is variable but may be dependent on certain characteristics. Of the options listed above, a shorter duration of illness (ie, shorter time between the onset of spells and the diagnosis of nonepileptic events) is most predictive of a positive outcome. Some of the other options listed above (older age, prominent/dramatic motor features, lower educational achievement) are associated with a poorer outcome after a diagnosis of nonepileptic events. \\nTherefore, the correct answer is E.###', '-user:\\nQuestion : A 76-year-old man is admitted with a right frontal intracerebral hemorrhage. After some initial improvement in his neurologic status, he has become a bit less responsive. EEG shows fluctuating right greater than left periodic discharges at 1 to 2 Hz without definite evolution. Which of the following is the best next step in management?\\n        A. 0.1 mg/kg IV lorazepam\\n        B. continuous propofol infusion\\n        C. observation with repeat 30-minute EEG in 24 hours\\n        D. oral levetiracetam\\n        E. sequential small doses of midazolam or other IV antiepileptic drug until the EEG pattern resolves\\n-assistant:\\nAnswer :  Nonconvulsive status epilepticus is increasingly being identified as a cause of altered mental status in critically ill patients, including patients with structural brain lesions such as intracerebral hemorrhage. The persistent mental status change is suggestive of nonconvulsive status epilepticus. Initial management consists of sequential administration of low-dose benzodiazepines (preferably short-acting agents, such as midazolam) or IV administration of a relatively nonsedating antiepileptic medication (such as levetiracetam or lacosamide). After initiation of these medications, improvement in the clinical state and EEG is supportive of a diagnosis of nonconvulsive status epilepticus. Initiation of additional antiepileptics should be held until the diagnosis is clearer. \\nTherefore, the correct answer is E.###'], ['-user:\\nQuestion : Which of the following is the major role of the neurologist after a diagnosis of psychogenic nonepileptic events?\\n        A. appropriately weaning antiepileptic drugs\\n        B. describing events in ambiguous terms\\n        C. ensuring that patients continue to refrain from driving a motor vehicle\\n        D. ordering follow-up EEG in 6 to 12 months\\n        E. prescribing a selective serotonin reuptake inhibitor or other antidepressant\\n-assistant:\\nAnswer :  After a diagnosis of psychogenic nonepileptic attacks, one of the major roles of the neurologist is the rational weaning of antiepileptic medications. This should be done with the caveat that coexistent epilepsy may also be present, so the physician needs to keep an open mind regarding new events (although routine surveillance EEGs are not necessarily indicated). Driving restrictions should be handled on an individual case basis, although most patients can return to driving with little chance of injury. Neurologists should use unambiguous terms when describing the diagnosis to the patient and other providers so that the misdiagnosis of epilepsy is not perpetuated. While mental health care is often needed, the routine prescription of antidepressants is not always indicated. \\nTherefore, the correct answer is A.###', '-user:\\nQuestion : According to the International League Against Epilepsy’s 2010 revision of its seizure classification system, which of the following factors is most helpful in initially focusing the scope of diagnostic possibilities for specific electroclinical syndromes?\\n        A. age at onset\\n        B. family seizure history\\n        C. frequency of spells\\n        D. history of toxic exposure\\n        E. severity of the disorder\\n-assistant:\\nAnswer :  While all the other factors mentioned should be part of an initial seizure history, they are not as important in establishing the ultimate diagnosis. \\nTherefore, the correct answer is A.###', '-user:\\nQuestion : A 40-year-old woman is admitted to an epilepsy monitoring unit for evaluation of paroxysmal episodes of neurologic dysfunction. Her episodes involve some nonrhythmic shaking of both arms and pelvic thrusting without any correlate on the EEG; psychogenic nonepileptic events are diagnosed. Which of the following characteristics is most associated with a good outcome (ie, resolution of episodes)?\\n        A. episodes with prominent motor features\\n        B. female gender\\n        C. lower educational achievement\\n        D. older age at diagnosis\\n        E. shorter duration of illness\\n-assistant:\\nAnswer :  The description of the events provided above and the lack of EEG findings during her episodes are both suggestive of nonepileptic events. Prognosis after a diagnosis of psychogenic nonepileptic events is variable but may be dependent on certain characteristics. Of the options listed above, a shorter duration of illness (ie, shorter time between the onset of spells and the diagnosis of nonepileptic events) is most predictive of a positive outcome. Some of the other options listed above (older age, prominent/dramatic motor features, lower educational achievement) are associated with a poorer outcome after a diagnosis of nonepileptic events. \\nTherefore, the correct answer is E.###'], ['-user:\\nQuestion : A 21-year-old man is seen in clinic for management of seizures. He has had several episodes of generalized tonic-clonic seizure activity with resultant oral trauma and incontinence. Some of his events may have started with focal shaking in the right arm, although this history is unclear and is unable to be corroborated. EEG reveals no epileptiform activity or asymmetry, and brain imaging is unremarkable. Of the following anticonvulsants, which would be most appropriate for this patient?\\n        A. gabapentin\\n        B. lacosamide\\n        C. oxcarbazepine\\n        D. phenobarbital\\n        E. zonisamide\\n-assistant:\\nAnswer :  The description of this patient’s episodes is consistent with generalized seizures. However, based on the history, EEG, and imaging studies, it is hard to determine whether these events are primary or secondary generalized in nature. In cases where it is difficult to determine whether seizures are primary generalized or focal in onset, a broad-spectrum anticonvulsant medication is preferable. Of the options listed above, zonisamide and phenobarbital are both considered broad-spectrum drugs, although zonisamide would be preferable based on its more favorable side-effect profile. Oxcarbazepine and gabapentin are more narrow-spectrum and would only be indicated if the events were more clearly focal in onset. The exact spectrum of lacosamide is unknown at this time, since it has only been studied in the setting of focal seizures. \\nTherefore, the correct answer is E.###', '-user:\\nQuestion : A 27-year-old woman is seen in clinic for ongoing management of her juvenile myoclonic epilepsy. Her seizures have been well controlled on lamotrigine, with no seizures in the past 2 years. She does report some symptoms of depression, as well as anticipatory anxiety regarding the possibility of future seizures. Which of the following options is the best next step in management?\\n        A. bupropion\\n        B. citalopram\\n        C. nortriptyline\\n        D. taper off lamotrigine and begin levetiracetam\\n        E. venlafaxine\\n-assistant:\\nAnswer :  This patient is reporting symptoms of depression and anxiety, both of which are common in patients with epilepsy. In patients requiring pharmacotherapy for these symptoms, selective serotonin reuptake inhibitors (SSRIs) such as citalopram are considered first-line treatments because of lower likelihood of additional side effects and minimal drug-drug interactions. Venlafaxine is another option if an SSRI is not tolerated, and tricyclic antidepressants (such as nortriptyline) could be considered if neither of these first two agents is successful. Lamotrigine is not commonly associated with depression and is often used as a mood stabilizer; it is unlikely to be the cause of these symptoms in this patient and should not be changed to levetiracetam. Bupropion is associated with a higher risk of seizures and should not be used. \\nTherefore, the correct answer is B.###', '-user:\\nQuestion : A 33-year-old man with known epilepsy is seen in the emergency department after a seizure with an associated fall. IV access is obtained. He is initially at his baseline neurologic status but then develops generalized seizure activity that has lasted 5 minutes. Which of the following is the most appropriate next step in management?\\n        A. buccal midazolam\\n        B. IV diazepam\\n        C. IV fosphenytoin\\n        D. IV lorazepam\\n        E. rectal diazepam\\n-assistant:\\nAnswer :  This patient with underlying epilepsy has had continuous seizure activity for at least 5 minutes and meets criteria for status epilepticus. In patients with IV access, IV lorazepam is considered the initial treatment of choice. It has been shown to be more effective than IV diazepam or phenytoin. In patients without IV access, administration of rectal diazepam or buccal midazolam can be considered. \\nTherefore, the correct answer is D.###'], ['-user:\\nQuestion : According to the International League Against Epilepsy’s 2010 revision of its seizure classification system, which of the following factors is most helpful in initially focusing the scope of diagnostic possibilities for specific electroclinical syndromes?\\n        A. age at onset\\n        B. family seizure history\\n        C. frequency of spells\\n        D. history of toxic exposure\\n        E. severity of the disorder\\n-assistant:\\nAnswer :  While all the other factors mentioned should be part of an initial seizure history, they are not as important in establishing the ultimate diagnosis. \\nTherefore, the correct answer is A.###', '-user:\\nQuestion : Which of the following conditions would likely preclude the consideration of epilepsy surgery in a patient?\\n        A. dominant hemisphere focus\\n        B. low-grade tumor\\n        C. mental retardation\\n        D. primary generalized epilepsy\\n        E. prior vagus nerve stimulator use\\n-assistant:\\nAnswer :  Patients who are typically not surgical candidates include those with clear evidence of bilateral onset of habitual seizures, those with severe psychiatric or medical comorbidities increasing surgical risk or compromising recovery, those with rapidly progressive CNS disease, and those with primary generalized epilepsy. \\nTherefore, the correct answer is D.###', '-user:\\nQuestion : Which of the following clinical characteristics is associated with an increased risk of suicidal ideation in patients with epilepsy?\\n        A. coexistent depression\\n        B. higher frequency of seizures\\n        C. lower reported quality of life\\n        D. male sex\\n        E. partial-onset seizures\\n-assistant:\\nAnswer :  Among many potential predictors, only the presence of a coexisting mood disorder such as major depression is associated with a higher incidence of suicidal ideation in epilepsy patients. Other characteristics, including age, sex, seizure type, seizure control, duration of epilepsy, and lower quality of life, have not been associated with a higher risk of suicide. Because of this, routine screening for depression and suicidality in patients with epilepsy is recommended. \\nTherefore, the correct answer is A.###'], ['-user:\\nQuestion : According to the International League Against Epilepsy’s 2010 revision of its seizure classification system, which of the following factors is most helpful in initially focusing the scope of diagnostic possibilities for specific electroclinical syndromes?\\n        A. age at onset\\n        B. family seizure history\\n        C. frequency of spells\\n        D. history of toxic exposure\\n        E. severity of the disorder\\n-assistant:\\nAnswer :  While all the other factors mentioned should be part of an initial seizure history, they are not as important in establishing the ultimate diagnosis. \\nTherefore, the correct answer is A.###', '-user:\\nQuestion : A 63-year-old woman is hospitalized with herpes simplex virus encephalitis. Which of the following EEG patterns is most likely to be seen in this patient?\\n        A. burst suppression\\n        B. generalized periodic discharges\\n        C. periodic lateralizing discharges\\n        D. small sharp spikes\\n        E. stimulus-induced, rhythmic, periodic, or ictal discharges\\n-assistant:\\nAnswer :  Periodic lateralizing discharges are EEG abnormalities commonly seen in certain scenarios, including herpes encephalitis. Other conditions in which periodic lateralizing discharges are seen include focal brain lesions, nonketotic hyperglycemia, alcohol withdrawal, and theophylline exposure. Generalized periodic discharges are more commonly seen in anoxic brain injury, Creutzfeldt-Jakob disease, and other diffuse processes. Stimulus-induced, rhythmic, periodic, or ictal discharges (SIRPIDs) are most commonly seen in critically ill patients, even those without neurologic illness. Burst suppression is typically seen in anoxic encephalopathy or in the setting of certain medications (eg, propofol, barbiturates). \\nTherefore, the correct answer is C.###', '-user:\\nQuestion : Surgery for which of the following types of epilepsy is least likely to result in seizure freedom?\\n        A. epilepsy due to a hemispheric syndrome\\n        B. epilepsy due to neonatal infarct\\n        C. epilepsy due to tumor\\n        D. mesial temporal lobe epilepsy\\n        E. nonlesional neocortical epilepsy\\n-assistant:\\nAnswer :  The best outcomes from epilepsy surgery are for temporal lobectomy for mesial temporal sclerosis, lesional resections, and hemispherectomy, with lower seizure-free rates in patients with nonlesional neocortical resections. \\nTherefore, the correct answer is E.###'], ['-user:\\nQuestion : According to the International League Against Epilepsy’s 2010 revision of its seizure classification system, which of the following factors is most helpful in initially focusing the scope of diagnostic possibilities for specific electroclinical syndromes?\\n        A. age at onset\\n        B. family seizure history\\n        C. frequency of spells\\n        D. history of toxic exposure\\n        E. severity of the disorder\\n-assistant:\\nAnswer :  While all the other factors mentioned should be part of an initial seizure history, they are not as important in establishing the ultimate diagnosis. \\nTherefore, the correct answer is A.###', '-user:\\nQuestion : A 63-year-old woman is hospitalized with herpes simplex virus encephalitis. Which of the following EEG patterns is most likely to be seen in this patient?\\n        A. burst suppression\\n        B. generalized periodic discharges\\n        C. periodic lateralizing discharges\\n        D. small sharp spikes\\n        E. stimulus-induced, rhythmic, periodic, or ictal discharges\\n-assistant:\\nAnswer :  Periodic lateralizing discharges are EEG abnormalities commonly seen in certain scenarios, including herpes encephalitis. Other conditions in which periodic lateralizing discharges are seen include focal brain lesions, nonketotic hyperglycemia, alcohol withdrawal, and theophylline exposure. Generalized periodic discharges are more commonly seen in anoxic brain injury, Creutzfeldt-Jakob disease, and other diffuse processes. Stimulus-induced, rhythmic, periodic, or ictal discharges (SIRPIDs) are most commonly seen in critically ill patients, even those without neurologic illness. Burst suppression is typically seen in anoxic encephalopathy or in the setting of certain medications (eg, propofol, barbiturates). \\nTherefore, the correct answer is C.###', '-user:\\nQuestion : Which of the following EEG patterns is rarely seen in normal patients and has a high specificity for temporal lobe epilepsy?\\n        A. 14 and 6 positive spikes\\n        B. diffuse slow activity\\n        C. rhythmic temporal delta\\n        D. triphasic waves\\n        E. wicket spikes\\n-assistant:\\nAnswer :  Of the options listed above, rhythmic temporal delta activity is most suggestive of temporal lobe epilepsy. While sensitivity for this finding is not especially high, it is rarely seen outside of the context of temporal lobe seizures and therefore carries high specificity. Triphasic waves are most commonly seen in patients with metabolic encephalopathy. Diffuse slow activity is seen in patients with traumatic brain injury, subarachnoid hemorrhage, toxic-metabolic encephalopathies, and other processes that affect the brain more diffusely. Wicket spikes and 14 and 6 positive spikes are considered normal EEG variants seen in older adults and adolescents, respectively. \\nTherefore, the correct answer is C.###'], ['-user:\\nQuestion : Which of the following antiepileptic drug combinations is most likely to result in symptoms of diplopia and dizziness?\\n        A. phenobarbital and valproate\\n        B. phenytoin and carbamazepine\\n        C. phenytoin and gabapentin\\n        D. topiramate and carbamazepine\\n        E. valproate and lamotrigine\\n-assistant:\\nAnswer :  The combination of phenytoin and carbamazepine frequently results in the adverse effects of dizziness and diplopia. In addition, both medications have enzyme-inducing properties, resulting in complex pharmacologic interactions and difficulty maintaining therapeutic levels. Phenobarbital and valproate have a higher likelihood of resulting in weight gain. Combining valproate and lamotrigine may increase the risk of Stevens-Johnson syndrome, so dosing adjustments need to be made carefully. \\nTherefore, the correct answer is B.###', '-user:\\nQuestion : A 27-year-old woman is seen in clinic for ongoing management of her juvenile myoclonic epilepsy. Her seizures have been well controlled on lamotrigine, with no seizures in the past 2 years. She does report some symptoms of depression, as well as anticipatory anxiety regarding the possibility of future seizures. Which of the following options is the best next step in management?\\n        A. bupropion\\n        B. citalopram\\n        C. nortriptyline\\n        D. taper off lamotrigine and begin levetiracetam\\n        E. venlafaxine\\n-assistant:\\nAnswer :  This patient is reporting symptoms of depression and anxiety, both of which are common in patients with epilepsy. In patients requiring pharmacotherapy for these symptoms, selective serotonin reuptake inhibitors (SSRIs) such as citalopram are considered first-line treatments because of lower likelihood of additional side effects and minimal drug-drug interactions. Venlafaxine is another option if an SSRI is not tolerated, and tricyclic antidepressants (such as nortriptyline) could be considered if neither of these first two agents is successful. Lamotrigine is not commonly associated with depression and is often used as a mood stabilizer; it is unlikely to be the cause of these symptoms in this patient and should not be changed to levetiracetam. Bupropion is associated with a higher risk of seizures and should not be used. \\nTherefore, the correct answer is B.###', '-user:\\nQuestion : A 76-year-old man is admitted with a right frontal intracerebral hemorrhage. After some initial improvement in his neurologic status, he has become a bit less responsive. EEG shows fluctuating right greater than left periodic discharges at 1 to 2 Hz without definite evolution. Which of the following is the best next step in management?\\n        A. 0.1 mg/kg IV lorazepam\\n        B. continuous propofol infusion\\n        C. observation with repeat 30-minute EEG in 24 hours\\n        D. oral levetiracetam\\n        E. sequential small doses of midazolam or other IV antiepileptic drug until the EEG pattern resolves\\n-assistant:\\nAnswer :  Nonconvulsive status epilepticus is increasingly being identified as a cause of altered mental status in critically ill patients, including patients with structural brain lesions such as intracerebral hemorrhage. The persistent mental status change is suggestive of nonconvulsive status epilepticus. Initial management consists of sequential administration of low-dose benzodiazepines (preferably short-acting agents, such as midazolam) or IV administration of a relatively nonsedating antiepileptic medication (such as levetiracetam or lacosamide). After initiation of these medications, improvement in the clinical state and EEG is supportive of a diagnosis of nonconvulsive status epilepticus. Initiation of additional antiepileptics should be held until the diagnosis is clearer. \\nTherefore, the correct answer is E.###'], ['-user:\\nQuestion : Deep brain stimulation for drug-resistant epilepsy targets which of the following structures?\\n        A. anterior nucleus of the thalamus\\n        B. centromedian nucleus of the thalamus\\n        C. cingulate gyrus\\n        D. hippocampus\\n        E. internal segment of the globus pallidus\\n-assistant:\\nAnswer :  The anterior nucleus of the thalamus is part of the Papez circuit and is therefore believed to be a relay station for information passing from the amygdala and hippocampus to the cerebral cortex. Data have shown that inhibition of the anterior nucleus may result in prevention or cessation of seizures. \\nTherefore, the correct answer is A.###', '-user:\\nQuestion : Surgery for which of the following types of epilepsy is least likely to result in seizure freedom?\\n        A. epilepsy due to a hemispheric syndrome\\n        B. epilepsy due to neonatal infarct\\n        C. epilepsy due to tumor\\n        D. mesial temporal lobe epilepsy\\n        E. nonlesional neocortical epilepsy\\n-assistant:\\nAnswer :  The best outcomes from epilepsy surgery are for temporal lobectomy for mesial temporal sclerosis, lesional resections, and hemispherectomy, with lower seizure-free rates in patients with nonlesional neocortical resections. \\nTherefore, the correct answer is E.###', '-user:\\nQuestion : The presence of a photoparoxysmal response to photic stimulation during an EEG is most commonly seen in which of the following settings?\\n        A. cognitively normal patients\\n        B. occipital lobe epilepsy\\n        C. primary generalized epilepsy\\n        D. sleep-deprived patients\\n        E. temporal lobe epilepsy\\n-assistant:\\nAnswer :  The photoparoxysmal response is an abnormal response seen in the setting of photic stimulation and goes beyond the “photic driving” of the posterior dominant rhythm seen in cognitively normal patients. It can be seen in different types of epilepsy but is most commonly seen in primary generalized epilepsies, especially childhood absence epilepsy. \\nTherefore, the correct answer is C.###'], ['-user:\\nQuestion : A patient with which of the following conditions should not be placed on a ketogenic diet?\\n        A. diabetes\\n        B. hyperlipidemia\\n        C. obesity\\n        D. pancreatitis\\n        E. Rett syndrome\\n-assistant:\\nAnswer :  Ketogenic diets are contraindicated in patients with pancreatitis, hepatic failure, primary carnitine deficiency, carnitine palmitoyl transferase I and II deficiency, carnitine translocase deficiency, beta-oxidation defects, pyruvate carboxylase deficiency, and porphyria. In the intensive care setting where diet therapy is being considered for treatment of refractory status epilepticus, the ketogenic diet is also contraindicated in patients who cannot tolerate enteral feeds, including those with ileus, who are receiving a propofol infusion (to avoid fatal propofol infusion syndrome), and in patients who have metabolic, hemodynamic, or cardiorespiratory instability. \\nTherefore, the correct answer is D.###', '-user:\\nQuestion : Which of the following is the most common side effect seen after placement of a vagus nerve stimulator?\\n        A. bradycardia\\n        B. device infection\\n        C. excessive cough\\n        D. vocal cord paralysis\\n        E. voice alteration/hoarseness\\n-assistant:\\nAnswer :  After placement of a vagus nerve stimulator, alteration of voice quality (including hoarseness) and excessive coughing are the most common side effects, seen in one study in about 66% and 45% of patients respectively. The other choices listed above are possible adverse effects of this procedure but are seen much less commonly. \\nTherefore, the correct answer is E.###', '-user:\\nQuestion : Which of the following clinical characteristics is associated with an increased risk of suicidal ideation in patients with epilepsy?\\n        A. coexistent depression\\n        B. higher frequency of seizures\\n        C. lower reported quality of life\\n        D. male sex\\n        E. partial-onset seizures\\n-assistant:\\nAnswer :  Among many potential predictors, only the presence of a coexisting mood disorder such as major depression is associated with a higher incidence of suicidal ideation in epilepsy patients. Other characteristics, including age, sex, seizure type, seizure control, duration of epilepsy, and lower quality of life, have not been associated with a higher risk of suicide. Because of this, routine screening for depression and suicidality in patients with epilepsy is recommended. \\nTherefore, the correct answer is A.###'], ['-user:\\nQuestion : A 40-year-old woman is admitted to an epilepsy monitoring unit for evaluation of paroxysmal episodes of neurologic dysfunction. Her episodes involve some nonrhythmic shaking of both arms and pelvic thrusting without any correlate on the EEG; psychogenic nonepileptic events are diagnosed. Which of the following characteristics is most associated with a good outcome (ie, resolution of episodes)?\\n        A. episodes with prominent motor features\\n        B. female gender\\n        C. lower educational achievement\\n        D. older age at diagnosis\\n        E. shorter duration of illness\\n-assistant:\\nAnswer :  The description of the events provided above and the lack of EEG findings during her episodes are both suggestive of nonepileptic events. Prognosis after a diagnosis of psychogenic nonepileptic events is variable but may be dependent on certain characteristics. Of the options listed above, a shorter duration of illness (ie, shorter time between the onset of spells and the diagnosis of nonepileptic events) is most predictive of a positive outcome. Some of the other options listed above (older age, prominent/dramatic motor features, lower educational achievement) are associated with a poorer outcome after a diagnosis of nonepileptic events. \\nTherefore, the correct answer is E.###', '-user:\\nQuestion : Which of the following clinical factors is most predictive of cognitive decline after epilepsy surgery?\\n        A. higher preoperative cognitive performance\\n        B. presence of hippocampal sclerosis\\n        C. surgery on nonlanguage dominant hemisphere\\n        D. younger age at seizure onset\\n        E. younger age at time of surgery\\n-assistant:\\nAnswer :  Cognitive performance may improve in some patients after surgery, presumably related to better seizure control and possible decrease in the burden of anticonvulsants needed for seizure control. However, even with functional imaging or Wada testing to guide treatment decisions, some patients will note worsened cognitive functioning postoperatively. Of the options listed, patients with higher preoperative cognitive functioning are at a higher risk of new cognitive difficulties after surgery. Older age at seizure onset and at time of surgery, the lack of hippocampal atrophy or sclerosis, and surgery on the language-dominant hemisphere are other predictors of postoperative cognitive symptoms. \\nTherefore, the correct answer is A.###', '-user:\\nQuestion : A 27-year-old woman with longstanding complex partial seizures, well controlled on monotherapy with carbamazepine, is seen in the first trimester of pregnancy. She is concerned about seizures becoming more frequent during pregnancy. Which of the following is the most appropriate counseling of this patient regarding her pregnancy and seizure recurrence?\\n        A. most women experience a decrease in seizure frequency\\n        B. most women experience an increase in seizure frequency\\n        C. most women experience no change in seizure frequency\\n        D. seizures are least likely to occur in the third trimester\\n        E. seizures are more likely to be generalized in nature\\n-assistant:\\nAnswer :  Although the effect of pregnancy on seizure frequency is variable, most women with epilepsy do not experience a significant change in the number or severity of their seizures. Expected physiologic hormonal changes, alterations in sleep and other routines, and other factors can alter the seizure frequency in some cases. Noncompliance can also play a role, since some women will discontinue their medications with the assumption that the teratogenic effects of antiepileptic medications outweigh their potential benefits. \\nTherefore, the correct answer is C.###'], ['-user:\\nQuestion : Which of the following is the major role of the neurologist after a diagnosis of psychogenic nonepileptic events?\\n        A. appropriately weaning antiepileptic drugs\\n        B. describing events in ambiguous terms\\n        C. ensuring that patients continue to refrain from driving a motor vehicle\\n        D. ordering follow-up EEG in 6 to 12 months\\n        E. prescribing a selective serotonin reuptake inhibitor or other antidepressant\\n-assistant:\\nAnswer :  After a diagnosis of psychogenic nonepileptic attacks, one of the major roles of the neurologist is the rational weaning of antiepileptic medications. This should be done with the caveat that coexistent epilepsy may also be present, so the physician needs to keep an open mind regarding new events (although routine surveillance EEGs are not necessarily indicated). Driving restrictions should be handled on an individual case basis, although most patients can return to driving with little chance of injury. Neurologists should use unambiguous terms when describing the diagnosis to the patient and other providers so that the misdiagnosis of epilepsy is not perpetuated. While mental health care is often needed, the routine prescription of antidepressants is not always indicated. \\nTherefore, the correct answer is A.###', '-user:\\nQuestion : According to the International League Against Epilepsy’s 2010 revision of its seizure classification system, which of the following factors is most helpful in initially focusing the scope of diagnostic possibilities for specific electroclinical syndromes?\\n        A. age at onset\\n        B. family seizure history\\n        C. frequency of spells\\n        D. history of toxic exposure\\n        E. severity of the disorder\\n-assistant:\\nAnswer :  While all the other factors mentioned should be part of an initial seizure history, they are not as important in establishing the ultimate diagnosis. \\nTherefore, the correct answer is A.###', '-user:\\nQuestion : In 2010, the International League Against Epilepsy departed from its 1989 classification scheme of epilepsies and revised its seizure classification system. What was the primary goal of this change?\\n        A. advancement of a value system for syndromic severity\\n        B. grouping of patients’ diagnoses in a new classification structure\\n        C. keeping pace with advancing knowledge of epilepsy and seizures\\n        D. linkage of seizure manifestations with a cause\\n        E. modification of billing and coding practices with regard to epilepsy\\n-assistant:\\nAnswer :  While the advancement of a value system for syndromic severity and the modification of billing and coding practices with regard to epilepsy are desired goals, the overarching goal of revising the old classification scheme is to incorporate genetic, neuroimaging, and other new knowledge of epilepsy and seizures into a workable format for correct individual diagnosis. \\nTherefore, the correct answer is C.###'], ['-user:\\nQuestion : Surgery for which of the following types of epilepsy is least likely to result in seizure freedom?\\n        A. epilepsy due to a hemispheric syndrome\\n        B. epilepsy due to neonatal infarct\\n        C. epilepsy due to tumor\\n        D. mesial temporal lobe epilepsy\\n        E. nonlesional neocortical epilepsy\\n-assistant:\\nAnswer :  The best outcomes from epilepsy surgery are for temporal lobectomy for mesial temporal sclerosis, lesional resections, and hemispherectomy, with lower seizure-free rates in patients with nonlesional neocortical resections. \\nTherefore, the correct answer is E.###', '-user:\\nQuestion : Which of the following seizure/epilepsy subtypes appears to respond best to deep brain stimulation techniques?\\n        A. absence seizures\\n        B. frontal lobe epilepsy\\n        C. juvenile myoclonic epilepsy\\n        D. Lennox-Gastaut syndrome\\n        E. temporal lobe epilepsy\\n-assistant:\\nAnswer :  In pivotal studies of deep brain stimulation of the anterior nucleus of the thalamus, patients with temporal lobe epilepsy responded best to this treatment approach. Patients with this form of epilepsy had a 44% reduction in seizures (compared to 22% in controls); patients with seizures originating from other lobes had no significant effect from this procedure. One possible explanation for this finding is the connection between the hippocampus and the anterior nucleus as part of the Papez circuit. \\nTherefore, the correct answer is E.###', '-user:\\nQuestion : Which of the following clinical characteristics is associated with an increased risk of suicidal ideation in patients with epilepsy?\\n        A. coexistent depression\\n        B. higher frequency of seizures\\n        C. lower reported quality of life\\n        D. male sex\\n        E. partial-onset seizures\\n-assistant:\\nAnswer :  Among many potential predictors, only the presence of a coexisting mood disorder such as major depression is associated with a higher incidence of suicidal ideation in epilepsy patients. Other characteristics, including age, sex, seizure type, seizure control, duration of epilepsy, and lower quality of life, have not been associated with a higher risk of suicide. Because of this, routine screening for depression and suicidality in patients with epilepsy is recommended. \\nTherefore, the correct answer is A.###'], ['-user:\\nQuestion : Which of the following antiepileptic drug combinations is most likely to result in symptoms of diplopia and dizziness?\\n        A. phenobarbital and valproate\\n        B. phenytoin and carbamazepine\\n        C. phenytoin and gabapentin\\n        D. topiramate and carbamazepine\\n        E. valproate and lamotrigine\\n-assistant:\\nAnswer :  The combination of phenytoin and carbamazepine frequently results in the adverse effects of dizziness and diplopia. In addition, both medications have enzyme-inducing properties, resulting in complex pharmacologic interactions and difficulty maintaining therapeutic levels. Phenobarbital and valproate have a higher likelihood of resulting in weight gain. Combining valproate and lamotrigine may increase the risk of Stevens-Johnson syndrome, so dosing adjustments need to be made carefully. \\nTherefore, the correct answer is B.###', '-user:\\nQuestion : Which of the following medications is most likely to be associated with interictal spikes or epileptiform abnormalities on EEG?\\n        A. cefepime\\n        B. doxycycline\\n        C. fluoxetine\\n        D. methylphenidate\\n        E. modafinil\\n-assistant:\\nAnswer :  Cefepime is one of several medications that can be associated with interictal spikes on EEG. Other examples include bupropion, lithium, tramadol, and clozapine. Uremia, thyrotoxicosis, and some other medical comorbidities can also be associated with epileptiform abnormalities but are not diagnostic for epilepsy. Abnormal EEGs in these contexts need to be interpreted with appropriate caution. \\nTherefore, the correct answer is A.###', '-user:\\nQuestion : In addition to a risk of major congenital malformations, which of the following antiepileptic drugs is also associated with an elevated risk of autism spectrum disorders and lower IQ at age 6?\\n        A. carbamazepine\\n        B. lamotrigine\\n        C. phenobarbital\\n        D. phenytoin\\n        E. valproate\\n-assistant:\\nAnswer :  Women treated with valproate (either monotherapy or in combination with other antiepileptics) are at elevated risk of giving birth to children with major congenital malformations. In addition, of the medications listed above, valproate is also associated with a higher risk of neurodevelopmental effects in children exposed during pregnancy, as measured by lower IQ at age 6 and a higher risk of autism spectrum disorders. \\nTherefore, the correct answer is E.###'], ['-user:\\nQuestion : A 66-year-old woman is seen in clinic for a new diagnosis of epilepsy; she has experienced recurrent partial seizures attributed to a left hemispheric stroke. Her medical history is most notable for atrial fibrillation (for which she takes warfarin), osteoporosis, and a history of kidney stones. Her primary care physician started her on phenytoin, which resulted in a rash. Which of the following is the most appropriate antiepileptic medication for this patient?\\n        A. carbamazepine\\n        B. levetiracetam\\n        C. primidone\\n        D. valproate\\n        E. zonisamide\\n-assistant:\\nAnswer :  This patient with epilepsy is medically complex, with several notable comorbid medical conditions and a prior adverse reaction to phenytoin. Using either carbamazepine or primidone in this case would be challenging given the potential cross-reactivity with phenytoin (to which she has already had a hypersensitive reaction) as well as the potential drug-drug interactions with warfarin. Zonisamide is associated with a risk of kidney stones and should be avoided in this patient with prior calculi. Valproate and enzyme-inducing medications are associated with accelerated loss of bone density, which is already a concern in this patient with osteoporosis. Of the options listed, levetiracetam has the lowest risk of hypersensitivity, drug-drug interactions with warfarin, and potential worsening of her underlying osteoporosis and kidney stones. \\nTherefore, the correct answer is B.###', '-user:\\nQuestion : A 27-year-old woman is seen in clinic for ongoing management of her juvenile myoclonic epilepsy. Her seizures have been well controlled on lamotrigine, with no seizures in the past 2 years. She does report some symptoms of depression, as well as anticipatory anxiety regarding the possibility of future seizures. Which of the following options is the best next step in management?\\n        A. bupropion\\n        B. citalopram\\n        C. nortriptyline\\n        D. taper off lamotrigine and begin levetiracetam\\n        E. venlafaxine\\n-assistant:\\nAnswer :  This patient is reporting symptoms of depression and anxiety, both of which are common in patients with epilepsy. In patients requiring pharmacotherapy for these symptoms, selective serotonin reuptake inhibitors (SSRIs) such as citalopram are considered first-line treatments because of lower likelihood of additional side effects and minimal drug-drug interactions. Venlafaxine is another option if an SSRI is not tolerated, and tricyclic antidepressants (such as nortriptyline) could be considered if neither of these first two agents is successful. Lamotrigine is not commonly associated with depression and is often used as a mood stabilizer; it is unlikely to be the cause of these symptoms in this patient and should not be changed to levetiracetam. Bupropion is associated with a higher risk of seizures and should not be used. \\nTherefore, the correct answer is B.###', '-user:\\nQuestion : In addition to a risk of major congenital malformations, which of the following antiepileptic drugs is also associated with an elevated risk of autism spectrum disorders and lower IQ at age 6?\\n        A. carbamazepine\\n        B. lamotrigine\\n        C. phenobarbital\\n        D. phenytoin\\n        E. valproate\\n-assistant:\\nAnswer :  Women treated with valproate (either monotherapy or in combination with other antiepileptics) are at elevated risk of giving birth to children with major congenital malformations. In addition, of the medications listed above, valproate is also associated with a higher risk of neurodevelopmental effects in children exposed during pregnancy, as measured by lower IQ at age 6 and a higher risk of autism spectrum disorders. \\nTherefore, the correct answer is E.###'], ['-user:\\nQuestion : Which of the following conditions would likely preclude the consideration of epilepsy surgery in a patient?\\n        A. dominant hemisphere focus\\n        B. low-grade tumor\\n        C. mental retardation\\n        D. primary generalized epilepsy\\n        E. prior vagus nerve stimulator use\\n-assistant:\\nAnswer :  Patients who are typically not surgical candidates include those with clear evidence of bilateral onset of habitual seizures, those with severe psychiatric or medical comorbidities increasing surgical risk or compromising recovery, those with rapidly progressive CNS disease, and those with primary generalized epilepsy. \\nTherefore, the correct answer is D.###', '-user:\\nQuestion : Surgery for which of the following types of epilepsy is least likely to result in seizure freedom?\\n        A. epilepsy due to a hemispheric syndrome\\n        B. epilepsy due to neonatal infarct\\n        C. epilepsy due to tumor\\n        D. mesial temporal lobe epilepsy\\n        E. nonlesional neocortical epilepsy\\n-assistant:\\nAnswer :  The best outcomes from epilepsy surgery are for temporal lobectomy for mesial temporal sclerosis, lesional resections, and hemispherectomy, with lower seizure-free rates in patients with nonlesional neocortical resections. \\nTherefore, the correct answer is E.###', '-user:\\nQuestion : Which of the following is a possible predictor of refractory status epilepticus (status epilepticus not responding to two antiepileptic medications)?\\n        A. convulsive status epilepticus\\n        B. hypoxic-ischemic encephalopathy\\n        C. older age\\n        D. prior stroke\\n        E. underlying malignancy\\n-assistant:\\nAnswer :  Some etiologies of status epilepticus or patient factors may be more predictive of a refractory course that does not respond to initial treatments. Of the options listed above, hypoxic-ischemic encephalopathy (and other etiologies that are not associated with an underlying structural lesion) may be more likely to be refractory. Encephalitis, delays in diagnosis and treatment, and subtle symptoms as a manifestation of status epilepticus are other possible predictors. Physicians should be aware that these etiologies of status epilepticus may require more aggressive treatment. \\nTherefore, the correct answer is B.###'], ['-user:\\nQuestion : According to the International League Against Epilepsy’s 2010 revision of its seizure classification system, which of the following factors is most helpful in initially focusing the scope of diagnostic possibilities for specific electroclinical syndromes?\\n        A. age at onset\\n        B. family seizure history\\n        C. frequency of spells\\n        D. history of toxic exposure\\n        E. severity of the disorder\\n-assistant:\\nAnswer :  While all the other factors mentioned should be part of an initial seizure history, they are not as important in establishing the ultimate diagnosis. \\nTherefore, the correct answer is A.###', '-user:\\nQuestion : A 40-year-old woman is admitted to an epilepsy monitoring unit for evaluation of paroxysmal episodes of neurologic dysfunction. Her episodes involve some nonrhythmic shaking of both arms and pelvic thrusting without any correlate on the EEG; psychogenic nonepileptic events are diagnosed. Which of the following characteristics is most associated with a good outcome (ie, resolution of episodes)?\\n        A. episodes with prominent motor features\\n        B. female gender\\n        C. lower educational achievement\\n        D. older age at diagnosis\\n        E. shorter duration of illness\\n-assistant:\\nAnswer :  The description of the events provided above and the lack of EEG findings during her episodes are both suggestive of nonepileptic events. Prognosis after a diagnosis of psychogenic nonepileptic events is variable but may be dependent on certain characteristics. Of the options listed above, a shorter duration of illness (ie, shorter time between the onset of spells and the diagnosis of nonepileptic events) is most predictive of a positive outcome. Some of the other options listed above (older age, prominent/dramatic motor features, lower educational achievement) are associated with a poorer outcome after a diagnosis of nonepileptic events. \\nTherefore, the correct answer is E.###', '-user:\\nQuestion : Which of the following clinical factors is most predictive of cognitive decline after epilepsy surgery?\\n        A. higher preoperative cognitive performance\\n        B. presence of hippocampal sclerosis\\n        C. surgery on nonlanguage dominant hemisphere\\n        D. younger age at seizure onset\\n        E. younger age at time of surgery\\n-assistant:\\nAnswer :  Cognitive performance may improve in some patients after surgery, presumably related to better seizure control and possible decrease in the burden of anticonvulsants needed for seizure control. However, even with functional imaging or Wada testing to guide treatment decisions, some patients will note worsened cognitive functioning postoperatively. Of the options listed, patients with higher preoperative cognitive functioning are at a higher risk of new cognitive difficulties after surgery. Older age at seizure onset and at time of surgery, the lack of hippocampal atrophy or sclerosis, and surgery on the language-dominant hemisphere are other predictors of postoperative cognitive symptoms. \\nTherefore, the correct answer is A.###'], ['-user:\\nQuestion : Which of the following conditions would likely preclude the consideration of epilepsy surgery in a patient?\\n        A. dominant hemisphere focus\\n        B. low-grade tumor\\n        C. mental retardation\\n        D. primary generalized epilepsy\\n        E. prior vagus nerve stimulator use\\n-assistant:\\nAnswer :  Patients who are typically not surgical candidates include those with clear evidence of bilateral onset of habitual seizures, those with severe psychiatric or medical comorbidities increasing surgical risk or compromising recovery, those with rapidly progressive CNS disease, and those with primary generalized epilepsy. \\nTherefore, the correct answer is D.###', '-user:\\nQuestion : Surgery for which of the following types of epilepsy is least likely to result in seizure freedom?\\n        A. epilepsy due to a hemispheric syndrome\\n        B. epilepsy due to neonatal infarct\\n        C. epilepsy due to tumor\\n        D. mesial temporal lobe epilepsy\\n        E. nonlesional neocortical epilepsy\\n-assistant:\\nAnswer :  The best outcomes from epilepsy surgery are for temporal lobectomy for mesial temporal sclerosis, lesional resections, and hemispherectomy, with lower seizure-free rates in patients with nonlesional neocortical resections. \\nTherefore, the correct answer is E.###', '-user:\\nQuestion : A 10-year-old child with epilepsy since age 2 that is refractory to medical treatment has been followed serially with brain MRI scans, which show progressive atrophy of the left hemisphere. What is the most likely diagnosis?\\n        A. focal cortical dysplasia\\n        B. neurofibromatosis\\n        C. Rasmussen encephalitis\\n        D. Sturge-Weber syndrome\\n        E. tuberous sclerosis\\n-assistant:\\nAnswer :  MRI in Rasmussen encephalitis shows progressive atrophy of one of the cerebral hemispheres, usually beginning in the opercular region. \\nTherefore, the correct answer is C.###'], ['-user:\\nQuestion : Which of the following conditions would likely preclude the consideration of epilepsy surgery in a patient?\\n        A. dominant hemisphere focus\\n        B. low-grade tumor\\n        C. mental retardation\\n        D. primary generalized epilepsy\\n        E. prior vagus nerve stimulator use\\n-assistant:\\nAnswer :  Patients who are typically not surgical candidates include those with clear evidence of bilateral onset of habitual seizures, those with severe psychiatric or medical comorbidities increasing surgical risk or compromising recovery, those with rapidly progressive CNS disease, and those with primary generalized epilepsy. \\nTherefore, the correct answer is D.###', '-user:\\nQuestion : Surgery for which of the following types of epilepsy is least likely to result in seizure freedom?\\n        A. epilepsy due to a hemispheric syndrome\\n        B. epilepsy due to neonatal infarct\\n        C. epilepsy due to tumor\\n        D. mesial temporal lobe epilepsy\\n        E. nonlesional neocortical epilepsy\\n-assistant:\\nAnswer :  The best outcomes from epilepsy surgery are for temporal lobectomy for mesial temporal sclerosis, lesional resections, and hemispherectomy, with lower seizure-free rates in patients with nonlesional neocortical resections. \\nTherefore, the correct answer is E.###', '-user:\\nQuestion : The presence of a photoparoxysmal response to photic stimulation during an EEG is most commonly seen in which of the following settings?\\n        A. cognitively normal patients\\n        B. occipital lobe epilepsy\\n        C. primary generalized epilepsy\\n        D. sleep-deprived patients\\n        E. temporal lobe epilepsy\\n-assistant:\\nAnswer :  The photoparoxysmal response is an abnormal response seen in the setting of photic stimulation and goes beyond the “photic driving” of the posterior dominant rhythm seen in cognitively normal patients. It can be seen in different types of epilepsy but is most commonly seen in primary generalized epilepsies, especially childhood absence epilepsy. \\nTherefore, the correct answer is C.###'], ['-user:\\nQuestion : A patient with which of the following conditions should not be placed on a ketogenic diet?\\n        A. diabetes\\n        B. hyperlipidemia\\n        C. obesity\\n        D. pancreatitis\\n        E. Rett syndrome\\n-assistant:\\nAnswer :  Ketogenic diets are contraindicated in patients with pancreatitis, hepatic failure, primary carnitine deficiency, carnitine palmitoyl transferase I and II deficiency, carnitine translocase deficiency, beta-oxidation defects, pyruvate carboxylase deficiency, and porphyria. In the intensive care setting where diet therapy is being considered for treatment of refractory status epilepticus, the ketogenic diet is also contraindicated in patients who cannot tolerate enteral feeds, including those with ileus, who are receiving a propofol infusion (to avoid fatal propofol infusion syndrome), and in patients who have metabolic, hemodynamic, or cardiorespiratory instability. \\nTherefore, the correct answer is D.###', '-user:\\nQuestion : Which of the following is the most common side effect seen after placement of a vagus nerve stimulator?\\n        A. bradycardia\\n        B. device infection\\n        C. excessive cough\\n        D. vocal cord paralysis\\n        E. voice alteration/hoarseness\\n-assistant:\\nAnswer :  After placement of a vagus nerve stimulator, alteration of voice quality (including hoarseness) and excessive coughing are the most common side effects, seen in one study in about 66% and 45% of patients respectively. The other choices listed above are possible adverse effects of this procedure but are seen much less commonly. \\nTherefore, the correct answer is E.###', '-user:\\nQuestion : Which of the following clinical characteristics is associated with an increased risk of suicidal ideation in patients with epilepsy?\\n        A. coexistent depression\\n        B. higher frequency of seizures\\n        C. lower reported quality of life\\n        D. male sex\\n        E. partial-onset seizures\\n-assistant:\\nAnswer :  Among many potential predictors, only the presence of a coexisting mood disorder such as major depression is associated with a higher incidence of suicidal ideation in epilepsy patients. Other characteristics, including age, sex, seizure type, seizure control, duration of epilepsy, and lower quality of life, have not been associated with a higher risk of suicide. Because of this, routine screening for depression and suicidality in patients with epilepsy is recommended. \\nTherefore, the correct answer is A.###'], ['-user:\\nQuestion : Deep brain stimulation for drug-resistant epilepsy targets which of the following structures?\\n        A. anterior nucleus of the thalamus\\n        B. centromedian nucleus of the thalamus\\n        C. cingulate gyrus\\n        D. hippocampus\\n        E. internal segment of the globus pallidus\\n-assistant:\\nAnswer :  The anterior nucleus of the thalamus is part of the Papez circuit and is therefore believed to be a relay station for information passing from the amygdala and hippocampus to the cerebral cortex. Data have shown that inhibition of the anterior nucleus may result in prevention or cessation of seizures. \\nTherefore, the correct answer is A.###', '-user:\\nQuestion : Surgery for which of the following types of epilepsy is least likely to result in seizure freedom?\\n        A. epilepsy due to a hemispheric syndrome\\n        B. epilepsy due to neonatal infarct\\n        C. epilepsy due to tumor\\n        D. mesial temporal lobe epilepsy\\n        E. nonlesional neocortical epilepsy\\n-assistant:\\nAnswer :  The best outcomes from epilepsy surgery are for temporal lobectomy for mesial temporal sclerosis, lesional resections, and hemispherectomy, with lower seizure-free rates in patients with nonlesional neocortical resections. \\nTherefore, the correct answer is E.###', '-user:\\nQuestion : Which of the following seizure/epilepsy subtypes appears to respond best to deep brain stimulation techniques?\\n        A. absence seizures\\n        B. frontal lobe epilepsy\\n        C. juvenile myoclonic epilepsy\\n        D. Lennox-Gastaut syndrome\\n        E. temporal lobe epilepsy\\n-assistant:\\nAnswer :  In pivotal studies of deep brain stimulation of the anterior nucleus of the thalamus, patients with temporal lobe epilepsy responded best to this treatment approach. Patients with this form of epilepsy had a 44% reduction in seizures (compared to 22% in controls); patients with seizures originating from other lobes had no significant effect from this procedure. One possible explanation for this finding is the connection between the hippocampus and the anterior nucleus as part of the Papez circuit. \\nTherefore, the correct answer is E.###'], ['-user:\\nQuestion : Which of the following conditions would likely preclude the consideration of epilepsy surgery in a patient?\\n        A. dominant hemisphere focus\\n        B. low-grade tumor\\n        C. mental retardation\\n        D. primary generalized epilepsy\\n        E. prior vagus nerve stimulator use\\n-assistant:\\nAnswer :  Patients who are typically not surgical candidates include those with clear evidence of bilateral onset of habitual seizures, those with severe psychiatric or medical comorbidities increasing surgical risk or compromising recovery, those with rapidly progressive CNS disease, and those with primary generalized epilepsy. \\nTherefore, the correct answer is D.###', '-user:\\nQuestion : Which of the following is a possible predictor of refractory status epilepticus (status epilepticus not responding to two antiepileptic medications)?\\n        A. convulsive status epilepticus\\n        B. hypoxic-ischemic encephalopathy\\n        C. older age\\n        D. prior stroke\\n        E. underlying malignancy\\n-assistant:\\nAnswer :  Some etiologies of status epilepticus or patient factors may be more predictive of a refractory course that does not respond to initial treatments. Of the options listed above, hypoxic-ischemic encephalopathy (and other etiologies that are not associated with an underlying structural lesion) may be more likely to be refractory. Encephalitis, delays in diagnosis and treatment, and subtle symptoms as a manifestation of status epilepticus are other possible predictors. Physicians should be aware that these etiologies of status epilepticus may require more aggressive treatment. \\nTherefore, the correct answer is B.###', '-user:\\nQuestion : Which of the following clinical characteristics is associated with an increased risk of suicidal ideation in patients with epilepsy?\\n        A. coexistent depression\\n        B. higher frequency of seizures\\n        C. lower reported quality of life\\n        D. male sex\\n        E. partial-onset seizures\\n-assistant:\\nAnswer :  Among many potential predictors, only the presence of a coexisting mood disorder such as major depression is associated with a higher incidence of suicidal ideation in epilepsy patients. Other characteristics, including age, sex, seizure type, seizure control, duration of epilepsy, and lower quality of life, have not been associated with a higher risk of suicide. Because of this, routine screening for depression and suicidality in patients with epilepsy is recommended. \\nTherefore, the correct answer is A.###'], ['-user:\\nQuestion : Which of the following EEG patterns is rarely seen in normal patients and has a high specificity for temporal lobe epilepsy?\\n        A. 14 and 6 positive spikes\\n        B. diffuse slow activity\\n        C. rhythmic temporal delta\\n        D. triphasic waves\\n        E. wicket spikes\\n-assistant:\\nAnswer :  Of the options listed above, rhythmic temporal delta activity is most suggestive of temporal lobe epilepsy. While sensitivity for this finding is not especially high, it is rarely seen outside of the context of temporal lobe seizures and therefore carries high specificity. Triphasic waves are most commonly seen in patients with metabolic encephalopathy. Diffuse slow activity is seen in patients with traumatic brain injury, subarachnoid hemorrhage, toxic-metabolic encephalopathies, and other processes that affect the brain more diffusely. Wicket spikes and 14 and 6 positive spikes are considered normal EEG variants seen in older adults and adolescents, respectively. \\nTherefore, the correct answer is C.###', '-user:\\nQuestion : Approximately what percentage of patients with epilepsy will become seizure free on the initial antiepileptic drug regimen?\\n        A. 10%\\n        B. 40%\\n        C. 60%\\n        D. 80%\\n        E. 95%\\n-assistant:\\nAnswer :  Data suggest that 35% to 40% of patients will be well controlled on the initial antiepileptic drug regimen chosen for them. Once a patient is well controlled, both the patient and physician may be reluctant to make changes in the regimen, even if there is good rationale for making an adjustment. This underscores the importance of making a wise initial choice in an antiepileptic medication because there may be limited ability to make changes in the future. This choice must weigh data on effectiveness, adverse effects, teratogenicity, and patient compliance, among other considerations. \\nTherefore, the correct answer is B.###', '-user:\\nQuestion : A 6-year-old child with Lennox-Gastaut syndrome and medically resistant epilepsy is currently on two anticonvulsants and still has several seizures daily despite trials of more than five antiepileptic drugs. Dietary treatment with a ketogenic diet is proposed. What is the approximate percent chance that this patient will respond with a greater than 50% seizure reduction?\\n        A. 5%\\n        B. 10%\\n        C. 25%\\n        D. 50%\\n        E. 90%\\n-assistant:\\nAnswer :  Randomized controlled studies and meta-analyses have shown that approximately 50% of children with pharmacoresistant epilepsy have greater than 50% reduction in seizures on the ketogenic diet. \\nTherefore, the correct answer is D.###'], ['-user:\\nQuestion : Which of the following conditions would likely preclude the consideration of epilepsy surgery in a patient?\\n        A. dominant hemisphere focus\\n        B. low-grade tumor\\n        C. mental retardation\\n        D. primary generalized epilepsy\\n        E. prior vagus nerve stimulator use\\n-assistant:\\nAnswer :  Patients who are typically not surgical candidates include those with clear evidence of bilateral onset of habitual seizures, those with severe psychiatric or medical comorbidities increasing surgical risk or compromising recovery, those with rapidly progressive CNS disease, and those with primary generalized epilepsy. \\nTherefore, the correct answer is D.###', '-user:\\nQuestion : Surgery for which of the following types of epilepsy is least likely to result in seizure freedom?\\n        A. epilepsy due to a hemispheric syndrome\\n        B. epilepsy due to neonatal infarct\\n        C. epilepsy due to tumor\\n        D. mesial temporal lobe epilepsy\\n        E. nonlesional neocortical epilepsy\\n-assistant:\\nAnswer :  The best outcomes from epilepsy surgery are for temporal lobectomy for mesial temporal sclerosis, lesional resections, and hemispherectomy, with lower seizure-free rates in patients with nonlesional neocortical resections. \\nTherefore, the correct answer is E.###', '-user:\\nQuestion : Which of the following clinical characteristics is associated with an increased risk of suicidal ideation in patients with epilepsy?\\n        A. coexistent depression\\n        B. higher frequency of seizures\\n        C. lower reported quality of life\\n        D. male sex\\n        E. partial-onset seizures\\n-assistant:\\nAnswer :  Among many potential predictors, only the presence of a coexisting mood disorder such as major depression is associated with a higher incidence of suicidal ideation in epilepsy patients. Other characteristics, including age, sex, seizure type, seizure control, duration of epilepsy, and lower quality of life, have not been associated with a higher risk of suicide. Because of this, routine screening for depression and suicidality in patients with epilepsy is recommended. \\nTherefore, the correct answer is A.###'], ['-user:\\nQuestion : A 10-year-old child with epilepsy since age 2 that is refractory to medical treatment has been followed serially with brain MRI scans, which show progressive atrophy of the left hemisphere. What is the most likely diagnosis?\\n        A. focal cortical dysplasia\\n        B. neurofibromatosis\\n        C. Rasmussen encephalitis\\n        D. Sturge-Weber syndrome\\n        E. tuberous sclerosis\\n-assistant:\\nAnswer :  MRI in Rasmussen encephalitis shows progressive atrophy of one of the cerebral hemispheres, usually beginning in the opercular region. \\nTherefore, the correct answer is C.###', '-user:\\nQuestion : Which of the following clinical characteristics is associated with an increased risk of suicidal ideation in patients with epilepsy?\\n        A. coexistent depression\\n        B. higher frequency of seizures\\n        C. lower reported quality of life\\n        D. male sex\\n        E. partial-onset seizures\\n-assistant:\\nAnswer :  Among many potential predictors, only the presence of a coexisting mood disorder such as major depression is associated with a higher incidence of suicidal ideation in epilepsy patients. Other characteristics, including age, sex, seizure type, seizure control, duration of epilepsy, and lower quality of life, have not been associated with a higher risk of suicide. Because of this, routine screening for depression and suicidality in patients with epilepsy is recommended. \\nTherefore, the correct answer is A.###', '-user:\\nQuestion : The presence of a photoparoxysmal response to photic stimulation during an EEG is most commonly seen in which of the following settings?\\n        A. cognitively normal patients\\n        B. occipital lobe epilepsy\\n        C. primary generalized epilepsy\\n        D. sleep-deprived patients\\n        E. temporal lobe epilepsy\\n-assistant:\\nAnswer :  The photoparoxysmal response is an abnormal response seen in the setting of photic stimulation and goes beyond the “photic driving” of the posterior dominant rhythm seen in cognitively normal patients. It can be seen in different types of epilepsy but is most commonly seen in primary generalized epilepsies, especially childhood absence epilepsy. \\nTherefore, the correct answer is C.###'], ['-user:\\nQuestion : Which of the following is the major role of the neurologist after a diagnosis of psychogenic nonepileptic events?\\n        A. appropriately weaning antiepileptic drugs\\n        B. describing events in ambiguous terms\\n        C. ensuring that patients continue to refrain from driving a motor vehicle\\n        D. ordering follow-up EEG in 6 to 12 months\\n        E. prescribing a selective serotonin reuptake inhibitor or other antidepressant\\n-assistant:\\nAnswer :  After a diagnosis of psychogenic nonepileptic attacks, one of the major roles of the neurologist is the rational weaning of antiepileptic medications. This should be done with the caveat that coexistent epilepsy may also be present, so the physician needs to keep an open mind regarding new events (although routine surveillance EEGs are not necessarily indicated). Driving restrictions should be handled on an individual case basis, although most patients can return to driving with little chance of injury. Neurologists should use unambiguous terms when describing the diagnosis to the patient and other providers so that the misdiagnosis of epilepsy is not perpetuated. While mental health care is often needed, the routine prescription of antidepressants is not always indicated. \\nTherefore, the correct answer is A.###', '-user:\\nQuestion : According to the International League Against Epilepsy’s 2010 revision of its seizure classification system, which of the following factors is most helpful in initially focusing the scope of diagnostic possibilities for specific electroclinical syndromes?\\n        A. age at onset\\n        B. family seizure history\\n        C. frequency of spells\\n        D. history of toxic exposure\\n        E. severity of the disorder\\n-assistant:\\nAnswer :  While all the other factors mentioned should be part of an initial seizure history, they are not as important in establishing the ultimate diagnosis. \\nTherefore, the correct answer is A.###', '-user:\\nQuestion : A 6-year-old child with Lennox-Gastaut syndrome and medically resistant epilepsy is currently on two anticonvulsants and still has several seizures daily despite trials of more than five antiepileptic drugs. Dietary treatment with a ketogenic diet is proposed. What is the approximate percent chance that this patient will respond with a greater than 50% seizure reduction?\\n        A. 5%\\n        B. 10%\\n        C. 25%\\n        D. 50%\\n        E. 90%\\n-assistant:\\nAnswer :  Randomized controlled studies and meta-analyses have shown that approximately 50% of children with pharmacoresistant epilepsy have greater than 50% reduction in seizures on the ketogenic diet. \\nTherefore, the correct answer is D.###'], ['-user:\\nQuestion : According to the International League Against Epilepsy’s 2010 revision of its seizure classification system, which of the following factors is most helpful in initially focusing the scope of diagnostic possibilities for specific electroclinical syndromes?\\n        A. age at onset\\n        B. family seizure history\\n        C. frequency of spells\\n        D. history of toxic exposure\\n        E. severity of the disorder\\n-assistant:\\nAnswer :  While all the other factors mentioned should be part of an initial seizure history, they are not as important in establishing the ultimate diagnosis. \\nTherefore, the correct answer is A.###', '-user:\\nQuestion : A 40-year-old woman is admitted to an epilepsy monitoring unit for evaluation of paroxysmal episodes of neurologic dysfunction. Her episodes involve some nonrhythmic shaking of both arms and pelvic thrusting without any correlate on the EEG; psychogenic nonepileptic events are diagnosed. Which of the following characteristics is most associated with a good outcome (ie, resolution of episodes)?\\n        A. episodes with prominent motor features\\n        B. female gender\\n        C. lower educational achievement\\n        D. older age at diagnosis\\n        E. shorter duration of illness\\n-assistant:\\nAnswer :  The description of the events provided above and the lack of EEG findings during her episodes are both suggestive of nonepileptic events. Prognosis after a diagnosis of psychogenic nonepileptic events is variable but may be dependent on certain characteristics. Of the options listed above, a shorter duration of illness (ie, shorter time between the onset of spells and the diagnosis of nonepileptic events) is most predictive of a positive outcome. Some of the other options listed above (older age, prominent/dramatic motor features, lower educational achievement) are associated with a poorer outcome after a diagnosis of nonepileptic events. \\nTherefore, the correct answer is E.###', '-user:\\nQuestion : A 23-year-old man is admitted to the hospital for long-term video-EEG monitoring. He has multiple events while in the hospital, but no clear abnormality is apparent on the EEG. Which of the following characteristics may still support a diagnosis of epileptic seizures as opposed to psychogenic nonepileptic events?\\n        A. ability for events to be induced or suggested\\n        B. high-amplitude, thrashing motor activity\\n        C. lack of events occurring in sleep\\n        D. prolonged alterations in level of alertness\\n        E. stereotyped nature of events\\n-assistant:\\nAnswer :  There are some limitations on the ability of video-EEG monitoring to definitively make a diagnosis of epileptic seizures. Events with subtle, subjective symptoms (eg, simple partial seizures or auras) may involve only a small area of cortex and may not be detected by a surface EEG. Events of this type that are highly stereotyped in nature may still represent epileptic events despite the lack of EEG findings during monitoring. Thrashing motor activity can sometimes obscure the EEG because of motion artifact, but the semiology of these events usually allows for them to be characterized as nonepileptic. Similarly, in the setting of a reassuring EEG, the other options listed above (suggestibility, prolonged alterations in consciousness, lack of sleep-related events) would all be more suggestive of psychogenic nonepileptic events. \\nTherefore, the correct answer is E.###'], ['-user:\\nQuestion : Which of the following conditions would likely preclude the consideration of epilepsy surgery in a patient?\\n        A. dominant hemisphere focus\\n        B. low-grade tumor\\n        C. mental retardation\\n        D. primary generalized epilepsy\\n        E. prior vagus nerve stimulator use\\n-assistant:\\nAnswer :  Patients who are typically not surgical candidates include those with clear evidence of bilateral onset of habitual seizures, those with severe psychiatric or medical comorbidities increasing surgical risk or compromising recovery, those with rapidly progressive CNS disease, and those with primary generalized epilepsy. \\nTherefore, the correct answer is D.###', '-user:\\nQuestion : Surgery for which of the following types of epilepsy is least likely to result in seizure freedom?\\n        A. epilepsy due to a hemispheric syndrome\\n        B. epilepsy due to neonatal infarct\\n        C. epilepsy due to tumor\\n        D. mesial temporal lobe epilepsy\\n        E. nonlesional neocortical epilepsy\\n-assistant:\\nAnswer :  The best outcomes from epilepsy surgery are for temporal lobectomy for mesial temporal sclerosis, lesional resections, and hemispherectomy, with lower seizure-free rates in patients with nonlesional neocortical resections. \\nTherefore, the correct answer is E.###', '-user:\\nQuestion : Which of the following seizure/epilepsy subtypes appears to respond best to deep brain stimulation techniques?\\n        A. absence seizures\\n        B. frontal lobe epilepsy\\n        C. juvenile myoclonic epilepsy\\n        D. Lennox-Gastaut syndrome\\n        E. temporal lobe epilepsy\\n-assistant:\\nAnswer :  In pivotal studies of deep brain stimulation of the anterior nucleus of the thalamus, patients with temporal lobe epilepsy responded best to this treatment approach. Patients with this form of epilepsy had a 44% reduction in seizures (compared to 22% in controls); patients with seizures originating from other lobes had no significant effect from this procedure. One possible explanation for this finding is the connection between the hippocampus and the anterior nucleus as part of the Papez circuit. \\nTherefore, the correct answer is E.###'], ['-user:\\nQuestion : Which of the following is the major role of the neurologist after a diagnosis of psychogenic nonepileptic events?\\n        A. appropriately weaning antiepileptic drugs\\n        B. describing events in ambiguous terms\\n        C. ensuring that patients continue to refrain from driving a motor vehicle\\n        D. ordering follow-up EEG in 6 to 12 months\\n        E. prescribing a selective serotonin reuptake inhibitor or other antidepressant\\n-assistant:\\nAnswer :  After a diagnosis of psychogenic nonepileptic attacks, one of the major roles of the neurologist is the rational weaning of antiepileptic medications. This should be done with the caveat that coexistent epilepsy may also be present, so the physician needs to keep an open mind regarding new events (although routine surveillance EEGs are not necessarily indicated). Driving restrictions should be handled on an individual case basis, although most patients can return to driving with little chance of injury. Neurologists should use unambiguous terms when describing the diagnosis to the patient and other providers so that the misdiagnosis of epilepsy is not perpetuated. While mental health care is often needed, the routine prescription of antidepressants is not always indicated. \\nTherefore, the correct answer is A.###', '-user:\\nQuestion : According to the International League Against Epilepsy’s 2010 revision of its seizure classification system, which of the following factors is most helpful in initially focusing the scope of diagnostic possibilities for specific electroclinical syndromes?\\n        A. age at onset\\n        B. family seizure history\\n        C. frequency of spells\\n        D. history of toxic exposure\\n        E. severity of the disorder\\n-assistant:\\nAnswer :  While all the other factors mentioned should be part of an initial seizure history, they are not as important in establishing the ultimate diagnosis. \\nTherefore, the correct answer is A.###', '-user:\\nQuestion : Which of the following best describes the relationship between vagus nerve stimulation and risk of bradycardia?\\n        A. can be seen with stimulation of either nerve\\n        B. higher risk with left nerve stimulation\\n        C. lowest risk seen with bilateral stimulation\\n        D. no risk with left nerve stimulation\\n        E. no risk with right nerve stimulation\\n-assistant:\\nAnswer :  Efferent fibers of the vagus nerve originating from the nucleus ambiguous include cardiac branches that help control heart rhythms. Since fibers originating from the right vagus nerve primarily innervate the sinoatrial node, it was thought that right nerve stimulation (or bilateral stimulation) may be most likely to cause bradycardia. However, at certain stimulator settings, even stimulation of the left vagus nerve (which primarily innervates the atrioventricular node) may precipitate bradycardia. Neurologists involved in programming stimulators should be aware that bradycardia can be a risk with stimulation of either nerve. \\nTherefore, the correct answer is A.###'], ['-user:\\nQuestion : Surgery for which of the following types of epilepsy is least likely to result in seizure freedom?\\n        A. epilepsy due to a hemispheric syndrome\\n        B. epilepsy due to neonatal infarct\\n        C. epilepsy due to tumor\\n        D. mesial temporal lobe epilepsy\\n        E. nonlesional neocortical epilepsy\\n-assistant:\\nAnswer :  The best outcomes from epilepsy surgery are for temporal lobectomy for mesial temporal sclerosis, lesional resections, and hemispherectomy, with lower seizure-free rates in patients with nonlesional neocortical resections. \\nTherefore, the correct answer is E.###', '-user:\\nQuestion : Which of the following is a possible predictor of refractory status epilepticus (status epilepticus not responding to two antiepileptic medications)?\\n        A. convulsive status epilepticus\\n        B. hypoxic-ischemic encephalopathy\\n        C. older age\\n        D. prior stroke\\n        E. underlying malignancy\\n-assistant:\\nAnswer :  Some etiologies of status epilepticus or patient factors may be more predictive of a refractory course that does not respond to initial treatments. Of the options listed above, hypoxic-ischemic encephalopathy (and other etiologies that are not associated with an underlying structural lesion) may be more likely to be refractory. Encephalitis, delays in diagnosis and treatment, and subtle symptoms as a manifestation of status epilepticus are other possible predictors. Physicians should be aware that these etiologies of status epilepticus may require more aggressive treatment. \\nTherefore, the correct answer is B.###', '-user:\\nQuestion : The presence of a photoparoxysmal response to photic stimulation during an EEG is most commonly seen in which of the following settings?\\n        A. cognitively normal patients\\n        B. occipital lobe epilepsy\\n        C. primary generalized epilepsy\\n        D. sleep-deprived patients\\n        E. temporal lobe epilepsy\\n-assistant:\\nAnswer :  The photoparoxysmal response is an abnormal response seen in the setting of photic stimulation and goes beyond the “photic driving” of the posterior dominant rhythm seen in cognitively normal patients. It can be seen in different types of epilepsy but is most commonly seen in primary generalized epilepsies, especially childhood absence epilepsy. \\nTherefore, the correct answer is C.###'], ['-user:\\nQuestion : According to the International League Against Epilepsy’s 2010 revision of its seizure classification system, which of the following factors is most helpful in initially focusing the scope of diagnostic possibilities for specific electroclinical syndromes?\\n        A. age at onset\\n        B. family seizure history\\n        C. frequency of spells\\n        D. history of toxic exposure\\n        E. severity of the disorder\\n-assistant:\\nAnswer :  While all the other factors mentioned should be part of an initial seizure history, they are not as important in establishing the ultimate diagnosis. \\nTherefore, the correct answer is A.###', '-user:\\nQuestion : Which of the following conditions would likely preclude the consideration of epilepsy surgery in a patient?\\n        A. dominant hemisphere focus\\n        B. low-grade tumor\\n        C. mental retardation\\n        D. primary generalized epilepsy\\n        E. prior vagus nerve stimulator use\\n-assistant:\\nAnswer :  Patients who are typically not surgical candidates include those with clear evidence of bilateral onset of habitual seizures, those with severe psychiatric or medical comorbidities increasing surgical risk or compromising recovery, those with rapidly progressive CNS disease, and those with primary generalized epilepsy. \\nTherefore, the correct answer is D.###', '-user:\\nQuestion : Which of the following is a possible predictor of refractory status epilepticus (status epilepticus not responding to two antiepileptic medications)?\\n        A. convulsive status epilepticus\\n        B. hypoxic-ischemic encephalopathy\\n        C. older age\\n        D. prior stroke\\n        E. underlying malignancy\\n-assistant:\\nAnswer :  Some etiologies of status epilepticus or patient factors may be more predictive of a refractory course that does not respond to initial treatments. Of the options listed above, hypoxic-ischemic encephalopathy (and other etiologies that are not associated with an underlying structural lesion) may be more likely to be refractory. Encephalitis, delays in diagnosis and treatment, and subtle symptoms as a manifestation of status epilepticus are other possible predictors. Physicians should be aware that these etiologies of status epilepticus may require more aggressive treatment. \\nTherefore, the correct answer is B.###'], ['-user:\\nQuestion : A 27-year-old woman is seen in clinic for ongoing management of her juvenile myoclonic epilepsy. Her seizures have been well controlled on lamotrigine, with no seizures in the past 2 years. She does report some symptoms of depression, as well as anticipatory anxiety regarding the possibility of future seizures. Which of the following options is the best next step in management?\\n        A. bupropion\\n        B. citalopram\\n        C. nortriptyline\\n        D. taper off lamotrigine and begin levetiracetam\\n        E. venlafaxine\\n-assistant:\\nAnswer :  This patient is reporting symptoms of depression and anxiety, both of which are common in patients with epilepsy. In patients requiring pharmacotherapy for these symptoms, selective serotonin reuptake inhibitors (SSRIs) such as citalopram are considered first-line treatments because of lower likelihood of additional side effects and minimal drug-drug interactions. Venlafaxine is another option if an SSRI is not tolerated, and tricyclic antidepressants (such as nortriptyline) could be considered if neither of these first two agents is successful. Lamotrigine is not commonly associated with depression and is often used as a mood stabilizer; it is unlikely to be the cause of these symptoms in this patient and should not be changed to levetiracetam. Bupropion is associated with a higher risk of seizures and should not be used. \\nTherefore, the correct answer is B.###', '-user:\\nQuestion : A 27-year-old woman with longstanding complex partial seizures, well controlled on monotherapy with carbamazepine, is seen in the first trimester of pregnancy. She is concerned about seizures becoming more frequent during pregnancy. Which of the following is the most appropriate counseling of this patient regarding her pregnancy and seizure recurrence?\\n        A. most women experience a decrease in seizure frequency\\n        B. most women experience an increase in seizure frequency\\n        C. most women experience no change in seizure frequency\\n        D. seizures are least likely to occur in the third trimester\\n        E. seizures are more likely to be generalized in nature\\n-assistant:\\nAnswer :  Although the effect of pregnancy on seizure frequency is variable, most women with epilepsy do not experience a significant change in the number or severity of their seizures. Expected physiologic hormonal changes, alterations in sleep and other routines, and other factors can alter the seizure frequency in some cases. Noncompliance can also play a role, since some women will discontinue their medications with the assumption that the teratogenic effects of antiepileptic medications outweigh their potential benefits. \\nTherefore, the correct answer is C.###', '-user:\\nQuestion : A 76-year-old man is admitted with a right frontal intracerebral hemorrhage. After some initial improvement in his neurologic status, he has become a bit less responsive. EEG shows fluctuating right greater than left periodic discharges at 1 to 2 Hz without definite evolution. Which of the following is the best next step in management?\\n        A. 0.1 mg/kg IV lorazepam\\n        B. continuous propofol infusion\\n        C. observation with repeat 30-minute EEG in 24 hours\\n        D. oral levetiracetam\\n        E. sequential small doses of midazolam or other IV antiepileptic drug until the EEG pattern resolves\\n-assistant:\\nAnswer :  Nonconvulsive status epilepticus is increasingly being identified as a cause of altered mental status in critically ill patients, including patients with structural brain lesions such as intracerebral hemorrhage. The persistent mental status change is suggestive of nonconvulsive status epilepticus. Initial management consists of sequential administration of low-dose benzodiazepines (preferably short-acting agents, such as midazolam) or IV administration of a relatively nonsedating antiepileptic medication (such as levetiracetam or lacosamide). After initiation of these medications, improvement in the clinical state and EEG is supportive of a diagnosis of nonconvulsive status epilepticus. Initiation of additional antiepileptics should be held until the diagnosis is clearer. \\nTherefore, the correct answer is E.###'], ['-user:\\nQuestion : According to the International League Against Epilepsy’s 2010 revision of its seizure classification system, which of the following factors is most helpful in initially focusing the scope of diagnostic possibilities for specific electroclinical syndromes?\\n        A. age at onset\\n        B. family seizure history\\n        C. frequency of spells\\n        D. history of toxic exposure\\n        E. severity of the disorder\\n-assistant:\\nAnswer :  While all the other factors mentioned should be part of an initial seizure history, they are not as important in establishing the ultimate diagnosis. \\nTherefore, the correct answer is A.###', '-user:\\nQuestion : A 63-year-old woman is hospitalized with herpes simplex virus encephalitis. Which of the following EEG patterns is most likely to be seen in this patient?\\n        A. burst suppression\\n        B. generalized periodic discharges\\n        C. periodic lateralizing discharges\\n        D. small sharp spikes\\n        E. stimulus-induced, rhythmic, periodic, or ictal discharges\\n-assistant:\\nAnswer :  Periodic lateralizing discharges are EEG abnormalities commonly seen in certain scenarios, including herpes encephalitis. Other conditions in which periodic lateralizing discharges are seen include focal brain lesions, nonketotic hyperglycemia, alcohol withdrawal, and theophylline exposure. Generalized periodic discharges are more commonly seen in anoxic brain injury, Creutzfeldt-Jakob disease, and other diffuse processes. Stimulus-induced, rhythmic, periodic, or ictal discharges (SIRPIDs) are most commonly seen in critically ill patients, even those without neurologic illness. Burst suppression is typically seen in anoxic encephalopathy or in the setting of certain medications (eg, propofol, barbiturates). \\nTherefore, the correct answer is C.###', '-user:\\nQuestion : A 40-year-old woman is admitted to an epilepsy monitoring unit for evaluation of paroxysmal episodes of neurologic dysfunction. Her episodes involve some nonrhythmic shaking of both arms and pelvic thrusting without any correlate on the EEG; psychogenic nonepileptic events are diagnosed. Which of the following characteristics is most associated with a good outcome (ie, resolution of episodes)?\\n        A. episodes with prominent motor features\\n        B. female gender\\n        C. lower educational achievement\\n        D. older age at diagnosis\\n        E. shorter duration of illness\\n-assistant:\\nAnswer :  The description of the events provided above and the lack of EEG findings during her episodes are both suggestive of nonepileptic events. Prognosis after a diagnosis of psychogenic nonepileptic events is variable but may be dependent on certain characteristics. Of the options listed above, a shorter duration of illness (ie, shorter time between the onset of spells and the diagnosis of nonepileptic events) is most predictive of a positive outcome. Some of the other options listed above (older age, prominent/dramatic motor features, lower educational achievement) are associated with a poorer outcome after a diagnosis of nonepileptic events. \\nTherefore, the correct answer is E.###'], ['-user:\\nQuestion : According to the International League Against Epilepsy’s 2010 revision of its seizure classification system, which of the following factors is most helpful in initially focusing the scope of diagnostic possibilities for specific electroclinical syndromes?\\n        A. age at onset\\n        B. family seizure history\\n        C. frequency of spells\\n        D. history of toxic exposure\\n        E. severity of the disorder\\n-assistant:\\nAnswer :  While all the other factors mentioned should be part of an initial seizure history, they are not as important in establishing the ultimate diagnosis. \\nTherefore, the correct answer is A.###', '-user:\\nQuestion : A 63-year-old woman is hospitalized with herpes simplex virus encephalitis. Which of the following EEG patterns is most likely to be seen in this patient?\\n        A. burst suppression\\n        B. generalized periodic discharges\\n        C. periodic lateralizing discharges\\n        D. small sharp spikes\\n        E. stimulus-induced, rhythmic, periodic, or ictal discharges\\n-assistant:\\nAnswer :  Periodic lateralizing discharges are EEG abnormalities commonly seen in certain scenarios, including herpes encephalitis. Other conditions in which periodic lateralizing discharges are seen include focal brain lesions, nonketotic hyperglycemia, alcohol withdrawal, and theophylline exposure. Generalized periodic discharges are more commonly seen in anoxic brain injury, Creutzfeldt-Jakob disease, and other diffuse processes. Stimulus-induced, rhythmic, periodic, or ictal discharges (SIRPIDs) are most commonly seen in critically ill patients, even those without neurologic illness. Burst suppression is typically seen in anoxic encephalopathy or in the setting of certain medications (eg, propofol, barbiturates). \\nTherefore, the correct answer is C.###', '-user:\\nQuestion : Which of the following EEG patterns is rarely seen in normal patients and has a high specificity for temporal lobe epilepsy?\\n        A. 14 and 6 positive spikes\\n        B. diffuse slow activity\\n        C. rhythmic temporal delta\\n        D. triphasic waves\\n        E. wicket spikes\\n-assistant:\\nAnswer :  Of the options listed above, rhythmic temporal delta activity is most suggestive of temporal lobe epilepsy. While sensitivity for this finding is not especially high, it is rarely seen outside of the context of temporal lobe seizures and therefore carries high specificity. Triphasic waves are most commonly seen in patients with metabolic encephalopathy. Diffuse slow activity is seen in patients with traumatic brain injury, subarachnoid hemorrhage, toxic-metabolic encephalopathies, and other processes that affect the brain more diffusely. Wicket spikes and 14 and 6 positive spikes are considered normal EEG variants seen in older adults and adolescents, respectively. \\nTherefore, the correct answer is C.###'], ['-user:\\nQuestion : Which of the following antiepileptic drug combinations is most likely to result in symptoms of diplopia and dizziness?\\n        A. phenobarbital and valproate\\n        B. phenytoin and carbamazepine\\n        C. phenytoin and gabapentin\\n        D. topiramate and carbamazepine\\n        E. valproate and lamotrigine\\n-assistant:\\nAnswer :  The combination of phenytoin and carbamazepine frequently results in the adverse effects of dizziness and diplopia. In addition, both medications have enzyme-inducing properties, resulting in complex pharmacologic interactions and difficulty maintaining therapeutic levels. Phenobarbital and valproate have a higher likelihood of resulting in weight gain. Combining valproate and lamotrigine may increase the risk of Stevens-Johnson syndrome, so dosing adjustments need to be made carefully. \\nTherefore, the correct answer is B.###', '-user:\\nQuestion : Approximately what percentage of patients with epilepsy will become seizure free on the initial antiepileptic drug regimen?\\n        A. 10%\\n        B. 40%\\n        C. 60%\\n        D. 80%\\n        E. 95%\\n-assistant:\\nAnswer :  Data suggest that 35% to 40% of patients will be well controlled on the initial antiepileptic drug regimen chosen for them. Once a patient is well controlled, both the patient and physician may be reluctant to make changes in the regimen, even if there is good rationale for making an adjustment. This underscores the importance of making a wise initial choice in an antiepileptic medication because there may be limited ability to make changes in the future. This choice must weigh data on effectiveness, adverse effects, teratogenicity, and patient compliance, among other considerations. \\nTherefore, the correct answer is B.###', '-user:\\nQuestion : Which of the following best describes the relationship between vagus nerve stimulation and risk of bradycardia?\\n        A. can be seen with stimulation of either nerve\\n        B. higher risk with left nerve stimulation\\n        C. lowest risk seen with bilateral stimulation\\n        D. no risk with left nerve stimulation\\n        E. no risk with right nerve stimulation\\n-assistant:\\nAnswer :  Efferent fibers of the vagus nerve originating from the nucleus ambiguous include cardiac branches that help control heart rhythms. Since fibers originating from the right vagus nerve primarily innervate the sinoatrial node, it was thought that right nerve stimulation (or bilateral stimulation) may be most likely to cause bradycardia. However, at certain stimulator settings, even stimulation of the left vagus nerve (which primarily innervates the atrioventricular node) may precipitate bradycardia. Neurologists involved in programming stimulators should be aware that bradycardia can be a risk with stimulation of either nerve. \\nTherefore, the correct answer is A.###'], ['-user:\\nQuestion : Approximately what percentage of patients with epilepsy will become seizure free on the initial antiepileptic drug regimen?\\n        A. 10%\\n        B. 40%\\n        C. 60%\\n        D. 80%\\n        E. 95%\\n-assistant:\\nAnswer :  Data suggest that 35% to 40% of patients will be well controlled on the initial antiepileptic drug regimen chosen for them. Once a patient is well controlled, both the patient and physician may be reluctant to make changes in the regimen, even if there is good rationale for making an adjustment. This underscores the importance of making a wise initial choice in an antiepileptic medication because there may be limited ability to make changes in the future. This choice must weigh data on effectiveness, adverse effects, teratogenicity, and patient compliance, among other considerations. \\nTherefore, the correct answer is B.###', '-user:\\nQuestion : Which of the following best describes the relationship between vagus nerve stimulation and risk of bradycardia?\\n        A. can be seen with stimulation of either nerve\\n        B. higher risk with left nerve stimulation\\n        C. lowest risk seen with bilateral stimulation\\n        D. no risk with left nerve stimulation\\n        E. no risk with right nerve stimulation\\n-assistant:\\nAnswer :  Efferent fibers of the vagus nerve originating from the nucleus ambiguous include cardiac branches that help control heart rhythms. Since fibers originating from the right vagus nerve primarily innervate the sinoatrial node, it was thought that right nerve stimulation (or bilateral stimulation) may be most likely to cause bradycardia. However, at certain stimulator settings, even stimulation of the left vagus nerve (which primarily innervates the atrioventricular node) may precipitate bradycardia. Neurologists involved in programming stimulators should be aware that bradycardia can be a risk with stimulation of either nerve. \\nTherefore, the correct answer is A.###', '-user:\\nQuestion : A 6-year-old child with Lennox-Gastaut syndrome and medically resistant epilepsy is currently on two anticonvulsants and still has several seizures daily despite trials of more than five antiepileptic drugs. Dietary treatment with a ketogenic diet is proposed. What is the approximate percent chance that this patient will respond with a greater than 50% seizure reduction?\\n        A. 5%\\n        B. 10%\\n        C. 25%\\n        D. 50%\\n        E. 90%\\n-assistant:\\nAnswer :  Randomized controlled studies and meta-analyses have shown that approximately 50% of children with pharmacoresistant epilepsy have greater than 50% reduction in seizures on the ketogenic diet. \\nTherefore, the correct answer is D.###'], ['-user:\\nQuestion : Which of the following EEG patterns is rarely seen in normal patients and has a high specificity for temporal lobe epilepsy?\\n        A. 14 and 6 positive spikes\\n        B. diffuse slow activity\\n        C. rhythmic temporal delta\\n        D. triphasic waves\\n        E. wicket spikes\\n-assistant:\\nAnswer :  Of the options listed above, rhythmic temporal delta activity is most suggestive of temporal lobe epilepsy. While sensitivity for this finding is not especially high, it is rarely seen outside of the context of temporal lobe seizures and therefore carries high specificity. Triphasic waves are most commonly seen in patients with metabolic encephalopathy. Diffuse slow activity is seen in patients with traumatic brain injury, subarachnoid hemorrhage, toxic-metabolic encephalopathies, and other processes that affect the brain more diffusely. Wicket spikes and 14 and 6 positive spikes are considered normal EEG variants seen in older adults and adolescents, respectively. \\nTherefore, the correct answer is C.###', '-user:\\nQuestion : The cortical hamartomas of tuberous sclerosis display different MRI characteristics depending on a patient’s age. Which of the following pathophysiologic processes is responsible for this age-related change in the MRI characteristics of these lesions?\\n        A. breakdown of blood-brain barrier\\n        B. calcification\\n        C. inflammation\\n        D. myelination\\n        E. neovascularization\\n-assistant:\\nAnswer :  Cortical hamartomas (tubers) are the most characteristic lesions in tuberous sclerosis complex. These lesions can cause focal seizures, which in some patients may be refractory to antiepileptic drugs; however, not all tubers are epileptogenic. The MRI appearance of tubers changes with myelination. In neonates they are hyperintense on T1 and hypointense on T2-weighted images compared to the surrounding white matter. In older children they are hyperintense on T2-weighted images with poorly defined borders. \\nTherefore, the correct answer is D.###', '-user:\\nQuestion : Surgery for which of the following types of epilepsy is least likely to result in seizure freedom?\\n        A. epilepsy due to a hemispheric syndrome\\n        B. epilepsy due to neonatal infarct\\n        C. epilepsy due to tumor\\n        D. mesial temporal lobe epilepsy\\n        E. nonlesional neocortical epilepsy\\n-assistant:\\nAnswer :  The best outcomes from epilepsy surgery are for temporal lobectomy for mesial temporal sclerosis, lesional resections, and hemispherectomy, with lower seizure-free rates in patients with nonlesional neocortical resections. \\nTherefore, the correct answer is E.###'], ['-user:\\nQuestion : Which of the following is the major role of the neurologist after a diagnosis of psychogenic nonepileptic events?\\n        A. appropriately weaning antiepileptic drugs\\n        B. describing events in ambiguous terms\\n        C. ensuring that patients continue to refrain from driving a motor vehicle\\n        D. ordering follow-up EEG in 6 to 12 months\\n        E. prescribing a selective serotonin reuptake inhibitor or other antidepressant\\n-assistant:\\nAnswer :  After a diagnosis of psychogenic nonepileptic attacks, one of the major roles of the neurologist is the rational weaning of antiepileptic medications. This should be done with the caveat that coexistent epilepsy may also be present, so the physician needs to keep an open mind regarding new events (although routine surveillance EEGs are not necessarily indicated). Driving restrictions should be handled on an individual case basis, although most patients can return to driving with little chance of injury. Neurologists should use unambiguous terms when describing the diagnosis to the patient and other providers so that the misdiagnosis of epilepsy is not perpetuated. While mental health care is often needed, the routine prescription of antidepressants is not always indicated. \\nTherefore, the correct answer is A.###', '-user:\\nQuestion : According to the International League Against Epilepsy’s 2010 revision of its seizure classification system, which of the following factors is most helpful in initially focusing the scope of diagnostic possibilities for specific electroclinical syndromes?\\n        A. age at onset\\n        B. family seizure history\\n        C. frequency of spells\\n        D. history of toxic exposure\\n        E. severity of the disorder\\n-assistant:\\nAnswer :  While all the other factors mentioned should be part of an initial seizure history, they are not as important in establishing the ultimate diagnosis. \\nTherefore, the correct answer is A.###', '-user:\\nQuestion : A 40-year-old woman is admitted to an epilepsy monitoring unit for evaluation of paroxysmal episodes of neurologic dysfunction. Her episodes involve some nonrhythmic shaking of both arms and pelvic thrusting without any correlate on the EEG; psychogenic nonepileptic events are diagnosed. Which of the following characteristics is most associated with a good outcome (ie, resolution of episodes)?\\n        A. episodes with prominent motor features\\n        B. female gender\\n        C. lower educational achievement\\n        D. older age at diagnosis\\n        E. shorter duration of illness\\n-assistant:\\nAnswer :  The description of the events provided above and the lack of EEG findings during her episodes are both suggestive of nonepileptic events. Prognosis after a diagnosis of psychogenic nonepileptic events is variable but may be dependent on certain characteristics. Of the options listed above, a shorter duration of illness (ie, shorter time between the onset of spells and the diagnosis of nonepileptic events) is most predictive of a positive outcome. Some of the other options listed above (older age, prominent/dramatic motor features, lower educational achievement) are associated with a poorer outcome after a diagnosis of nonepileptic events. \\nTherefore, the correct answer is E.###'], ['-user:\\nQuestion : A 40-year-old woman is admitted to an epilepsy monitoring unit for evaluation of paroxysmal episodes of neurologic dysfunction. Her episodes involve some nonrhythmic shaking of both arms and pelvic thrusting without any correlate on the EEG; psychogenic nonepileptic events are diagnosed. Which of the following characteristics is most associated with a good outcome (ie, resolution of episodes)?\\n        A. episodes with prominent motor features\\n        B. female gender\\n        C. lower educational achievement\\n        D. older age at diagnosis\\n        E. shorter duration of illness\\n-assistant:\\nAnswer :  The description of the events provided above and the lack of EEG findings during her episodes are both suggestive of nonepileptic events. Prognosis after a diagnosis of psychogenic nonepileptic events is variable but may be dependent on certain characteristics. Of the options listed above, a shorter duration of illness (ie, shorter time between the onset of spells and the diagnosis of nonepileptic events) is most predictive of a positive outcome. Some of the other options listed above (older age, prominent/dramatic motor features, lower educational achievement) are associated with a poorer outcome after a diagnosis of nonepileptic events. \\nTherefore, the correct answer is E.###', '-user:\\nQuestion : Which of the following clinical factors is most predictive of cognitive decline after epilepsy surgery?\\n        A. higher preoperative cognitive performance\\n        B. presence of hippocampal sclerosis\\n        C. surgery on nonlanguage dominant hemisphere\\n        D. younger age at seizure onset\\n        E. younger age at time of surgery\\n-assistant:\\nAnswer :  Cognitive performance may improve in some patients after surgery, presumably related to better seizure control and possible decrease in the burden of anticonvulsants needed for seizure control. However, even with functional imaging or Wada testing to guide treatment decisions, some patients will note worsened cognitive functioning postoperatively. Of the options listed, patients with higher preoperative cognitive functioning are at a higher risk of new cognitive difficulties after surgery. Older age at seizure onset and at time of surgery, the lack of hippocampal atrophy or sclerosis, and surgery on the language-dominant hemisphere are other predictors of postoperative cognitive symptoms. \\nTherefore, the correct answer is A.###', '-user:\\nQuestion : A 27-year-old woman with longstanding complex partial seizures, well controlled on monotherapy with carbamazepine, is seen in the first trimester of pregnancy. She is concerned about seizures becoming more frequent during pregnancy. Which of the following is the most appropriate counseling of this patient regarding her pregnancy and seizure recurrence?\\n        A. most women experience a decrease in seizure frequency\\n        B. most women experience an increase in seizure frequency\\n        C. most women experience no change in seizure frequency\\n        D. seizures are least likely to occur in the third trimester\\n        E. seizures are more likely to be generalized in nature\\n-assistant:\\nAnswer :  Although the effect of pregnancy on seizure frequency is variable, most women with epilepsy do not experience a significant change in the number or severity of their seizures. Expected physiologic hormonal changes, alterations in sleep and other routines, and other factors can alter the seizure frequency in some cases. Noncompliance can also play a role, since some women will discontinue their medications with the assumption that the teratogenic effects of antiepileptic medications outweigh their potential benefits. \\nTherefore, the correct answer is C.###'], ['-user:\\nQuestion : Which of the following conditions would likely preclude the consideration of epilepsy surgery in a patient?\\n        A. dominant hemisphere focus\\n        B. low-grade tumor\\n        C. mental retardation\\n        D. primary generalized epilepsy\\n        E. prior vagus nerve stimulator use\\n-assistant:\\nAnswer :  Patients who are typically not surgical candidates include those with clear evidence of bilateral onset of habitual seizures, those with severe psychiatric or medical comorbidities increasing surgical risk or compromising recovery, those with rapidly progressive CNS disease, and those with primary generalized epilepsy. \\nTherefore, the correct answer is D.###', '-user:\\nQuestion : The cortical hamartomas of tuberous sclerosis display different MRI characteristics depending on a patient’s age. Which of the following pathophysiologic processes is responsible for this age-related change in the MRI characteristics of these lesions?\\n        A. breakdown of blood-brain barrier\\n        B. calcification\\n        C. inflammation\\n        D. myelination\\n        E. neovascularization\\n-assistant:\\nAnswer :  Cortical hamartomas (tubers) are the most characteristic lesions in tuberous sclerosis complex. These lesions can cause focal seizures, which in some patients may be refractory to antiepileptic drugs; however, not all tubers are epileptogenic. The MRI appearance of tubers changes with myelination. In neonates they are hyperintense on T1 and hypointense on T2-weighted images compared to the surrounding white matter. In older children they are hyperintense on T2-weighted images with poorly defined borders. \\nTherefore, the correct answer is D.###', '-user:\\nQuestion : Which of the following is a possible predictor of refractory status epilepticus (status epilepticus not responding to two antiepileptic medications)?\\n        A. convulsive status epilepticus\\n        B. hypoxic-ischemic encephalopathy\\n        C. older age\\n        D. prior stroke\\n        E. underlying malignancy\\n-assistant:\\nAnswer :  Some etiologies of status epilepticus or patient factors may be more predictive of a refractory course that does not respond to initial treatments. Of the options listed above, hypoxic-ischemic encephalopathy (and other etiologies that are not associated with an underlying structural lesion) may be more likely to be refractory. Encephalitis, delays in diagnosis and treatment, and subtle symptoms as a manifestation of status epilepticus are other possible predictors. Physicians should be aware that these etiologies of status epilepticus may require more aggressive treatment. \\nTherefore, the correct answer is B.###'], ['-user:\\nQuestion : Approximately what percentage of patients with epilepsy will become seizure free on the initial antiepileptic drug regimen?\\n        A. 10%\\n        B. 40%\\n        C. 60%\\n        D. 80%\\n        E. 95%\\n-assistant:\\nAnswer :  Data suggest that 35% to 40% of patients will be well controlled on the initial antiepileptic drug regimen chosen for them. Once a patient is well controlled, both the patient and physician may be reluctant to make changes in the regimen, even if there is good rationale for making an adjustment. This underscores the importance of making a wise initial choice in an antiepileptic medication because there may be limited ability to make changes in the future. This choice must weigh data on effectiveness, adverse effects, teratogenicity, and patient compliance, among other considerations. \\nTherefore, the correct answer is B.###', '-user:\\nQuestion : Which of the following best describes the relationship between vagus nerve stimulation and risk of bradycardia?\\n        A. can be seen with stimulation of either nerve\\n        B. higher risk with left nerve stimulation\\n        C. lowest risk seen with bilateral stimulation\\n        D. no risk with left nerve stimulation\\n        E. no risk with right nerve stimulation\\n-assistant:\\nAnswer :  Efferent fibers of the vagus nerve originating from the nucleus ambiguous include cardiac branches that help control heart rhythms. Since fibers originating from the right vagus nerve primarily innervate the sinoatrial node, it was thought that right nerve stimulation (or bilateral stimulation) may be most likely to cause bradycardia. However, at certain stimulator settings, even stimulation of the left vagus nerve (which primarily innervates the atrioventricular node) may precipitate bradycardia. Neurologists involved in programming stimulators should be aware that bradycardia can be a risk with stimulation of either nerve. \\nTherefore, the correct answer is A.###', '-user:\\nQuestion : A 76-year-old man is admitted with a right frontal intracerebral hemorrhage. After some initial improvement in his neurologic status, he has become a bit less responsive. EEG shows fluctuating right greater than left periodic discharges at 1 to 2 Hz without definite evolution. Which of the following is the best next step in management?\\n        A. 0.1 mg/kg IV lorazepam\\n        B. continuous propofol infusion\\n        C. observation with repeat 30-minute EEG in 24 hours\\n        D. oral levetiracetam\\n        E. sequential small doses of midazolam or other IV antiepileptic drug until the EEG pattern resolves\\n-assistant:\\nAnswer :  Nonconvulsive status epilepticus is increasingly being identified as a cause of altered mental status in critically ill patients, including patients with structural brain lesions such as intracerebral hemorrhage. The persistent mental status change is suggestive of nonconvulsive status epilepticus. Initial management consists of sequential administration of low-dose benzodiazepines (preferably short-acting agents, such as midazolam) or IV administration of a relatively nonsedating antiepileptic medication (such as levetiracetam or lacosamide). After initiation of these medications, improvement in the clinical state and EEG is supportive of a diagnosis of nonconvulsive status epilepticus. Initiation of additional antiepileptics should be held until the diagnosis is clearer. \\nTherefore, the correct answer is E.###'], ['-user:\\nQuestion : The cortical hamartomas of tuberous sclerosis display different MRI characteristics depending on a patient’s age. Which of the following pathophysiologic processes is responsible for this age-related change in the MRI characteristics of these lesions?\\n        A. breakdown of blood-brain barrier\\n        B. calcification\\n        C. inflammation\\n        D. myelination\\n        E. neovascularization\\n-assistant:\\nAnswer :  Cortical hamartomas (tubers) are the most characteristic lesions in tuberous sclerosis complex. These lesions can cause focal seizures, which in some patients may be refractory to antiepileptic drugs; however, not all tubers are epileptogenic. The MRI appearance of tubers changes with myelination. In neonates they are hyperintense on T1 and hypointense on T2-weighted images compared to the surrounding white matter. In older children they are hyperintense on T2-weighted images with poorly defined borders. \\nTherefore, the correct answer is D.###', '-user:\\nQuestion : A 10-year-old child with epilepsy since age 2 that is refractory to medical treatment has been followed serially with brain MRI scans, which show progressive atrophy of the left hemisphere. What is the most likely diagnosis?\\n        A. focal cortical dysplasia\\n        B. neurofibromatosis\\n        C. Rasmussen encephalitis\\n        D. Sturge-Weber syndrome\\n        E. tuberous sclerosis\\n-assistant:\\nAnswer :  MRI in Rasmussen encephalitis shows progressive atrophy of one of the cerebral hemispheres, usually beginning in the opercular region. \\nTherefore, the correct answer is C.###', '-user:\\nQuestion : A 30-year-old man who has had focal epilepsy for 15 years still experiences four to five episodes per month despite medication. He takes two anticonvulsants; his current medications are the ninth and tenth drugs he has tried. Repeated EEGs have shown a right temporal focus. He is on disability and lives with his parents. What is the next best step in management of this patient?\\n        A. addition of a third antiepileptic drug to his current regimen\\n        B. substitution of a new drug for one of his current antiepileptic drugs\\n        C. surgical evaluation\\n        D. transcranial magnetic stimulation\\n        E. vagus nerve stimulator trial\\n-assistant:\\nAnswer :  Failure to respond adequately to proper trials of two anticonvulsants and presence of focal epilepsy should lead to a surgical evaluation. Vagus nerve stimulation is much less effective than surgery in this setting. \\nTherefore, the correct answer is C.###'], ['-user:\\nQuestion : Which of the following is the major role of the neurologist after a diagnosis of psychogenic nonepileptic events?\\n        A. appropriately weaning antiepileptic drugs\\n        B. describing events in ambiguous terms\\n        C. ensuring that patients continue to refrain from driving a motor vehicle\\n        D. ordering follow-up EEG in 6 to 12 months\\n        E. prescribing a selective serotonin reuptake inhibitor or other antidepressant\\n-assistant:\\nAnswer :  After a diagnosis of psychogenic nonepileptic attacks, one of the major roles of the neurologist is the rational weaning of antiepileptic medications. This should be done with the caveat that coexistent epilepsy may also be present, so the physician needs to keep an open mind regarding new events (although routine surveillance EEGs are not necessarily indicated). Driving restrictions should be handled on an individual case basis, although most patients can return to driving with little chance of injury. Neurologists should use unambiguous terms when describing the diagnosis to the patient and other providers so that the misdiagnosis of epilepsy is not perpetuated. While mental health care is often needed, the routine prescription of antidepressants is not always indicated. \\nTherefore, the correct answer is A.###', '-user:\\nQuestion : A 40-year-old woman is admitted to an epilepsy monitoring unit for evaluation of paroxysmal episodes of neurologic dysfunction. Her episodes involve some nonrhythmic shaking of both arms and pelvic thrusting without any correlate on the EEG; psychogenic nonepileptic events are diagnosed. Which of the following characteristics is most associated with a good outcome (ie, resolution of episodes)?\\n        A. episodes with prominent motor features\\n        B. female gender\\n        C. lower educational achievement\\n        D. older age at diagnosis\\n        E. shorter duration of illness\\n-assistant:\\nAnswer :  The description of the events provided above and the lack of EEG findings during her episodes are both suggestive of nonepileptic events. Prognosis after a diagnosis of psychogenic nonepileptic events is variable but may be dependent on certain characteristics. Of the options listed above, a shorter duration of illness (ie, shorter time between the onset of spells and the diagnosis of nonepileptic events) is most predictive of a positive outcome. Some of the other options listed above (older age, prominent/dramatic motor features, lower educational achievement) are associated with a poorer outcome after a diagnosis of nonepileptic events. \\nTherefore, the correct answer is E.###', '-user:\\nQuestion : A 76-year-old man is admitted with a right frontal intracerebral hemorrhage. After some initial improvement in his neurologic status, he has become a bit less responsive. EEG shows fluctuating right greater than left periodic discharges at 1 to 2 Hz without definite evolution. Which of the following is the best next step in management?\\n        A. 0.1 mg/kg IV lorazepam\\n        B. continuous propofol infusion\\n        C. observation with repeat 30-minute EEG in 24 hours\\n        D. oral levetiracetam\\n        E. sequential small doses of midazolam or other IV antiepileptic drug until the EEG pattern resolves\\n-assistant:\\nAnswer :  Nonconvulsive status epilepticus is increasingly being identified as a cause of altered mental status in critically ill patients, including patients with structural brain lesions such as intracerebral hemorrhage. The persistent mental status change is suggestive of nonconvulsive status epilepticus. Initial management consists of sequential administration of low-dose benzodiazepines (preferably short-acting agents, such as midazolam) or IV administration of a relatively nonsedating antiepileptic medication (such as levetiracetam or lacosamide). After initiation of these medications, improvement in the clinical state and EEG is supportive of a diagnosis of nonconvulsive status epilepticus. Initiation of additional antiepileptics should be held until the diagnosis is clearer. \\nTherefore, the correct answer is E.###'], ['-user:\\nQuestion : A 60-year-old woman develops generalized seizure activity lasting 10 minutes; seizure activity appears to arrest after administration of 4 mg of IV lorazepam. She has chronic kidney disease but is otherwise in good health. Which of the following is the best next pharmacological step in management?\\n        A. continuous midazolam infusion\\n        B. continuous propofol infusion\\n        C. IV fosphenytoin\\n        D. IV ketamine\\n        E. IV phenobarbital\\n-assistant:\\nAnswer :  Regardless of whether prolonged seizure activity stops after the administration of an appropriate dose of a benzodiazepine, rapid administration of a longer-acting anticonvulsant is generally recommended. This allows for prevention of additional seizures as the effect of the benzodiazepine wears off over the course of several hours. Of the options listed, fosphenytoin is the preferred option. A continuous infusion of propofol or midazolam is not indicated in this setting unless clinical or EEG evidence of ongoing seizures (ie, refractory status epilepticus) exists. If the patient does not wake up rapidly, an urgent EEG should be obtained. \\nTherefore, the correct answer is C.###', '-user:\\nQuestion : A 27-year-old woman is seen in clinic for ongoing management of her juvenile myoclonic epilepsy. Her seizures have been well controlled on lamotrigine, with no seizures in the past 2 years. She does report some symptoms of depression, as well as anticipatory anxiety regarding the possibility of future seizures. Which of the following options is the best next step in management?\\n        A. bupropion\\n        B. citalopram\\n        C. nortriptyline\\n        D. taper off lamotrigine and begin levetiracetam\\n        E. venlafaxine\\n-assistant:\\nAnswer :  This patient is reporting symptoms of depression and anxiety, both of which are common in patients with epilepsy. In patients requiring pharmacotherapy for these symptoms, selective serotonin reuptake inhibitors (SSRIs) such as citalopram are considered first-line treatments because of lower likelihood of additional side effects and minimal drug-drug interactions. Venlafaxine is another option if an SSRI is not tolerated, and tricyclic antidepressants (such as nortriptyline) could be considered if neither of these first two agents is successful. Lamotrigine is not commonly associated with depression and is often used as a mood stabilizer; it is unlikely to be the cause of these symptoms in this patient and should not be changed to levetiracetam. Bupropion is associated with a higher risk of seizures and should not be used. \\nTherefore, the correct answer is B.###', '-user:\\nQuestion : A 33-year-old man with known epilepsy is seen in the emergency department after a seizure with an associated fall. IV access is obtained. He is initially at his baseline neurologic status but then develops generalized seizure activity that has lasted 5 minutes. Which of the following is the most appropriate next step in management?\\n        A. buccal midazolam\\n        B. IV diazepam\\n        C. IV fosphenytoin\\n        D. IV lorazepam\\n        E. rectal diazepam\\n-assistant:\\nAnswer :  This patient with underlying epilepsy has had continuous seizure activity for at least 5 minutes and meets criteria for status epilepticus. In patients with IV access, IV lorazepam is considered the initial treatment of choice. It has been shown to be more effective than IV diazepam or phenytoin. In patients without IV access, administration of rectal diazepam or buccal midazolam can be considered. \\nTherefore, the correct answer is D.###'], ['-user:\\nQuestion : Although not all data are available for all drugs (and keeping in mind that an individual patient may have other specific needs), which of the following antiepileptic drugs would be the best initial choice in an adolescent girl with juvenile myoclonic epilepsy?\\n        A. carbamazepine\\n        B. ethosuximide\\n        C. lacosamide\\n        D. valproic acid\\n        E. levetiracetam\\n-assistant:\\nAnswer :  Levetiracetam is considered to be effective in juvenile myoclonic epilepsy. Carbamazepine is probably better in partial or generalized tonic-clonic seizures. Ethosuximide has strong evidence in absence seizures. Valproic acid is effective in juvenile myoclonic epilepsy and related seizure types but is usually not the first choice in adolescent girls because of teratogenicity and risk of polycystic ovary syndrome. Lacosamide has no data for myoclonic epilepsy. \\nTherefore, the correct answer is E.###', '-user:\\nQuestion : Fetal exposure to which of the following medications is most likely to be associated with decreased IQ during childhood?\\n        A. carbamazepine\\n        B. lamotrigine\\n        C. phenytoin\\n        D. topiramate\\n        E. valproate\\n-assistant:\\nAnswer :  Of the options listed above, in utero exposure to valproate is most likely to be associated with a lower childhood IQ. Longitudinal studies have shown no changes with phenytoin, carbamazepine, and lamotrigine, but a lower mean IQ at age 3 was seen with exposure to valproate. This was also shown to have a dose-effect response, with lower IQs observed in children exposed to higher doses of valproate. There is no data on cognitive outcomes in children with in utero exposure to topiramate. Unlike valproate, topiramate does not cause apoptosis in immature brains of animals. \\nTherefore, the correct answer is E.###', '-user:\\nQuestion : Which of the following medications is most likely to be associated with interictal spikes or epileptiform abnormalities on EEG?\\n        A. cefepime\\n        B. doxycycline\\n        C. fluoxetine\\n        D. methylphenidate\\n        E. modafinil\\n-assistant:\\nAnswer :  Cefepime is one of several medications that can be associated with interictal spikes on EEG. Other examples include bupropion, lithium, tramadol, and clozapine. Uremia, thyrotoxicosis, and some other medical comorbidities can also be associated with epileptiform abnormalities but are not diagnostic for epilepsy. Abnormal EEGs in these contexts need to be interpreted with appropriate caution. \\nTherefore, the correct answer is A.###'], ['-user:\\nQuestion : A 40-year-old woman is admitted to an epilepsy monitoring unit for evaluation of paroxysmal episodes of neurologic dysfunction. Her episodes involve some nonrhythmic shaking of both arms and pelvic thrusting without any correlate on the EEG; psychogenic nonepileptic events are diagnosed. Which of the following characteristics is most associated with a good outcome (ie, resolution of episodes)?\\n        A. episodes with prominent motor features\\n        B. female gender\\n        C. lower educational achievement\\n        D. older age at diagnosis\\n        E. shorter duration of illness\\n-assistant:\\nAnswer :  The description of the events provided above and the lack of EEG findings during her episodes are both suggestive of nonepileptic events. Prognosis after a diagnosis of psychogenic nonepileptic events is variable but may be dependent on certain characteristics. Of the options listed above, a shorter duration of illness (ie, shorter time between the onset of spells and the diagnosis of nonepileptic events) is most predictive of a positive outcome. Some of the other options listed above (older age, prominent/dramatic motor features, lower educational achievement) are associated with a poorer outcome after a diagnosis of nonepileptic events. \\nTherefore, the correct answer is E.###', '-user:\\nQuestion : A 27-year-old woman with longstanding complex partial seizures, well controlled on monotherapy with carbamazepine, is seen in the first trimester of pregnancy. She is concerned about seizures becoming more frequent during pregnancy. Which of the following is the most appropriate counseling of this patient regarding her pregnancy and seizure recurrence?\\n        A. most women experience a decrease in seizure frequency\\n        B. most women experience an increase in seizure frequency\\n        C. most women experience no change in seizure frequency\\n        D. seizures are least likely to occur in the third trimester\\n        E. seizures are more likely to be generalized in nature\\n-assistant:\\nAnswer :  Although the effect of pregnancy on seizure frequency is variable, most women with epilepsy do not experience a significant change in the number or severity of their seizures. Expected physiologic hormonal changes, alterations in sleep and other routines, and other factors can alter the seizure frequency in some cases. Noncompliance can also play a role, since some women will discontinue their medications with the assumption that the teratogenic effects of antiepileptic medications outweigh their potential benefits. \\nTherefore, the correct answer is C.###', '-user:\\nQuestion : A 76-year-old man is admitted with a right frontal intracerebral hemorrhage. After some initial improvement in his neurologic status, he has become a bit less responsive. EEG shows fluctuating right greater than left periodic discharges at 1 to 2 Hz without definite evolution. Which of the following is the best next step in management?\\n        A. 0.1 mg/kg IV lorazepam\\n        B. continuous propofol infusion\\n        C. observation with repeat 30-minute EEG in 24 hours\\n        D. oral levetiracetam\\n        E. sequential small doses of midazolam or other IV antiepileptic drug until the EEG pattern resolves\\n-assistant:\\nAnswer :  Nonconvulsive status epilepticus is increasingly being identified as a cause of altered mental status in critically ill patients, including patients with structural brain lesions such as intracerebral hemorrhage. The persistent mental status change is suggestive of nonconvulsive status epilepticus. Initial management consists of sequential administration of low-dose benzodiazepines (preferably short-acting agents, such as midazolam) or IV administration of a relatively nonsedating antiepileptic medication (such as levetiracetam or lacosamide). After initiation of these medications, improvement in the clinical state and EEG is supportive of a diagnosis of nonconvulsive status epilepticus. Initiation of additional antiepileptics should be held until the diagnosis is clearer. \\nTherefore, the correct answer is E.###'], ['-user:\\nQuestion : Which of the following is the major role of the neurologist after a diagnosis of psychogenic nonepileptic events?\\n        A. appropriately weaning antiepileptic drugs\\n        B. describing events in ambiguous terms\\n        C. ensuring that patients continue to refrain from driving a motor vehicle\\n        D. ordering follow-up EEG in 6 to 12 months\\n        E. prescribing a selective serotonin reuptake inhibitor or other antidepressant\\n-assistant:\\nAnswer :  After a diagnosis of psychogenic nonepileptic attacks, one of the major roles of the neurologist is the rational weaning of antiepileptic medications. This should be done with the caveat that coexistent epilepsy may also be present, so the physician needs to keep an open mind regarding new events (although routine surveillance EEGs are not necessarily indicated). Driving restrictions should be handled on an individual case basis, although most patients can return to driving with little chance of injury. Neurologists should use unambiguous terms when describing the diagnosis to the patient and other providers so that the misdiagnosis of epilepsy is not perpetuated. While mental health care is often needed, the routine prescription of antidepressants is not always indicated. \\nTherefore, the correct answer is A.###', '-user:\\nQuestion : According to the International League Against Epilepsy’s 2010 revision of its seizure classification system, which of the following factors is most helpful in initially focusing the scope of diagnostic possibilities for specific electroclinical syndromes?\\n        A. age at onset\\n        B. family seizure history\\n        C. frequency of spells\\n        D. history of toxic exposure\\n        E. severity of the disorder\\n-assistant:\\nAnswer :  While all the other factors mentioned should be part of an initial seizure history, they are not as important in establishing the ultimate diagnosis. \\nTherefore, the correct answer is A.###', '-user:\\nQuestion : Which of the following clinical characteristics is associated with an increased risk of suicidal ideation in patients with epilepsy?\\n        A. coexistent depression\\n        B. higher frequency of seizures\\n        C. lower reported quality of life\\n        D. male sex\\n        E. partial-onset seizures\\n-assistant:\\nAnswer :  Among many potential predictors, only the presence of a coexisting mood disorder such as major depression is associated with a higher incidence of suicidal ideation in epilepsy patients. Other characteristics, including age, sex, seizure type, seizure control, duration of epilepsy, and lower quality of life, have not been associated with a higher risk of suicide. Because of this, routine screening for depression and suicidality in patients with epilepsy is recommended. \\nTherefore, the correct answer is A.###'], ['-user:\\nQuestion : Approximately what percentage of patients with epilepsy will become seizure free on the initial antiepileptic drug regimen?\\n        A. 10%\\n        B. 40%\\n        C. 60%\\n        D. 80%\\n        E. 95%\\n-assistant:\\nAnswer :  Data suggest that 35% to 40% of patients will be well controlled on the initial antiepileptic drug regimen chosen for them. Once a patient is well controlled, both the patient and physician may be reluctant to make changes in the regimen, even if there is good rationale for making an adjustment. This underscores the importance of making a wise initial choice in an antiepileptic medication because there may be limited ability to make changes in the future. This choice must weigh data on effectiveness, adverse effects, teratogenicity, and patient compliance, among other considerations. \\nTherefore, the correct answer is B.###', '-user:\\nQuestion : Which of the following best describes the relationship between vagus nerve stimulation and risk of bradycardia?\\n        A. can be seen with stimulation of either nerve\\n        B. higher risk with left nerve stimulation\\n        C. lowest risk seen with bilateral stimulation\\n        D. no risk with left nerve stimulation\\n        E. no risk with right nerve stimulation\\n-assistant:\\nAnswer :  Efferent fibers of the vagus nerve originating from the nucleus ambiguous include cardiac branches that help control heart rhythms. Since fibers originating from the right vagus nerve primarily innervate the sinoatrial node, it was thought that right nerve stimulation (or bilateral stimulation) may be most likely to cause bradycardia. However, at certain stimulator settings, even stimulation of the left vagus nerve (which primarily innervates the atrioventricular node) may precipitate bradycardia. Neurologists involved in programming stimulators should be aware that bradycardia can be a risk with stimulation of either nerve. \\nTherefore, the correct answer is A.###', '-user:\\nQuestion : A 6-year-old child with Lennox-Gastaut syndrome and medically resistant epilepsy is currently on two anticonvulsants and still has several seizures daily despite trials of more than five antiepileptic drugs. Dietary treatment with a ketogenic diet is proposed. What is the approximate percent chance that this patient will respond with a greater than 50% seizure reduction?\\n        A. 5%\\n        B. 10%\\n        C. 25%\\n        D. 50%\\n        E. 90%\\n-assistant:\\nAnswer :  Randomized controlled studies and meta-analyses have shown that approximately 50% of children with pharmacoresistant epilepsy have greater than 50% reduction in seizures on the ketogenic diet. \\nTherefore, the correct answer is D.###'], ['-user:\\nQuestion : A 40-year-old woman is admitted to an epilepsy monitoring unit for evaluation of paroxysmal episodes of neurologic dysfunction. Her episodes involve some nonrhythmic shaking of both arms and pelvic thrusting without any correlate on the EEG; psychogenic nonepileptic events are diagnosed. Which of the following characteristics is most associated with a good outcome (ie, resolution of episodes)?\\n        A. episodes with prominent motor features\\n        B. female gender\\n        C. lower educational achievement\\n        D. older age at diagnosis\\n        E. shorter duration of illness\\n-assistant:\\nAnswer :  The description of the events provided above and the lack of EEG findings during her episodes are both suggestive of nonepileptic events. Prognosis after a diagnosis of psychogenic nonepileptic events is variable but may be dependent on certain characteristics. Of the options listed above, a shorter duration of illness (ie, shorter time between the onset of spells and the diagnosis of nonepileptic events) is most predictive of a positive outcome. Some of the other options listed above (older age, prominent/dramatic motor features, lower educational achievement) are associated with a poorer outcome after a diagnosis of nonepileptic events. \\nTherefore, the correct answer is E.###', '-user:\\nQuestion : A 27-year-old woman with longstanding complex partial seizures, well controlled on monotherapy with carbamazepine, is seen in the first trimester of pregnancy. She is concerned about seizures becoming more frequent during pregnancy. Which of the following is the most appropriate counseling of this patient regarding her pregnancy and seizure recurrence?\\n        A. most women experience a decrease in seizure frequency\\n        B. most women experience an increase in seizure frequency\\n        C. most women experience no change in seizure frequency\\n        D. seizures are least likely to occur in the third trimester\\n        E. seizures are more likely to be generalized in nature\\n-assistant:\\nAnswer :  Although the effect of pregnancy on seizure frequency is variable, most women with epilepsy do not experience a significant change in the number or severity of their seizures. Expected physiologic hormonal changes, alterations in sleep and other routines, and other factors can alter the seizure frequency in some cases. Noncompliance can also play a role, since some women will discontinue their medications with the assumption that the teratogenic effects of antiepileptic medications outweigh their potential benefits. \\nTherefore, the correct answer is C.###', '-user:\\nQuestion : A 76-year-old man is admitted with a right frontal intracerebral hemorrhage. After some initial improvement in his neurologic status, he has become a bit less responsive. EEG shows fluctuating right greater than left periodic discharges at 1 to 2 Hz without definite evolution. Which of the following is the best next step in management?\\n        A. 0.1 mg/kg IV lorazepam\\n        B. continuous propofol infusion\\n        C. observation with repeat 30-minute EEG in 24 hours\\n        D. oral levetiracetam\\n        E. sequential small doses of midazolam or other IV antiepileptic drug until the EEG pattern resolves\\n-assistant:\\nAnswer :  Nonconvulsive status epilepticus is increasingly being identified as a cause of altered mental status in critically ill patients, including patients with structural brain lesions such as intracerebral hemorrhage. The persistent mental status change is suggestive of nonconvulsive status epilepticus. Initial management consists of sequential administration of low-dose benzodiazepines (preferably short-acting agents, such as midazolam) or IV administration of a relatively nonsedating antiepileptic medication (such as levetiracetam or lacosamide). After initiation of these medications, improvement in the clinical state and EEG is supportive of a diagnosis of nonconvulsive status epilepticus. Initiation of additional antiepileptics should be held until the diagnosis is clearer. \\nTherefore, the correct answer is E.###'], ['-user:\\nQuestion : Which of the following is the major role of the neurologist after a diagnosis of psychogenic nonepileptic events?\\n        A. appropriately weaning antiepileptic drugs\\n        B. describing events in ambiguous terms\\n        C. ensuring that patients continue to refrain from driving a motor vehicle\\n        D. ordering follow-up EEG in 6 to 12 months\\n        E. prescribing a selective serotonin reuptake inhibitor or other antidepressant\\n-assistant:\\nAnswer :  After a diagnosis of psychogenic nonepileptic attacks, one of the major roles of the neurologist is the rational weaning of antiepileptic medications. This should be done with the caveat that coexistent epilepsy may also be present, so the physician needs to keep an open mind regarding new events (although routine surveillance EEGs are not necessarily indicated). Driving restrictions should be handled on an individual case basis, although most patients can return to driving with little chance of injury. Neurologists should use unambiguous terms when describing the diagnosis to the patient and other providers so that the misdiagnosis of epilepsy is not perpetuated. While mental health care is often needed, the routine prescription of antidepressants is not always indicated. \\nTherefore, the correct answer is A.###', '-user:\\nQuestion : A 30-year-old man who has had focal epilepsy for 15 years still experiences four to five episodes per month despite medication. He takes two anticonvulsants; his current medications are the ninth and tenth drugs he has tried. Repeated EEGs have shown a right temporal focus. He is on disability and lives with his parents. What is the next best step in management of this patient?\\n        A. addition of a third antiepileptic drug to his current regimen\\n        B. substitution of a new drug for one of his current antiepileptic drugs\\n        C. surgical evaluation\\n        D. transcranial magnetic stimulation\\n        E. vagus nerve stimulator trial\\n-assistant:\\nAnswer :  Failure to respond adequately to proper trials of two anticonvulsants and presence of focal epilepsy should lead to a surgical evaluation. Vagus nerve stimulation is much less effective than surgery in this setting. \\nTherefore, the correct answer is C.###', '-user:\\nQuestion : A 33-year-old man with known epilepsy is seen in the emergency department after a seizure with an associated fall. IV access is obtained. He is initially at his baseline neurologic status but then develops generalized seizure activity that has lasted 5 minutes. Which of the following is the most appropriate next step in management?\\n        A. buccal midazolam\\n        B. IV diazepam\\n        C. IV fosphenytoin\\n        D. IV lorazepam\\n        E. rectal diazepam\\n-assistant:\\nAnswer :  This patient with underlying epilepsy has had continuous seizure activity for at least 5 minutes and meets criteria for status epilepticus. In patients with IV access, IV lorazepam is considered the initial treatment of choice. It has been shown to be more effective than IV diazepam or phenytoin. In patients without IV access, administration of rectal diazepam or buccal midazolam can be considered. \\nTherefore, the correct answer is D.###'], ['-user:\\nQuestion : Which of the following is the major role of the neurologist after a diagnosis of psychogenic nonepileptic events?\\n        A. appropriately weaning antiepileptic drugs\\n        B. describing events in ambiguous terms\\n        C. ensuring that patients continue to refrain from driving a motor vehicle\\n        D. ordering follow-up EEG in 6 to 12 months\\n        E. prescribing a selective serotonin reuptake inhibitor or other antidepressant\\n-assistant:\\nAnswer :  After a diagnosis of psychogenic nonepileptic attacks, one of the major roles of the neurologist is the rational weaning of antiepileptic medications. This should be done with the caveat that coexistent epilepsy may also be present, so the physician needs to keep an open mind regarding new events (although routine surveillance EEGs are not necessarily indicated). Driving restrictions should be handled on an individual case basis, although most patients can return to driving with little chance of injury. Neurologists should use unambiguous terms when describing the diagnosis to the patient and other providers so that the misdiagnosis of epilepsy is not perpetuated. While mental health care is often needed, the routine prescription of antidepressants is not always indicated. \\nTherefore, the correct answer is A.###', '-user:\\nQuestion : According to the International League Against Epilepsy’s 2010 revision of its seizure classification system, which of the following factors is most helpful in initially focusing the scope of diagnostic possibilities for specific electroclinical syndromes?\\n        A. age at onset\\n        B. family seizure history\\n        C. frequency of spells\\n        D. history of toxic exposure\\n        E. severity of the disorder\\n-assistant:\\nAnswer :  While all the other factors mentioned should be part of an initial seizure history, they are not as important in establishing the ultimate diagnosis. \\nTherefore, the correct answer is A.###', '-user:\\nQuestion : A 25-year-old woman with a history of complex partial epilepsy has been treated successfully with topiramate for 2 years. She is contemplating initiating birth control and comes to discuss her options with her physician. Which of the following would be a reasonable contraceptive choice for this patient?\\n        A. contraceptive hormonal patch\\n        B. intrauterine device\\n        C. low-dose combined oral contraceptive with estrogen and progestin components\\n        D. progestin-only oral contraceptive pill\\n        E. vaginal ring\\n-assistant:\\nAnswer :  This patient is content with her antiepileptic drug, and there is no compelling reason to change it. Instead, she can choose a form of contraception that is compatible with an enzyme-inducing antiepileptic drug such as topiramate. Low-dose oral contraceptive pills, patches, and rings may provide insufficient protection. One of the various long-acting reversible contraceptives—which include progestin implants, IM medroxyprogesterone acetate, and intrauterine devices—may be a good choice. \\nTherefore, the correct answer is B.###'], ['-user:\\nQuestion : Surgery for which of the following types of epilepsy is least likely to result in seizure freedom?\\n        A. epilepsy due to a hemispheric syndrome\\n        B. epilepsy due to neonatal infarct\\n        C. epilepsy due to tumor\\n        D. mesial temporal lobe epilepsy\\n        E. nonlesional neocortical epilepsy\\n-assistant:\\nAnswer :  The best outcomes from epilepsy surgery are for temporal lobectomy for mesial temporal sclerosis, lesional resections, and hemispherectomy, with lower seizure-free rates in patients with nonlesional neocortical resections. \\nTherefore, the correct answer is E.###', '-user:\\nQuestion : A 10-year-old child with epilepsy since age 2 that is refractory to medical treatment has been followed serially with brain MRI scans, which show progressive atrophy of the left hemisphere. What is the most likely diagnosis?\\n        A. focal cortical dysplasia\\n        B. neurofibromatosis\\n        C. Rasmussen encephalitis\\n        D. Sturge-Weber syndrome\\n        E. tuberous sclerosis\\n-assistant:\\nAnswer :  MRI in Rasmussen encephalitis shows progressive atrophy of one of the cerebral hemispheres, usually beginning in the opercular region. \\nTherefore, the correct answer is C.###', '-user:\\nQuestion : Which of the following clinical factors is most predictive of cognitive decline after epilepsy surgery?\\n        A. higher preoperative cognitive performance\\n        B. presence of hippocampal sclerosis\\n        C. surgery on nonlanguage dominant hemisphere\\n        D. younger age at seizure onset\\n        E. younger age at time of surgery\\n-assistant:\\nAnswer :  Cognitive performance may improve in some patients after surgery, presumably related to better seizure control and possible decrease in the burden of anticonvulsants needed for seizure control. However, even with functional imaging or Wada testing to guide treatment decisions, some patients will note worsened cognitive functioning postoperatively. Of the options listed, patients with higher preoperative cognitive functioning are at a higher risk of new cognitive difficulties after surgery. Older age at seizure onset and at time of surgery, the lack of hippocampal atrophy or sclerosis, and surgery on the language-dominant hemisphere are other predictors of postoperative cognitive symptoms. \\nTherefore, the correct answer is A.###'], ['-user:\\nQuestion : Which of the following is the major role of the neurologist after a diagnosis of psychogenic nonepileptic events?\\n        A. appropriately weaning antiepileptic drugs\\n        B. describing events in ambiguous terms\\n        C. ensuring that patients continue to refrain from driving a motor vehicle\\n        D. ordering follow-up EEG in 6 to 12 months\\n        E. prescribing a selective serotonin reuptake inhibitor or other antidepressant\\n-assistant:\\nAnswer :  After a diagnosis of psychogenic nonepileptic attacks, one of the major roles of the neurologist is the rational weaning of antiepileptic medications. This should be done with the caveat that coexistent epilepsy may also be present, so the physician needs to keep an open mind regarding new events (although routine surveillance EEGs are not necessarily indicated). Driving restrictions should be handled on an individual case basis, although most patients can return to driving with little chance of injury. Neurologists should use unambiguous terms when describing the diagnosis to the patient and other providers so that the misdiagnosis of epilepsy is not perpetuated. While mental health care is often needed, the routine prescription of antidepressants is not always indicated. \\nTherefore, the correct answer is A.###', '-user:\\nQuestion : According to the International League Against Epilepsy’s 2010 revision of its seizure classification system, which of the following factors is most helpful in initially focusing the scope of diagnostic possibilities for specific electroclinical syndromes?\\n        A. age at onset\\n        B. family seizure history\\n        C. frequency of spells\\n        D. history of toxic exposure\\n        E. severity of the disorder\\n-assistant:\\nAnswer :  While all the other factors mentioned should be part of an initial seizure history, they are not as important in establishing the ultimate diagnosis. \\nTherefore, the correct answer is A.###', '-user:\\nQuestion : In 2010, the International League Against Epilepsy departed from its 1989 classification scheme of epilepsies and revised its seizure classification system. What was the primary goal of this change?\\n        A. advancement of a value system for syndromic severity\\n        B. grouping of patients’ diagnoses in a new classification structure\\n        C. keeping pace with advancing knowledge of epilepsy and seizures\\n        D. linkage of seizure manifestations with a cause\\n        E. modification of billing and coding practices with regard to epilepsy\\n-assistant:\\nAnswer :  While the advancement of a value system for syndromic severity and the modification of billing and coding practices with regard to epilepsy are desired goals, the overarching goal of revising the old classification scheme is to incorporate genetic, neuroimaging, and other new knowledge of epilepsy and seizures into a workable format for correct individual diagnosis. \\nTherefore, the correct answer is C.###'], ['-user:\\nQuestion : A 60-year-old woman develops generalized seizure activity lasting 10 minutes; seizure activity appears to arrest after administration of 4 mg of IV lorazepam. She has chronic kidney disease but is otherwise in good health. Which of the following is the best next pharmacological step in management?\\n        A. continuous midazolam infusion\\n        B. continuous propofol infusion\\n        C. IV fosphenytoin\\n        D. IV ketamine\\n        E. IV phenobarbital\\n-assistant:\\nAnswer :  Regardless of whether prolonged seizure activity stops after the administration of an appropriate dose of a benzodiazepine, rapid administration of a longer-acting anticonvulsant is generally recommended. This allows for prevention of additional seizures as the effect of the benzodiazepine wears off over the course of several hours. Of the options listed, fosphenytoin is the preferred option. A continuous infusion of propofol or midazolam is not indicated in this setting unless clinical or EEG evidence of ongoing seizures (ie, refractory status epilepticus) exists. If the patient does not wake up rapidly, an urgent EEG should be obtained. \\nTherefore, the correct answer is C.###', '-user:\\nQuestion : A 27-year-old woman is seen in clinic for ongoing management of her juvenile myoclonic epilepsy. Her seizures have been well controlled on lamotrigine, with no seizures in the past 2 years. She does report some symptoms of depression, as well as anticipatory anxiety regarding the possibility of future seizures. Which of the following options is the best next step in management?\\n        A. bupropion\\n        B. citalopram\\n        C. nortriptyline\\n        D. taper off lamotrigine and begin levetiracetam\\n        E. venlafaxine\\n-assistant:\\nAnswer :  This patient is reporting symptoms of depression and anxiety, both of which are common in patients with epilepsy. In patients requiring pharmacotherapy for these symptoms, selective serotonin reuptake inhibitors (SSRIs) such as citalopram are considered first-line treatments because of lower likelihood of additional side effects and minimal drug-drug interactions. Venlafaxine is another option if an SSRI is not tolerated, and tricyclic antidepressants (such as nortriptyline) could be considered if neither of these first two agents is successful. Lamotrigine is not commonly associated with depression and is often used as a mood stabilizer; it is unlikely to be the cause of these symptoms in this patient and should not be changed to levetiracetam. Bupropion is associated with a higher risk of seizures and should not be used. \\nTherefore, the correct answer is B.###', '-user:\\nQuestion : A 33-year-old man with known epilepsy is seen in the emergency department after a seizure with an associated fall. IV access is obtained. He is initially at his baseline neurologic status but then develops generalized seizure activity that has lasted 5 minutes. Which of the following is the most appropriate next step in management?\\n        A. buccal midazolam\\n        B. IV diazepam\\n        C. IV fosphenytoin\\n        D. IV lorazepam\\n        E. rectal diazepam\\n-assistant:\\nAnswer :  This patient with underlying epilepsy has had continuous seizure activity for at least 5 minutes and meets criteria for status epilepticus. In patients with IV access, IV lorazepam is considered the initial treatment of choice. It has been shown to be more effective than IV diazepam or phenytoin. In patients without IV access, administration of rectal diazepam or buccal midazolam can be considered. \\nTherefore, the correct answer is D.###']]\n"
     ]
    },
    {
     "name": "stderr",
     "output_type": "stream",
     "text": [
      "Processed prompts: 100%|██████████| 78/78 [00:14<00:00,  5.32it/s]\n"
     ]
    },
    {
     "name": "stdout",
     "output_type": "stream",
     "text": [
      "Unloading the model\n"
     ]
    }
   ],
   "source": [
    "import os\n",
    "from helper import init_ipynb\n",
    "envfound = init_ipynb()\n",
    "\n",
    "DIR = os.environ[\"DIR_PATH\"] if envfound else None\n",
    "DEVICE = os.environ[\"DEVICE\"] if envfound else None\n",
    "API_KEY = os.environ[\"API_KEY\"] if envfound else None\n",
    "PLATFORM = os.environ[\"OS_TYPE\"] if envfound else None\n",
    "\n",
    "if(PLATFORM == \"Darwin\"):\n",
    "    os.environ['PYTORCH_MPS_HIGH_WATERMARK_RATIO'] = '0.0'\n",
    "else :\n",
    "    import vllm\n",
    "%load_ext autoreload\n",
    "%autoreload 2\n",
    "\n",
    "\n",
    "\n",
    "\n",
    "from transformers import (AutoModelForCausalLM\n",
    "                         ,LlamaForCausalLM\n",
    "                         ,AutoTokenizer)\n",
    "from models import (HF_LLM, GenerationArg, Model, OpenAIGPT)\n",
    "import torch\n",
    "import gc\n",
    "from evaluation import MCQBenchmark\n",
    "from models.qa_prompts import QA_PROMPTS\n",
    "from typing import List\n",
    "from vllm.distributed.parallel_state import destroy_model_parallel\n",
    "import json\n",
    "import nltk\n",
    "nltk.download('punkt')\n",
    "\n",
    "\n",
    "\n",
    "\n",
    "\n",
    "MARKER = \"X00A\"\n",
    "\n",
    "def cot1_prompt_template_support(q: str, shots: List[str], stop_token:str=\"<|STOP|>\") -> str:\n",
    "    template = QA_PROMPTS[\"1cot_answer_align\"]\n",
    "    shots = '\\n'.join(shots)\n",
    "    return f\"\"\"-system:\\n{template['system']}\\n{shots}{template['q_form'].format(q=q)}\"\"\".replace(\"###\", stop_token)\n",
    "\n",
    "def cot1_prompt_template_gpt(q: str, shots: List[str]) -> List[str]:\n",
    "    template = QA_PROMPTS[\"1cot_answer_align\"]\n",
    "    messages = [\n",
    "        {\n",
    "            \"role\": \"system\",\n",
    "            \"content\": template[\"system\"]\n",
    "        }\n",
    "    ]\n",
    "    for shot in shots:\n",
    "        contents = shot.replace(\"-user:\", MARKER).replace(\"-assistant:\", MARKER).split(MARKER)\n",
    "        contents = [x.strip() for x in contents if x != \"\"]\n",
    "        messages.append({\n",
    "            \"role\": \"user\",\n",
    "            \"content\": contents[0]\n",
    "        })\n",
    "        messages.append({\n",
    "            \"role\": \"assistant\",\n",
    "            \"content\": contents[1]\n",
    "        })\n",
    "    messages.append({\n",
    "        \"role\": \"user\",\n",
    "        \"content\": (\"Question : \" + q)\n",
    "    })\n",
    "    return messages\n",
    "\n",
    "\n",
    "\n",
    "aes = MCQBenchmark(\n",
    "    \"docs/benchmarks/self_assessment/final_processed_valid.json\",\n",
    "    cot1_prompt_template_support,\n",
    "    support_type=\"kNN\",\n",
    "    n_shots=3\n",
    ")\n",
    "\n",
    "\n",
    "all_generations = {}\n",
    "MODELS = [\n",
    "    [\"meta-llama/Meta-Llama-3-8B\", None ],\n",
    "    [\"cryptoni/epitron_LL3_final_N5_e1\",None ],\n",
    "    [\"cryptoni/epitron_LL3_final_N5_e2\",None ],\n",
    "    [\"cryptoni/epitron_LL3_PMC_N5_e1\",None ],\n",
    "    [\"cryptoni/epitron_LL3_PMCo_N2\", None ],\n",
    "    [\"cryptoni/epitron_LL3_N3_e1\",None ],\n",
    "    [\"cryptoni/epitron_LL3_PMCo_N2\",None ],\n",
    "    [\"cryptoni/epitron_LL3_PMC_N6\",None ],\n",
    "    [\"cryptoni/epitron_LL3_PMC_N6_e2\",None ],\n",
    "    [\"cryptoni/epitron_LL3_BOTH_N6\", None ],\n",
    "    [\"cryptoni/epitron_LL3_PMC_N6\", \"cryptoni/epitron_sft_n6_full\"],\n",
    "    [\"cryptoni/epitron_LL3_PMC_N6_e2\", \"cryptoni/SFT_LORA_epitron_N6_e2\"],\n",
    "    [\"cryptoni/epitron_LL3_PMC_N6_e2\", \"cryptoni/SFT_LORA_epitron_N6_e3\"],\n",
    "    [\"cryptoni/epitron_LL3_PMC_N6_e2\", \"cryptoni/SFT_LORA_epitron_N6_e4\"],\n",
    "    [\"cryptoni/epitron_LL3_PMC_N6_e2\", \"cryptoni/SFT_LORA_epitron_N6_e5\"],\n",
    "    [\"cryptoni/epitron_sft_nolora_n6_e2\", None],\n",
    "    [\"meta-llama/Meta-Llama-3-8B-Instruct\", None],\n",
    "    [\"cryptoni/epitron_pmc_mimic_n6\", None],\n",
    "    [\"cryptoni/epitron_pubmed_pmc\", None],\n",
    "    [\"cryptoni/epitron_pmc_pubmed_N5\", None]\n",
    "]\n",
    "\n",
    "model, adapter = MODELS[-1]\n",
    "llm = HF_LLM(\n",
    "    model_name=model,\n",
    "    arg=GenerationArg(\n",
    "        temperature=0,\n",
    "        topp=1,\n",
    "        max_new_token=512,\n",
    "        stop_seq=\"<|STOP|>\",\n",
    "        topk=1,\n",
    "        use_vllm=True\n",
    "    ),\n",
    "    device=DEVICE,\n",
    "    use_vllm=True,\n",
    "    lora_path=adapter\n",
    ")\n",
    "llm.load()\n",
    "all_generations[model] = aes.assess(llm)\n",
    "print(\"Unloading the model\")\n",
    "destroy_model_parallel()\n",
    "del llm\n",
    "gc.collect()\n",
    "torch.cuda.empty_cache()\n",
    "torch.distributed.destroy_process_group()\n",
    "\n",
    "\n",
    "to_store = aes.mcq.copy()\n",
    "for gen, q in zip(all_generations[model], to_store):\n",
    "    q[\"prediction\"] = gen.outputs[0].text\n",
    "\n",
    "fname = f\"docs/validation_results_store/{model.split('/')[1]}_{'adapted_' + adapter.split('/')[1] + '_'}valid.json\" if adapter is not None else f\"docs/validation_results_store/{model.split('/')[1]}_valid.json\"\n",
    "with open(fname, \"w\") as f:\n",
    "    json.dump(to_store, f)\n"
   ]
  },
  {
   "cell_type": "markdown",
   "metadata": {},
   "source": [
    "### Validation statistics :"
   ]
  },
  {
   "cell_type": "code",
   "execution_count": 2,
   "metadata": {},
   "outputs": [
    {
     "name": "stdout",
     "output_type": "stream",
     "text": [
      "- loading results for epitron_LL3_BOTH_N6\n",
      "- loading results for Meta-Llama-3-8B\n",
      "- loading results for epitron_LL3_final_N5_e1\n",
      "- loading results for epitron_LL3_final_N5_e2\n",
      "- loading results for epitron_LL3_PMC_N5_e1\n",
      "- loading results for epitron_LL3_PMCo_N2\n",
      "- loading results for epitron_LL3_N3_e1\n",
      "- loading results for epitron_LL3_PMCo_N2\n",
      "- loading results for epitron_LL3_PMC_N6\n",
      "- loading results for epitron_LL3_PMC_N6_e2\n",
      "- loading results for epitron_LL3_PMC_N6_adapted_epitron_sft_n6_full\n",
      "- loading results for epitron_LL3_PMC_N6_e2_adapted_SFT_LORA_epitron_N6_e2\n",
      "- loading results for epitron_LL3_PMC_N6_e2_adapted_SFT_LORA_epitron_N6_e3\n",
      "- loading results for epitron_LL3_PMC_N6_e2_adapted_SFT_LORA_epitron_N6_e4\n",
      "- loading results for epitron_LL3_PMC_N6_e2_adapted_SFT_LORA_epitron_N6_e5\n",
      "- loading results for epitron_sft_nolora_n6_e2\n",
      "- loading results for Meta-Llama-3-8B-Instruct\n",
      "- loading results for epitron_pmc_mimic_n6\n",
      "- loading results for epitron_pubmed_pmc\n",
      "- loading results for epitron_pmc_pubmed_N5\n",
      "- epitron_LL3_BOTH_N6 : \n",
      "Score on full AES final :  52.56 %\n",
      "- Meta-Llama-3-8B : \n",
      "Score on full AES final :  53.85 %\n",
      "- epitron_LL3_final_N5_e1 : \n",
      "Score on full AES final :  51.28 %\n",
      "- epitron_LL3_final_N5_e2 : \n",
      "Score on full AES final :  48.72 %\n",
      "- epitron_LL3_PMC_N5_e1 : \n",
      "Score on full AES final :  46.15 %\n",
      "- epitron_LL3_PMCo_N2 : \n",
      "Score on full AES final :  51.28 %\n",
      "- epitron_LL3_N3_e1 : \n",
      "Score on full AES final :  38.46 %\n",
      "- epitron_LL3_PMC_N6 : \n",
      "Score on full AES final :  53.85 %\n",
      "- epitron_LL3_PMC_N6_e2 : \n",
      "Score on full AES final :  55.13 %\n",
      "- epitron_LL3_PMC_N6_adapted_epitron_sft_n6_full : \n",
      "Score on full AES final :  53.85 %\n",
      "- epitron_LL3_PMC_N6_e2_adapted_SFT_LORA_epitron_N6_e2 : \n",
      "Score on full AES final :  53.85 %\n",
      "- epitron_LL3_PMC_N6_e2_adapted_SFT_LORA_epitron_N6_e3 : \n",
      "Score on full AES final :  55.13 %\n",
      "- epitron_LL3_PMC_N6_e2_adapted_SFT_LORA_epitron_N6_e4 : \n",
      "Score on full AES final :  55.13 %\n",
      "- epitron_LL3_PMC_N6_e2_adapted_SFT_LORA_epitron_N6_e5 : \n",
      "Score on full AES final :  55.13 %\n",
      "- epitron_sft_nolora_n6_e2 : \n",
      "Score on full AES final :  53.85 %\n",
      "- Meta-Llama-3-8B-Instruct : \n",
      "Score on full AES final :  47.44 %\n",
      "- epitron_pmc_mimic_n6 : \n",
      "Score on full AES final :  44.87 %\n",
      "- epitron_pubmed_pmc : \n",
      "Score on full AES final :  52.56 %\n",
      "- epitron_pmc_pubmed_N5 : \n",
      "Score on full AES final :  7.69 %\n"
     ]
    }
   ],
   "source": [
    "MODELS = [\n",
    "    \"epitron_LL3_BOTH_N6\",\n",
    "    \"Meta-Llama-3-8B\", ## BASE\n",
    "    \"epitron_LL3_final_N5_e1\", ## N5-E1\n",
    "    \"epitron_LL3_final_N5_e2\",\n",
    "    \"epitron_LL3_PMC_N5_e1\",\n",
    "    \"epitron_LL3_PMCo_N2\", ## N2-E1\n",
    "    \"epitron_LL3_N3_e1\",\n",
    "    \"epitron_LL3_PMCo_N2\",\n",
    "    \"epitron_LL3_PMC_N6\",\n",
    "    \"epitron_LL3_PMC_N6_e2\",\n",
    "    \"epitron_LL3_PMC_N6_adapted_epitron_sft_n6_full\",\n",
    "    \"epitron_LL3_PMC_N6_e2_adapted_SFT_LORA_epitron_N6_e2\",\n",
    "    \"epitron_LL3_PMC_N6_e2_adapted_SFT_LORA_epitron_N6_e3\",\n",
    "    \"epitron_LL3_PMC_N6_e2_adapted_SFT_LORA_epitron_N6_e4\",\n",
    "    \"epitron_LL3_PMC_N6_e2_adapted_SFT_LORA_epitron_N6_e5\",\n",
    "    \"epitron_sft_nolora_n6_e2\",\n",
    "    \"Meta-Llama-3-8B-Instruct\",\n",
    "    \"epitron_pmc_mimic_n6\",\n",
    "    \"epitron_pubmed_pmc\",\n",
    "    \"epitron_pmc_pubmed_N5\"\n",
    "]\n",
    "\n",
    "\n",
    "\n",
    "FLAGS = [\"Therefore\", \"correct\", \"answer\"]\n",
    "def match_score(sentence):\n",
    "    return len([flag for flag in FLAGS if flag in sentence]) / len(FLAGS)\n",
    "\n",
    "def simple_extract(ans_sentence):\n",
    "    sel = [l for l in [\"A\", \"B\", \"C\", \"D\", \"E\"] if l in ans_sentence]\n",
    "    return sel[0] if sel != [] else \"-1\"\n",
    "\n",
    "def csa2(pred):\n",
    "    if(type(pred) != str):\n",
    "        pred = pred.outputs[0].text\n",
    "    sent_text = nltk.sent_tokenize(pred.replace(\"\\n\", \"??\"))\n",
    "    sentence_score = sorted([[sent, match_score(sent)] for sent in sent_text], key=lambda _: _[1], reverse=True)\n",
    "    if(len(sentence_score) == 0):\n",
    "        return \"-1\"\n",
    "    sentence, score = sentence_score[0]\n",
    "    if(score == 0):\n",
    "        return \"-1\"\n",
    "    return simple_extract(sentence)\n",
    "\n",
    "\n",
    "gens = {}\n",
    "\n",
    "\n",
    "for model in MODELS:\n",
    "    if(os.path.exists(f\"docs/validation_results_store/{model}_valid.json\")):\n",
    "        print(f\"- loading results for {model}\")\n",
    "        with open(f\"docs/validation_results_store/{model}_valid.json\", \"r\") as f:\n",
    "            gens[model] = json.load(f)\n",
    "    else :\n",
    "        print(f\"- no stored results for {model}\")\n",
    "    \n",
    "scores = {}\n",
    "complete_scores = []\n",
    "for model, gen in gens.items():\n",
    "    print(f\"- {model} : \")\n",
    "    print(\"Score on full AES final : \", round(score := sum([(csa2(g[\"prediction\"]) == g[\"answer\"]) for g in gen]) * 100 / len(gen), 2), \"%\")\n",
    "    complete_scores.append(score)"
   ]
  },
  {
   "cell_type": "markdown",
   "metadata": {},
   "source": [
    "## Quick check of LLaMA-3-8B"
   ]
  },
  {
   "cell_type": "code",
   "execution_count": 7,
   "metadata": {},
   "outputs": [
    {
     "name": "stdout",
     "output_type": "stream",
     "text": [
      "****************************************************************************************************\n",
      "BEST ******************************\n",
      " Autosomal dominant epilepsy with auditory features is most often associated with a pathogenic variant in the LGI1 gene. This is an autosomal dominant disorder characterized by febrile seizures, ataxia, and auditory hallucinations. \n",
      "Therefore, the correct answer is C.\n",
      "BASE ******************************\n",
      " Autosomal dominant epilepsy with auditory features is most often associated with a pathogenic variant in the LGI1 gene. This is an autosomal dominant disorder characterized by febrile seizures, ataxia, and auditory hallucinations. The seizures are typically generalized tonic-clonic or complex partial in nature. \n",
      "Therefore, the correct answer is C.\n",
      "PMC PUBMED ******************************\n",
      " Autosomal dominant epilepsy with auditory features is most often associated with a pathogenic variant in the LGI1 gene. This is an autosomal dominant disorder characterized by febrile seizures, ataxia, and auditory hallucinations. \n",
      "Therefore, the correct answer is C.\n",
      "CORRECT ANSWER : C\n",
      "****************************************************************************************************\n",
      "BEST ******************************\n",
      " The ketogenic diet is a high-fat, low-carbohydrate diet that has been used for the treatment of epilepsy since the 1920s. The ratio of fat to carbohydrates and protein is typically 4:1 or 3:1 grams. \n",
      "Therefore, the correct answer is A.\n",
      "BASE ******************************\n",
      " The ketogenic diet is a high-fat, low-carbohydrate diet that has been used for the treatment of epilepsy since 1921. The ratio of fat to carbohydrates and protein is typically 4:1 or 3:1. \n",
      "Therefore, the correct answer is A.\n",
      "PMC PUBMED ******************************\n",
      " The ketogenic diet is a high-fat, low-carbohydrate diet that has been used for the treatment of epilepsy since the 1920s. The ratio of fat to carbohydrates and protein is typically 4:1 or 3:1 grams. \n",
      "Therefore, the correct answer is A.\n",
      "CORRECT ANSWER : D\n",
      "****************************************************************************************************\n",
      "BEST ******************************\n",
      " SUDEP is a rare but devastating complication of epilepsy. The risk factors for SUDEP are not well understood, but the following factors have been associated with an increased risk: male sex, young age at onset of seizures, and generalized tonic-clonic seizures. \n",
      "Therefore, the correct answer is B.\n",
      "BASE ******************************\n",
      " SUDEP is a rare but devastating complication of epilepsy. The risk factors for SUDEP include generalized tonic-clonic seizures, male sex, and young age at onset of epilepsy. \n",
      "Therefore, the correct answer is B.\n",
      "PMC PUBMED ******************************\n",
      " SUDEP is a rare but devastating complication of epilepsy. The risk factors for SUDEP are not well understood, but the following factors have been associated with an increased risk: male sex, young age at onset of seizures, and generalized tonic-clonic seizures. \n",
      "Therefore, the correct answer is B.\n",
      "CORRECT ANSWER : B\n",
      "****************************************************************************************************\n",
      "BEST ******************************\n",
      " The description of this event is suggestive of a seizure. The patient had a sudden loss of consciousness, followed by rapid twitching and urinary incontinence. He was able to describe visual scotomata after the event, which is not uncommon with seizures. However, the most important feature that suggests this was a seizure is that he had urinary incontinence during the event. Urinary incontinence during syncope is rare and should raise suspicion for an alternative diagnosis.\n",
      "Therefore, the correct answer is C.\n",
      "BASE ******************************\n",
      " The description of this event is suggestive of a seizure. The patient had a sudden loss of consciousness, followed by rapid twitching and urinary incontinence. He was able to describe visual scotomata after the event, which is consistent with postictal confusion. Syncopal events are usually associated with a brief period of loss of consciousness without any motor activity or incontinence.\n",
      "Therefore, the correct answer is A.\n",
      "PMC PUBMED ******************************\n",
      " The description of this event is suggestive of a seizure. The patient had a sudden loss of consciousness, followed by rapid twitching and urinary incontinence. He was able to describe visual scotomata after the event, which is not uncommon with seizures. However, the most important feature that suggests this was a seizure is that he had urinary incontinence during the event. Urinary incontinence during syncope is rare and should raise suspicion for an alternative diagnosis.\n",
      "Therefore, the correct answer is C.\n",
      "CORRECT ANSWER : A\n",
      "****************************************************************************************************\n",
      "BEST ******************************\n",
      " Migrating partial seizures of infancy is a rare epilepsy syndrome that begins in the first few months of life. It is characterized by frequent, brief, focal seizures that migrate from one part of the brain to another. The most common genetic cause is a mutation in KCNQ2, which encodes a subunit of the voltage-gated potassium channel Kv7.2. Mutations in DEPDC5 are also associated with this syndrome.\n",
      "Therefore, the correct answer is C.\n",
      "BASE ******************************\n",
      " Migrating partial seizures of infancy is a rare epilepsy syndrome that presents in the first few months of life. It is characterized by frequent, brief, focal seizures that migrate from one part of the brain to another. The most common genetic cause is a mutation in KCNQ2, which encodes for a subunit of the voltage-gated potassium channel Kv7.2. Mutations in DEPDC5 are also associated with this syndrome.\n",
      "Therefore, the correct answer is C.\n",
      "PMC PUBMED ******************************\n",
      " Migrating partial seizures of infancy is a rare epilepsy syndrome that begins in the first few months of life. It is characterized by frequent, brief, focal seizures that migrate from one part of the brain to another. The most common genetic cause is a mutation in KCNQ2, which encodes a subunit of the voltage-gated potassium channel Kv7.2. Mutations in DEPDC5 are also associated with this syndrome.\n",
      "Therefore, the correct answer is C.\n",
      "CORRECT ANSWER : D\n",
      "****************************************************************************************************\n",
      "BEST ******************************\n",
      " The patient in this vignette has a clinical picture consistent with postanoxic encephalopathy. EEG findings that are associated with poor prognosis include generalized suppression, unreactive EEG pattern, and electrographic seizures. Generalized spikes that correlate with the myoclonic jerks are not associated with poor prognosis. \n",
      "Therefore, the correct answer is B.\n",
      "BASE ******************************\n",
      " The patient in this vignette is likely to have a poor neurological outcome. The EEG findings listed above are all associated with a poor prognosis, although the presence of electrographic seizures may be more predictive of a good outcome. \n",
      "Therefore, the correct answer is C.\n",
      "PMC PUBMED ******************************\n",
      " The patient in this vignette has a clinical picture consistent with postanoxic encephalopathy. EEG findings that are associated with poor prognosis include generalized suppression, unreactive EEG pattern, and electrographic seizures. Generalized spikes that correlate with the myoclonic jerks are not associated with poor prognosis. \n",
      "Therefore, the correct answer is B.\n",
      "CORRECT ANSWER : C\n",
      "****************************************************************************************************\n",
      "BEST ******************************\n",
      " The centromedian nucleus of the thalamus is a target for DBS in patients with Lennox Gastaut syndrome. \n",
      "Therefore, the correct answer is B.\n",
      "BASE ******************************\n",
      " The paraventricular nucleus of the thalamus has been proposed as an alternative target to the anterior nucleus of the thalamus in the treatment of patients with drug resistant epilepsy, particularly in patients with Lennox Gastaut syndrome. \n",
      "Therefore, the correct answer is C.\n",
      "PMC PUBMED ******************************\n",
      " The centromedian nucleus of the thalamus is a target for DBS in patients with Lennox Gastaut syndrome. \n",
      "Therefore, the correct answer is B.\n",
      "CORRECT ANSWER : B\n",
      "****************************************************************************************************\n",
      "BEST ******************************\n",
      " The patient's history is suggestive of a mesial temporal lobe epilepsy syndrome, which is associated with cognitive decline. Cognitive impairment in epilepsy can be due to the underlying disease process, antiepileptic medications, or seizures themselves. In this case, the cavernous malformation may be contributing to their cognitive symptoms. The HOBSCOTCH program has been shown to improve memory and quality of life in patients with mesial temporal lobe epilepsy syndrome and other forms of refractory focal epilepsy. \n",
      "Therefore, the correct answer is A.\n",
      "BASE ******************************\n",
      " The patient's history is suggestive of a mesial temporal lobe epilepsy (MTLE) syndrome. MTLE is the most common form of focal epilepsy and has been associated with cognitive decline, including memory impairment. Cognitive rehabilitation programs such as HOBSCOTCH have been shown to improve memory in patients with MTLE. In addition, there are several ongoing clinical trials evaluating the efficacy of pharmacologic interventions for cognitive symptoms in patients with MTLE.\n",
      "Therefore, the correct answer is A.\n",
      "PMC PUBMED ******************************\n",
      " The patient's history is suggestive of a mesial temporal lobe epilepsy syndrome, which is associated with cognitive decline. Cognitive impairment in epilepsy can be due to the underlying disease process, antiepileptic medications, or seizures themselves. In this case, the cavernous malformation may be contributing to their cognitive symptoms. The HOBSCOTCH program has been shown to improve memory and quality of life in patients with mesial temporal lobe epilepsy syndrome. \n",
      "Therefore, the correct answer is A.\n",
      "CORRECT ANSWER : A\n",
      "****************************************************************************************************\n",
      "BEST ******************************\n",
      " In jurisdictions with mandatory physician reporting of patients with epilepsy and/or seizures, there are higher rates of unlicensed driving, lower rates of authorities being aware of the epilepsy diagnosis, and lower rates of car crashes in the previous year. Patients in these jurisdictions are also less likely to report seizures to their physician. \n",
      "Therefore, the correct answer is A.\n",
      "BASE ******************************\n",
      " In jurisdictions with mandatory physician reporting of patients with epilepsy and/or seizures, there are higher rates of unlicensed driving, lower rates of authorities being aware of the epilepsy diagnosis, and lower rates of car crashes in the previous year. Patients in these jurisdictions are also less likely to report seizures to their physician. \n",
      "Therefore, the correct answer is A.\n",
      "PMC PUBMED ******************************\n",
      " In jurisdictions with mandatory physician reporting of patients with epilepsy and/or seizures, there are higher rates of unlicensed driving, lower rates of authorities being aware of the epilepsy diagnosis, and lower rates of car crashes in the previous year. Patients in these jurisdictions are also less likely to report seizures to their physician. \n",
      "Therefore, the correct answer is A.\n",
      "CORRECT ANSWER : A\n",
      "****************************************************************************************************\n",
      "BEST ******************************\n",
      " The answer is A. Generalized spike-wave bursts are associated with a high risk of driving impairment. Focal aware seizures with sensory features (B) and focal aware seizures with autonomic features (D) are not associated with a high risk of driving impairment. Myoclonic seizure (C) is not associated with a high risk of driving impairment.\n",
      "Therefore, the correct answer is A.\n",
      "BASE ******************************\n",
      " The answer is A. Generalized spike-wave bursts are associated with a high risk of driving impairment, and patients should be advised to avoid driving until they have been seizure-free for at least 3 months. Focal aware seizures with sensory features (B) are not associated with a high risk of driving impairment, and patients may drive after 3 months of being seizure-free. Myoclonic seizures (C) are not associated with a high risk of driving impairment, and patients may drive after 3 months of being seizure-free. Focal aware seizures with autonomic features (D) are not associated with a high risk of driving impairment, and patients may drive after 3 months of being seizure-free.\n",
      "Therefore, the correct answer is A.\n",
      "PMC PUBMED ******************************\n",
      " The answer is A. Generalized spike-wave bursts are associated with a high risk of driving impairment, and patients should be advised to avoid driving until they have been seizure-free for at least 3 months. Focal aware seizures with sensory features (B) are not associated with a high risk of driving impairment, and patients may drive after 3 months of being seizure-free. Myoclonic seizures (C) are not associated with a high risk of driving impairment, and patients may drive after 3 months of being seizure-free. Focal aware seizures with autonomic features (D) are not associated with a high risk of driving impairment, and patients may drive after 3 months of being seizure-free.\n",
      "Therefore, the correct answer is A.\n",
      "CORRECT ANSWER : C\n",
      "****************************************************************************************************\n",
      "BEST ******************************\n",
      " The patient's neuropsychological testing reveals a pattern of memory and language deficits that are consistent with dominant hemispheric dysfunction. His verbal comprehension index is in the average range, while his perceptual reasoning index is well below average. This suggests that he has difficulty with visuospatial tasks, which are typically associated with non-dominant hemispheric function. His story memory and figure copy scores were also well below average, suggesting a deficit in non-dominant hemispheric function. However, his delayed recall of verbal lists was normal, suggesting that he has intact dominant hemispheric function.\n",
      "Therefore, the correct answer is A.\n",
      "BASE ******************************\n",
      " The patient's neuropsychological testing reveals a pattern of memory and language deficits that are consistent with dominant hemispheric dysfunction. His verbal comprehension index is in the average range, while his perceptual reasoning index is well below average. This suggests that he has difficulty with visuospatial tasks, which are typically associated with non-dominant hemispheric dysfunction. His story memory and figure copy scores were also well below average, suggesting further non-dominant hemispheric dysfunction. However, his delayed recall of verbal lists was normal, suggesting dominant hemispheric function.\n",
      "Therefore, the correct answer is A.\n",
      "PMC PUBMED ******************************\n",
      " The patient's neuropsychological testing reveals a pattern of memory and language deficits that are consistent with dominant hemispheric dysfunction. His verbal comprehension index is in the average range, while his perceptual reasoning index is well below average. This suggests that he has difficulty with visuospatial tasks, which are typically associated with non-dominant hemispheric function. His story memory and figure copy scores were also well below average, suggesting difficulty with visual-spatial processing and recall. Delayed recall of verbal lists was normal, suggesting intact long-term memory storage in the dominant hemisphere.\n",
      "Therefore, the correct answer is A.\n",
      "CORRECT ANSWER : D\n",
      "****************************************************************************************************\n",
      "BEST ******************************\n",
      " A. The hormonal IUDs contain levonorgestrel, which is a potent inducer of hepatic enzymes. This can lead to decreased levels of lamotrigine and oxcarbazepine.\n",
      "Therefore, the correct answer is A.\n",
      "BASE ******************************\n",
      " A. The hormonal IUDs contain levonorgestrel, which is a potent inducer of hepatic enzymes. This can lead to decreased levels of lamotrigine and oxcarbazepine.\n",
      "Therefore, the correct answer is A.\n",
      "PMC PUBMED ******************************\n",
      " A. The hormonal IUDs contain levonorgestrel, which is a potent inducer of hepatic enzymes. This can lead to decreased levels of lamotrigine and oxcarbazepine.\n",
      "Therefore, the correct answer is A.\n",
      "CORRECT ANSWER : C\n",
      "****************************************************************************************************\n",
      "BEST ******************************\n",
      " The correct answer is D. NMDA Receptors. \n",
      "Therefore, the correct answer is D.\n",
      "BASE ******************************\n",
      " The correct answer is D. NMDA Receptors. \n",
      "Therefore, the correct answer is D.\n",
      "PMC PUBMED ******************************\n",
      " The correct answer is D. NMDA Receptors. \n",
      "Therefore, the correct answer is D.\n",
      "CORRECT ANSWER : B\n",
      "****************************************************************************************************\n",
      "BEST ******************************\n",
      " The clinical presentation of this patient is most consistent with a mutation in the PCDH19 gene. This X-linked dominant disorder typically presents in girls between 6 and 18 months of age with seizures that are often triggered by fever. Seizures may be focal or generalized, but hypomotor seizures are common. Intellectual disability and autistic features are also common, as is status epilepticus. EEGs show background slowing and interictal epileptiform discharges.\n",
      "Therefore, the correct answer is E.\n",
      "BASE ******************************\n",
      " The clinical history is most consistent with a mutation in the PCDH19 gene. This X-linked dominant disorder is characterized by febrile seizures, followed by other seizure types and developmental delay. The seizures are often triggered by fever, but can also occur spontaneously. Mutations in the SCN1A gene are associated with Dravet syndrome (severe myoclonic epilepsy of infancy), which typically presents with prolonged febrile seizures at 6 months of age or later and then develops other seizure types over time. Mutations in GABRG2 are associated with generalized epilepsy with febrile seizures plus (GEFS+). KCNQ2 mutations cause benign familial neonatal convulsions, which typically present as brief tonic-clonic or clonic-tonic-clonic events within the first week of life that resolve without treatment within 3 to 4 weeks. SLC6A1 mutations cause infantile epileptic encephalopathy type 5 (Ohtahara syndrome), which presents as early-onset tonic spasms.\n",
      "Therefore, the correct answer is E.\n",
      "PMC PUBMED ******************************\n",
      " The clinical presentation of this patient is consistent with a diagnosis of Dravet syndrome. This disorder is caused by mutations in the SCN1A gene, which encodes the alpha subunit of the voltage-gated sodium channel NaV1.1. The seizures are often triggered by fever and can be difficult to control with antiepileptic medications. Patients may also have intellectual disability and autistic features.\n",
      "Therefore, the correct answer is A.\n",
      "CORRECT ANSWER : E\n",
      "****************************************************************************************************\n",
      "BEST ******************************\n",
      " This is a sentinel event. Sentinel events are defined as unexpected occurrences involving death or serious physical or psychological injury, or the risk thereof. Serious injury specifically includes loss of limb or function. The definition also includes any life-threatening events and those that result in permanent harm.\n",
      "Therefore, the correct answer is B.\n",
      "BASE ******************************\n",
      " This is a near miss. A near miss is an event that could have resulted in harm but did not because of chance or intervention. The patient was harmed, but the harm was prevented by the resident's decision to hold the next dose of lacosamide and by the patient's improvement later that day. \n",
      "Therefore, the correct answer is C.\n",
      "PMC PUBMED ******************************\n",
      " This is a sentinel event. Sentinel events are defined as unexpected occurrences involving death or serious physical or psychological injury, or the risk thereof. Serious injury specifically includes loss of limb or function. The definition also includes any life-threatening events and those that result in permanent harm.\n",
      "Therefore, the correct answer is B.\n",
      "CORRECT ANSWER : A\n",
      "****************************************************************************************************\n",
      "BEST ******************************\n",
      " The patient described above is likely to have nonconvulsive status epilepticus. EEG findings in nonconvulsive status epilepticus are variable, but the presence of periodic discharges at 2 Hz is a common finding. Periodic discharges at 2 Hz are associated with a higher risk of seizure recurrence after weaning midazolam infusion. Burst suppression ratio greater than 1:3 and interburst intervals greater than two seconds are both associated with a lower risk of seizure recurrence after weaning midazolam infusion.\n",
      "Therefore, the correct answer is A.\n",
      "BASE ******************************\n",
      " The patient described above is likely to have nonconvulsive status epilepticus. EEG findings in nonconvulsive status epilepticus are variable, but the most common finding is a burst suppression pattern. The burst suppression ratio (ie, the ratio of time spent in bursts to time spent suppressed) can be used as a prognostic indicator for seizure recurrence after weaning antiepileptics. A burst suppression ratio of greater than 1:3 is associated with an increased risk of seizure recurrence after weaning antiepileptics.\n",
      "Therefore, the correct answer is B.\n",
      "PMC PUBMED ******************************\n",
      " The patient described above is likely to have nonconvulsive status epilepticus. EEG findings in nonconvulsive status epilepticus are variable, but the presence of periodic discharges at 2 Hz is a common finding. Periodic discharges at 2 Hz are associated with a higher risk of seizure recurrence after weaning midazolam infusion. Burst suppression ratio greater than 1:3 and interburst intervals greater than two seconds are both associated with a lower risk of seizure recurrence after weaning midazolam infusion.\n",
      "Therefore, the correct answer is A.\n",
      "CORRECT ANSWER : A\n",
      "****************************************************************************************************\n",
      "BEST ******************************\n",
      " The superior temporal gyrus is the most commonly activated area in fMRI after passively listening to words and sentences, compared to the resting state. \n",
      "Therefore, the correct answer is B.\n",
      "BASE ******************************\n",
      " The superior temporal gyrus is activated during passive listening to words and sentences, compared to the resting state. \n",
      "Therefore, the correct answer is B.\n",
      "PMC PUBMED ******************************\n",
      " The superior temporal gyrus is the most commonly activated area in fMRI after passively listening to words and sentences, compared to the resting state. \n",
      "Therefore, the correct answer is B.\n",
      "CORRECT ANSWER : B\n",
      "****************************************************************************************************\n",
      "BEST ******************************\n",
      " This patient is reporting symptoms of depression, which are common in patients with epilepsy. In patients requiring pharmacotherapy for these symptoms, selective serotonin reuptake inhibitors (SSRIs) such as citalopram are considered first-line treatments because of lower likelihood of additional side effects and minimal drug-drug interactions. Valproic acid is not commonly associated with depression and is often used as a mood stabilizer; it is unlikely to be the cause of these symptoms in this patient and should not be changed to oxcarbazepine. Bupropion can be used for depression but has a higher risk of seizures than SSRIs; it should not be added to lamotrigine.\n",
      "Therefore, the correct answer is D.\n",
      "BASE ******************************\n",
      " This patient is reporting symptoms of depression, which are common in patients with epilepsy. In patients requiring pharmacotherapy for these symptoms, selective serotonin reuptake inhibitors (SSRIs) such as citalopram are considered first-line treatments because of lower likelihood of additional side effects and minimal drug-drug interactions. Bupropion is associated with a higher risk of seizures and should not be used. Valproic acid can be used to treat bipolar disorder but not depression; it should not be switched to in this case. Oxcarbazepine has been shown to have mood-stabilizing properties but is less effective than valproic acid; it should not be switched to in this case.\n",
      "Therefore, the correct answer is D.\n",
      "PMC PUBMED ******************************\n",
      " This patient is reporting symptoms of depression, which are common in patients with epilepsy. In patients requiring pharmacotherapy for these symptoms, SSRIs such as citalopram are considered first-line treatments because of lower likelihood of additional side effects and minimal drug-drug interactions. Valproic acid is not a first-line treatment for depression and should not be used in this setting. Oxcarbazepine can be used to treat both epilepsy and bipolar disorder but is not indicated for the treatment of depression alone. Bupropion has been associated with an increased risk of seizures; it should be avoided in patients with epilepsy.\n",
      "Therefore, the correct answer is D.\n",
      "CORRECT ANSWER : D\n",
      "****************************************************************************************************\n",
      "BEST ******************************\n",
      " Magnetoencephalography (MEG) is a noninvasive technique that can be used to localize the seizure onset zone in patients with focal epilepsy. MEG is particularly useful in patients with normal MRI and PET scans, as was the case for this patient. \n",
      "Therefore, the correct answer is B.\n",
      "BASE ******************************\n",
      " Magnetoencephalography (MEG) is a noninvasive technique that can be used to localize the seizure onset zone in patients with focal epilepsy. MEG is particularly useful in patients with normal MRI and PET scans, as was the case for this patient. \n",
      "Therefore, the correct answer is B.\n",
      "PMC PUBMED ******************************\n",
      " Magnetoencephalography (MEG) is a noninvasive technique that can be used to localize the seizure onset zone in patients with focal epilepsy. MEG is particularly useful in patients with normal MRI and PET scans, as was the case for this patient. \n",
      "Therefore, the correct answer is B.\n",
      "CORRECT ANSWER : A\n",
      "****************************************************************************************************\n",
      "BEST ******************************\n",
      " Valproate is associated with a number of dose-dependent adverse effects, including thrombocytopenia, hyperammonemia, and liver transaminitis. Elevation of amylase and lipase is not a dose-dependent effect but rather an idiosyncratic reaction that can occur at any time during valproate therapy. Increased appetite is also not a dose-dependent effect but rather an idiosyncratic reaction that can occur at any time during valproate therapy. \n",
      "Therefore, the correct answer is B.\n",
      "BASE ******************************\n",
      " Valproate is associated with a number of dose-dependent adverse effects, including thrombocytopenia, hyperammonemia, and liver transaminitis. Elevation of amylase and lipase is not a dose-dependent effect but rather an idiosyncratic reaction that can occur at any time during valproate therapy. Increased appetite is also not a dose-dependent effect but rather an idiosyncratic reaction that can occur at any time during valproate therapy. \n",
      "Therefore, the correct answer is B.\n",
      "PMC PUBMED ******************************\n",
      " Valproate is associated with a number of dose-dependent adverse effects, including thrombocytopenia, hyperammonemia, and liver transaminitis. Elevation of amylase and lipase is not a dose-dependent effect but rather an idiosyncratic reaction that can occur at any time during valproate therapy. Increased appetite is also not a dose-dependent effect but rather an idiosyncratic reaction that can occur at any time during valproate therapy. \n",
      "Therefore, the correct answer is B.\n",
      "CORRECT ANSWER : B\n",
      "****************************************************************************************************\n",
      "BEST ******************************\n",
      " The patient described above is likely to have generalized epilepsy with atypical absence seizures. Generalized epilepsy with atypical absence seizures is characterized by a combination of generalized tonic clonic seizures and atypical absence seizures. Atypical absence seizures are typically seen in patients with intellectual disability, and they are often associated with frontally predominant high voltage notched delta waves on EEG. Generalized paroxysmal fast activity (GPFA) is most commonly seen in patients with Lennox-Gastaut syndrome, which is characterized by multiple seizure types including tonic, atomic, myoclonic, and generalized tonic clonic seizures. Occipital intermittent rhythmic delta activity (OIRDA) can be seen in patients who have had a stroke or other lesion involving the occipital lobe.\n",
      "Therefore, the correct answer is A.\n",
      "BASE ******************************\n",
      " The patient described above is likely to have generalized epilepsy with myoclonic-atonic seizures. This type of epilepsy is characterized by a combination of atypical absence seizures, generalized tonic-clonic seizures, and atonic (drop) attacks. EEG findings in this condition include frontally predominant high voltage notched delta waves (also known as \"delta brushes\") and 4 Hz generalized polyspike-wave discharges. Generalized paroxysmal fast activity is seen in patients with juvenile myoclonic epilepsy, while occipital intermittent rhythmic delta activity is seen in patients with benign childhood occipital epilepsy.\n",
      "Therefore, the correct answer is A.\n",
      "PMC PUBMED ******************************\n",
      " The patient described above is likely to have generalized epilepsy with atypical absence seizures. Generalized epilepsy with atypical absence seizures is characterized by a combination of generalized tonic clonic seizures and atypical absence seizures. Atypical absence seizures are typically seen in patients with intellectual disability, and they are often associated with frontally predominant high voltage notched delta waves on EEG. Generalized paroxysmal fast activity (GPFA) is most commonly seen in patients with juvenile myoclonic epilepsy, but it can also be seen in other forms of generalized epilepsy. Occipital intermittent rhythmic delta activity (OIRDA) is most commonly seen in migraine headaches but can also be seen as an interictal finding in some patients with occipital lobe epilepsies.\n",
      "Therefore, the correct answer is A.\n",
      "CORRECT ANSWER : C\n",
      "****************************************************************************************************\n",
      "BEST ******************************\n",
      " The most important intervention to reduce adverse events in patients admitted to the seizure monitoring unit is venous thromboembolism prophylaxis. Cardiac telemetry and fall risk precautions are also important, but they are not as effective as venous thromboembolism prophylaxis. A written protocol for the treatment of seizure clusters is not necessary because it does not reduce adverse events.\n",
      "Therefore, the correct answer is A.\n",
      "BASE ******************************\n",
      " The most important intervention to reduce adverse events in patients admitted to the seizure monitoring unit is venous thromboembolism prophylaxis. Cardiac telemetry and fall risk precautions are also important, but they are not as effective as venous thromboembolism prophylaxis. A written protocol for the treatment of seizure clusters is not necessary because it does not reduce adverse events.\n",
      "Therefore, the correct answer is A.\n",
      "PMC PUBMED ******************************\n",
      " The most important intervention to reduce adverse events in patients admitted to the seizure monitoring unit is venous thromboembolism prophylaxis. Cardiac telemetry and fall risk precautions are also important, but they are not as effective as venous thromboembolism prophylaxis. A written protocol for the treatment of seizure clusters is not necessary because it does not reduce adverse events.\n",
      "Therefore, the correct answer is A.\n",
      "CORRECT ANSWER : C\n",
      "****************************************************************************************************\n",
      "BEST ******************************\n",
      " The most common adverse effects in the trials were somnolence, diarrhea, elevated liver enzymes, and vomiting. \n",
      "Therefore, the correct answer is B.\n",
      "BASE ******************************\n",
      " The most common adverse effects in the trials were somnolence, diarrhea, elevated liver enzymes, and vomiting. \n",
      "Therefore, the correct answer is B.\n",
      "PMC PUBMED ******************************\n",
      " The most common adverse effects in the trials were somnolence, diarrhea, elevated liver enzymes, and vomiting. \n",
      "Therefore, the correct answer is B.\n",
      "CORRECT ANSWER : B\n",
      "****************************************************************************************************\n",
      "BEST ******************************\n",
      " Ketogenic diets are contraindicated in patients with pyruvate carboxylase deficiency, pyruvate dehydrogenase deficiency, and GLUT1 deficiency syndrome. Ketogenic diets may be considered in patients with infantile spasms. \n",
      "Therefore, the correct answer is A.\n",
      "BASE ******************************\n",
      " Ketogenic diets are contraindicated in patients with pyruvate carboxylase deficiency, pyruvate dehydrogenase deficiency, and GLUT1 deficiency syndrome. Ketogenic diets are not effective for infantile spasms. \n",
      "Therefore, the correct answer is A.\n",
      "PMC PUBMED ******************************\n",
      " Ketogenic diets are contraindicated in patients with pyruvate carboxylase deficiency, pyruvate dehydrogenase deficiency, and GLUT1 deficiency syndrome. Ketogenic diets may be considered in patients with infantile spasms. \n",
      "Therefore, the correct answer is A.\n",
      "CORRECT ANSWER : A\n",
      "****************************************************************************************************\n",
      "BEST ******************************\n",
      " The clinical history is suggestive of Rasmussen encephalitis, a rare progressive inflammatory disorder of the brain that typically presents in childhood. The seizures are often focal and evolve into prolonged bilateral tonic-clonic convulsions. MRI demonstrates atrophy of the affected hemisphere, and DFDG-PET scan shows hypometabolism in the affected hemisphere. Pathologically, there is segmental loss of pyramidal neurons with microglial nodules and gliosis.\n",
      "Therefore, the correct answer is C.\n",
      "BASE ******************************\n",
      " The clinical history is suggestive of Rasmussen encephalitis, a rare progressive inflammatory disorder of the brain that typically presents in childhood. The seizures are often focal and evolve into prolonged bilateral tonic-clonic convulsions. MRI demonstrates atrophy of the affected hemisphere, and DFDG-PET scan shows hypometabolism in the affected hemisphere. Pathologic findings include segmental loss of pyramidal neurons with microglial nodules and gliosis.\n",
      "Therefore, the correct answer is C.\n",
      "PMC PUBMED ******************************\n",
      " The clinical history is suggestive of Rasmussen encephalitis, a rare progressive inflammatory disorder of the brain that typically presents in childhood. The seizures are often focal and evolve into generalized tonic-clonic convulsions. MRI demonstrates atrophy of the affected hemisphere, and DFDG-PET scan shows hypometabolism in the affected hemisphere. Pathologic findings include segmental loss of pyramidal neurons with microglial nodules and gliosis.\n",
      "Therefore, the correct answer is C.\n",
      "CORRECT ANSWER : B\n",
      "****************************************************************************************************\n",
      "BEST ******************************\n",
      " The Wada test is a pre-surgical evaluation procedure that involves the injection of an anesthetic agent into one carotid artery to determine which hemisphere is dominant for language. The most commonly used agents are amobarbital, etomidate, and methohexital. Propofol has been used in some centers but is not as widely available as the other agents. Amobarbital and methohexital have been shown to activate epileptiform discharges on EEG in patients with epilepsy, whereas etomidate does not appear to have this effect.\n",
      "Therefore, the correct answer is A.\n",
      "BASE ******************************\n",
      " The Wada test is a pre-surgical evaluation procedure that involves the injection of an anesthetic agent into one carotid artery to determine which hemisphere is dominant for language. The most commonly used agents are amobarbital, etomidate, and methohexital. Propofol has been used in some centers but is not as widely available as the other agents. Amobarbital and methohexital have been shown to activate epileptiform discharges on EEG in patients with epilepsy, whereas etomidate does not appear to have this effect.\n",
      "Therefore, the correct answer is A.\n",
      "PMC PUBMED ******************************\n",
      " The Wada test is a pre-surgical evaluation procedure that involves the injection of an anesthetic agent into one carotid artery to determine which hemisphere is dominant for language. The most commonly used agents are amobarbital, etomidate, and methohexital. Propofol has been used in some centers but is not as widely available as the other agents. Amobarbital has been shown to activate epileptiform discharges in patients with epilepsy, whereas etomidate and methohexital have not.\n",
      "Therefore, the correct answer is A.\n",
      "CORRECT ANSWER : C\n",
      "****************************************************************************************************\n",
      "BEST ******************************\n",
      " The strongest predictor of postoperative naming decline after dominant temporal lobe resection for refractory epilepsy is the presence of a lesion on MRI brain. This may be due to the fact that patients with lesions are more likely to have underlying pathology in the language-dominant hemisphere, which may be more vulnerable to injury during surgery. \n",
      "Therefore, the correct answer is A.\n",
      "BASE ******************************\n",
      " The strongest predictor of postoperative naming decline after dominant temporal lobe resection for refractory epilepsy is the absence of a lesion on MRI brain. This may be due to the fact that patients with mesial temporal sclerosis are more likely to have a normal MRI than those with tumors or other lesions. \n",
      "Therefore, the correct answer is A.\n",
      "PMC PUBMED ******************************\n",
      " The strongest predictor of postoperative naming decline after dominant temporal lobe resection for refractory epilepsy is the absence of a lesion on MRI brain. This may be due to the fact that patients with mesial temporal sclerosis are more likely to have a normal MRI than those with tumors or other lesions. \n",
      "Therefore, the correct answer is A.\n",
      "CORRECT ANSWER : C\n",
      "****************************************************************************************************\n",
      "BEST ******************************\n",
      " This patient has focal status epilepticus that has persisted despite adequate doses of benzodiazepines. The next step in management is to administer an IV anticonvulsant agent. Propofol is the preferred agent for this purpose, as it can be administered quickly and has been shown to be more effective than phenytoin or valproate in this setting. Levetiracetam and lacosamide are not typically used for acute treatment of status epilepticus, although they may be considered if other agents are not available or have failed.\n",
      "Therefore, the correct answer is A.\n",
      "BASE ******************************\n",
      " This patient has focal status epilepticus that has persisted despite adequate doses of benzodiazepines. The next step in management is to administer an IV anticonvulsant agent. Propofol is the preferred agent for this purpose, as it can be administered quickly and has a rapid onset of action. Levetiracetam and lacosamide are oral agents that would not be appropriate in this setting, and phenobarbital is not considered first-line therapy for status epilepticus.\n",
      "Therefore, the correct answer is A.\n",
      "PMC PUBMED ******************************\n",
      " This patient has focal status epilepticus that has persisted despite adequate doses of benzodiazepines. The next step in management is to administer an IV anticonvulsant agent. Propofol is the preferred agent for this purpose, as it can be administered quickly and has been shown to be more effective than phenytoin or valproate in this setting. Levetiracetam, lacosamide, and phenobarbital are not considered first-line agents for status epilepticus.\n",
      "Therefore, the correct answer is A.\n",
      "CORRECT ANSWER : B\n",
      "****************************************************************************************************\n",
      "BEST ******************************\n",
      " Aicardi syndrome is a rare X-linked dominant disorder characterized by the triad of infantile spasms, agenesis of the corpus callosum, and chorioretinal lacunae. It is inherited in an X-linked dominant pattern and occurs almost exclusively in females. \n",
      "Therefore, the correct answer is B.\n",
      "BASE ******************************\n",
      " Aicardi syndrome is a rare X-linked dominant disorder characterized by the triad of infantile spasms, agenesis of the corpus callosum, and chorioretinal lacunae. It is inherited in an X-linked dominant pattern and occurs almost exclusively in females. \n",
      "Therefore, the correct answer is B.\n",
      "PMC PUBMED ******************************\n",
      " Aicardi syndrome is a rare X-linked disorder characterized by the triad of infantile spasms, agenesis of the corpus callosum, and chorioretinal lacunae. It is inherited in an X-linked recessive pattern. \n",
      "Therefore, the correct answer is B.\n",
      "CORRECT ANSWER : D\n",
      "****************************************************************************************************\n",
      "BEST ******************************\n",
      " The Progesterone Treatment trial, a randomized double-blind, placebo trial of natural progesterone supplements for catamenial epilepsy did not identify statistically significant reduction in seizures. But the perimenstrual C1 pattern showed statistically significant responder rate to treatment. \n",
      "Therefore, the correct answer is A.\n",
      "BASE ******************************\n",
      " The Progesterone Treatment trial, a randomized double-blind, placebo trial of natural progesterone supplements for catamenial epilepsy did not identify statistically significant reduction in seizures. But the perimenstrual C1 pattern showed statistically significant responder rate to treatment. \n",
      "Therefore, the correct answer is A.\n",
      "PMC PUBMED ******************************\n",
      " The Progesterone Treatment trial, a randomized double-blind, placebo trial of natural progesterone supplements for catamenial epilepsy did not identify statistically significant reduction in seizures. But the perimenstrual C1 pattern showed statistically significant responder rate to treatment. \n",
      "Therefore, the correct answer is A.\n",
      "CORRECT ANSWER : A\n",
      "****************************************************************************************************\n",
      "BEST ******************************\n",
      " Benign Epileptiform Transients of Sleep (BETS) are a normal variant seen in children and adolescents. They are characterized by a brief, high-voltage spike or sharp wave that is maximal over the central regions and is associated with an aftergoing slow wave. BETS are typically seen during sleep, but can also be seen during wakefulness. Interictal epileptiform discharges (IEDs) have a field distribution that is more widespread than BETS, which tend to be localized to the central regions. IEDs do not have an aftergoing slow wave.\n",
      "Therefore, the correct answer is A.\n",
      "BASE ******************************\n",
      " Benign Epileptiform Transients of Sleep (BETS) are a normal variant seen in children and adolescents. They are characterized by a brief, high-voltage spike or sharp wave that is maximal over the central region and is associated with an aftergoing slow wave. BETS are typically seen during sleep, but can also be seen during wakefulness. Interictal epileptiform discharges (IEDs) have a field distribution that is more widespread than BETS, which tend to be localized to the central region. IEDs do not have prominent aftergoing slow waves.\n",
      "Therefore, the correct answer is A.\n",
      "PMC PUBMED ******************************\n",
      " Benign Epileptiform Transients of Sleep (BETS) are a normal variant seen in children and adolescents. They are characterized by a brief, high-voltage spike or sharp wave that is maximal over the central regions and is associated with an aftergoing slow wave. BETS are typically seen during sleep, but can also be seen during wakefulness. Interictal epileptiform discharges (IEDs) have a field distribution that is more widespread than BETS, which tend to be localized to the central regions. IEDs do not have an aftergoing slow wave.\n",
      "Therefore, the correct answer is A.\n",
      "CORRECT ANSWER : C\n",
      "****************************************************************************************************\n",
      "BEST ******************************\n",
      " Stiripentol is a potent enzyme inducer, and it can cause decreased levels of valproic acid. This patient's lethargy and decreased appetite are likely due to the lower level of valproic acid. The other options are not affected by stiripentol.\n",
      "Therefore, the correct answer is A.\n",
      "BASE ******************************\n",
      " Stiripentol is a potent enzyme inducer, and it can cause decreased levels of valproic acid. This patient's lethargy and decreased appetite are likely due to the lower level of valproic acid. The other options are not affected by stiripentol.\n",
      "Therefore, the correct answer is A.\n",
      "PMC PUBMED ******************************\n",
      " Stiripentol is a potent enzyme inducer, and it can cause decreased levels of valproic acid. This patient's lethargy and decreased appetite are likely due to the lower level of valproic acid. The other options are not affected by stiripentol.\n",
      "Therefore, the correct answer is A.\n",
      "CORRECT ANSWER : C\n",
      "****************************************************************************************************\n",
      "BEST ******************************\n",
      " The anterior cingulate gyrus is part of the limbic system and is involved in emotional processing. It has been shown to be hyperexcitable in patients with temporal lobe epilepsy and depression. \n",
      "Therefore, the correct answer is C.\n",
      "BASE ******************************\n",
      " The anterior cingulate gyrus is part of the limbic system and is involved in emotional processing. It has been shown to be hyperexcitable in patients with temporal lobe epilepsy and depression. \n",
      "Therefore, the correct answer is C.\n",
      "PMC PUBMED ******************************\n",
      " The anterior cingulate gyrus is part of the limbic system and is involved in emotional processing. It has been shown to be hyperexcitable in patients with temporal lobe epilepsy and depression. \n",
      "Therefore, the correct answer is C.\n",
      "CORRECT ANSWER : C\n",
      "****************************************************************************************************\n",
      "BEST ******************************\n",
      " The most common side effect of deep brain stimulation of the anterior thalamus is depression, seen in about 20% of patients. Other side effects include nausea, dizziness, and infection. Hemorrhage is a rare complication.\n",
      "Therefore, the correct answer is D.\n",
      "BASE ******************************\n",
      " The most common side effect of deep brain stimulation of the anterior thalamus is depression, seen in about 20% of patients. Other side effects include nausea, dizziness, and infection. Hemorrhage is a rare complication.\n",
      "Therefore, the correct answer is D.\n",
      "PMC PUBMED ******************************\n",
      " The most common side effect of deep brain stimulation of the anterior thalamus is depression, seen in about 20% of patients. Other side effects include nausea, dizziness, and infection. Hemorrhage is a rare complication.\n",
      "Therefore, the correct answer is D.\n",
      "CORRECT ANSWER : E\n",
      "****************************************************************************************************\n",
      "BEST ******************************\n",
      " Severe myoclonic epilepsy of infancy (SMEI) is a rare form of epilepsy that presents in the first year of life with frequent, prolonged seizures. The seizures are often triggered by fever and can include unilateral clonic seizures on either side of the body and tonic-clonic seizures. Developmental delay is common, and some children will develop microcephaly. The most common cellular physiological abnormality for this condition is impaired inhibitory interneuron function due to loss-of-function mutation of an ion channel.\n",
      "Therefore, the correct answer is A.\n",
      "BASE ******************************\n",
      " Severe myoclonic epilepsy of infancy (SMEI) is a rare form of epilepsy that presents in the first year of life with frequent, prolonged seizures. The seizures are often triggered by fever and can include unilateral clonic seizures on either side of the body and tonic-clonic seizures. Developmental delay is common, and some children will develop microcephaly. The most common cellular physiological abnormality for this condition is impaired inhibitory interneuron function due to loss-of-function mutation of an ion channel.\n",
      "Therefore, the correct answer is A.\n",
      "PMC PUBMED ******************************\n",
      " Severe myoclonic epilepsy of infancy (SMEI) is a rare form of epilepsy that presents in the first year of life with frequent, prolonged seizures. The seizures are often triggered by fever and can include unilateral clonic seizures on either side of the body and tonic-clonic seizures. Developmental delay is common, and some children will develop microcephaly. The most common cellular physiological abnormality for this condition is impaired inhibitory interneuron function due to loss-of-function mutation of an ion channel.\n",
      "Therefore, the correct answer is A.\n",
      "CORRECT ANSWER : A\n",
      "****************************************************************************************************\n",
      "BEST ******************************\n",
      " The perimenstrual pattern of catamenial epilepsy results from a withdrawal of the inhibitory effects of progesterone and its neuroactive metabolites. \n",
      "Therefore, the correct answer is B.\n",
      "BASE ******************************\n",
      " The perimenstrual pattern of catamenial epilepsy results from a withdrawal of the inhibitory effects of progesterone and its neuroactive metabolites. \n",
      "Therefore, the correct answer is B.\n",
      "PMC PUBMED ******************************\n",
      " The perimenstrual pattern of catamenial epilepsy results from a withdrawal of the inhibitory effects of progesterone and its neuroactive metabolites. \n",
      "Therefore, the correct answer is B.\n",
      "CORRECT ANSWER : B\n",
      "****************************************************************************************************\n",
      "BEST ******************************\n",
      " Ictal bradycardia is most commonly associated with focal temporal seizures. The mechanism of this event is not well understood, but it may be related to the release of inhibitory neurotransmitters such as GABA or acetylcholine. \n",
      "Therefore, the correct answer is A.\n",
      "BASE ******************************\n",
      " Ictal bradycardia is most commonly associated with focal temporal seizures. The mechanism of this phenomenon is not well understood, but it may be related to the release of inhibitory neurotransmitters such as gamma-aminobutyric acid (GABA) or the activation of vagal afferents. \n",
      "Therefore, the correct answer is A.\n",
      "PMC PUBMED ******************************\n",
      " Ictal bradycardia is most commonly associated with focal temporal seizures. The mechanism of this event is not well understood, but it may be related to the release of inhibitory neurotransmitters such as GABA or acetylcholine. \n",
      "Therefore, the correct answer is A.\n",
      "CORRECT ANSWER : A\n",
      "****************************************************************************************************\n",
      "BEST ******************************\n",
      " St. John's wort is a commonly used natural product that induces CYP3A4, CPY2C19, CYP2C9, and the P-glycoprotein transporter. This can affect the concentrations of many AEDs and other medications. Yohimbe is a plant extract that has been used as an aphrodisiac but has not been shown to have any effect on drug metabolism or transporters. Black cohosh is a plant extract that has been used for menopausal symptoms but does not appear to affect drug metabolism or transporters. Aloe vera is a plant extract that may be useful in treating burns but does not appear to affect drug metabolism or transporters.\n",
      "Therefore, the correct answer is D.\n",
      "BASE ******************************\n",
      " St. John's wort is a commonly used natural product that induces CYP3A4, CPY2C19, CYP2C9, and the P-glycoprotein transporter. This can affect the concentrations of many AEDs and other medications. Yohimbe is a plant extract that has been used as an aphrodisiac but has not been shown to have any effect on drug metabolism or transporters. Black cohosh is a plant extract that has been used for menopausal symptoms but does not appear to affect drug metabolism or transporters. Aloe vera is a plant extract that may be useful for skin conditions but does not appear to affect drug metabolism or transporters.\n",
      "Therefore, the correct answer is D.\n",
      "PMC PUBMED ******************************\n",
      " St. John's wort is a commonly used natural product that induces CYP3A4, CPY2C19, CYP2C9, and the P-glycoprotein transporter. This can affect the concentrations of many AEDs and other medications. Yohimbe is a plant extract that has been used for erectile dysfunction but has not been shown to affect AED metabolism or transporters. Black cohosh is an herbal supplement that may have estrogenic effects but does not appear to affect AED metabolism or transporters. Aloe vera is a plant extract with anti-inflammatory properties but does not appear to affect AED metabolism or transporters.\n",
      "Therefore, the correct answer is D.\n",
      "CORRECT ANSWER : D\n",
      "****************************************************************************************************\n",
      "BEST ******************************\n",
      " This patient has failed two antiepileptic medications and is not a candidate for surgery. The best option for add-on therapy in this patient is lamotrigine, which has been shown to be effective in patients with refractory epilepsy. Eslicarbazepine, oxcarbazepine, vigabatrin, and topiramate are all less likely to be effective than lamotrigine.\n",
      "Therefore, the correct answer is D.\n",
      "BASE ******************************\n",
      " This patient has failed two antiepileptic medications and is not a candidate for surgery. The best option for add-on therapy in this patient is lamotrigine, which has been shown to be effective in patients with refractory epilepsy. Eslicarbazepine, oxcarbazepine, vigabatrin, and topiramate are all less likely to be effective than lamotrigine.\n",
      "Therefore, the correct answer is D.\n",
      "PMC PUBMED ******************************\n",
      " This patient has failed two antiepileptic medications and is not a candidate for surgery. The best option for add-on therapy in this patient is lamotrigine, which has been shown to be effective in patients with refractory epilepsy. Eslicarbazepine, oxcarbazepine, vigabatrin, and topiramate are all less likely to be effective than lamotrigine.\n",
      "Therefore, the correct answer is D.\n",
      "CORRECT ANSWER : E\n",
      "****************************************************************************************************\n",
      "BEST ******************************\n",
      " The strongest risk factors for post-traumatic epilepsy are loss of consciousness or post traumatic amnesia >24 hours, brain contusion or subdural hematoma, and penetrating head injury. \n",
      "Therefore, the correct answer is A.\n",
      "BASE ******************************\n",
      " The strongest risk factors for post-traumatic epilepsy are loss of consciousness or post traumatic amnesia >24 hours, brain contusion or subdural hematoma, and penetrating head injury. \n",
      "Therefore, the correct answer is D.\n",
      "PMC PUBMED ******************************\n",
      " The strongest risk factors for post-traumatic epilepsy are loss of consciousness or post traumatic amnesia >24 hours, brain contusion or subdural hematoma, and penetrating head injury. \n",
      "Therefore, the correct answer is A.\n",
      "CORRECT ANSWER : D\n",
      "****************************************************************************************************\n",
      "BEST ******************************\n",
      " Obstructive sleep apnea (OSA) is at least twice as common in adults with epilepsy as age-matched controls. Which of the following factors is most strongly correlated with an increased risk of OSA in patients with epilepsy?\n",
      "A. Presence of excessive daytime sleepiness\t\n",
      "B. History of epilepsy surgery\t\n",
      "C. Increased seizure frequency\t\n",
      "D. Higher overall standardized anti-seizure medication (ASM) dose\n",
      "Therefore, the correct answer is A.\n",
      "BASE ******************************\n",
      " Obstructive sleep apnea (OSA) is at least twice as common in adults with epilepsy as age-matched controls. Which of the following factors is most strongly correlated with an increased risk of OSA in patients with epilepsy?\n",
      "A. Presence of excessive daytime sleepiness\t\n",
      "B. History of epilepsy surgery\t\n",
      "C. Increased seizure frequency\t\n",
      "D. Higher overall standardized anti-seizure medication (ASM) dose\n",
      "Therefore, the correct answer is A.\n",
      "PMC PUBMED ******************************\n",
      " Obstructive sleep apnea (OSA) is at least twice as common in adults with epilepsy as age-matched controls. Which of the following factors is most strongly correlated with an increased risk of OSA in patients with epilepsy?\n",
      "A. Presence of excessive daytime sleepiness\t\n",
      "B. History of epilepsy surgery\t\n",
      "C. Increased seizure frequency\t\n",
      "D. Higher overall standardized anti-seizure medication (ASM) dose\n",
      "Therefore, the correct answer is A.\n",
      "CORRECT ANSWER : D\n",
      "****************************************************************************************************\n",
      "BEST ******************************\n",
      " The most common topographic pattern of polymicrogyria is bilateral perisylvian. \n",
      "Therefore, the correct answer is E.\n",
      "BASE ******************************\n",
      " The most common topographic pattern of polymicrogyria is bilateral perisylvian. \n",
      "Therefore, the correct answer is E.\n",
      "PMC PUBMED ******************************\n",
      " The most common topographic pattern of polymicrogyria is bilateral perisylvian. \n",
      "Therefore, the correct answer is E.\n",
      "CORRECT ANSWER : E\n",
      "****************************************************************************************************\n",
      "BEST ******************************\n",
      " Glucose transporter deficiency is a rare cause of epilepsy that presents in childhood with early-onset absence seizures, developmental delay, and spasticity. \n",
      "Therefore, the correct answer is A.\n",
      "BASE ******************************\n",
      " Glucose transporter deficiency is a rare cause of epilepsy that presents in childhood with early-onset absence seizures, developmental delay, and spasticity. \n",
      "Therefore, the correct answer is A.\n",
      "PMC PUBMED ******************************\n",
      " Glucose transporter deficiency is a rare cause of epilepsy that presents in childhood with early-onset absence seizures, developmental delay, and spasticity. \n",
      "Therefore, the correct answer is A.\n",
      "CORRECT ANSWER : A\n",
      "****************************************************************************************************\n",
      "BEST ******************************\n",
      " Perampanel is a new antiepileptic drug that acts as a noncompetitive AMPA receptor antagonist. It is approved for adjunctive treatment of partial-onset seizures in patients 12 years and older. The most common side effects are dizziness, somnolence, headache, fatigue, irritability, and falls. Weight gain has not been reported with perampanel use.\n",
      "Therefore, the correct answer is D.\n",
      "BASE ******************************\n",
      " Perampanel is a new antiepileptic drug that acts as a noncompetitive AMPA receptor antagonist. It is approved for adjunctive treatment of partial-onset seizures in patients with epilepsy aged 12 years and older. The most common adverse effects are dizziness, somnolence, fatigue, headache, irritability, and weight gain. \n",
      "Therefore, the correct answer is D.\n",
      "PMC PUBMED ******************************\n",
      " Perampanel is a new antiepileptic drug that has been approved for adjunctive treatment of partial-onset seizures in patients with epilepsy. The most common side effects seen with perampanel are dizziness, somnolence, headache, fatigue, irritability, and falls. Weight gain and anxiety are not commonly reported side effects of this medication.\n",
      "Therefore, the correct answer is D.\n",
      "CORRECT ANSWER : D\n",
      "****************************************************************************************************\n",
      "BEST ******************************\n",
      " The patient's description of his seizures is consistent with a seizure originating from the left insula. The insula is located deep in the Sylvian fissure and has connections to the frontal, temporal, and parietal lobes. \n",
      "Therefore, the correct answer is D.\n",
      "BASE ******************************\n",
      " The patient's description of his seizures is consistent with a seizure originating from the left insula. The insula is located deep in the Sylvian fissure and has connections to the frontal, temporal, and parietal lobes. \n",
      "Therefore, the correct answer is D.\n",
      "PMC PUBMED ******************************\n",
      " The patient's description of his seizures is consistent with a seizure originating from the left insula. The insula is located deep in the Sylvian fissure and has connections to the frontal, temporal, and parietal lobes. \n",
      "Therefore, the correct answer is D.\n",
      "CORRECT ANSWER : D\n",
      "****************************************************************************************************\n",
      "BEST ******************************\n",
      " The recommended titration schedule for cenobamate requires 12 weeks to reach the initial target dose. This is intended to prevent drug reaction with eosinophilia and systemic symptoms (DRESS). \n",
      "Therefore, the correct answer is A.\n",
      "BASE ******************************\n",
      " The recommended titration schedule for cenobamate requires 12 weeks to reach the initial target dose. This is intended to prevent drug reaction with eosinophilia and systemic symptoms (DRESS). \n",
      "Therefore, the correct answer is A.\n",
      "PMC PUBMED ******************************\n",
      " The recommended titration schedule for cenobamate requires 12 weeks to reach the initial target dose. This is intended to prevent drug reaction with eosinophilia and systemic symptoms (DRESS). \n",
      "Therefore, the correct answer is A.\n",
      "CORRECT ANSWER : A\n",
      "****************************************************************************************************\n",
      "BEST ******************************\n",
      " Ambulatory EEG is a useful tool for capturing interictal epileptiform discharges in patients with epilepsy. The sensitivity of ambulatory EEG for detecting interictal epileptiform discharges is approximately 95% after 48 hours of recording. \n",
      "Therefore, the correct answer is C.\n",
      "BASE ******************************\n",
      " Ambulatory EEG is a useful tool for capturing interictal epileptiform discharges in patients with epilepsy. The sensitivity of ambulatory EEG for detecting interictal epileptiform discharges is approximately 95% after 48 hours of recording. \n",
      "Therefore, the correct answer is C.\n",
      "PMC PUBMED ******************************\n",
      " Ambulatory EEG is a useful tool for capturing interictal epileptiform discharges in patients with epilepsy. The sensitivity of ambulatory EEG for detecting interictal epileptiform discharges is approximately 95% after 48 hours of recording. \n",
      "Therefore, the correct answer is C.\n",
      "CORRECT ANSWER : C\n",
      "****************************************************************************************************\n",
      "BEST ******************************\n",
      " Vagus nerve stimulation (VNS) has been shown to provide significant benefits for depression in patients with epilepsy, even if there is no improvement in seizure control. \n",
      "Therefore, the correct answer is B.\n",
      "BASE ******************************\n",
      " Vagus nerve stimulation (VNS) has been shown to provide significant benefits for depression in patients with epilepsy, even if there is no improvement in seizure control. \n",
      "Therefore, the correct answer is B.\n",
      "PMC PUBMED ******************************\n",
      " Vagus nerve stimulation (VNS) has been shown to provide significant benefits for depression in patients with epilepsy, even if there is no improvement in seizure control. \n",
      "Therefore, the correct answer is B.\n",
      "CORRECT ANSWER : B\n",
      "****************************************************************************************************\n",
      "BEST ******************************\n",
      " The patient has Huntington disease, which is characterized by chorea and dementia. Hypokalemia, hypocalcemia, hypomagnesia, hyponatremia and hypoglycemia are not associated with this condition. \n",
      "Therefore, the correct answer is E.\n",
      "BASE ******************************\n",
      " The patient has a history of compulsive cleaning, which is a common feature of Huntington disease. In addition, the patient has memory deficits and abnormal movements. These findings are consistent with Huntington disease, which is an autosomal dominant disorder caused by an expanded CAG repeat in the huntingtin gene on chromosome 4p16.3. The expanded CAG repeat causes a loss of function in the huntingtin protein and results in neuronal dysfunction and death.\n",
      "The most common laboratory abnormalities seen in patients with Huntington disease include hypokalemia, hypocalcemia, hyponatremia, hypomagnesia, and hypoglycemia.\n",
      "Therefore, the correct answer is A.\n",
      "PMC PUBMED ******************************\n",
      " The patient has Huntington disease, which is characterized by chorea and dementia. Hypokalemia, hypocalcemia, hypomagnesia, hyponatremia and hypoglycemia are not associated with this condition. \n",
      "Therefore, the correct answer is E.\n",
      "CORRECT ANSWER : D\n",
      "****************************************************************************************************\n",
      "BEST ******************************\n",
      " Cannabidiol is a fat-soluble drug, so high-fat meals will increase its absorption. High-fiber meals may decrease absorption of cannabidiol. \n",
      "Therefore, the correct answer is C.\n",
      "BASE ******************************\n",
      " Cannabidiol is a fat-soluble drug, so it is best absorbed with high-fat meals. \n",
      "Therefore, the correct answer is C.\n",
      "PMC PUBMED ******************************\n",
      " Cannabidiol is a fat-soluble drug, so high-fat meals will increase its absorption. High-fiber meals may decrease absorption of cannabidiol. \n",
      "Therefore, the correct answer is C.\n",
      "CORRECT ANSWER : C\n",
      "****************************************************************************************************\n",
      "BEST ******************************\n",
      " The ILAE and ACNS have recently proposed a new definition of status epilepticus. This definition is based on the duration of seizure activity, not the type or severity of seizures. According to this new definition, status epilepticus is defined as “a condition characterized by seizures that are prolonged (ie, lasting more than 5 minutes in adults and more than 10 minutes in children) or repeated frequently enough to result in a progressive decline in neurological function.” \n",
      "Therefore, the correct answer is A.\n",
      "BASE ******************************\n",
      " The ILAE and ACNS have recently proposed new definitions for status epilepticus. These definitions are based on the duration of seizure activity and the presence or absence of convulsive features. In general, status epilepticus is defined as a seizure lasting longer than 5 minutes or two seizures without full recovery between them. The first option listed above (8 minutes of continuous nonconvulsive seizure activity) would qualify as status epilepticus according to these new definitions. The other options listed above (20 nonconvulsive seizures each lasting 30 seconds over 60 minutes, five nonconvulsive seizures each lasting 3 minutes over 60 minutes, six minutes of continuous seizure activity associated with subtle right hand twitching) would not meet the criteria for status epilepticus under these new definitions.\n",
      "Therefore, the correct answer is A.\n",
      "PMC PUBMED ******************************\n",
      " The ILAE and ACNS have recently proposed a new definition of status epilepticus. This definition is based on the duration of seizure activity, not the type or severity of seizures. According to this new definition, status epilepticus is defined as “a condition characterized by seizures that are prolonged (ie, lasting more than 5 minutes in adults and more than 10 minutes in children) or repeated frequently enough to result in a progressive decline in neurological function.” \n",
      "Therefore, the correct answer is A.\n",
      "CORRECT ANSWER : C\n",
      "****************************************************************************************************\n",
      "BEST ******************************\n",
      " The use of diazepam nasal spray in neonates and infants is associated with a risk of gasping syndrome, which is characterized by cyanosis, apnea, and hypotonia. This syndrome has been reported only in neonates and infants who have received benzodiazepines orally or intravenously. \n",
      "Therefore, the correct answer is C.\n",
      "BASE ******************************\n",
      " The gasping syndrome is a rare but serious adverse reaction to benzodiazepines, including diazepam nasal spray. It is characterized by central nervous system depression, hypotonia, and difficult or absent respirations. This syndrome has occurred in neonates who were treated with intravenous benzodiazepines. \n",
      "Therefore, the correct answer is C.\n",
      "PMC PUBMED ******************************\n",
      " The gasping syndrome is a rare but serious adverse reaction to benzodiazepines, including diazepam nasal spray. It has been reported in neonates and infants who have received benzodiazepines, including diazepam nasal spray. This syndrome consists of central nervous system depression (overdosage), hypothermia, seizures, cyanosis, apnea (sometimes fatal), and difficult breathing. The mechanism of this reaction is not known.\n",
      "Therefore, the correct answer is C.\n",
      "CORRECT ANSWER : C\n",
      "****************************************************************************************************\n",
      "BEST ******************************\n",
      " The inclusion of parental testing is the most important factor in determining whether a genetic test will yield a variant of uncertain significance. If both parents are tested and they do not have the same variant, then it is more likely that the child’s variant is pathogenic. \n",
      "Therefore, the correct answer is A.\n",
      "BASE ******************************\n",
      " The inclusion of parental testing increases the likelihood that a variant of uncertain significance will be found. This is because variants in genes that are inherited in an autosomal recessive pattern may be present in both parents, but not cause disease. In this case, the child would have two copies of the variant and thus would have epilepsy. However, if only one parent has a copy of the variant, then it is unlikely to be causing disease in the child.\n",
      "Therefore, the correct answer is A.\n",
      "PMC PUBMED ******************************\n",
      " The inclusion of parental testing is the most important factor in determining whether a genetic test will yield a variant of uncertain significance. If both parents are tested and they do not have the same variant, then it is more likely that the child’s variant is pathogenic. \n",
      "Therefore, the correct answer is A.\n",
      "CORRECT ANSWER : B\n",
      "****************************************************************************************************\n",
      "BEST ******************************\n",
      " Intranasal midazolam is a benzodiazepine that can be used to treat seizure clusters. It is contraindicated in patients with narrow-angle glaucoma, as it may cause an increase in intraocular pressure. \n",
      "Therefore, the correct answer is A.\n",
      "BASE ******************************\n",
      " Intranasal midazolam is a benzodiazepine that can be used to treat seizure clusters. It is contraindicated in patients with narrow-angle glaucoma, because it may cause an increase in intraocular pressure. \n",
      "Therefore, the correct answer is A.\n",
      "PMC PUBMED ******************************\n",
      " Intranasal midazolam is a benzodiazepine that can be used to treat seizure clusters. It is contraindicated in patients with narrow-angle glaucoma, as it may cause an increase in intraocular pressure. \n",
      "Therefore, the correct answer is A.\n",
      "CORRECT ANSWER : A\n",
      "****************************************************************************************************\n",
      "BEST ******************************\n",
      " The presence of symmetric DWI or T2-FLAIR hyper intensities is most suggestive of antibody-mediated autoimmune encephalitis as the underlying etiology. \n",
      "Therefore, the correct answer is A.\n",
      "BASE ******************************\n",
      " The presence of symmetric DWI or T2-FLAIR hyper intensities is most suggestive of antibody-mediated autoimmune encephalitis as the underlying etiology. \n",
      "Therefore, the correct answer is A.\n",
      "PMC PUBMED ******************************\n",
      " The presence of symmetric DWI or T2-FLAIR hyper intensities is most suggestive of antibody-mediated autoimmune encephalitis as the underlying etiology. \n",
      "Therefore, the correct answer is A.\n",
      "CORRECT ANSWER : C\n",
      "****************************************************************************************************\n",
      "BEST ******************************\n",
      " This patient is having a prolonged seizure and has not responded to benzodiazepine. The most appropriate second-line anti-seizure medication for this patient is IV valproic acid 40 mg/kg. Phenytoin and fosphenytoin are both prodrugs that require conversion to phenytoin before they can be effective, which takes time. Lacosamide is an oral medication that would not be effective in this situation.\n",
      "Therefore, the correct answer is B.\n",
      "BASE ******************************\n",
      " This patient is having a prolonged seizure and has not responded to benzodiazepine. The most appropriate second-line medication is IV valproic acid 40 mg/kg. Phenytoin and fosphenytoin are both effective anti-seizure medications, but they are not indicated in this patient due to her allergy to carbamazepine. Lacosamide is an oral medication that can be used for the treatment of partial-onset seizures, but it is not indicated for the treatment of generalized tonic-clonic seizures.\n",
      "Therefore, the correct answer is B.\n",
      "PMC PUBMED ******************************\n",
      " This patient is having a prolonged seizure and has not responded to benzodiazepine. The most appropriate second-line anti-seizure medication for this patient is IV valproic acid 40 mg/kg. Phenytoin and fosphenytoin are both prodrugs that require conversion to phenytoin before they can be effective, which takes time. Lacosamide is an oral medication that would not be effective in this situation.\n",
      "Therefore, the correct answer is B.\n",
      "CORRECT ANSWER : B\n",
      "****************************************************************************************************\n",
      "BEST ******************************\n",
      " The presence of superimposed rhythmic, sharp, or fast activity (ie, stimulus-induced rhythmic discharges) within the first hour of EEG monitoring has been validated to stratify future seizure risk. Generalized periodic discharges are more commonly seen in anoxic brain injury and Creutzfeldt-Jakob disease. Generalized rhythmic delta activity is most commonly seen in metabolic encephalopathy. \n",
      "Therefore, the correct answer is A.\n",
      "BASE ******************************\n",
      " The presence of superimposed rhythmic, sharp, or fast activity (ie, stimulus-induced rhythmic discharges) within the first hour of EEG monitoring has been validated to stratify future seizure risk. Generalized periodic discharges are more commonly seen in anoxic brain injury and Creutzfeldt-Jakob disease. Generalized rhythmic delta activity is most commonly seen in metabolic encephalopathy and sedative drug use. \n",
      "Therefore, the correct answer is A.\n",
      "PMC PUBMED ******************************\n",
      " The presence of superimposed rhythmic, sharp, or fast activity within the first hour of EEG monitoring has been validated to stratify future seizure risk. This finding is associated with a 50% chance of having a seizure within 24 hours. Generalized periodic discharges are more commonly seen in anoxic brain injury, Creutzfeldt-Jakob disease, and other diffuse processes. Generalized rhythmic delta activity is most commonly seen in metabolic encephalopathy and may be associated with seizures but does not predict future seizure risk. \n",
      "Therefore, the correct answer is A.\n",
      "CORRECT ANSWER : A\n",
      "****************************************************************************************************\n",
      "BEST ******************************\n",
      " The correct answer is B. 2-5 Hz irregular/polymorphic activity in the temporal electrodes. This pattern is most likely to be seen in mesial temporal lobe epilepsy, and it has a high positive predictive value for this diagnosis. \n",
      "Therefore, the correct answer is B.\n",
      "BASE ******************************\n",
      " The correct answer is B. 2-5 Hz irregular/polymorphic activity in the temporal electrodes. This pattern is most likely to be seen in mesial temporal lobe epilepsy, and it has a high positive predictive value for this diagnosis. \n",
      "Therefore, the correct answer is B.\n",
      "PMC PUBMED ******************************\n",
      " The correct answer is B. 2-5 Hz irregular/polymorphic activity in the temporal electrodes. This pattern is most likely to be seen in mesial temporal lobe epilepsy, and it has a high positive predictive value for this diagnosis. \n",
      "Therefore, the correct answer is B.\n",
      "CORRECT ANSWER : A\n",
      "****************************************************************************************************\n",
      "BEST ******************************\n",
      " The best filter to reduce ambient electrical artifact is a band stop filter. This type of filter reduces the amplitude of frequencies within a specified range, which can be set by the user. In this case, it would be set to reduce frequencies in the range of 50-60 Hz (the frequency at which most electrical devices operate). \n",
      "Therefore, the correct answer is D.\n",
      "BASE ******************************\n",
      " The best filter to reduce ambient electrical artifact is a band stop filter. This type of filter blocks a specific frequency range, which can be set by the clinician. A high pass filter allows frequencies above a certain threshold to pass through, while blocking lower frequencies. A low stop filter blocks frequencies below a certain threshold and allows higher frequencies to pass through. A band pass filter allows only those frequencies within a specified range to pass through.\n",
      "Therefore, the correct answer is D.\n",
      "PMC PUBMED ******************************\n",
      " The best filter to reduce ambient electrical artifact is a band stop filter. This type of filter reduces the amplitude of frequencies within a specified range, which can be set by the user. In this case, it would be set to reduce frequencies in the range of 50-60 Hz (the frequency at which most electrical devices operate). \n",
      "Therefore, the correct answer is D.\n",
      "CORRECT ANSWER : D\n",
      "****************************************************************************************************\n",
      "BEST ******************************\n",
      " The average long-term reduction in seizure frequency (compared to baseline) after VNS implantation in patients with medication-resistant epilepsy is 50%. \n",
      "Therefore, the correct answer is C.\n",
      "BASE ******************************\n",
      " The average long-term reduction in seizure frequency (compared to baseline) after VNS implantation in patients with medication-resistant epilepsy is 50%. \n",
      "Therefore, the correct answer is C.\n",
      "PMC PUBMED ******************************\n",
      " The average long-term reduction in seizure frequency (compared to baseline) after VNS implantation in patients with medication-resistant epilepsy is 50%. \n",
      "Therefore, the correct answer is C.\n",
      "CORRECT ANSWER : B\n",
      "****************************************************************************************************\n",
      "BEST ******************************\n",
      " Vigabatrin is an irreversible inhibitor of GABA transaminase, the enzyme that degrades GABA. This results in increased levels of GABA in the brain and a reduction in postsynaptic currents. \n",
      "Therefore, the correct answer is C.\n",
      "BASE ******************************\n",
      " Vigabatrin is an irreversible inhibitor of GABA transaminase, the enzyme that degrades GABA. This results in increased levels of GABA in the brain and a reduction in postsynaptic currents. \n",
      "Therefore, the correct answer is C.\n",
      "PMC PUBMED ******************************\n",
      " Vigabatrin is an irreversible inhibitor of GABA transaminase, the enzyme that degrades GABA. This results in increased levels of GABA in the brain and a reduction in postsynaptic currents. \n",
      "Therefore, the correct answer is C.\n",
      "CORRECT ANSWER : C\n",
      "****************************************************************************************************\n",
      "BEST ******************************\n",
      " Deep brain stimulation of the anterior nucleus of the thalamus is a relatively new treatment for medically refractory epilepsy. While it has been shown to be effective in reducing seizure frequency, its effect on other aspects of epilepsy-associated morbidity and mortality is less clear. \n",
      "Therefore, the correct answer is A.\n",
      "BASE ******************************\n",
      " Deep brain stimulation of the anterior nucleus of the thalamus is a relatively new treatment for medically refractory epilepsy. The most common side effects are related to cognitive function, including verbal memory and executive function. Self-reported depression and frequency of epilepsy-associated injuries are not likely to improve within three months after surgery. SUDEP is not a common complication of deep brain stimulation.\n",
      "Therefore, the correct answer is B.\n",
      "PMC PUBMED ******************************\n",
      " Deep brain stimulation of the anterior nucleus of the thalamus is a promising treatment for medically refractory epilepsy. The most common adverse effect is intracranial hemorrhage, which occurs in 1% to 2% of patients. Other adverse effects include infection, hardware failure, and worsening seizures. \n",
      "Therefore, the correct answer is A.\n",
      "CORRECT ANSWER : C\n",
      "****************************************************************************************************\n",
      "BEST ******************************\n",
      " The NIS and KID studies found that black patients were less likely to undergo epilepsy surgery than white patients. This difference was not explained by differences in insurance status, socioeconomic status, or seizure frequency. The authors of the study hypothesized that this difference may be related to a lower prevalence of refractory focal epilepsy in black patients compared with white patients.\n",
      "Therefore, the correct answer is C.\n",
      "BASE ******************************\n",
      " The NIS and KID studies showed that black patients were less likely to undergo epilepsy surgery than white patients. This difference was not explained by differences in insurance status, socioeconomic status, or seizure frequency. The authors of the study hypothesized that this difference may be related to a lower prevalence of refractory focal epilepsy in black patients compared to white patients.\n",
      "Therefore, the correct answer is C.\n",
      "PMC PUBMED ******************************\n",
      " The NIS and KID studies found that black patients were less likely to undergo epilepsy surgery than white patients. This difference was not explained by differences in insurance status, socioeconomic status, or seizure frequency. The authors of the study hypothesized that this difference may be related to a lower prevalence of refractory focal epilepsy in black patients compared with white patients.\n",
      "Therefore, the correct answer is C.\n",
      "CORRECT ANSWER : D\n",
      "****************************************************************************************************\n",
      "BEST ******************************\n",
      " Hemimegalencephaly and focal cortical dysplasia are two of the most common malformations of cortical development associated with epilepsy. Both are characterized by somatic mutations in the mTOR pathway, which is a key regulator of cell growth and proliferation. \n",
      "Therefore, the correct answer is C.\n",
      "BASE ******************************\n",
      " Hemimegalencephaly and focal cortical dysplasia are two of the most common malformations of cortical development. Both are associated with somatic mutations in the mTOR pathway, which is a key regulator of cell growth and proliferation. \n",
      "Therefore, the correct answer is C.\n",
      "PMC PUBMED ******************************\n",
      " Hemimegalencephaly and focal cortical dysplasia are two of the most common malformations of cortical development associated with epilepsy. Both are characterized by somatic mutations in the mTOR pathway, which is a key regulator of cell growth and proliferation. \n",
      "Therefore, the correct answer is C.\n",
      "CORRECT ANSWER : C\n",
      "****************************************************************************************************\n",
      "BEST ******************************\n",
      " A. Screen resolution set < 100 pixels/second\n",
      "Therefore, the correct answer is A.\n",
      "BASE ******************************\n",
      " A. Screen resolution set < 100 pixels/second\n",
      "Therefore, the correct answer is A.\n",
      "PMC PUBMED ******************************\n",
      " A. Screen resolution set < 100 pixels/second\n",
      "Therefore, the correct answer is A.\n",
      "CORRECT ANSWER : C\n",
      "****************************************************************************************************\n",
      "BEST ******************************\n",
      " Angiofibroma is a skin finding in tuberous sclerosis. \n",
      "Therefore, the correct answer is A.\n",
      "BASE ******************************\n",
      " The patient has tuberous sclerosis complex. Angiofibromas are the most common skin finding in this disorder. \n",
      "Therefore, the correct answer is A.\n",
      "PMC PUBMED ******************************\n",
      " Angiofibroma is a skin finding in tuberous sclerosis. \n",
      "Therefore, the correct answer is A.\n",
      "CORRECT ANSWER : A\n",
      "****************************************************************************************************\n",
      "BEST ******************************\n",
      " The patient's history is suggestive of absence epilepsy, and the parents' concerns about his fitness for driving are reasonable. However, the lack of events in the office setting makes it difficult to make a definitive diagnosis. In this situation, ambulatory EEG monitoring is indicated to capture events that may occur outside of the office setting. Routine EEG with hyperventilation and photic stimulation will not be sufficient to diagnose absence seizures because these maneuvers do not reliably provoke an event in patients with typical absence epilepsy. Reassurance without further diagnostic testing would be appropriate if there were no concerns about driving or other activities that might be affected by seizures.\n",
      "Therefore, the correct answer is A.\n",
      "BASE ******************************\n",
      " The patient's history is suggestive of absence epilepsy. He has a history of typical absence seizures, and his parents report that he is no longer having events like those that led to his initial diagnosis. However, they do sometimes feel that \"he doesn't listen\" or that he is slow to answer when they call him. This may be due to the fact that he has been off antiepileptic medications for 6 months and may still have subtle events (such as staring spells) without any overt behavioral arrest. In addition, the patient will be seeking a driver's permit after his 16th birthday in 2 months.\n",
      "The next best step in management would be routine EEG with photic stimulation and hyperventilation because this test can help identify subtle events such as staring spells without overt behavioral arrest. Ambulatory EEG monitoring would not be necessary because it does not provide additional information beyond what can be obtained from routine EEG with photic stimulation and hyperventilation.\n",
      "Therefore, the correct answer is B.\n",
      "PMC PUBMED ******************************\n",
      " The patient's history is suggestive of absence epilepsy, and the parents' concerns about his fitness for driving are reasonable. However, the lack of events in the office setting makes it difficult to make a definitive diagnosis. In this situation, ambulatory EEG monitoring is indicated to capture events that may occur outside of the office setting. Routine EEG with hyperventilation and photic stimulation will not be sufficient to diagnose absence seizures because these maneuvers do not reliably provoke an event in patients with typical absence epilepsy. Reassurance without further diagnostic testing would be inappropriate given his parents' concerns about his fitness for driving.\n",
      "Therefore, the correct answer is A.\n",
      "CORRECT ANSWER : A\n",
      "****************************************************************************************************\n",
      "BEST ******************************\n",
      " Stiripentol is a potent inducer of CYP3A4 and CYP2C9. It can increase the metabolism of other medications, including valproate, phenobarbital, cannabidiol, and clobazam. Therefore, the correct answer is D.\n",
      "BASE ******************************\n",
      " Stiripentol is a potent inducer of CYP3A4 and CYP2C9. It can increase the metabolism of other medications, including valproate, phenobarbital, cannabidiol, and clobazam. Therefore, the correct answer is D.\n",
      "PMC PUBMED ******************************\n",
      " Stiripentol is a potent enzyme inducer and can decrease the levels of other medications. It is important to monitor for decreased efficacy of these medications and adjust dosages accordingly. \n",
      "Therefore, the correct answer is D.\n",
      "CORRECT ANSWER : D\n",
      "****************************************************************************************************\n",
      "BEST ******************************\n",
      " Carbamazepine is contraindicated in patients with short QT syndrome. It can cause a dose-dependent prolongation of the QT interval, which can be exacerbated by hypokalemia and hypomagnesemia. Lacosamide, fenfluramine, and rufinamide are not known to prolong the QT interval.\n",
      "Therefore, the correct answer is D.\n",
      "BASE ******************************\n",
      " Carbamazepine is contraindicated in patients with short QT syndrome. It can cause a dose-dependent prolongation of the QT interval, which can be exacerbated by hypokalemia and hypomagnesemia. Lacosamide, fenfluramine, and rufinamide are not known to prolong the QT interval.\n",
      "Therefore, the correct answer is D.\n",
      "PMC PUBMED ******************************\n",
      " Carbamazepine is contraindicated in patients with short QT syndrome. It can cause a dose-dependent prolongation of the QT interval, which can be exacerbated by hypokalemia and hypomagnesemia. Lacosamide, fenfluramine, and rufinamide are not known to cause QT prolongation.\n",
      "Therefore, the correct answer is D.\n",
      "CORRECT ANSWER : C\n",
      "****************************************************************************************************\n",
      "BEST ******************************\n",
      " The patient's history is suggestive of occipital lobe epilepsy, which can be associated with occipital calcifications. The most common cause of occipital calcifications is neurocysticercosis, which can be diagnosed by serologic testing for tissue transglutaminase antibody. Anti-N-methyl-d-aspartate (NMDA) receptor antibodies are associated with limbic encephalitis and other autoimmune disorders but not with neurocysticercosis. SCN8A gene sequencing may be useful in the diagnosis of some forms of generalized epilepsy but not focal epilepsy syndromes such as occipital lobe epilepsy. CSF/serum glucose ratio is used to diagnose bacterial meningitis and does not help in the diagnosis or management of this patient's condition.\n",
      "Therefore, the correct answer is A.\n",
      "BASE ******************************\n",
      " The patient's history is suggestive of occipital lobe seizures. The presence of loose stools and the occipital calcifications are both suggestive of neurocysticercosis, which can be confirmed by serologic testing for tissue transglutaminase antibody. Anti-NMDA receptor antibodies have been associated with autoimmune encephalitis, but this is not a common cause of epilepsy. SCN8A gene sequencing has been associated with epilepsy in some cases, but this would not be the first test to order in this case. CSF/serum glucose ratio is used to diagnose hypoglycemia as a cause of seizures.\n",
      "Therefore, the correct answer is A.\n",
      "PMC PUBMED ******************************\n",
      " The patient's history is suggestive of occipital lobe epilepsy, which can be associated with a variety of causes. In this case, the occipital calcifications are most likely due to migraines. However, the patient's symptoms are concerning for an autoimmune etiology as well. Anti-NMDA receptor antibodies have been associated with encephalitis and seizures in young adults and children; these patients often present with psychiatric symptoms followed by seizures and other neurologic deficits. The anti-NMDA receptor antibody test is not routinely ordered but should be considered in this case.\n",
      "Therefore, the correct answer is B.\n",
      "CORRECT ANSWER : A\n",
      "****************************************************************************************************\n",
      "BEST ******************************\n",
      " While all of the factors mentioned are important, the most significant barrier to clinical implementation of seizure detection using wearable biosensors is the high rate of false alarms. This is because patients and caregivers may become desensitized to these alarms, which can lead to a delay in seeking medical attention when a true seizure occurs. \n",
      "Therefore, the correct answer is C.\n",
      "BASE ******************************\n",
      " While all of the factors mentioned are important, the most significant barrier to clinical implementation of seizure detection using wearable biosensors is the high rate of false alarms. This is because patients and caregivers may become desensitized to these alarms, which can lead to a loss of trust in the device and a failure to respond appropriately when an actual seizure occurs. \n",
      "Therefore, the correct answer is C.\n",
      "PMC PUBMED ******************************\n",
      " While all of the factors mentioned are important, the most significant barrier to clinical implementation of seizure detection using wearable biosensors is the high rate of false alarms. This is because patients and caregivers may become desensitized to these alarms, which can lead to a loss of trust in the device and a failure to respond appropriately when an actual seizure occurs. \n",
      "Therefore, the correct answer is C.\n",
      "CORRECT ANSWER : C\n",
      "****************************************************************************************************\n",
      "BEST ******************************\n",
      " The median seizure reduction 9 years after implantation was 63%. \n",
      "Therefore, the correct answer is B.\n",
      "BASE ******************************\n",
      " The median seizure reduction 9 years after implantation was 63%. \n",
      "Therefore, the correct answer is B.\n",
      "PMC PUBMED ******************************\n",
      " The median seizure reduction 9 years after implantation was 63%. \n",
      "Therefore, the correct answer is B.\n",
      "CORRECT ANSWER : C\n",
      "****************************************************************************************************\n",
      "BEST ******************************\n",
      " FIRES is a rare and severe form of refractory status epilepticus that occurs in previously healthy children. The etiology is unknown, but it has been associated with febrile illness. The seizures are often resistant to treatment, and the prognosis is poor. Ketogenic diet has been used as a treatment for FIRES with some success; however, there are no randomized controlled trials to support its use.\n",
      "Ketamine has also been used as an adjunctive therapy for refractory status epilepticus; however, there are no studies specifically looking at its use in FIRES.\n",
      "Cenobamate and cannabidiol have not been studied in the setting of FIRES.\n",
      "Therefore, the correct answer is A.\n",
      "BASE ******************************\n",
      " FIRES is a rare and severe form of refractory status epilepticus that occurs in previously healthy children. The etiology is unknown, but it has been associated with viral infections. The seizures are often resistant to treatment, and the prognosis is poor. Ketogenic diet has been used as a treatment for FIRES, but there are no randomized controlled trials to support its use.\n",
      "Ketamine has also been used as an adjunctive therapy for refractory status epilepticus, but there are no studies specifically evaluating its use in FIRES.\n",
      "Cenobamate and cannabidiol have not been studied in the setting of FIRES.\n",
      "Therefore, the correct answer is A.\n",
      "PMC PUBMED ******************************\n",
      " FIRES is a rare and severe form of refractory status epilepticus that occurs in previously healthy children. The etiology is unknown, but it has been associated with febrile illness. The seizures are often resistant to treatment, and the prognosis is poor. Ketogenic diet has been used as a treatment for FIRES with some success; however, there are no randomized controlled trials to support its use.\n",
      "Ketamine has also been used as an adjunctive therapy for refractory status epilepticus; however, there are no studies specifically looking at its use in FIRES.\n",
      "Cenobamate and cannabidiol have not been studied in the setting of FIRES.\n",
      "Therefore, the correct answer is A.\n",
      "CORRECT ANSWER : A\n",
      "****************************************************************************************************\n",
      "BEST ******************************\n",
      " This patient has frequent episodes with loss of time, which is suggestive of psychogenic nonepileptic seizures. Inpatient video-EEG is the best test to evaluate these patients. Ambulatory EEG and routine EEG are not as sensitive for diagnosing psychogenic nonepileptic seizures. Repeat sleep-deprived EEG may be helpful in some cases but is not the first-line test.\n",
      "Therefore, the correct answer is A.\n",
      "BASE ******************************\n",
      " This patient has frequent episodes with loss of time, which are suggestive of psychogenic nonepileptic seizures. Inpatient video-EEG is the best test to evaluate these patients. Ambulatory EEG and routine EEG are not as sensitive for diagnosing psychogenic nonepileptic seizures. Repeat sleep-deprived EEG is not indicated in this case.\n",
      "Therefore, the correct answer is A.\n",
      "PMC PUBMED ******************************\n",
      " This patient has frequent episodes with loss of time, which is suggestive of psychogenic nonepileptic seizures. Inpatient video-EEG is the best test to evaluate these patients. Ambulatory EEG and routine EEG are not as sensitive for diagnosing psychogenic nonepileptic seizures. Repeat sleep-deprived EEG may be helpful in some cases but is not the first-line test.\n",
      "Therefore, the correct answer is A.\n",
      "CORRECT ANSWER : B\n",
      "****************************************************************************************************\n",
      "BEST ******************************\n",
      " The MONEAD study found that levetiracetam blood levels should be monitored in the first trimester of pregnancy. \n",
      "Therefore, the correct answer is D.\n",
      "BASE ******************************\n",
      " The MONEAD study found that levetiracetam blood levels should be monitored in the first trimester of pregnancy. \n",
      "Therefore, the correct answer is D.\n",
      "PMC PUBMED ******************************\n",
      " The MONEAD study found that levetiracetam blood levels should be monitored in the first trimester of pregnancy. \n",
      "Therefore, the correct answer is D.\n",
      "CORRECT ANSWER : D\n",
      "****************************************************************************************************\n",
      "BEST ******************************\n",
      " The clinical features of this patient are consistent with Angelman syndrome, which is caused by a deletion of the long arm of the maternally inherited chromosome 15. Maternal uniparental disomy is also associated with Angelman syndrome. Paternal uniparental disomy and imprinting defects are associated with Prader-Willi syndrome.\n",
      "Therefore, the correct answer is B.\n",
      "BASE ******************************\n",
      " Angelman syndrome is a neurodevelopmental disorder characterized by intellectual disability, ataxia, seizures, and characteristic facial features. The most common genetic mechanism associated with this disorder is maternal uniparental disomy (UPD). UPD occurs when both copies of a chromosome are inherited from one parent and none from the other. In the case of Angelman syndrome, it is the maternal copy of chromosome 15 that is missing. Deletion of the long arm of the paternally inherited chromosome 15 causes Prader-Willi syndrome; deletion of the long arm of maternally inherited chromosome 15 causes Potocki-Shaffer syndrome; paternal uniparental disomy causes Beckwith-Wiedemann syndrome; imprinting defects cause Silver-Russell or Temple syndromes.\n",
      "Therefore, the correct answer is C.\n",
      "PMC PUBMED ******************************\n",
      " Angelman syndrome is caused by a deletion of the long arm of the maternally inherited chromosome 15. The disorder is characterized by seizures, intellectual disability, jerky movements, ataxic gait and microcephaly. \n",
      "Therefore, the correct answer is B.\n",
      "CORRECT ANSWER : B\n",
      "****************************************************************************************************\n",
      "BEST ******************************\n",
      " While all of the factors mentioned are advantages of nonregulatory comparative effectiveness trials, the most important advantage is that they can be conducted in a more naturalistic setting than regulatory trials. \n",
      "Therefore, the correct answer is A.\n",
      "BASE ******************************\n",
      " While all of the factors mentioned are advantages of nonregulatory comparative effectiveness trials, the most important advantage is that they can be conducted in a more naturalistic setting than regulatory trials. \n",
      "Therefore, the correct answer is A.\n",
      "PMC PUBMED ******************************\n",
      " While all of the factors mentioned are advantages of nonregulatory comparative effectiveness trials, the most important advantage is that they can be conducted in a more naturalistic setting than regulatory trials. \n",
      "Therefore, the correct answer is A.\n",
      "CORRECT ANSWER : A\n",
      "****************************************************************************************************\n",
      "BEST ******************************\n",
      " Cenobamate is a new antiepileptic drug that has been approved for adjunctive therapy in patients with partial-onset seizures. It is metabolized by CYP3A4 and UGT1A3, and it inhibits CYP2C19. Therefore, it may increase the serum concentration of drugs that are substrates of these enzymes (eg, phenytoin) or decrease the serum concentration of drugs that are substrates of CYP2C19 (eg, lamotrigine). Carbamazepine induces both CYP3A4 and UGT1A3; therefore, cenobamate may decrease its serum concentration. There is no evidence to suggest an interaction between clobazam and cenobamate.\n",
      "Therefore, the correct answer is B.\n",
      "BASE ******************************\n",
      " Cenobamate is a new antiepileptic drug that has been approved for adjunctive therapy in patients with partial-onset seizures. It is metabolized by CYP3A4 and UGT1A3, and it inhibits CYP2C19. Therefore, it may increase the levels of other medications metabolized by these enzymes (eg, phenytoin) or decrease the levels of other medications that are substrates for these enzymes (eg, lamotrigine). Carbamazepine induces both CYP3A4 and UGT1A3; therefore, cenobamate may decrease its levels. \n",
      "Therefore, the correct answer is B.\n",
      "PMC PUBMED ******************************\n",
      " Cenobamate is a new antiepileptic drug that has been approved for adjunctive therapy in patients with partial-onset seizures. It is metabolized by CYP3A4 and UGT1A3, and it inhibits CYP2C19. Therefore, it may increase the levels of other medications metabolized by these enzymes (eg, phenytoin) or decrease the levels of other medications that are substrates for these enzymes (eg, lamotrigine). Carbamazepine induces both CYP3A4 and UGT1A3; therefore, cenobamate may decrease its levels. \n",
      "Therefore, the correct answer is B.\n",
      "CORRECT ANSWER : B\n"
     ]
    }
   ],
   "source": [
    "import json\n",
    "\n",
    "\n",
    "paths = [\n",
    "    \"docs/validation_results_store/epitron_LL3_PMC_N6_e2_valid.json\",\n",
    "    \"docs/validation_results_store/Meta-Llama-3-8B_valid.json\",\n",
    "    \"docs/validation_results_store/epitron_pubmed_pmc_valid.json\"\n",
    "]\n",
    "\n",
    "gens = []\n",
    "for path in paths :\n",
    "    with open(path, \"r\") as f:\n",
    "        gens.append(json.load(f))\n",
    "\n",
    "for g1, g2, g3 in zip(*gens):\n",
    "    print(\"*\"*100)\n",
    "    print(\"BEST \" + \"*\"*30)\n",
    "    print(g1[\"prediction\"])\n",
    "    print(\"BASE \" + \"*\"*30)\n",
    "    print(g2[\"prediction\"])\n",
    "    print(\"PMC PUBMED \" + \"*\"*30)\n",
    "    print(g3[\"prediction\"])\n",
    "    print(\"CORRECT ANSWER : \" + g2[\"answer\"])"
   ]
  },
  {
   "cell_type": "markdown",
   "metadata": {},
   "source": [
    "## PPLS \n",
    "\n",
    "\n",
    "\n",
    "##### PPL on PubMed Test :\n",
    "\n",
    "- base : 1.05743\n",
    "- trained on PMC : 1.0522\n",
    "- trained on PMC pubmed : 1.0483\n",
    "\n",
    "\n",
    "#### PPL on PMC\n",
    "\n",
    "- base : 1.07536\n",
    "- "
   ]
  },
  {
   "cell_type": "markdown",
   "metadata": {},
   "source": []
  }
 ],
 "metadata": {
  "kernelspec": {
   "display_name": "nlp2",
   "language": "python",
   "name": "python3"
  },
  "language_info": {
   "codemirror_mode": {
    "name": "ipython",
    "version": 3
   },
   "file_extension": ".py",
   "mimetype": "text/x-python",
   "name": "python",
   "nbconvert_exporter": "python",
   "pygments_lexer": "ipython3",
   "version": "3.11.5"
  }
 },
 "nbformat": 4,
 "nbformat_minor": 2
}
