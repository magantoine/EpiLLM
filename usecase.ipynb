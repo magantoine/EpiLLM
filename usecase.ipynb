{
 "cells": [
  {
   "cell_type": "markdown",
   "metadata": {},
   "source": [
    "# Use case :\n",
    "\n",
    "\n",
    "#### Experiments"
   ]
  },
  {
   "cell_type": "code",
   "execution_count": 1,
   "metadata": {},
   "outputs": [],
   "source": [
    "from evaluate import (GeneralExperiment,\n",
    "                      SpecializedExperiment)\n",
    "\n",
    "exp_Eg = GeneralExperiment(preds=None, target=None)\n",
    "exp_Es = SpecializedExperiment(preds=None, target=None)"
   ]
  },
  {
   "cell_type": "markdown",
   "metadata": {},
   "source": [
    "#### Models"
   ]
  },
  {
   "cell_type": "code",
   "execution_count": 2,
   "metadata": {},
   "outputs": [],
   "source": [
    "from models import (EpiLLM,\n",
    "                    BaseModel,\n",
    "                    Baseline)\n",
    "\n",
    "\n",
    "for modclass in [EpiLLM, BaseModel, Baseline]:\n",
    "    ## instantiate\n",
    "    model = modclass()\n",
    "\n",
    "    ## load params/ pipeline\n",
    "    model.load_model()\n",
    "\n",
    "    ## train\n",
    "    model.train()\n",
    "\n",
    "    ## test\n",
    "    pred = model.predict()\n"
   ]
  },
  {
   "cell_type": "markdown",
   "metadata": {},
   "source": [
    "#### EpiScape"
   ]
  },
  {
   "cell_type": "code",
   "execution_count": 3,
   "metadata": {},
   "outputs": [],
   "source": [
    "from episcape import (PatientGenerator,\n",
    "                      SDeHRGenerator,\n",
    "                      PipelineGenerator)"
   ]
  }
 ],
 "metadata": {
  "kernelspec": {
   "display_name": "nlp1",
   "language": "python",
   "name": "python3"
  },
  "language_info": {
   "codemirror_mode": {
    "name": "ipython",
    "version": 3
   },
   "file_extension": ".py",
   "mimetype": "text/x-python",
   "name": "python",
   "nbconvert_exporter": "python",
   "pygments_lexer": "ipython3",
   "version": "3.11.5"
  }
 },
 "nbformat": 4,
 "nbformat_minor": 2
}
